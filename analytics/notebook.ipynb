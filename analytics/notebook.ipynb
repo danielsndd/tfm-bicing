{
 "cells": [
  {
   "cell_type": "code",
   "execution_count": 1,
   "metadata": {},
   "outputs": [
    {
     "name": "stderr",
     "output_type": "stream",
     "text": [
      "INFO:data_loader:Successfully connected to MongoDB\n",
      "INFO:data_loader:Loaded 516 stations\n",
      "INFO:data_loader:Attempting to load status data for September 2024\n",
      "INFO:data_loader:Loaded 4424667 status records\n",
      "INFO:data_loader:Successfully loaded data for September 2024\n",
      "INFO:data_loader:Starting data preprocessing\n",
      "INFO:data_loader:Merged data shape: (4424667, 12)\n",
      "INFO:data_loader:Data shape after filtering non-existent stations: (4424667, 12)\n",
      "INFO:data_loader:Data preprocessing completed\n"
     ]
    },
    {
     "name": "stdout",
     "output_type": "stream",
     "text": [
      "         station_id  num_bikes_available  num_docks_available  \\\n",
      "count  4.424667e+06         4.424667e+06         4.424667e+06   \n",
      "mean   2.655210e+02         1.041275e+01         1.525376e+01   \n",
      "min    1.000000e+00         0.000000e+00         0.000000e+00   \n",
      "25%    1.350000e+02         3.000000e+00         8.000000e+00   \n",
      "50%    2.660000e+02         8.000000e+00         1.600000e+01   \n",
      "75%    3.950000e+02         1.600000e+01         2.200000e+01   \n",
      "max    5.430000e+02         1.980000e+02         9.900000e+01   \n",
      "std    1.512070e+02         1.012694e+01         9.115089e+00   \n",
      "\n",
      "                       last_reported      altitude           lat  \\\n",
      "count                        4424667  4.404476e+06  4.424667e+06   \n",
      "mean   2024-09-16 00:03:25.161469696  3.576893e+01  4.139935e+01   \n",
      "min              2024-09-01 00:00:34  2.000000e+00  4.134677e+01   \n",
      "25%              2024-09-08 12:05:51  9.000000e+00  4.138337e+01   \n",
      "50%              2024-09-15 23:58:28  2.500000e+01  4.139578e+01   \n",
      "75%              2024-09-23 11:59:27  5.400000e+01  4.141184e+01   \n",
      "max              2024-09-30 23:59:58  1.660000e+02  4.146209e+01   \n",
      "std                              NaN  3.255294e+01  2.123652e-02   \n",
      "\n",
      "                lon          hour   day_of_week    is_weekend  \n",
      "count  4.424667e+06  4.424667e+06  4.424667e+06  4.424667e+06  \n",
      "mean   2.167940e+00  1.150055e+01  3.001891e+00  3.004599e-01  \n",
      "min    2.109154e+00  0.000000e+00  0.000000e+00  0.000000e+00  \n",
      "25%    2.148199e+00  6.000000e+00  1.000000e+00  0.000000e+00  \n",
      "50%    2.170592e+00  1.200000e+01  3.000000e+00  0.000000e+00  \n",
      "75%    2.187196e+00  1.700000e+01  5.000000e+00  1.000000e+00  \n",
      "max    2.220691e+00  2.300000e+01  6.000000e+00  1.000000e+00  \n",
      "std    2.456339e-02  6.922858e+00  2.082437e+00  4.584581e-01  \n"
     ]
    },
    {
     "data": {
      "application/vnd.jupyter.widget-view+json": {
       "model_id": "c9d165a3a7b44a10b06fbfa3547b47c1",
       "version_major": 2,
       "version_minor": 0
      },
      "text/plain": [
       "Dropdown(description='Select column:', options=('_id_x', 'station_id', 'num_bikes_available', 'num_docks_avail…"
      ]
     },
     "metadata": {},
     "output_type": "display_data"
    },
    {
     "data": {
      "application/vnd.jupyter.widget-view+json": {
       "model_id": "79e870d67a8b4484a6abce9defd9092d",
       "version_major": 2,
       "version_minor": 0
      },
      "text/plain": [
       "Output()"
      ]
     },
     "metadata": {},
     "output_type": "display_data"
    },
    {
     "data": {
      "application/vnd.jupyter.widget-view+json": {
       "model_id": "298f22d008134b09976cfc614bb54ed4",
       "version_major": 2,
       "version_minor": 0
      },
      "text/plain": [
       "interactive(children=(Dropdown(description='Select column:', options=('_id_x', 'station_id', 'num_bikes_availa…"
      ]
     },
     "execution_count": 1,
     "metadata": {},
     "output_type": "execute_result"
    }
   ],
   "source": [
    "# Cell 1: Import and load data\n",
    "import importlib\n",
    "import data_loader\n",
    "import pandas as pd\n",
    "import matplotlib.pyplot as plt\n",
    "import seaborn as sns\n",
    "import plotly.express as px\n",
    "import plotly.graph_objects as go\n",
    "from plotly.subplots import make_subplots\n",
    "import ipywidgets as widgets\n",
    "from IPython.display import display\n",
    "\n",
    "importlib.reload(data_loader)\n",
    "from data_loader import load_sample_data, preprocess_data\n",
    "\n",
    "# Load sample data\n",
    "stations_info, status_data = load_sample_data()\n",
    "merged_data = preprocess_data(stations_info, status_data)\n",
    "\n",
    "# Display basic statistics\n",
    "print(merged_data.describe())\n",
    "\n",
    "# Add a dropdown to select specific columns for detailed statistics\n",
    "def show_column_stats(column):\n",
    "    print(merged_data[column].describe())\n",
    "    \n",
    "    if merged_data[column].dtype in ['int64', 'float64']:\n",
    "        plt.figure(figsize=(10, 6))\n",
    "        merged_data[column].hist()\n",
    "        plt.title(f'Histogram of {column}')\n",
    "        plt.xlabel(column)\n",
    "        plt.ylabel('Frequency')\n",
    "        plt.show()\n",
    "\n",
    "column_dropdown = widgets.Dropdown(\n",
    "    options=merged_data.columns,\n",
    "    description='Select column:',\n",
    "    disabled=False,\n",
    ")\n",
    "\n",
    "output = widgets.Output()\n",
    "\n",
    "def on_change(change):\n",
    "    with output:\n",
    "        output.clear_output()\n",
    "        show_column_stats(change.new)\n",
    "\n",
    "column_dropdown.observe(on_change, names='value')\n",
    "\n",
    "display(column_dropdown, output)\n",
    "\n",
    "widgets.interactive(show_column_stats, column=column_dropdown)"
   ]
  },
  {
   "cell_type": "code",
   "execution_count": 3,
   "metadata": {},
   "outputs": [
    {
     "ename": "ImportError",
     "evalue": "cannot import name 'DateRangeSlider' from 'ipywidgets' (c:\\Users\\danys\\tfm\\env\\Lib\\site-packages\\ipywidgets\\__init__.py)",
     "output_type": "error",
     "traceback": [
      "\u001b[1;31m---------------------------------------------------------------------------\u001b[0m",
      "\u001b[1;31mImportError\u001b[0m                               Traceback (most recent call last)",
      "Cell \u001b[1;32mIn[3], line 5\u001b[0m\n\u001b[0;32m      3\u001b[0m \u001b[38;5;28;01mfrom\u001b[39;00m \u001b[38;5;21;01mdatetime\u001b[39;00m \u001b[38;5;28;01mimport\u001b[39;00m datetime, timedelta\n\u001b[0;32m      4\u001b[0m \u001b[38;5;28;01mimport\u001b[39;00m \u001b[38;5;21;01mipywidgets\u001b[39;00m \u001b[38;5;28;01mas\u001b[39;00m \u001b[38;5;21;01mwidgets\u001b[39;00m\n\u001b[1;32m----> 5\u001b[0m \u001b[38;5;28;01mfrom\u001b[39;00m \u001b[38;5;21;01mipywidgets\u001b[39;00m \u001b[38;5;28;01mimport\u001b[39;00m DateRangeSlider\n\u001b[0;32m      7\u001b[0m \u001b[38;5;28;01mdef\u001b[39;00m \u001b[38;5;21mplot_system_usage\u001b[39m(start_date, end_date):\n\u001b[0;32m      8\u001b[0m     filtered_data \u001b[38;5;241m=\u001b[39m merged_data[(merged_data[\u001b[38;5;124m'\u001b[39m\u001b[38;5;124mlast_reported\u001b[39m\u001b[38;5;124m'\u001b[39m] \u001b[38;5;241m>\u001b[39m\u001b[38;5;241m=\u001b[39m start_date) \u001b[38;5;241m&\u001b[39m (merged_data[\u001b[38;5;124m'\u001b[39m\u001b[38;5;124mlast_reported\u001b[39m\u001b[38;5;124m'\u001b[39m] \u001b[38;5;241m<\u001b[39m\u001b[38;5;241m=\u001b[39m end_date)]\n",
      "\u001b[1;31mImportError\u001b[0m: cannot import name 'DateRangeSlider' from 'ipywidgets' (c:\\Users\\danys\\tfm\\env\\Lib\\site-packages\\ipywidgets\\__init__.py)"
     ]
    }
   ],
   "source": [
    "import plotly.graph_objects as go\n",
    "from plotly.subplots import make_subplots\n",
    "from datetime import datetime, timedelta\n",
    "from bokeh.models import DateRangeSlider\n",
    "\n",
    "\n",
    "def plot_system_usage(start_date, end_date):\n",
    "    filtered_data = merged_data[(merged_data['last_reported'] >= start_date) & (merged_data['last_reported'] <= end_date)]\n",
    "    daily_usage = filtered_data.groupby('last_reported').agg({\n",
    "        'num_bikes_available': 'mean',\n",
    "        'num_docks_available': 'mean'\n",
    "    }).reset_index()\n",
    "\n",
    "    fig = make_subplots(specs=[[{\"secondary_y\": True}]])\n",
    "\n",
    "    fig.add_trace(\n",
    "        go.Scatter(x=daily_usage['last_reported'], y=daily_usage['num_bikes_available'], name=\"Available Bikes\"),\n",
    "        secondary_y=False,\n",
    "    )\n",
    "\n",
    "    fig.add_trace(\n",
    "        go.Scatter(x=daily_usage['last_reported'], y=daily_usage['num_docks_available'], name=\"Available Docks\"),\n",
    "        secondary_y=True,\n",
    "    )\n",
    "\n",
    "    fig.update_layout(\n",
    "        title_text=\"Overall System Usage\",\n",
    "        xaxis_title=\"Date\",\n",
    "    )\n",
    "\n",
    "    fig.update_yaxes(title_text=\"Average Number of Bikes\", secondary_y=False)\n",
    "    fig.update_yaxes(title_text=\"Average Number of Docks\", secondary_y=True)\n",
    "\n",
    "    return fig\n",
    "\n",
    "min_date = merged_data['last_reported'].min().date()\n",
    "max_date = merged_data['last_reported'].max().date()\n",
    "\n",
    "date_range = widgets.DateRangeSlider(\n",
    "    value=[min_date, max_date],\n",
    "    min=min_date,\n",
    "    max=max_date,\n",
    "    step=timedelta(days=1),\n",
    "    description='Date Range'\n",
    ")\n",
    "\n",
    "plot_output = widgets.Output()\n",
    "\n",
    "@plot_output.capture(clear_output=True)\n",
    "def update_plot(change):\n",
    "    start_date, end_date = change['new']\n",
    "    fig = plot_system_usage(start_date, end_date)\n",
    "    fig.show()\n",
    "\n",
    "date_range.observe(update_plot, names='value')\n",
    "\n",
    "display(date_range, plot_output)"
   ]
  },
  {
   "cell_type": "code",
   "execution_count": null,
   "metadata": {},
   "outputs": [],
   "source": [
    "# Cell 3: Interactive Station Usage by Time of Day\n",
    "def plot_station_usage_by_time(station_id):\n",
    "    station_data = merged_data[merged_data['station_id'] == station_id]\n",
    "    pivot_data = station_data.pivot_table(values='num_bikes_available', index='hour', aggfunc='mean').reset_index()\n",
    "    \n",
    "    fig = px.line(pivot_data, x='hour', y='num_bikes_available', markers=True)\n",
    "    fig.update_layout(\n",
    "        title=f\"Average Bike Availability for Station {station_id} by Time of Day\",\n",
    "        xaxis_title=\"Hour of Day\",\n",
    "        yaxis_title=\"Average Number of Available Bikes\"\n",
    "    )\n",
    "    return fig\n",
    "\n",
    "station_dropdown = widgets.Dropdown(\n",
    "    options=sorted(merged_data['station_id'].unique()),\n",
    "    description='Select station:',\n",
    "    disabled=False,\n",
    ")\n",
    "\n",
    "def update_station_plot(station_id):\n",
    "    fig = plot_station_usage_by_time(station_id)\n",
    "    fig.show()\n",
    "\n",
    "widgets.interactive(update_station_plot, station_id=station_dropdown)"
   ]
  },
  {
   "cell_type": "code",
   "execution_count": null,
   "metadata": {},
   "outputs": [],
   "source": [
    "# Cell 4: Interactive Scatter Plot\n",
    "x_dropdown = widgets.Dropdown(options=merged_data.select_dtypes(include=[np.number]).columns, description='X-axis:')\n",
    "y_dropdown = widgets.Dropdown(options=merged_data.select_dtypes(include=[np.number]).columns, description='Y-axis:')\n",
    "color_dropdown = widgets.Dropdown(options=['None'] + list(merged_data.columns), description='Color by:')\n",
    "\n",
    "def create_scatter_plot(x, y, color):\n",
    "    if color == 'None':\n",
    "        fig = px.scatter(merged_data, x=x, y=y)\n",
    "    else:\n",
    "        fig = px.scatter(merged_data, x=x, y=y, color=color)\n",
    "    \n",
    "    fig.update_layout(title=f'{y} vs {x}', xaxis_title=x, yaxis_title=y)\n",
    "    return fig\n",
    "\n",
    "def update_scatter_plot(x, y, color):\n",
    "    fig = create_scatter_plot(x, y, color)\n",
    "    fig.show()\n",
    "\n",
    "widgets.interactive(update_scatter_plot, x=x_dropdown, y=y_dropdown, color=color_dropdown)"
   ]
  }
 ],
 "metadata": {
  "kernelspec": {
   "display_name": "env",
   "language": "python",
   "name": "python3"
  },
  "language_info": {
   "codemirror_mode": {
    "name": "ipython",
    "version": 3
   },
   "file_extension": ".py",
   "mimetype": "text/x-python",
   "name": "python",
   "nbconvert_exporter": "python",
   "pygments_lexer": "ipython3",
   "version": "3.13.0"
  }
 },
 "nbformat": 4,
 "nbformat_minor": 2
}
