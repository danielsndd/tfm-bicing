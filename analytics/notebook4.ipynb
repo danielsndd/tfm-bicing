{
 "cells": [
  {
   "cell_type": "code",
   "execution_count": 1,
   "metadata": {},
   "outputs": [
    {
     "name": "stderr",
     "output_type": "stream",
     "text": [
      "INFO:data_loader:Successfully connected to MongoDB\n",
      "INFO:data_loader:Loaded 516 stations\n",
      "INFO:data_loader:Attempting to load status data for one day in September 2024\n",
      "INFO:data_loader:Loaded 146930 status records\n",
      "INFO:data_loader:Successfully loaded and sampled data for one day in September 2024\n",
      "INFO:data_loader:Starting data preprocessing\n",
      "INFO:data_loader:Merged data shape: (14693, 12)\n",
      "INFO:data_loader:Data shape after filtering non-existent stations: (14693, 12)\n",
      "INFO:data_loader:Data preprocessing completed\n",
      "C:\\Users\\danys\\AppData\\Local\\Temp\\ipykernel_29188\\1336536625.py:27: FutureWarning: 'H' is deprecated and will be removed in a future version, please use 'h' instead.\n",
      "  station_data = station_data.set_index('last_reported')['num_bikes_available'].resample('H').mean()\n"
     ]
    },
    {
     "data": {
      "application/vnd.plotly.v1+json": {
       "config": {
        "plotlyServerURL": "https://plot.ly"
       },
       "data": [
        {
         "mode": "lines",
         "name": "Actual",
         "type": "scatter",
         "x": [
          "2024-09-01T00:00:00",
          "2024-09-01T01:00:00",
          "2024-09-01T02:00:00",
          "2024-09-01T03:00:00",
          "2024-09-01T04:00:00",
          "2024-09-01T05:00:00",
          "2024-09-01T06:00:00",
          "2024-09-01T07:00:00",
          "2024-09-01T08:00:00",
          "2024-09-01T09:00:00",
          "2024-09-01T10:00:00",
          "2024-09-01T11:00:00",
          "2024-09-01T12:00:00",
          "2024-09-01T13:00:00",
          "2024-09-01T14:00:00",
          "2024-09-01T15:00:00",
          "2024-09-01T16:00:00",
          "2024-09-01T17:00:00",
          "2024-09-01T18:00:00",
          "2024-09-01T19:00:00",
          "2024-09-01T20:00:00",
          "2024-09-01T21:00:00",
          "2024-09-01T22:00:00",
          "2024-09-01T23:00:00"
         ],
         "y": [
          13.5,
          15,
          null,
          null,
          0,
          null,
          null,
          1.5,
          null,
          1.6666666666666667,
          1,
          null,
          6,
          null,
          14,
          11,
          3,
          1.5,
          null,
          0,
          7.5,
          7.5,
          4,
          6.5
         ]
        },
        {
         "mode": "lines",
         "name": "Forecast",
         "type": "scatter",
         "x": [
          "2024-09-02T00:00:00",
          "2024-09-02T01:00:00",
          "2024-09-02T02:00:00",
          "2024-09-02T03:00:00",
          "2024-09-02T04:00:00",
          "2024-09-02T05:00:00",
          "2024-09-02T06:00:00",
          "2024-09-02T07:00:00",
          "2024-09-02T08:00:00",
          "2024-09-02T09:00:00",
          "2024-09-02T10:00:00",
          "2024-09-02T11:00:00",
          "2024-09-02T12:00:00",
          "2024-09-02T13:00:00",
          "2024-09-02T14:00:00",
          "2024-09-02T15:00:00",
          "2024-09-02T16:00:00",
          "2024-09-02T17:00:00",
          "2024-09-02T18:00:00",
          "2024-09-02T19:00:00",
          "2024-09-02T20:00:00",
          "2024-09-02T21:00:00",
          "2024-09-02T22:00:00",
          "2024-09-02T23:00:00"
         ],
         "y": [
          7.588714233811154,
          7.1462908156796585,
          7.326079482744251,
          7.253018330282254,
          7.282708366290794,
          7.270643155046734,
          7.275546123918914,
          7.273553692682088,
          7.2743633617493355,
          7.274034334585767,
          7.274168042144503,
          7.274113707082713,
          7.274135787352278,
          7.274126814540101,
          7.274130460843336,
          7.274128979086332,
          7.274129581231485,
          7.274129336536313,
          7.274129435973678,
          7.274129395565077,
          7.274129411986017,
          7.274129405313,
          7.27412940802473,
          7.274129406922758
         ]
        }
       ],
       "layout": {
        "template": {
         "data": {
          "bar": [
           {
            "error_x": {
             "color": "#2a3f5f"
            },
            "error_y": {
             "color": "#2a3f5f"
            },
            "marker": {
             "line": {
              "color": "#E5ECF6",
              "width": 0.5
             },
             "pattern": {
              "fillmode": "overlay",
              "size": 10,
              "solidity": 0.2
             }
            },
            "type": "bar"
           }
          ],
          "barpolar": [
           {
            "marker": {
             "line": {
              "color": "#E5ECF6",
              "width": 0.5
             },
             "pattern": {
              "fillmode": "overlay",
              "size": 10,
              "solidity": 0.2
             }
            },
            "type": "barpolar"
           }
          ],
          "carpet": [
           {
            "aaxis": {
             "endlinecolor": "#2a3f5f",
             "gridcolor": "white",
             "linecolor": "white",
             "minorgridcolor": "white",
             "startlinecolor": "#2a3f5f"
            },
            "baxis": {
             "endlinecolor": "#2a3f5f",
             "gridcolor": "white",
             "linecolor": "white",
             "minorgridcolor": "white",
             "startlinecolor": "#2a3f5f"
            },
            "type": "carpet"
           }
          ],
          "choropleth": [
           {
            "colorbar": {
             "outlinewidth": 0,
             "ticks": ""
            },
            "type": "choropleth"
           }
          ],
          "contour": [
           {
            "colorbar": {
             "outlinewidth": 0,
             "ticks": ""
            },
            "colorscale": [
             [
              0,
              "#0d0887"
             ],
             [
              0.1111111111111111,
              "#46039f"
             ],
             [
              0.2222222222222222,
              "#7201a8"
             ],
             [
              0.3333333333333333,
              "#9c179e"
             ],
             [
              0.4444444444444444,
              "#bd3786"
             ],
             [
              0.5555555555555556,
              "#d8576b"
             ],
             [
              0.6666666666666666,
              "#ed7953"
             ],
             [
              0.7777777777777778,
              "#fb9f3a"
             ],
             [
              0.8888888888888888,
              "#fdca26"
             ],
             [
              1,
              "#f0f921"
             ]
            ],
            "type": "contour"
           }
          ],
          "contourcarpet": [
           {
            "colorbar": {
             "outlinewidth": 0,
             "ticks": ""
            },
            "type": "contourcarpet"
           }
          ],
          "heatmap": [
           {
            "colorbar": {
             "outlinewidth": 0,
             "ticks": ""
            },
            "colorscale": [
             [
              0,
              "#0d0887"
             ],
             [
              0.1111111111111111,
              "#46039f"
             ],
             [
              0.2222222222222222,
              "#7201a8"
             ],
             [
              0.3333333333333333,
              "#9c179e"
             ],
             [
              0.4444444444444444,
              "#bd3786"
             ],
             [
              0.5555555555555556,
              "#d8576b"
             ],
             [
              0.6666666666666666,
              "#ed7953"
             ],
             [
              0.7777777777777778,
              "#fb9f3a"
             ],
             [
              0.8888888888888888,
              "#fdca26"
             ],
             [
              1,
              "#f0f921"
             ]
            ],
            "type": "heatmap"
           }
          ],
          "heatmapgl": [
           {
            "colorbar": {
             "outlinewidth": 0,
             "ticks": ""
            },
            "colorscale": [
             [
              0,
              "#0d0887"
             ],
             [
              0.1111111111111111,
              "#46039f"
             ],
             [
              0.2222222222222222,
              "#7201a8"
             ],
             [
              0.3333333333333333,
              "#9c179e"
             ],
             [
              0.4444444444444444,
              "#bd3786"
             ],
             [
              0.5555555555555556,
              "#d8576b"
             ],
             [
              0.6666666666666666,
              "#ed7953"
             ],
             [
              0.7777777777777778,
              "#fb9f3a"
             ],
             [
              0.8888888888888888,
              "#fdca26"
             ],
             [
              1,
              "#f0f921"
             ]
            ],
            "type": "heatmapgl"
           }
          ],
          "histogram": [
           {
            "marker": {
             "pattern": {
              "fillmode": "overlay",
              "size": 10,
              "solidity": 0.2
             }
            },
            "type": "histogram"
           }
          ],
          "histogram2d": [
           {
            "colorbar": {
             "outlinewidth": 0,
             "ticks": ""
            },
            "colorscale": [
             [
              0,
              "#0d0887"
             ],
             [
              0.1111111111111111,
              "#46039f"
             ],
             [
              0.2222222222222222,
              "#7201a8"
             ],
             [
              0.3333333333333333,
              "#9c179e"
             ],
             [
              0.4444444444444444,
              "#bd3786"
             ],
             [
              0.5555555555555556,
              "#d8576b"
             ],
             [
              0.6666666666666666,
              "#ed7953"
             ],
             [
              0.7777777777777778,
              "#fb9f3a"
             ],
             [
              0.8888888888888888,
              "#fdca26"
             ],
             [
              1,
              "#f0f921"
             ]
            ],
            "type": "histogram2d"
           }
          ],
          "histogram2dcontour": [
           {
            "colorbar": {
             "outlinewidth": 0,
             "ticks": ""
            },
            "colorscale": [
             [
              0,
              "#0d0887"
             ],
             [
              0.1111111111111111,
              "#46039f"
             ],
             [
              0.2222222222222222,
              "#7201a8"
             ],
             [
              0.3333333333333333,
              "#9c179e"
             ],
             [
              0.4444444444444444,
              "#bd3786"
             ],
             [
              0.5555555555555556,
              "#d8576b"
             ],
             [
              0.6666666666666666,
              "#ed7953"
             ],
             [
              0.7777777777777778,
              "#fb9f3a"
             ],
             [
              0.8888888888888888,
              "#fdca26"
             ],
             [
              1,
              "#f0f921"
             ]
            ],
            "type": "histogram2dcontour"
           }
          ],
          "mesh3d": [
           {
            "colorbar": {
             "outlinewidth": 0,
             "ticks": ""
            },
            "type": "mesh3d"
           }
          ],
          "parcoords": [
           {
            "line": {
             "colorbar": {
              "outlinewidth": 0,
              "ticks": ""
             }
            },
            "type": "parcoords"
           }
          ],
          "pie": [
           {
            "automargin": true,
            "type": "pie"
           }
          ],
          "scatter": [
           {
            "fillpattern": {
             "fillmode": "overlay",
             "size": 10,
             "solidity": 0.2
            },
            "type": "scatter"
           }
          ],
          "scatter3d": [
           {
            "line": {
             "colorbar": {
              "outlinewidth": 0,
              "ticks": ""
             }
            },
            "marker": {
             "colorbar": {
              "outlinewidth": 0,
              "ticks": ""
             }
            },
            "type": "scatter3d"
           }
          ],
          "scattercarpet": [
           {
            "marker": {
             "colorbar": {
              "outlinewidth": 0,
              "ticks": ""
             }
            },
            "type": "scattercarpet"
           }
          ],
          "scattergeo": [
           {
            "marker": {
             "colorbar": {
              "outlinewidth": 0,
              "ticks": ""
             }
            },
            "type": "scattergeo"
           }
          ],
          "scattergl": [
           {
            "marker": {
             "colorbar": {
              "outlinewidth": 0,
              "ticks": ""
             }
            },
            "type": "scattergl"
           }
          ],
          "scattermapbox": [
           {
            "marker": {
             "colorbar": {
              "outlinewidth": 0,
              "ticks": ""
             }
            },
            "type": "scattermapbox"
           }
          ],
          "scatterpolar": [
           {
            "marker": {
             "colorbar": {
              "outlinewidth": 0,
              "ticks": ""
             }
            },
            "type": "scatterpolar"
           }
          ],
          "scatterpolargl": [
           {
            "marker": {
             "colorbar": {
              "outlinewidth": 0,
              "ticks": ""
             }
            },
            "type": "scatterpolargl"
           }
          ],
          "scatterternary": [
           {
            "marker": {
             "colorbar": {
              "outlinewidth": 0,
              "ticks": ""
             }
            },
            "type": "scatterternary"
           }
          ],
          "surface": [
           {
            "colorbar": {
             "outlinewidth": 0,
             "ticks": ""
            },
            "colorscale": [
             [
              0,
              "#0d0887"
             ],
             [
              0.1111111111111111,
              "#46039f"
             ],
             [
              0.2222222222222222,
              "#7201a8"
             ],
             [
              0.3333333333333333,
              "#9c179e"
             ],
             [
              0.4444444444444444,
              "#bd3786"
             ],
             [
              0.5555555555555556,
              "#d8576b"
             ],
             [
              0.6666666666666666,
              "#ed7953"
             ],
             [
              0.7777777777777778,
              "#fb9f3a"
             ],
             [
              0.8888888888888888,
              "#fdca26"
             ],
             [
              1,
              "#f0f921"
             ]
            ],
            "type": "surface"
           }
          ],
          "table": [
           {
            "cells": {
             "fill": {
              "color": "#EBF0F8"
             },
             "line": {
              "color": "white"
             }
            },
            "header": {
             "fill": {
              "color": "#C8D4E3"
             },
             "line": {
              "color": "white"
             }
            },
            "type": "table"
           }
          ]
         },
         "layout": {
          "annotationdefaults": {
           "arrowcolor": "#2a3f5f",
           "arrowhead": 0,
           "arrowwidth": 1
          },
          "autotypenumbers": "strict",
          "coloraxis": {
           "colorbar": {
            "outlinewidth": 0,
            "ticks": ""
           }
          },
          "colorscale": {
           "diverging": [
            [
             0,
             "#8e0152"
            ],
            [
             0.1,
             "#c51b7d"
            ],
            [
             0.2,
             "#de77ae"
            ],
            [
             0.3,
             "#f1b6da"
            ],
            [
             0.4,
             "#fde0ef"
            ],
            [
             0.5,
             "#f7f7f7"
            ],
            [
             0.6,
             "#e6f5d0"
            ],
            [
             0.7,
             "#b8e186"
            ],
            [
             0.8,
             "#7fbc41"
            ],
            [
             0.9,
             "#4d9221"
            ],
            [
             1,
             "#276419"
            ]
           ],
           "sequential": [
            [
             0,
             "#0d0887"
            ],
            [
             0.1111111111111111,
             "#46039f"
            ],
            [
             0.2222222222222222,
             "#7201a8"
            ],
            [
             0.3333333333333333,
             "#9c179e"
            ],
            [
             0.4444444444444444,
             "#bd3786"
            ],
            [
             0.5555555555555556,
             "#d8576b"
            ],
            [
             0.6666666666666666,
             "#ed7953"
            ],
            [
             0.7777777777777778,
             "#fb9f3a"
            ],
            [
             0.8888888888888888,
             "#fdca26"
            ],
            [
             1,
             "#f0f921"
            ]
           ],
           "sequentialminus": [
            [
             0,
             "#0d0887"
            ],
            [
             0.1111111111111111,
             "#46039f"
            ],
            [
             0.2222222222222222,
             "#7201a8"
            ],
            [
             0.3333333333333333,
             "#9c179e"
            ],
            [
             0.4444444444444444,
             "#bd3786"
            ],
            [
             0.5555555555555556,
             "#d8576b"
            ],
            [
             0.6666666666666666,
             "#ed7953"
            ],
            [
             0.7777777777777778,
             "#fb9f3a"
            ],
            [
             0.8888888888888888,
             "#fdca26"
            ],
            [
             1,
             "#f0f921"
            ]
           ]
          },
          "colorway": [
           "#636efa",
           "#EF553B",
           "#00cc96",
           "#ab63fa",
           "#FFA15A",
           "#19d3f3",
           "#FF6692",
           "#B6E880",
           "#FF97FF",
           "#FECB52"
          ],
          "font": {
           "color": "#2a3f5f"
          },
          "geo": {
           "bgcolor": "white",
           "lakecolor": "white",
           "landcolor": "#E5ECF6",
           "showlakes": true,
           "showland": true,
           "subunitcolor": "white"
          },
          "hoverlabel": {
           "align": "left"
          },
          "hovermode": "closest",
          "mapbox": {
           "style": "light"
          },
          "paper_bgcolor": "white",
          "plot_bgcolor": "#E5ECF6",
          "polar": {
           "angularaxis": {
            "gridcolor": "white",
            "linecolor": "white",
            "ticks": ""
           },
           "bgcolor": "#E5ECF6",
           "radialaxis": {
            "gridcolor": "white",
            "linecolor": "white",
            "ticks": ""
           }
          },
          "scene": {
           "xaxis": {
            "backgroundcolor": "#E5ECF6",
            "gridcolor": "white",
            "gridwidth": 2,
            "linecolor": "white",
            "showbackground": true,
            "ticks": "",
            "zerolinecolor": "white"
           },
           "yaxis": {
            "backgroundcolor": "#E5ECF6",
            "gridcolor": "white",
            "gridwidth": 2,
            "linecolor": "white",
            "showbackground": true,
            "ticks": "",
            "zerolinecolor": "white"
           },
           "zaxis": {
            "backgroundcolor": "#E5ECF6",
            "gridcolor": "white",
            "gridwidth": 2,
            "linecolor": "white",
            "showbackground": true,
            "ticks": "",
            "zerolinecolor": "white"
           }
          },
          "shapedefaults": {
           "line": {
            "color": "#2a3f5f"
           }
          },
          "ternary": {
           "aaxis": {
            "gridcolor": "white",
            "linecolor": "white",
            "ticks": ""
           },
           "baxis": {
            "gridcolor": "white",
            "linecolor": "white",
            "ticks": ""
           },
           "bgcolor": "#E5ECF6",
           "caxis": {
            "gridcolor": "white",
            "linecolor": "white",
            "ticks": ""
           }
          },
          "title": {
           "x": 0.05
          },
          "xaxis": {
           "automargin": true,
           "gridcolor": "white",
           "linecolor": "white",
           "ticks": "",
           "title": {
            "standoff": 15
           },
           "zerolinecolor": "white",
           "zerolinewidth": 2
          },
          "yaxis": {
           "automargin": true,
           "gridcolor": "white",
           "linecolor": "white",
           "ticks": "",
           "title": {
            "standoff": 15
           },
           "zerolinecolor": "white",
           "zerolinewidth": 2
          }
         }
        },
        "title": {
         "text": "Time Series Analysis for Station 88"
        },
        "xaxis": {
         "title": {
          "text": "Date"
         }
        },
        "yaxis": {
         "title": {
          "text": "Number of Available Bikes"
         }
        }
       }
      }
     },
     "metadata": {},
     "output_type": "display_data"
    },
    {
     "data": {
      "application/vnd.plotly.v1+json": {
       "config": {
        "plotlyServerURL": "https://plot.ly"
       },
       "data": [
        {
         "mode": "markers",
         "name": "Predictions",
         "type": "scatter",
         "x": [
          8,
          0,
          2,
          4,
          5,
          14
         ],
         "y": [
          5.99173632218845,
          6.044167933130699,
          6.070383738601824,
          6.004844224924011,
          6.031060030395136,
          6.293218085106384
         ]
        },
        {
         "mode": "lines",
         "name": "Perfect Prediction",
         "type": "scatter",
         "x": [
          0,
          14
         ],
         "y": [
          0,
          14
         ]
        }
       ],
       "layout": {
        "template": {
         "data": {
          "bar": [
           {
            "error_x": {
             "color": "#2a3f5f"
            },
            "error_y": {
             "color": "#2a3f5f"
            },
            "marker": {
             "line": {
              "color": "#E5ECF6",
              "width": 0.5
             },
             "pattern": {
              "fillmode": "overlay",
              "size": 10,
              "solidity": 0.2
             }
            },
            "type": "bar"
           }
          ],
          "barpolar": [
           {
            "marker": {
             "line": {
              "color": "#E5ECF6",
              "width": 0.5
             },
             "pattern": {
              "fillmode": "overlay",
              "size": 10,
              "solidity": 0.2
             }
            },
            "type": "barpolar"
           }
          ],
          "carpet": [
           {
            "aaxis": {
             "endlinecolor": "#2a3f5f",
             "gridcolor": "white",
             "linecolor": "white",
             "minorgridcolor": "white",
             "startlinecolor": "#2a3f5f"
            },
            "baxis": {
             "endlinecolor": "#2a3f5f",
             "gridcolor": "white",
             "linecolor": "white",
             "minorgridcolor": "white",
             "startlinecolor": "#2a3f5f"
            },
            "type": "carpet"
           }
          ],
          "choropleth": [
           {
            "colorbar": {
             "outlinewidth": 0,
             "ticks": ""
            },
            "type": "choropleth"
           }
          ],
          "contour": [
           {
            "colorbar": {
             "outlinewidth": 0,
             "ticks": ""
            },
            "colorscale": [
             [
              0,
              "#0d0887"
             ],
             [
              0.1111111111111111,
              "#46039f"
             ],
             [
              0.2222222222222222,
              "#7201a8"
             ],
             [
              0.3333333333333333,
              "#9c179e"
             ],
             [
              0.4444444444444444,
              "#bd3786"
             ],
             [
              0.5555555555555556,
              "#d8576b"
             ],
             [
              0.6666666666666666,
              "#ed7953"
             ],
             [
              0.7777777777777778,
              "#fb9f3a"
             ],
             [
              0.8888888888888888,
              "#fdca26"
             ],
             [
              1,
              "#f0f921"
             ]
            ],
            "type": "contour"
           }
          ],
          "contourcarpet": [
           {
            "colorbar": {
             "outlinewidth": 0,
             "ticks": ""
            },
            "type": "contourcarpet"
           }
          ],
          "heatmap": [
           {
            "colorbar": {
             "outlinewidth": 0,
             "ticks": ""
            },
            "colorscale": [
             [
              0,
              "#0d0887"
             ],
             [
              0.1111111111111111,
              "#46039f"
             ],
             [
              0.2222222222222222,
              "#7201a8"
             ],
             [
              0.3333333333333333,
              "#9c179e"
             ],
             [
              0.4444444444444444,
              "#bd3786"
             ],
             [
              0.5555555555555556,
              "#d8576b"
             ],
             [
              0.6666666666666666,
              "#ed7953"
             ],
             [
              0.7777777777777778,
              "#fb9f3a"
             ],
             [
              0.8888888888888888,
              "#fdca26"
             ],
             [
              1,
              "#f0f921"
             ]
            ],
            "type": "heatmap"
           }
          ],
          "heatmapgl": [
           {
            "colorbar": {
             "outlinewidth": 0,
             "ticks": ""
            },
            "colorscale": [
             [
              0,
              "#0d0887"
             ],
             [
              0.1111111111111111,
              "#46039f"
             ],
             [
              0.2222222222222222,
              "#7201a8"
             ],
             [
              0.3333333333333333,
              "#9c179e"
             ],
             [
              0.4444444444444444,
              "#bd3786"
             ],
             [
              0.5555555555555556,
              "#d8576b"
             ],
             [
              0.6666666666666666,
              "#ed7953"
             ],
             [
              0.7777777777777778,
              "#fb9f3a"
             ],
             [
              0.8888888888888888,
              "#fdca26"
             ],
             [
              1,
              "#f0f921"
             ]
            ],
            "type": "heatmapgl"
           }
          ],
          "histogram": [
           {
            "marker": {
             "pattern": {
              "fillmode": "overlay",
              "size": 10,
              "solidity": 0.2
             }
            },
            "type": "histogram"
           }
          ],
          "histogram2d": [
           {
            "colorbar": {
             "outlinewidth": 0,
             "ticks": ""
            },
            "colorscale": [
             [
              0,
              "#0d0887"
             ],
             [
              0.1111111111111111,
              "#46039f"
             ],
             [
              0.2222222222222222,
              "#7201a8"
             ],
             [
              0.3333333333333333,
              "#9c179e"
             ],
             [
              0.4444444444444444,
              "#bd3786"
             ],
             [
              0.5555555555555556,
              "#d8576b"
             ],
             [
              0.6666666666666666,
              "#ed7953"
             ],
             [
              0.7777777777777778,
              "#fb9f3a"
             ],
             [
              0.8888888888888888,
              "#fdca26"
             ],
             [
              1,
              "#f0f921"
             ]
            ],
            "type": "histogram2d"
           }
          ],
          "histogram2dcontour": [
           {
            "colorbar": {
             "outlinewidth": 0,
             "ticks": ""
            },
            "colorscale": [
             [
              0,
              "#0d0887"
             ],
             [
              0.1111111111111111,
              "#46039f"
             ],
             [
              0.2222222222222222,
              "#7201a8"
             ],
             [
              0.3333333333333333,
              "#9c179e"
             ],
             [
              0.4444444444444444,
              "#bd3786"
             ],
             [
              0.5555555555555556,
              "#d8576b"
             ],
             [
              0.6666666666666666,
              "#ed7953"
             ],
             [
              0.7777777777777778,
              "#fb9f3a"
             ],
             [
              0.8888888888888888,
              "#fdca26"
             ],
             [
              1,
              "#f0f921"
             ]
            ],
            "type": "histogram2dcontour"
           }
          ],
          "mesh3d": [
           {
            "colorbar": {
             "outlinewidth": 0,
             "ticks": ""
            },
            "type": "mesh3d"
           }
          ],
          "parcoords": [
           {
            "line": {
             "colorbar": {
              "outlinewidth": 0,
              "ticks": ""
             }
            },
            "type": "parcoords"
           }
          ],
          "pie": [
           {
            "automargin": true,
            "type": "pie"
           }
          ],
          "scatter": [
           {
            "fillpattern": {
             "fillmode": "overlay",
             "size": 10,
             "solidity": 0.2
            },
            "type": "scatter"
           }
          ],
          "scatter3d": [
           {
            "line": {
             "colorbar": {
              "outlinewidth": 0,
              "ticks": ""
             }
            },
            "marker": {
             "colorbar": {
              "outlinewidth": 0,
              "ticks": ""
             }
            },
            "type": "scatter3d"
           }
          ],
          "scattercarpet": [
           {
            "marker": {
             "colorbar": {
              "outlinewidth": 0,
              "ticks": ""
             }
            },
            "type": "scattercarpet"
           }
          ],
          "scattergeo": [
           {
            "marker": {
             "colorbar": {
              "outlinewidth": 0,
              "ticks": ""
             }
            },
            "type": "scattergeo"
           }
          ],
          "scattergl": [
           {
            "marker": {
             "colorbar": {
              "outlinewidth": 0,
              "ticks": ""
             }
            },
            "type": "scattergl"
           }
          ],
          "scattermapbox": [
           {
            "marker": {
             "colorbar": {
              "outlinewidth": 0,
              "ticks": ""
             }
            },
            "type": "scattermapbox"
           }
          ],
          "scatterpolar": [
           {
            "marker": {
             "colorbar": {
              "outlinewidth": 0,
              "ticks": ""
             }
            },
            "type": "scatterpolar"
           }
          ],
          "scatterpolargl": [
           {
            "marker": {
             "colorbar": {
              "outlinewidth": 0,
              "ticks": ""
             }
            },
            "type": "scatterpolargl"
           }
          ],
          "scatterternary": [
           {
            "marker": {
             "colorbar": {
              "outlinewidth": 0,
              "ticks": ""
             }
            },
            "type": "scatterternary"
           }
          ],
          "surface": [
           {
            "colorbar": {
             "outlinewidth": 0,
             "ticks": ""
            },
            "colorscale": [
             [
              0,
              "#0d0887"
             ],
             [
              0.1111111111111111,
              "#46039f"
             ],
             [
              0.2222222222222222,
              "#7201a8"
             ],
             [
              0.3333333333333333,
              "#9c179e"
             ],
             [
              0.4444444444444444,
              "#bd3786"
             ],
             [
              0.5555555555555556,
              "#d8576b"
             ],
             [
              0.6666666666666666,
              "#ed7953"
             ],
             [
              0.7777777777777778,
              "#fb9f3a"
             ],
             [
              0.8888888888888888,
              "#fdca26"
             ],
             [
              1,
              "#f0f921"
             ]
            ],
            "type": "surface"
           }
          ],
          "table": [
           {
            "cells": {
             "fill": {
              "color": "#EBF0F8"
             },
             "line": {
              "color": "white"
             }
            },
            "header": {
             "fill": {
              "color": "#C8D4E3"
             },
             "line": {
              "color": "white"
             }
            },
            "type": "table"
           }
          ]
         },
         "layout": {
          "annotationdefaults": {
           "arrowcolor": "#2a3f5f",
           "arrowhead": 0,
           "arrowwidth": 1
          },
          "autotypenumbers": "strict",
          "coloraxis": {
           "colorbar": {
            "outlinewidth": 0,
            "ticks": ""
           }
          },
          "colorscale": {
           "diverging": [
            [
             0,
             "#8e0152"
            ],
            [
             0.1,
             "#c51b7d"
            ],
            [
             0.2,
             "#de77ae"
            ],
            [
             0.3,
             "#f1b6da"
            ],
            [
             0.4,
             "#fde0ef"
            ],
            [
             0.5,
             "#f7f7f7"
            ],
            [
             0.6,
             "#e6f5d0"
            ],
            [
             0.7,
             "#b8e186"
            ],
            [
             0.8,
             "#7fbc41"
            ],
            [
             0.9,
             "#4d9221"
            ],
            [
             1,
             "#276419"
            ]
           ],
           "sequential": [
            [
             0,
             "#0d0887"
            ],
            [
             0.1111111111111111,
             "#46039f"
            ],
            [
             0.2222222222222222,
             "#7201a8"
            ],
            [
             0.3333333333333333,
             "#9c179e"
            ],
            [
             0.4444444444444444,
             "#bd3786"
            ],
            [
             0.5555555555555556,
             "#d8576b"
            ],
            [
             0.6666666666666666,
             "#ed7953"
            ],
            [
             0.7777777777777778,
             "#fb9f3a"
            ],
            [
             0.8888888888888888,
             "#fdca26"
            ],
            [
             1,
             "#f0f921"
            ]
           ],
           "sequentialminus": [
            [
             0,
             "#0d0887"
            ],
            [
             0.1111111111111111,
             "#46039f"
            ],
            [
             0.2222222222222222,
             "#7201a8"
            ],
            [
             0.3333333333333333,
             "#9c179e"
            ],
            [
             0.4444444444444444,
             "#bd3786"
            ],
            [
             0.5555555555555556,
             "#d8576b"
            ],
            [
             0.6666666666666666,
             "#ed7953"
            ],
            [
             0.7777777777777778,
             "#fb9f3a"
            ],
            [
             0.8888888888888888,
             "#fdca26"
            ],
            [
             1,
             "#f0f921"
            ]
           ]
          },
          "colorway": [
           "#636efa",
           "#EF553B",
           "#00cc96",
           "#ab63fa",
           "#FFA15A",
           "#19d3f3",
           "#FF6692",
           "#B6E880",
           "#FF97FF",
           "#FECB52"
          ],
          "font": {
           "color": "#2a3f5f"
          },
          "geo": {
           "bgcolor": "white",
           "lakecolor": "white",
           "landcolor": "#E5ECF6",
           "showlakes": true,
           "showland": true,
           "subunitcolor": "white"
          },
          "hoverlabel": {
           "align": "left"
          },
          "hovermode": "closest",
          "mapbox": {
           "style": "light"
          },
          "paper_bgcolor": "white",
          "plot_bgcolor": "#E5ECF6",
          "polar": {
           "angularaxis": {
            "gridcolor": "white",
            "linecolor": "white",
            "ticks": ""
           },
           "bgcolor": "#E5ECF6",
           "radialaxis": {
            "gridcolor": "white",
            "linecolor": "white",
            "ticks": ""
           }
          },
          "scene": {
           "xaxis": {
            "backgroundcolor": "#E5ECF6",
            "gridcolor": "white",
            "gridwidth": 2,
            "linecolor": "white",
            "showbackground": true,
            "ticks": "",
            "zerolinecolor": "white"
           },
           "yaxis": {
            "backgroundcolor": "#E5ECF6",
            "gridcolor": "white",
            "gridwidth": 2,
            "linecolor": "white",
            "showbackground": true,
            "ticks": "",
            "zerolinecolor": "white"
           },
           "zaxis": {
            "backgroundcolor": "#E5ECF6",
            "gridcolor": "white",
            "gridwidth": 2,
            "linecolor": "white",
            "showbackground": true,
            "ticks": "",
            "zerolinecolor": "white"
           }
          },
          "shapedefaults": {
           "line": {
            "color": "#2a3f5f"
           }
          },
          "ternary": {
           "aaxis": {
            "gridcolor": "white",
            "linecolor": "white",
            "ticks": ""
           },
           "baxis": {
            "gridcolor": "white",
            "linecolor": "white",
            "ticks": ""
           },
           "bgcolor": "#E5ECF6",
           "caxis": {
            "gridcolor": "white",
            "linecolor": "white",
            "ticks": ""
           }
          },
          "title": {
           "x": 0.05
          },
          "xaxis": {
           "automargin": true,
           "gridcolor": "white",
           "linecolor": "white",
           "ticks": "",
           "title": {
            "standoff": 15
           },
           "zerolinecolor": "white",
           "zerolinewidth": 2
          },
          "yaxis": {
           "automargin": true,
           "gridcolor": "white",
           "linecolor": "white",
           "ticks": "",
           "title": {
            "standoff": 15
           },
           "zerolinecolor": "white",
           "zerolinewidth": 2
          }
         }
        },
        "title": {
         "text": "Linear Regression Results for Station 88"
        },
        "xaxis": {
         "title": {
          "text": "Actual"
         }
        },
        "yaxis": {
         "title": {
          "text": "Predicted"
         }
        }
       }
      }
     },
     "metadata": {},
     "output_type": "display_data"
    },
    {
     "name": "stdout",
     "output_type": "stream",
     "text": [
      "Linear Regression Results for Station 88:\n",
      "Mean Squared Error: 20.27\n",
      "R-squared: 0.02\n"
     ]
    },
    {
     "data": {
      "application/vnd.plotly.v1+json": {
       "config": {
        "plotlyServerURL": "https://plot.ly"
       },
       "data": [
        {
         "coloraxis": "coloraxis",
         "hovertemplate": "num_bikes_available=%{z}<br>lat=%{lat}<br>lon=%{lon}<extra></extra>",
         "lat": [
          41.3979779,
          41.3954877,
          41.3941557,
          41.3933173,
          41.3911035,
          41.3914292,
          41.388885,
          41.389135,
          41.384546,
          41.3467746,
          41.3812425,
          41.3833653,
          41.388143,
          41.384844,
          41.39161170092347,
          41.3982615,
          41.4060589,
          41.4031491,
          41.410314,
          41.4108439,
          41.4016969,
          41.3924661,
          41.4005784,
          41.3954041,
          41.4071692,
          41.3967524,
          41.4055143,
          41.401061,
          41.4021805,
          41.3748001,
          41.3736911,
          41.37686,
          41.3871079,
          41.4134833,
          41.3850616,
          41.380624,
          41.381046,
          41.382335,
          41.379326,
          41.404511,
          41.4063864,
          41.391466,
          41.38860659692564,
          41.3902194,
          41.3960652,
          41.3910756,
          41.3751145,
          41.3842634,
          41.381708,
          41.385086,
          41.3775319,
          41.3770715,
          41.376326,
          41.38268,
          41.3902625,
          41.39352,
          41.387235,
          41.386543,
          41.387493,
          41.387696,
          41.3893222,
          41.3852864,
          41.3953894,
          41.388507,
          41.380393,
          41.3819459,
          41.3927771,
          41.392135,
          41.3900085,
          41.385004,
          41.3917666,
          41.3855644,
          41.3856474,
          41.385503,
          41.389668,
          41.3790718,
          41.38031805998654,
          41.3821658,
          41.3830299,
          41.3751852,
          41.3755747,
          41.38322238887374,
          41.3936144,
          41.3871904,
          41.388296,
          41.3812504,
          41.3938861,
          41.3757914,
          41.3763948,
          41.3741093,
          41.3779613,
          41.3806074,
          41.3808222,
          41.379363,
          41.392878,
          41.392567,
          41.410098,
          41.4108005,
          41.389492,
          41.4055198,
          41.3982304,
          41.4022081,
          41.3912605,
          41.3852585,
          41.3847528,
          41.3776721,
          41.3773113,
          41.376735,
          41.383597,
          41.3838369,
          41.3906051,
          41.39212,
          41.3967169,
          41.4047056,
          41.4064529,
          41.4054458,
          41.3988184485363,
          41.3702483,
          41.3834753,
          41.380628,
          41.4120681,
          41.4158412,
          41.377046,
          41.4200135,
          41.4227912,
          41.4084796,
          41.4075013,
          41.4113024,
          41.4120452,
          41.4139298,
          41.4145805,
          41.4167933,
          41.4183999,
          41.3808772,
          41.4090202,
          41.4003793,
          41.4027907,
          41.4056269,
          41.4093405,
          41.4148983,
          41.416043,
          41.3783467,
          41.3958685,
          41.4065912,
          41.4003471,
          41.3993329,
          41.4018686,
          41.4026275,
          41.4070139,
          41.4091355,
          41.4132316,
          41.4116634,
          41.4110822,
          41.4109763,
          41.3953011,
          41.4038559,
          41.3942108,
          41.4118378,
          41.3992169,
          41.4008312,
          41.4023354,
          41.4053697,
          41.3896642,
          41.3919877,
          41.3979002,
          41.400654,
          41.4065291,
          41.403216,
          41.4110754,
          41.4053649,
          41.36352,
          41.3675574,
          41.371366,
          41.3723682,
          41.3675438,
          41.3703717,
          41.3755503,
          41.3768806,
          41.3756948,
          41.3969839,
          41.3961412,
          41.381951,
          41.3786364,
          41.3812979,
          41.3812001,
          41.3821371,
          41.3832609,
          41.3871579,
          41.3847113,
          41.3819739,
          41.3839045,
          41.3878061,
          41.3854466,
          41.3887069,
          41.3880355,
          41.387561,
          41.3897943,
          41.3908477,
          41.3915195,
          41.3857425,
          41.3745238,
          41.3987543,
          41.3922355,
          41.3935816,
          41.3952027,
          41.3939378,
          41.3967824,
          41.3985735,
          41.4040364,
          41.3976165,
          41.3960982,
          41.4025392,
          41.4013296,
          41.3983444,
          41.3999967,
          41.384810211467105,
          41.4035608,
          41.4078456,
          41.4068417,
          41.4050968,
          41.4059356,
          41.4092005,
          41.37449997033759,
          41.3719688,
          41.371532,
          41.3751767,
          41.3751161,
          41.3727426,
          41.4158807,
          41.4172922,
          41.4175595,
          41.419178,
          41.4244527,
          41.4239719,
          41.426925,
          41.3826647,
          41.4228449,
          41.4219291,
          41.4182129,
          41.4250835,
          41.4258248,
          41.4253643,
          41.4298991,
          41.4298614,
          41.4299999,
          41.4315,
          41.4361251,
          41.433934,
          41.4425034,
          41.4391174,
          41.4356895,
          41.3821314,
          41.3790954665734,
          41.4378773,
          41.439929,
          41.3847738,
          41.4268952,
          41.4433647,
          41.4457195,
          41.448152,
          41.4486328,
          41.4519872,
          41.4325013,
          41.4304126,
          41.4299201,
          41.43068,
          41.4121345,
          41.4082107,
          41.4098842,
          41.4158995,
          41.4138664,
          41.4180789,
          41.4275514,
          41.4297231,
          41.389462,
          41.4366708,
          41.4030225,
          41.3890626,
          41.4296439,
          41.4166982,
          41.4373376,
          41.426078,
          41.4300161,
          41.4283127,
          41.4363473,
          41.433384,
          41.4364887,
          41.4388223,
          41.4347233,
          41.4340849,
          41.4315843,
          41.4366871,
          41.3906352,
          41.3934324,
          41.39038,
          41.3875297,
          41.3853868,
          41.3791986,
          41.37684,
          41.3770199,
          41.3812111,
          41.3785631,
          41.3789061,
          41.3754188,
          41.3783067,
          41.4156285,
          41.4224015,
          41.4256626,
          41.412427,
          41.3937414,
          41.400305,
          41.4031529,
          41.4009,
          41.3981616,
          41.3969455,
          41.3949601,
          41.4074131,
          41.4050074,
          41.402988,
          41.4029965,
          41.401883,
          41.3970497,
          41.3998981,
          41.3954723,
          41.400793,
          41.3935355,
          41.3948771,
          41.3986238,
          41.3977227,
          41.4017084,
          41.4361782,
          41.4339212,
          41.4034967,
          41.4389609,
          41.4431441,
          41.3631066,
          41.360798,
          41.3595484,
          41.357067,
          41.3573288,
          41.392052,
          41.3621232,
          41.37541,
          41.3759419,
          41.371459,
          41.4134503,
          41.4105956,
          41.3872437,
          41.3900544,
          41.3952527,
          41.37652,
          41.396994,
          41.3908381,
          41.393062,
          41.3875712,
          41.3811389,
          41.384972,
          41.3968391,
          41.40013,
          41.4039698,
          41.4040525,
          41.4001015,
          41.3750995,
          41.3949729,
          41.3720293,
          41.3718728,
          41.3776292,
          41.3785379,
          41.3829333,
          41.3854094,
          41.3816139,
          41.4038902,
          41.381219,
          41.3807072,
          41.387888,
          41.3751866,
          41.3957813,
          41.3806411,
          41.3873901,
          41.3869612,
          41.4230551,
          41.3905303,
          41.4022657,
          41.3873057,
          41.3860607,
          41.3890253,
          41.3889129,
          41.380955,
          41.3734706,
          41.3694508,
          41.382418,
          41.380628,
          41.3796421,
          41.3653426,
          41.3854003,
          41.3863747,
          41.3889972,
          41.392384,
          41.376433,
          41.411381,
          41.3893094,
          41.393489,
          41.3937234,
          41.3793558,
          41.3781065,
          41.4164824,
          41.391062,
          41.391313,
          41.3743329,
          41.378118,
          41.3881175,
          41.4202459,
          41.3795862,
          41.3765618,
          41.39828,
          41.3754047,
          41.3983902,
          41.3881262,
          41.385641,
          41.383467,
          41.3847061,
          41.3862258,
          41.3767538,
          41.383585,
          41.3545425,
          41.3513237,
          41.3981669,
          41.3685394,
          41.417694,
          41.3754426,
          41.3649272,
          41.3887127,
          41.3717304,
          41.3755016,
          41.3779974,
          41.3943033,
          41.3972809,
          41.4058109,
          41.410712,
          41.4140598,
          41.4194972,
          41.4072349,
          41.4105848,
          41.4143392,
          41.4383117,
          41.4457962,
          41.4479402,
          41.4513863,
          41.442489,
          41.446923,
          41.4490679,
          41.439692,
          41.3954094,
          41.443387,
          41.4450463,
          41.4480464,
          41.4417001,
          41.4432762,
          41.4389014,
          41.4427374,
          41.4388644,
          41.4418604,
          41.4216738,
          41.422037,
          41.4260751,
          41.4276076,
          41.430623,
          41.4333259,
          41.4357978,
          41.4372022,
          41.429561735076526,
          41.4345997,
          41.4374904,
          41.4267638,
          41.4347859,
          41.4312335,
          41.4280668,
          41.4306689,
          41.3943454,
          41.419965,
          41.3896967,
          41.377846,
          41.4048623,
          41.4095489,
          41.4144967,
          41.4160558,
          41.4117633,
          41.4052698,
          41.4074444,
          41.4095926,
          41.4092333,
          41.4145614,
          41.4191957,
          41.4107641,
          41.4090922,
          41.3989713,
          41.3989151,
          41.4006862,
          41.4000778,
          41.399017,
          41.4095069,
          41.4352071,
          41.4354601,
          41.462095,
          41.4246885,
          41.4246548,
          41.3683855,
          41.3653602,
          41.3663147,
          41.3721749,
          41.3693483,
          41.3614158
         ],
         "lon": [
          2.1801069,
          2.1771985,
          2.1813305,
          2.1812483,
          2.1801763,
          2.1805685,
          2.18329,
          2.183489,
          2.184922,
          2.1436235,
          2.1933482,
          2.1946255,
          2.195551,
          2.185085,
          2.1689031978751205,
          2.1866517,
          2.1740472,
          2.1707947,
          2.1757334,
          2.1740575,
          2.175767,
          2.1717397,
          2.1788855,
          2.1681961,
          2.1820722,
          2.1646338,
          2.1706498,
          2.169941,
          2.1829894,
          2.1889045,
          2.188928,
          2.19067,
          2.1753364,
          2.2206913,
          2.1766834,
          2.1820675,
          2.186576,
          2.187093,
          2.189906,
          2.189881,
          2.1874404,
          2.189371,
          2.1921945084594707,
          2.1904003,
          2.1871959,
          2.1965766,
          2.1709386,
          2.1692556,
          2.177292,
          2.174016,
          2.1707321,
          2.1758261,
          2.176971,
          2.16712,
          2.164035,
          2.166797,
          2.168819,
          2.169427,
          2.1690686,
          2.1696543,
          2.1678388,
          2.1454802,
          2.1572953,
          2.195073,
          2.1606506,
          2.1629146,
          2.1586273,
          2.1563542,
          2.1432105,
          2.1429115,
          2.1532163,
          2.1773214,
          2.1634306,
          2.1634768,
          2.1599078,
          2.1490553,
          2.1544371248113956,
          2.1520645,
          2.1571646,
          2.1592394,
          2.1629349,
          2.1479931916296557,
          2.1507739,
          2.149131,
          2.150878,
          2.1594741,
          2.1601641,
          2.1499102,
          2.1473272,
          2.1481993,
          2.1450491,
          2.1408633,
          2.141539,
          2.143868,
          2.143411,
          2.1422174,
          2.1884487,
          2.1872438,
          2.17425,
          2.1622548,
          2.1531031,
          2.1649035,
          2.1476308,
          2.155089,
          2.1546746,
          2.157233,
          2.1646742,
          2.1740082,
          2.184171,
          2.1914756,
          2.1972309,
          2.1874966,
          2.1825085,
          2.1765126,
          2.1785364,
          2.1663172,
          2.166735224916682,
          2.1878126,
          2.194735,
          2.1822815,
          2.1907524,
          2.1959771,
          2.16113608,
          2.2016699,
          2.2060317,
          2.192042,
          2.1930174,
          2.1987258,
          2.1972673,
          2.2017955,
          2.2008139,
          2.2058345,
          2.2058133,
          2.1559939,
          2.1954152,
          2.1924144,
          2.1956161,
          2.1977119,
          2.2024461,
          2.207186,
          2.2124993,
          2.1633139,
          2.192952,
          2.203028,
          2.1969105,
          2.1974184,
          2.20077,
          2.2017694,
          2.2074469,
          2.2088179,
          2.2177652,
          2.2183313,
          2.2163136,
          2.2193724,
          2.1965965,
          2.2084257,
          2.2008756,
          2.1778852,
          2.2041415,
          2.206645,
          2.2105777,
          2.2135818,
          2.1999572,
          2.2037136,
          2.2088454,
          2.210191,
          2.2091221,
          2.2136,
          2.1809764,
          2.2162094,
          2.1369015,
          2.1388216,
          2.143565,
          2.1419494,
          2.1342316,
          2.1389439,
          2.1439036,
          2.1698206,
          2.1358571,
          2.1661852,
          2.2078439,
          2.147474,
          2.1335494,
          2.1289917,
          2.1323612,
          2.1354149,
          2.1392662,
          2.1410945,
          2.1334379,
          2.1268625,
          2.1312876,
          2.1344218,
          2.1288753,
          2.1285766,
          2.1256248,
          2.1306737,
          2.1328634,
          2.136579,
          2.1390667,
          2.1610515,
          2.1422556,
          2.1902116,
          2.1309272,
          2.1345892,
          2.1334873,
          2.1380304,
          2.1445567,
          2.1440826,
          2.183145,
          2.1471724,
          2.1513154,
          2.1524704,
          2.1574439,
          2.1598243,
          2.1644531,
          2.1508071246452154,
          2.1609345,
          2.1586704,
          2.1558354,
          2.1569161,
          2.1517977,
          2.16400285,
          2.1730255457161096,
          2.1667829,
          2.162203,
          2.1658972,
          2.1523091,
          2.1539198,
          2.1908473,
          2.1844769,
          2.1877153,
          2.18018,
          2.1773157,
          2.1812399,
          2.1786224,
          2.1717083,
          2.1866363,
          2.1849107,
          2.1904005,
          2.1872818,
          2.191206,
          2.1852073,
          2.1932159,
          2.1922011,
          2.190246,
          2.18579,
          2.1894423,
          2.1896502,
          2.1929677,
          2.1858025,
          2.1920873,
          2.1606534,
          2.1516210083711993,
          2.1910691,
          2.1970692,
          2.1592566,
          2.1842572,
          2.1906302,
          2.1929816,
          2.19294,
          2.1898372,
          2.1935229,
          2.1842021,
          2.1834174,
          2.1849813,
          2.1821802,
          2.1652216,
          2.1689962,
          2.1715285,
          2.1745567,
          2.1777274,
          2.1763994,
          2.1659881,
          2.1617032,
          2.1314948,
          2.186105,
          2.1913538,
          2.1679313,
          2.174444,
          2.1909952,
          2.1740962,
          2.1751572,
          2.1720191,
          2.1629889,
          2.1706752,
          2.1716309,
          2.1841014,
          2.1767828,
          2.1817718,
          2.1748267,
          2.1769107,
          2.1693134,
          2.111541,
          2.115107,
          2.121,
          2.1237141,
          2.122893,
          2.1135824,
          2.114029,
          2.1169828,
          2.1190863,
          2.1202487,
          2.1233038,
          2.1297823,
          2.1297303,
          2.1817876,
          2.198071,
          2.2008632,
          2.170592,
          2.1455022,
          2.149144,
          2.1445843,
          2.13892,
          2.1386719,
          2.136346,
          2.1302775,
          2.1381069,
          2.134603,
          2.1344691,
          2.1283866,
          2.131524,
          2.1279409,
          2.1281922,
          2.1250451,
          2.122889,
          2.1231228,
          2.1205394,
          2.1204941,
          2.1194557,
          2.2053803,
          2.2047037,
          2.2062245,
          2.1936584,
          2.1996179,
          2.1996045,
          2.1398322,
          2.138931,
          2.1417765,
          2.141563,
          2.1371996,
          2.1480223,
          2.1356187,
          2.1232547,
          2.1299539,
          2.127854,
          2.1631012,
          2.1579897,
          2.1793035,
          2.1775594,
          2.1730023,
          2.17881,
          2.1706323,
          2.1743743,
          2.1633226,
          2.1469336,
          2.1729755,
          2.1376205,
          2.1756598,
          2.1780175,
          2.1729061,
          2.181199,
          2.1841711,
          2.1613897,
          2.1612814,
          2.1804468,
          2.180302,
          2.1836886,
          2.1767427,
          2.1420704,
          2.1740155,
          2.1677697,
          2.2041137,
          2.141767,
          2.1468381,
          2.1552902,
          2.1568773,
          2.1787074,
          2.1671611,
          2.1875446,
          2.1820169,
          2.1913753,
          2.1906339,
          2.1976297,
          2.1631263,
          2.1702467,
          2.1968267,
          2.1993105,
          2.1934636,
          2.1332694,
          2.1879597,
          2.183723,
          2.1821917,
          2.1368202,
          2.1331357,
          2.1521802,
          2.1646697,
          2.1923283,
          2.1925059,
          2.17871,
          2.2122054,
          2.1727457,
          2.1707419,
          2.1764275,
          2.1689592,
          2.1696744,
          2.1801094,
          2.1801142,
          2.1808391,
          2.1479385,
          2.1378667,
          2.1154135,
          2.1894852,
          2.1925198,
          2.1748621,
          2.1830315,
          2.1680021,
          2.1960799,
          2.1091535,
          2.113096,
          2.122175,
          2.1170751,
          2.1168609,
          2.1269152,
          2.112186,
          2.1433038,
          2.1450958,
          2.1754896,
          2.1328403,
          2.1976864,
          2.1398409,
          2.138599,
          2.1542277,
          2.1554047,
          2.154004,
          2.1884228,
          2.1860256,
          2.1997869,
          2.1949461,
          2.2061691,
          2.2150487,
          2.20934,
          2.1684799,
          2.1826833,
          2.1874539,
          2.2039823,
          2.2010422,
          2.1976757,
          2.1894717,
          2.185727,
          2.184857,
          2.1833801,
          2.182335,
          2.1599427,
          2.1813051,
          2.176726,
          2.1775154,
          2.1781553,
          2.1746238,
          2.1715576,
          2.170393,
          2.1657506,
          2.1664224,
          2.1799878,
          2.174401,
          2.1722534,
          2.1697582,
          2.1671068,
          2.1629258,
          2.163872,
          2.1620235,
          2.1589684563445877,
          2.1585268,
          2.1565742,
          2.1521909,
          2.147904,
          2.1499103,
          2.1443777,
          2.1456449,
          2.1751709,
          2.1401823,
          2.1652199,
          2.150523,
          2.174799,
          2.1360313,
          2.1402433,
          2.1421504,
          2.1453424,
          2.1420204,
          2.1492066,
          2.1524953,
          2.1557747,
          2.1658677,
          2.1718497,
          2.1640965,
          2.1656378,
          2.1606736,
          2.1564253,
          2.1543317,
          2.1326911,
          2.124329,
          2.1885055,
          2.1948002,
          2.2001569,
          2.178959,
          2.1570492,
          2.166289,
          2.1645038,
          2.1476099,
          2.1522059,
          2.1602153,
          2.1426008,
          2.1476169
         ],
         "name": "",
         "radius": 10,
         "subplot": "mapbox",
         "type": "densitymapbox",
         "z": [
          12.961538461538462,
          12.89655172413793,
          7.8,
          7.67741935483871,
          22.06896551724138,
          18.807692307692307,
          16.73076923076923,
          16.35,
          17,
          16,
          11.787878787878787,
          10.72,
          22.304347826086957,
          20.257142857142856,
          11.647058823529411,
          23.814814814814813,
          7.431818181818182,
          8.628571428571428,
          8.785714285714286,
          8.724137931034482,
          9.142857142857142,
          11.066666666666666,
          21.620689655172413,
          4.303030303030303,
          9.791666666666666,
          9.636363636363637,
          7.304347826086956,
          13.576923076923077,
          14.833333333333334,
          11.38888888888889,
          7,
          14.10344827586207,
          15.4,
          22.243243243243242,
          15.387096774193548,
          16.142857142857142,
          21.727272727272727,
          15.464285714285714,
          17.933333333333334,
          10.615384615384615,
          16.25925925925926,
          16,
          40.53333333333333,
          39.285714285714285,
          6.615384615384615,
          11.045454545454545,
          9.161290322580646,
          14.392857142857142,
          20.8,
          17.93548387096774,
          16,
          7.95,
          16.233333333333334,
          24.5,
          13.541666666666666,
          7.6,
          12.392857142857142,
          17.967741935483872,
          8.818181818181818,
          11.96551724137931,
          8.444444444444445,
          5.21875,
          5.111111111111111,
          8.371428571428572,
          13.64,
          12.73076923076923,
          9.5,
          6.648648648648648,
          5.2272727272727275,
          2.5806451612903225,
          6.125,
          15.142857142857142,
          7.793103448275862,
          8.787878787878787,
          4.5,
          5.6521739130434785,
          12.86111111111111,
          10.06060606060606,
          12.969696969696969,
          24.416666666666668,
          18.666666666666668,
          5.181818181818182,
          6,
          2.3333333333333335,
          3.6129032258064515,
          19.863636363636363,
          4.071428571428571,
          3.53125,
          4.384615384615385,
          2.838709677419355,
          2.111111111111111,
          3.5185185185185186,
          3.5806451612903225,
          2.066666666666667,
          6.066666666666666,
          0.9230769230769231,
          11.258064516129032,
          18.25,
          8.172413793103448,
          4.777777777777778,
          4.529411764705882,
          5.375,
          4.956521739130435,
          11.897435897435898,
          10.03448275862069,
          11.21875,
          23.86111111111111,
          18.51851851851852,
          10.433333333333334,
          14.964285714285714,
          16.6,
          14.176470588235293,
          11.516129032258064,
          7.964285714285714,
          10.96551724137931,
          10.241379310344827,
          4.037037037037037,
          17.272727272727273,
          7.739130434782608,
          19.434782608695652,
          12.566666666666666,
          23.846153846153847,
          14.393939393939394,
          14.153846153846153,
          23.2,
          19.257142857142856,
          6.354838709677419,
          10.513513513513514,
          11.052631578947368,
          23.129032258064516,
          11.692307692307692,
          11.166666666666666,
          13.692307692307692,
          17.1,
          14.205882352941176,
          10.774193548387096,
          13.821428571428571,
          17.137931034482758,
          13.833333333333334,
          9.619047619047619,
          13.043478260869565,
          22.571428571428573,
          9.875,
          8.793103448275861,
          16.86111111111111,
          11.333333333333334,
          10.535714285714286,
          17.25925925925926,
          19.333333333333332,
          11.333333333333334,
          10.266666666666667,
          8.185185185185185,
          13.064516129032258,
          20.03030303030303,
          20.03125,
          15.928571428571429,
          7.3076923076923075,
          12.03448275862069,
          16.2,
          19.88,
          10.208333333333334,
          17.48148148148148,
          16.944444444444443,
          19.64516129032258,
          11.518518518518519,
          14.806451612903226,
          12.125,
          13.454545454545455,
          13.217391304347826,
          16.653846153846153,
          8.464285714285714,
          24.772727272727273,
          12.807692307692308,
          9,
          19.714285714285715,
          5.923076923076923,
          5.967741935483871,
          8.37037037037037,
          5.136363636363637,
          14.846153846153847,
          12.384615384615385,
          4.161290322580645,
          3.289473684210526,
          5.454545454545454,
          4.451612903225806,
          1.8,
          4.21875,
          6.472222222222222,
          3.3448275862068964,
          2.925925925925926,
          4.555555555555555,
          2.6382978723404253,
          3.264705882352941,
          1.5357142857142858,
          1.4137931034482758,
          2.5945945945945947,
          0.6666666666666666,
          4.956521739130435,
          2.5416666666666665,
          4.535714285714286,
          7.068965517241379,
          10.576923076923077,
          1.6538461538461537,
          1.3823529411764706,
          1.1944444444444444,
          4.785714285714286,
          1.3548387096774193,
          3.3703703703703702,
          26.59090909090909,
          4.161290322580645,
          3.6,
          6.391304347826087,
          7.7407407407407405,
          9.26086956521739,
          5.375,
          6,
          13.181818181818182,
          7.638888888888889,
          2.6785714285714284,
          4.7407407407407405,
          6.794117647058823,
          10.32,
          20.29032258064516,
          16.76,
          14.857142857142858,
          14.916666666666666,
          3.0952380952380953,
          19.264705882352942,
          13.692307692307692,
          11.766666666666667,
          14.961538461538462,
          16.58823529411765,
          5.482758620689655,
          5.346153846153846,
          8.863636363636363,
          14.878787878787879,
          5.742857142857143,
          11.161290322580646,
          11.892857142857142,
          8.904761904761905,
          15.5,
          12.84,
          25.44,
          13.74074074074074,
          11.857142857142858,
          5.966666666666667,
          20.59090909090909,
          18.057142857142857,
          14.54054054054054,
          11.227272727272727,
          11.03448275862069,
          18.833333333333332,
          14.464285714285714,
          11.333333333333334,
          17.869565217391305,
          6.72,
          4.722222222222222,
          12.285714285714286,
          14.208333333333334,
          15.066666666666666,
          12.205882352941176,
          5.518518518518518,
          14.558823529411764,
          20.24137931034483,
          12.9,
          14.290322580645162,
          6.25,
          6.194444444444445,
          13.878787878787879,
          12.26923076923077,
          10.708333333333334,
          7.151515151515151,
          4.903225806451613,
          6.962962962962963,
          0.967741935483871,
          7.375,
          11.10344827586207,
          11.194444444444445,
          11.576923076923077,
          9.448275862068966,
          2.3333333333333335,
          2.263157894736842,
          4.615384615384615,
          3.8518518518518516,
          1.1428571428571428,
          7.48,
          7.071428571428571,
          4.0476190476190474,
          8,
          2.7777777777777777,
          9.8,
          2.263157894736842,
          3.1142857142857143,
          2.081081081081081,
          2.2,
          0.4117647058823529,
          3.5,
          1.2580645161290323,
          4.09375,
          10.666666666666666,
          2.066666666666667,
          6.212121212121212,
          6.96875,
          16.36,
          7.097560975609756,
          12.743589743589743,
          15.551724137931034,
          14.27027027027027,
          9.375,
          9.294117647058824,
          4.131578947368421,
          13,
          5.185185185185185,
          1.2,
          3,
          0.72,
          3.7333333333333334,
          2.3461538461538463,
          2.2413793103448274,
          1.935483870967742,
          1.4285714285714286,
          1.911764705882353,
          2.217391304347826,
          4.46875,
          1.6,
          3.28125,
          1.173913043478261,
          2.9285714285714284,
          0.7368421052631579,
          10.633333333333333,
          21.482758620689655,
          18.304347826086957,
          14.8125,
          3.757575757575758,
          5.0344827586206895,
          23.62962962962963,
          19.17241379310345,
          15.608695652173912,
          10.75,
          15.8,
          8.4,
          27.166666666666668,
          13.105263157894736,
          9.029411764705882,
          17.75,
          3.6666666666666665,
          6.485714285714286,
          23.14814814814815,
          13.27027027027027,
          14.6,
          23,
          14.321428571428571,
          8.590909090909092,
          19.548387096774192,
          5.470588235294118,
          6.172413793103448,
          4.59375,
          10.285714285714286,
          14.93939393939394,
          16.5,
          19.24,
          15.416666666666666,
          18.782608695652176,
          7.064516129032258,
          19.837209302325583,
          15.875,
          13.206896551724139,
          16.8,
          2.3181818181818183,
          18.029411764705884,
          29.56,
          12.866666666666667,
          2.2916666666666665,
          2.88,
          17.580645161290324,
          9.76,
          21.322580645161292,
          25.96551724137931,
          16.296296296296298,
          14.173913043478262,
          8.178571428571429,
          8.8,
          15.538461538461538,
          5.722222222222222,
          13.7,
          12.952380952380953,
          11.052631578947368,
          20.476190476190474,
          5.648648648648648,
          22.833333333333332,
          22.482758620689655,
          21.12,
          2.5416666666666665,
          25.09375,
          6.40625,
          8.814814814814815,
          16.03846153846154,
          10.5,
          33,
          14.052631578947368,
          10.03125,
          16.194444444444443,
          14.4,
          13.692307692307692,
          21.73913043478261,
          11.777777777777779,
          22.11111111111111,
          20.88235294117647,
          6.266666666666667,
          1.7741935483870968,
          2.176470588235294,
          11.470588235294118,
          16.576923076923077,
          15.807692307692308,
          12.89655172413793,
          13.833333333333334,
          7.774193548387097,
          2.966666666666667,
          3.9411764705882355,
          0.4666666666666667,
          2.0714285714285716,
          2.25,
          11.375,
          3.793103448275862,
          7.25,
          11.457142857142857,
          14.631578947368421,
          7.733333333333333,
          15.67741935483871,
          3,
          13.612903225806452,
          17.517241379310345,
          20.93548387096774,
          7.52,
          7.233333333333333,
          11.78125,
          17.3,
          17.185185185185187,
          11,
          12.894736842105264,
          32.59375,
          11.517241379310345,
          15.592592592592593,
          10.916666666666666,
          15.777777777777779,
          20,
          12.904761904761905,
          6.566666666666666,
          7.586206896551724,
          12.523809523809524,
          9,
          3.3214285714285716,
          5.1875,
          11.551724137931034,
          5.419354838709677,
          3.35,
          6.730769230769231,
          7.518518518518518,
          2.78125,
          5.2105263157894735,
          6.233333333333333,
          1.9565217391304348,
          5.407407407407407,
          5.296296296296297,
          5.057142857142857,
          8.047619047619047,
          4.869565217391305,
          5.5588235294117645,
          4,
          5.483870967741935,
          2.935483870967742,
          5.678571428571429,
          5.172413793103448,
          1.1785714285714286,
          6,
          3.5185185185185186,
          12.375,
          1.2758620689655173,
          12.185185185185185,
          3.945945945945946,
          9,
          3.310344827586207,
          4.956521739130435,
          4,
          2.6486486486486487,
          4.588235294117647,
          8.92,
          3.933333333333333,
          4.757575757575758,
          3.5714285714285716,
          7.714285714285714,
          3.2857142857142856,
          6,
          3.7777777777777777,
          8.529411764705882,
          4.75,
          8.483870967741936,
          4.466666666666667,
          2.3333333333333335,
          1.6666666666666667,
          11.214285714285714,
          4.592592592592593,
          13.655172413793103,
          16.451612903225808,
          3.1818181818181817,
          11.307692307692308,
          11.64,
          7.2592592592592595,
          1.6122448979591837,
          6.648648648648648,
          11.451612903225806,
          3.236842105263158
         ]
        }
       ],
       "layout": {
        "coloraxis": {
         "colorbar": {
          "title": {
           "text": "num_bikes_available"
          }
         },
         "colorscale": [
          [
           0,
           "#0d0887"
          ],
          [
           0.1111111111111111,
           "#46039f"
          ],
          [
           0.2222222222222222,
           "#7201a8"
          ],
          [
           0.3333333333333333,
           "#9c179e"
          ],
          [
           0.4444444444444444,
           "#bd3786"
          ],
          [
           0.5555555555555556,
           "#d8576b"
          ],
          [
           0.6666666666666666,
           "#ed7953"
          ],
          [
           0.7777777777777778,
           "#fb9f3a"
          ],
          [
           0.8888888888888888,
           "#fdca26"
          ],
          [
           1,
           "#f0f921"
          ]
         ]
        },
        "legend": {
         "tracegroupgap": 0
        },
        "mapbox": {
         "center": {
          "lat": 41.3851,
          "lon": 2.1734
         },
         "domain": {
          "x": [
           0,
           1
          ],
          "y": [
           0,
           1
          ]
         },
         "style": "stamen-terrain",
         "zoom": 12
        },
        "margin": {
         "t": 60
        },
        "template": {
         "data": {
          "bar": [
           {
            "error_x": {
             "color": "#2a3f5f"
            },
            "error_y": {
             "color": "#2a3f5f"
            },
            "marker": {
             "line": {
              "color": "#E5ECF6",
              "width": 0.5
             },
             "pattern": {
              "fillmode": "overlay",
              "size": 10,
              "solidity": 0.2
             }
            },
            "type": "bar"
           }
          ],
          "barpolar": [
           {
            "marker": {
             "line": {
              "color": "#E5ECF6",
              "width": 0.5
             },
             "pattern": {
              "fillmode": "overlay",
              "size": 10,
              "solidity": 0.2
             }
            },
            "type": "barpolar"
           }
          ],
          "carpet": [
           {
            "aaxis": {
             "endlinecolor": "#2a3f5f",
             "gridcolor": "white",
             "linecolor": "white",
             "minorgridcolor": "white",
             "startlinecolor": "#2a3f5f"
            },
            "baxis": {
             "endlinecolor": "#2a3f5f",
             "gridcolor": "white",
             "linecolor": "white",
             "minorgridcolor": "white",
             "startlinecolor": "#2a3f5f"
            },
            "type": "carpet"
           }
          ],
          "choropleth": [
           {
            "colorbar": {
             "outlinewidth": 0,
             "ticks": ""
            },
            "type": "choropleth"
           }
          ],
          "contour": [
           {
            "colorbar": {
             "outlinewidth": 0,
             "ticks": ""
            },
            "colorscale": [
             [
              0,
              "#0d0887"
             ],
             [
              0.1111111111111111,
              "#46039f"
             ],
             [
              0.2222222222222222,
              "#7201a8"
             ],
             [
              0.3333333333333333,
              "#9c179e"
             ],
             [
              0.4444444444444444,
              "#bd3786"
             ],
             [
              0.5555555555555556,
              "#d8576b"
             ],
             [
              0.6666666666666666,
              "#ed7953"
             ],
             [
              0.7777777777777778,
              "#fb9f3a"
             ],
             [
              0.8888888888888888,
              "#fdca26"
             ],
             [
              1,
              "#f0f921"
             ]
            ],
            "type": "contour"
           }
          ],
          "contourcarpet": [
           {
            "colorbar": {
             "outlinewidth": 0,
             "ticks": ""
            },
            "type": "contourcarpet"
           }
          ],
          "heatmap": [
           {
            "colorbar": {
             "outlinewidth": 0,
             "ticks": ""
            },
            "colorscale": [
             [
              0,
              "#0d0887"
             ],
             [
              0.1111111111111111,
              "#46039f"
             ],
             [
              0.2222222222222222,
              "#7201a8"
             ],
             [
              0.3333333333333333,
              "#9c179e"
             ],
             [
              0.4444444444444444,
              "#bd3786"
             ],
             [
              0.5555555555555556,
              "#d8576b"
             ],
             [
              0.6666666666666666,
              "#ed7953"
             ],
             [
              0.7777777777777778,
              "#fb9f3a"
             ],
             [
              0.8888888888888888,
              "#fdca26"
             ],
             [
              1,
              "#f0f921"
             ]
            ],
            "type": "heatmap"
           }
          ],
          "heatmapgl": [
           {
            "colorbar": {
             "outlinewidth": 0,
             "ticks": ""
            },
            "colorscale": [
             [
              0,
              "#0d0887"
             ],
             [
              0.1111111111111111,
              "#46039f"
             ],
             [
              0.2222222222222222,
              "#7201a8"
             ],
             [
              0.3333333333333333,
              "#9c179e"
             ],
             [
              0.4444444444444444,
              "#bd3786"
             ],
             [
              0.5555555555555556,
              "#d8576b"
             ],
             [
              0.6666666666666666,
              "#ed7953"
             ],
             [
              0.7777777777777778,
              "#fb9f3a"
             ],
             [
              0.8888888888888888,
              "#fdca26"
             ],
             [
              1,
              "#f0f921"
             ]
            ],
            "type": "heatmapgl"
           }
          ],
          "histogram": [
           {
            "marker": {
             "pattern": {
              "fillmode": "overlay",
              "size": 10,
              "solidity": 0.2
             }
            },
            "type": "histogram"
           }
          ],
          "histogram2d": [
           {
            "colorbar": {
             "outlinewidth": 0,
             "ticks": ""
            },
            "colorscale": [
             [
              0,
              "#0d0887"
             ],
             [
              0.1111111111111111,
              "#46039f"
             ],
             [
              0.2222222222222222,
              "#7201a8"
             ],
             [
              0.3333333333333333,
              "#9c179e"
             ],
             [
              0.4444444444444444,
              "#bd3786"
             ],
             [
              0.5555555555555556,
              "#d8576b"
             ],
             [
              0.6666666666666666,
              "#ed7953"
             ],
             [
              0.7777777777777778,
              "#fb9f3a"
             ],
             [
              0.8888888888888888,
              "#fdca26"
             ],
             [
              1,
              "#f0f921"
             ]
            ],
            "type": "histogram2d"
           }
          ],
          "histogram2dcontour": [
           {
            "colorbar": {
             "outlinewidth": 0,
             "ticks": ""
            },
            "colorscale": [
             [
              0,
              "#0d0887"
             ],
             [
              0.1111111111111111,
              "#46039f"
             ],
             [
              0.2222222222222222,
              "#7201a8"
             ],
             [
              0.3333333333333333,
              "#9c179e"
             ],
             [
              0.4444444444444444,
              "#bd3786"
             ],
             [
              0.5555555555555556,
              "#d8576b"
             ],
             [
              0.6666666666666666,
              "#ed7953"
             ],
             [
              0.7777777777777778,
              "#fb9f3a"
             ],
             [
              0.8888888888888888,
              "#fdca26"
             ],
             [
              1,
              "#f0f921"
             ]
            ],
            "type": "histogram2dcontour"
           }
          ],
          "mesh3d": [
           {
            "colorbar": {
             "outlinewidth": 0,
             "ticks": ""
            },
            "type": "mesh3d"
           }
          ],
          "parcoords": [
           {
            "line": {
             "colorbar": {
              "outlinewidth": 0,
              "ticks": ""
             }
            },
            "type": "parcoords"
           }
          ],
          "pie": [
           {
            "automargin": true,
            "type": "pie"
           }
          ],
          "scatter": [
           {
            "fillpattern": {
             "fillmode": "overlay",
             "size": 10,
             "solidity": 0.2
            },
            "type": "scatter"
           }
          ],
          "scatter3d": [
           {
            "line": {
             "colorbar": {
              "outlinewidth": 0,
              "ticks": ""
             }
            },
            "marker": {
             "colorbar": {
              "outlinewidth": 0,
              "ticks": ""
             }
            },
            "type": "scatter3d"
           }
          ],
          "scattercarpet": [
           {
            "marker": {
             "colorbar": {
              "outlinewidth": 0,
              "ticks": ""
             }
            },
            "type": "scattercarpet"
           }
          ],
          "scattergeo": [
           {
            "marker": {
             "colorbar": {
              "outlinewidth": 0,
              "ticks": ""
             }
            },
            "type": "scattergeo"
           }
          ],
          "scattergl": [
           {
            "marker": {
             "colorbar": {
              "outlinewidth": 0,
              "ticks": ""
             }
            },
            "type": "scattergl"
           }
          ],
          "scattermapbox": [
           {
            "marker": {
             "colorbar": {
              "outlinewidth": 0,
              "ticks": ""
             }
            },
            "type": "scattermapbox"
           }
          ],
          "scatterpolar": [
           {
            "marker": {
             "colorbar": {
              "outlinewidth": 0,
              "ticks": ""
             }
            },
            "type": "scatterpolar"
           }
          ],
          "scatterpolargl": [
           {
            "marker": {
             "colorbar": {
              "outlinewidth": 0,
              "ticks": ""
             }
            },
            "type": "scatterpolargl"
           }
          ],
          "scatterternary": [
           {
            "marker": {
             "colorbar": {
              "outlinewidth": 0,
              "ticks": ""
             }
            },
            "type": "scatterternary"
           }
          ],
          "surface": [
           {
            "colorbar": {
             "outlinewidth": 0,
             "ticks": ""
            },
            "colorscale": [
             [
              0,
              "#0d0887"
             ],
             [
              0.1111111111111111,
              "#46039f"
             ],
             [
              0.2222222222222222,
              "#7201a8"
             ],
             [
              0.3333333333333333,
              "#9c179e"
             ],
             [
              0.4444444444444444,
              "#bd3786"
             ],
             [
              0.5555555555555556,
              "#d8576b"
             ],
             [
              0.6666666666666666,
              "#ed7953"
             ],
             [
              0.7777777777777778,
              "#fb9f3a"
             ],
             [
              0.8888888888888888,
              "#fdca26"
             ],
             [
              1,
              "#f0f921"
             ]
            ],
            "type": "surface"
           }
          ],
          "table": [
           {
            "cells": {
             "fill": {
              "color": "#EBF0F8"
             },
             "line": {
              "color": "white"
             }
            },
            "header": {
             "fill": {
              "color": "#C8D4E3"
             },
             "line": {
              "color": "white"
             }
            },
            "type": "table"
           }
          ]
         },
         "layout": {
          "annotationdefaults": {
           "arrowcolor": "#2a3f5f",
           "arrowhead": 0,
           "arrowwidth": 1
          },
          "autotypenumbers": "strict",
          "coloraxis": {
           "colorbar": {
            "outlinewidth": 0,
            "ticks": ""
           }
          },
          "colorscale": {
           "diverging": [
            [
             0,
             "#8e0152"
            ],
            [
             0.1,
             "#c51b7d"
            ],
            [
             0.2,
             "#de77ae"
            ],
            [
             0.3,
             "#f1b6da"
            ],
            [
             0.4,
             "#fde0ef"
            ],
            [
             0.5,
             "#f7f7f7"
            ],
            [
             0.6,
             "#e6f5d0"
            ],
            [
             0.7,
             "#b8e186"
            ],
            [
             0.8,
             "#7fbc41"
            ],
            [
             0.9,
             "#4d9221"
            ],
            [
             1,
             "#276419"
            ]
           ],
           "sequential": [
            [
             0,
             "#0d0887"
            ],
            [
             0.1111111111111111,
             "#46039f"
            ],
            [
             0.2222222222222222,
             "#7201a8"
            ],
            [
             0.3333333333333333,
             "#9c179e"
            ],
            [
             0.4444444444444444,
             "#bd3786"
            ],
            [
             0.5555555555555556,
             "#d8576b"
            ],
            [
             0.6666666666666666,
             "#ed7953"
            ],
            [
             0.7777777777777778,
             "#fb9f3a"
            ],
            [
             0.8888888888888888,
             "#fdca26"
            ],
            [
             1,
             "#f0f921"
            ]
           ],
           "sequentialminus": [
            [
             0,
             "#0d0887"
            ],
            [
             0.1111111111111111,
             "#46039f"
            ],
            [
             0.2222222222222222,
             "#7201a8"
            ],
            [
             0.3333333333333333,
             "#9c179e"
            ],
            [
             0.4444444444444444,
             "#bd3786"
            ],
            [
             0.5555555555555556,
             "#d8576b"
            ],
            [
             0.6666666666666666,
             "#ed7953"
            ],
            [
             0.7777777777777778,
             "#fb9f3a"
            ],
            [
             0.8888888888888888,
             "#fdca26"
            ],
            [
             1,
             "#f0f921"
            ]
           ]
          },
          "colorway": [
           "#636efa",
           "#EF553B",
           "#00cc96",
           "#ab63fa",
           "#FFA15A",
           "#19d3f3",
           "#FF6692",
           "#B6E880",
           "#FF97FF",
           "#FECB52"
          ],
          "font": {
           "color": "#2a3f5f"
          },
          "geo": {
           "bgcolor": "white",
           "lakecolor": "white",
           "landcolor": "#E5ECF6",
           "showlakes": true,
           "showland": true,
           "subunitcolor": "white"
          },
          "hoverlabel": {
           "align": "left"
          },
          "hovermode": "closest",
          "mapbox": {
           "style": "light"
          },
          "paper_bgcolor": "white",
          "plot_bgcolor": "#E5ECF6",
          "polar": {
           "angularaxis": {
            "gridcolor": "white",
            "linecolor": "white",
            "ticks": ""
           },
           "bgcolor": "#E5ECF6",
           "radialaxis": {
            "gridcolor": "white",
            "linecolor": "white",
            "ticks": ""
           }
          },
          "scene": {
           "xaxis": {
            "backgroundcolor": "#E5ECF6",
            "gridcolor": "white",
            "gridwidth": 2,
            "linecolor": "white",
            "showbackground": true,
            "ticks": "",
            "zerolinecolor": "white"
           },
           "yaxis": {
            "backgroundcolor": "#E5ECF6",
            "gridcolor": "white",
            "gridwidth": 2,
            "linecolor": "white",
            "showbackground": true,
            "ticks": "",
            "zerolinecolor": "white"
           },
           "zaxis": {
            "backgroundcolor": "#E5ECF6",
            "gridcolor": "white",
            "gridwidth": 2,
            "linecolor": "white",
            "showbackground": true,
            "ticks": "",
            "zerolinecolor": "white"
           }
          },
          "shapedefaults": {
           "line": {
            "color": "#2a3f5f"
           }
          },
          "ternary": {
           "aaxis": {
            "gridcolor": "white",
            "linecolor": "white",
            "ticks": ""
           },
           "baxis": {
            "gridcolor": "white",
            "linecolor": "white",
            "ticks": ""
           },
           "bgcolor": "#E5ECF6",
           "caxis": {
            "gridcolor": "white",
            "linecolor": "white",
            "ticks": ""
           }
          },
          "title": {
           "x": 0.05
          },
          "xaxis": {
           "automargin": true,
           "gridcolor": "white",
           "linecolor": "white",
           "ticks": "",
           "title": {
            "standoff": 15
           },
           "zerolinecolor": "white",
           "zerolinewidth": 2
          },
          "yaxis": {
           "automargin": true,
           "gridcolor": "white",
           "linecolor": "white",
           "ticks": "",
           "title": {
            "standoff": 15
           },
           "zerolinecolor": "white",
           "zerolinewidth": 2
          }
         }
        },
        "title": {
         "text": "Station Popularity Heatmap"
        }
       }
      }
     },
     "metadata": {},
     "output_type": "display_data"
    },
    {
     "data": {
      "application/vnd.plotly.v1+json": {
       "config": {
        "plotlyServerURL": "https://plot.ly"
       },
       "data": [
        {
         "hovertemplate": "station_id=1<br>hour=%{x}<br>num_bikes_available=%{y}<extra></extra>",
         "legendgroup": "1",
         "line": {
          "color": "#636efa",
          "dash": "solid"
         },
         "marker": {
          "symbol": "circle"
         },
         "mode": "lines",
         "name": "1",
         "showlegend": true,
         "type": "scattergl",
         "x": [
          0,
          1,
          2,
          3,
          6,
          7,
          8,
          9,
          10,
          11,
          12,
          14,
          15,
          17,
          18,
          19,
          20,
          21,
          23
         ],
         "xaxis": "x",
         "y": [
          3,
          14,
          20,
          18,
          22,
          19,
          14,
          12,
          13,
          17,
          16.5,
          12,
          10,
          8,
          8,
          3.5,
          8,
          9,
          17
         ],
         "yaxis": "y"
        },
        {
         "hovertemplate": "station_id=2<br>hour=%{x}<br>num_bikes_available=%{y}<extra></extra>",
         "legendgroup": "2",
         "line": {
          "color": "#EF553B",
          "dash": "solid"
         },
         "marker": {
          "symbol": "circle"
         },
         "mode": "lines",
         "name": "2",
         "showlegend": true,
         "type": "scattergl",
         "x": [
          0,
          2,
          6,
          7,
          9,
          10,
          11,
          12,
          13,
          14,
          15,
          17,
          19,
          20,
          22,
          23
         ],
         "xaxis": "x",
         "y": [
          17,
          20,
          20.666666666666668,
          22,
          21.666666666666668,
          20,
          19,
          0,
          12,
          10,
          9,
          8,
          8,
          5,
          8.5,
          7.75
         ],
         "yaxis": "y"
        },
        {
         "hovertemplate": "station_id=3<br>hour=%{x}<br>num_bikes_available=%{y}<extra></extra>",
         "legendgroup": "3",
         "line": {
          "color": "#00cc96",
          "dash": "solid"
         },
         "marker": {
          "symbol": "circle"
         },
         "mode": "lines",
         "name": "3",
         "showlegend": true,
         "type": "scattergl",
         "x": [
          0,
          1,
          2,
          3,
          4,
          5,
          6,
          7,
          9,
          11,
          14,
          15,
          16,
          17,
          19,
          21,
          22,
          23
         ],
         "xaxis": "x",
         "y": [
          3,
          1,
          3,
          4.333333333333333,
          6,
          6,
          5,
          3,
          5.5,
          7,
          11,
          10,
          12,
          12,
          12,
          12.5,
          10,
          11.5
         ],
         "yaxis": "y"
        },
        {
         "hovertemplate": "station_id=4<br>hour=%{x}<br>num_bikes_available=%{y}<extra></extra>",
         "legendgroup": "4",
         "line": {
          "color": "#ab63fa",
          "dash": "solid"
         },
         "marker": {
          "symbol": "circle"
         },
         "mode": "lines",
         "name": "4",
         "showlegend": true,
         "type": "scattergl",
         "x": [
          1,
          2,
          4,
          5,
          6,
          7,
          8,
          9,
          11,
          14,
          15,
          16,
          17,
          18,
          19,
          20,
          22,
          23
         ],
         "xaxis": "x",
         "y": [
          4,
          6,
          6,
          6,
          3,
          5,
          5,
          4,
          5,
          6,
          10,
          10.5,
          13,
          14.666666666666666,
          11.5,
          10,
          4,
          5.25
         ],
         "yaxis": "y"
        },
        {
         "hovertemplate": "station_id=5<br>hour=%{x}<br>num_bikes_available=%{y}<extra></extra>",
         "legendgroup": "5",
         "line": {
          "color": "#FFA15A",
          "dash": "solid"
         },
         "marker": {
          "symbol": "circle"
         },
         "mode": "lines",
         "name": "5",
         "showlegend": true,
         "type": "scattergl",
         "x": [
          0,
          1,
          2,
          3,
          4,
          6,
          7,
          10,
          11,
          14,
          15,
          16,
          17,
          21,
          22,
          23
         ],
         "xaxis": "x",
         "y": [
          16.5,
          16.5,
          17,
          17,
          16,
          15,
          15,
          19,
          22,
          34,
          27.5,
          0,
          29,
          25,
          23,
          22.75
         ],
         "yaxis": "y"
        },
        {
         "hovertemplate": "station_id=6<br>hour=%{x}<br>num_bikes_available=%{y}<extra></extra>",
         "legendgroup": "6",
         "line": {
          "color": "#19d3f3",
          "dash": "solid"
         },
         "marker": {
          "symbol": "circle"
         },
         "mode": "lines",
         "name": "6",
         "showlegend": true,
         "type": "scattergl",
         "x": [
          0,
          3,
          4,
          5,
          6,
          7,
          8,
          9,
          12,
          13,
          14,
          15,
          16,
          17,
          18,
          19,
          20,
          21,
          23
         ],
         "xaxis": "x",
         "y": [
          13,
          14.5,
          18,
          16,
          16,
          16,
          18,
          22,
          21,
          19.5,
          30,
          30,
          30,
          31,
          0,
          18,
          17.5,
          22,
          13.75
         ],
         "yaxis": "y"
        },
        {
         "hovertemplate": "station_id=7<br>hour=%{x}<br>num_bikes_available=%{y}<extra></extra>",
         "legendgroup": "7",
         "line": {
          "color": "#FF6692",
          "dash": "solid"
         },
         "marker": {
          "symbol": "circle"
         },
         "mode": "lines",
         "name": "7",
         "showlegend": true,
         "type": "scattergl",
         "x": [
          0,
          1,
          2,
          3,
          4,
          5,
          7,
          10,
          11,
          12,
          13,
          14,
          17,
          18,
          20,
          21,
          22,
          23
         ],
         "xaxis": "x",
         "y": [
          16.5,
          13,
          13,
          11,
          13,
          15.5,
          15,
          17,
          18,
          21,
          24,
          24,
          26,
          26,
          19,
          6.5,
          11,
          10
         ],
         "yaxis": "y"
        },
        {
         "hovertemplate": "station_id=8<br>hour=%{x}<br>num_bikes_available=%{y}<extra></extra>",
         "legendgroup": "8",
         "line": {
          "color": "#B6E880",
          "dash": "solid"
         },
         "marker": {
          "symbol": "circle"
         },
         "mode": "lines",
         "name": "8",
         "showlegend": true,
         "type": "scattergl",
         "x": [
          0,
          1,
          2,
          4,
          8,
          9,
          10,
          11,
          14,
          16,
          18,
          20,
          21,
          23
         ],
         "xaxis": "x",
         "y": [
          11,
          9,
          11.5,
          11,
          12,
          16,
          19,
          13,
          21,
          25.5,
          24.5,
          11,
          25,
          23
         ],
         "yaxis": "y"
        },
        {
         "hovertemplate": "station_id=9<br>hour=%{x}<br>num_bikes_available=%{y}<extra></extra>",
         "legendgroup": "9",
         "line": {
          "color": "#FF97FF",
          "dash": "solid"
         },
         "marker": {
          "symbol": "circle"
         },
         "mode": "lines",
         "name": "9",
         "showlegend": true,
         "type": "scattergl",
         "x": [
          0,
          1,
          3,
          6,
          9,
          12,
          13,
          17,
          18,
          19,
          20,
          22,
          23
         ],
         "xaxis": "x",
         "y": [
          13,
          11,
          12,
          16,
          20,
          21,
          22,
          21,
          0,
          20,
          24.5,
          18.666666666666668,
          13
         ],
         "yaxis": "y"
        },
        {
         "hovertemplate": "station_id=10<br>hour=%{x}<br>num_bikes_available=%{y}<extra></extra>",
         "legendgroup": "10",
         "line": {
          "color": "#FECB52",
          "dash": "solid"
         },
         "marker": {
          "symbol": "circle"
         },
         "mode": "lines",
         "name": "10",
         "showlegend": true,
         "type": "scattergl",
         "x": [
          0,
          1,
          2,
          3,
          4,
          5,
          7,
          8,
          14,
          15,
          16,
          20,
          21,
          22,
          23
         ],
         "xaxis": "x",
         "y": [
          16,
          16,
          16,
          16,
          16,
          16,
          16,
          16,
          16,
          16,
          16,
          16,
          16,
          16,
          16
         ],
         "yaxis": "y"
        },
        {
         "hovertemplate": "station_id=11<br>hour=%{x}<br>num_bikes_available=%{y}<extra></extra>",
         "legendgroup": "11",
         "line": {
          "color": "#636efa",
          "dash": "solid"
         },
         "marker": {
          "symbol": "circle"
         },
         "mode": "lines",
         "name": "11",
         "showlegend": true,
         "type": "scattergl",
         "x": [
          0,
          1,
          2,
          3,
          4,
          5,
          8,
          9,
          10,
          12,
          13,
          14,
          15,
          16,
          17,
          18,
          20,
          22,
          23
         ],
         "xaxis": "x",
         "y": [
          11,
          11,
          10,
          9,
          9,
          9,
          7.666666666666667,
          6.5,
          8.666666666666666,
          11,
          7,
          7,
          6.5,
          27,
          30,
          32,
          20,
          8,
          9
         ],
         "yaxis": "y"
        },
        {
         "hovertemplate": "station_id=12<br>hour=%{x}<br>num_bikes_available=%{y}<extra></extra>",
         "legendgroup": "12",
         "line": {
          "color": "#EF553B",
          "dash": "solid"
         },
         "marker": {
          "symbol": "circle"
         },
         "mode": "lines",
         "name": "12",
         "showlegend": true,
         "type": "scattergl",
         "x": [
          0,
          1,
          3,
          6,
          8,
          10,
          12,
          13,
          15,
          17,
          18,
          19,
          20,
          22,
          23
         ],
         "xaxis": "x",
         "y": [
          11.5,
          11,
          10,
          6,
          9.75,
          12,
          2,
          6,
          14,
          15,
          21.5,
          16,
          15,
          9.5,
          7.5
         ],
         "yaxis": "y"
        },
        {
         "hovertemplate": "station_id=13<br>hour=%{x}<br>num_bikes_available=%{y}<extra></extra>",
         "legendgroup": "13",
         "line": {
          "color": "#00cc96",
          "dash": "solid"
         },
         "marker": {
          "symbol": "circle"
         },
         "mode": "lines",
         "name": "13",
         "showlegend": true,
         "type": "scattergl",
         "x": [
          0,
          3,
          4,
          5,
          6,
          9,
          10,
          11,
          14,
          15,
          16,
          17,
          19,
          21,
          23
         ],
         "xaxis": "x",
         "y": [
          17,
          13,
          9.5,
          9,
          7,
          14,
          16,
          21,
          26.5,
          31.5,
          30,
          33,
          44,
          34,
          19
         ],
         "yaxis": "y"
        },
        {
         "hovertemplate": "station_id=14<br>hour=%{x}<br>num_bikes_available=%{y}<extra></extra>",
         "legendgroup": "14",
         "line": {
          "color": "#ab63fa",
          "dash": "solid"
         },
         "marker": {
          "symbol": "circle"
         },
         "mode": "lines",
         "name": "14",
         "showlegend": true,
         "type": "scattergl",
         "x": [
          0,
          1,
          3,
          6,
          7,
          9,
          10,
          12,
          13,
          16,
          17,
          18,
          19,
          20,
          21,
          22,
          23
         ],
         "xaxis": "x",
         "y": [
          21,
          20.5,
          21,
          20,
          21.5,
          22.333333333333332,
          25,
          24.666666666666668,
          25,
          1,
          5,
          26,
          26,
          13,
          25.6,
          25,
          21.5
         ],
         "yaxis": "y"
        },
        {
         "hovertemplate": "station_id=15<br>hour=%{x}<br>num_bikes_available=%{y}<extra></extra>",
         "legendgroup": "15",
         "line": {
          "color": "#FFA15A",
          "dash": "solid"
         },
         "marker": {
          "symbol": "circle"
         },
         "mode": "lines",
         "name": "15",
         "showlegend": true,
         "type": "scattergl",
         "x": [
          0,
          1,
          2,
          4,
          6,
          8,
          9,
          11,
          12,
          13,
          15,
          16,
          17,
          18,
          19,
          20,
          21,
          22,
          23
         ],
         "xaxis": "x",
         "y": [
          7,
          8,
          8,
          4,
          4,
          7,
          7,
          12.333333333333334,
          17,
          20,
          25.75,
          21,
          19,
          16,
          24,
          9,
          6,
          6,
          2
         ],
         "yaxis": "y"
        },
        {
         "hovertemplate": "station_id=17<br>hour=%{x}<br>num_bikes_available=%{y}<extra></extra>",
         "legendgroup": "17",
         "line": {
          "color": "#19d3f3",
          "dash": "solid"
         },
         "marker": {
          "symbol": "circle"
         },
         "mode": "lines",
         "name": "17",
         "showlegend": true,
         "type": "scattergl",
         "x": [
          0,
          1,
          2,
          3,
          4,
          7,
          8,
          9,
          10,
          11,
          12,
          13,
          17,
          19,
          20,
          21,
          22,
          23
         ],
         "xaxis": "x",
         "y": [
          22,
          27,
          28,
          25,
          21.666666666666668,
          20,
          32,
          25,
          25.333333333333332,
          28,
          28,
          24,
          18,
          19,
          19,
          18.75,
          26,
          32
         ],
         "yaxis": "y"
        },
        {
         "hovertemplate": "station_id=18<br>hour=%{x}<br>num_bikes_available=%{y}<extra></extra>",
         "legendgroup": "18",
         "line": {
          "color": "#FF6692",
          "dash": "solid"
         },
         "marker": {
          "symbol": "circle"
         },
         "mode": "lines",
         "name": "18",
         "showlegend": true,
         "type": "scattergl",
         "x": [
          0,
          2,
          3,
          4,
          7,
          8,
          9,
          10,
          11,
          12,
          13,
          14,
          15,
          16,
          17,
          18,
          19,
          20,
          21
         ],
         "xaxis": "x",
         "y": [
          3.3333333333333335,
          11.333333333333334,
          15,
          18,
          18,
          18.8,
          17,
          14,
          10,
          9,
          5.666666666666667,
          5,
          3.5,
          0.6666666666666666,
          1.6666666666666667,
          2,
          0.6666666666666666,
          2,
          1
         ],
         "yaxis": "y"
        },
        {
         "hovertemplate": "station_id=19<br>hour=%{x}<br>num_bikes_available=%{y}<extra></extra>",
         "legendgroup": "19",
         "line": {
          "color": "#B6E880",
          "dash": "solid"
         },
         "marker": {
          "symbol": "circle"
         },
         "mode": "lines",
         "name": "19",
         "showlegend": true,
         "type": "scattergl",
         "x": [
          0,
          2,
          3,
          4,
          6,
          8,
          9,
          11,
          13,
          14,
          15,
          16,
          17,
          18,
          19,
          20,
          22,
          23
         ],
         "xaxis": "x",
         "y": [
          3.5,
          8,
          11,
          11,
          10,
          11.666666666666666,
          12,
          9.5,
          10,
          12,
          16,
          14,
          4,
          1.25,
          1.5,
          2,
          12,
          13
         ],
         "yaxis": "y"
        },
        {
         "hovertemplate": "station_id=20<br>hour=%{x}<br>num_bikes_available=%{y}<extra></extra>",
         "legendgroup": "20",
         "line": {
          "color": "#FF97FF",
          "dash": "solid"
         },
         "marker": {
          "symbol": "circle"
         },
         "mode": "lines",
         "name": "20",
         "showlegend": true,
         "type": "scattergl",
         "x": [
          2,
          4,
          6,
          7,
          8,
          9,
          10,
          11,
          12,
          13,
          14,
          15,
          16,
          18,
          22,
          23
         ],
         "xaxis": "x",
         "y": [
          4,
          13,
          15,
          14,
          9.5,
          10.333333333333334,
          12,
          12,
          4.666666666666667,
          3,
          2,
          2.5,
          4.5,
          4.666666666666667,
          17,
          15
         ],
         "yaxis": "y"
        },
        {
         "hovertemplate": "station_id=21<br>hour=%{x}<br>num_bikes_available=%{y}<extra></extra>",
         "legendgroup": "21",
         "line": {
          "color": "#FECB52",
          "dash": "solid"
         },
         "marker": {
          "symbol": "circle"
         },
         "mode": "lines",
         "name": "21",
         "showlegend": true,
         "type": "scattergl",
         "x": [
          0,
          2,
          3,
          4,
          5,
          6,
          7,
          8,
          9,
          10,
          11,
          13,
          14,
          15,
          16,
          18,
          19,
          20,
          21,
          22,
          23
         ],
         "xaxis": "x",
         "y": [
          8,
          7,
          11,
          11,
          12,
          11,
          13,
          12,
          12,
          11,
          12.5,
          1,
          1,
          4,
          5,
          3.5,
          0.5,
          7,
          12,
          17,
          19
         ],
         "yaxis": "y"
        },
        {
         "hovertemplate": "station_id=22<br>hour=%{x}<br>num_bikes_available=%{y}<extra></extra>",
         "legendgroup": "22",
         "line": {
          "color": "#636efa",
          "dash": "solid"
         },
         "marker": {
          "symbol": "circle"
         },
         "mode": "lines",
         "name": "22",
         "showlegend": true,
         "type": "scattergl",
         "x": [
          0,
          4,
          6,
          7,
          10,
          14,
          15,
          17,
          18,
          20,
          21
         ],
         "xaxis": "x",
         "y": [
          10,
          16,
          14.666666666666666,
          14,
          8,
          10,
          6.5,
          7,
          0,
          4.8,
          12
         ],
         "yaxis": "y"
        },
        {
         "hovertemplate": "station_id=23<br>hour=%{x}<br>num_bikes_available=%{y}<extra></extra>",
         "legendgroup": "23",
         "line": {
          "color": "#EF553B",
          "dash": "solid"
         },
         "marker": {
          "symbol": "circle"
         },
         "mode": "lines",
         "name": "23",
         "showlegend": true,
         "type": "scattergl",
         "x": [
          1,
          2,
          3,
          5,
          6,
          8,
          10,
          11,
          12,
          13,
          14,
          15,
          17,
          18,
          19,
          20,
          21,
          23
         ],
         "xaxis": "x",
         "y": [
          2,
          1,
          3,
          2,
          2,
          11.5,
          18.5,
          19,
          25,
          16,
          21.5,
          21,
          5,
          17.333333333333332,
          18,
          9,
          7.5,
          10
         ],
         "yaxis": "y"
        },
        {
         "hovertemplate": "station_id=24<br>hour=%{x}<br>num_bikes_available=%{y}<extra></extra>",
         "legendgroup": "24",
         "line": {
          "color": "#00cc96",
          "dash": "solid"
         },
         "marker": {
          "symbol": "circle"
         },
         "mode": "lines",
         "name": "24",
         "showlegend": true,
         "type": "scattergl",
         "x": [
          0,
          1,
          4,
          6,
          9,
          10,
          12,
          13,
          14,
          15,
          16,
          17,
          18,
          19,
          20,
          21,
          22,
          23
         ],
         "xaxis": "x",
         "y": [
          24,
          33,
          38,
          38,
          36,
          34,
          33.5,
          27,
          24,
          21,
          16.5,
          14,
          6.5,
          2.5,
          7,
          11,
          15,
          20.5
         ],
         "yaxis": "y"
        },
        {
         "hovertemplate": "station_id=25<br>hour=%{x}<br>num_bikes_available=%{y}<extra></extra>",
         "legendgroup": "25",
         "line": {
          "color": "#ab63fa",
          "dash": "solid"
         },
         "marker": {
          "symbol": "circle"
         },
         "mode": "lines",
         "name": "25",
         "showlegend": true,
         "type": "scattergl",
         "x": [
          0,
          1,
          3,
          4,
          6,
          8,
          10,
          13,
          14,
          15,
          16,
          17,
          18,
          19,
          20,
          21,
          22,
          23
         ],
         "xaxis": "x",
         "y": [
          3,
          1.5,
          4,
          3.5,
          3,
          4.5,
          8,
          12,
          10,
          9,
          4.5,
          5,
          4,
          2,
          1.3333333333333333,
          3.6666666666666665,
          8,
          7
         ],
         "yaxis": "y"
        },
        {
         "hovertemplate": "station_id=26<br>hour=%{x}<br>num_bikes_available=%{y}<extra></extra>",
         "legendgroup": "26",
         "line": {
          "color": "#FFA15A",
          "dash": "solid"
         },
         "marker": {
          "symbol": "circle"
         },
         "mode": "lines",
         "name": "26",
         "showlegend": true,
         "type": "scattergl",
         "x": [
          0,
          1,
          2,
          3,
          5,
          7,
          8,
          9,
          11,
          12,
          13,
          14,
          15,
          17,
          19,
          21,
          23
         ],
         "xaxis": "x",
         "y": [
          7,
          12,
          12,
          11,
          14.333333333333334,
          11,
          10.5,
          9.5,
          4,
          5.5,
          7,
          6,
          8,
          8,
          5,
          14,
          16
         ],
         "yaxis": "y"
        },
        {
         "hovertemplate": "station_id=27<br>hour=%{x}<br>num_bikes_available=%{y}<extra></extra>",
         "legendgroup": "27",
         "line": {
          "color": "#19d3f3",
          "dash": "solid"
         },
         "marker": {
          "symbol": "circle"
         },
         "mode": "lines",
         "name": "27",
         "showlegend": true,
         "type": "scattergl",
         "x": [
          1,
          2,
          4,
          5,
          6,
          7,
          8,
          9,
          10,
          11,
          12,
          13,
          16,
          18,
          19,
          20,
          21,
          23
         ],
         "xaxis": "x",
         "y": [
          2,
          0,
          5.5,
          10.5,
          10.5,
          15.5,
          17,
          15.5,
          11.5,
          12,
          17,
          13.333333333333334,
          9,
          5.333333333333333,
          3,
          3.6666666666666665,
          5,
          2
         ],
         "yaxis": "y"
        },
        {
         "hovertemplate": "station_id=28<br>hour=%{x}<br>num_bikes_available=%{y}<extra></extra>",
         "legendgroup": "28",
         "line": {
          "color": "#FF6692",
          "dash": "solid"
         },
         "marker": {
          "symbol": "circle"
         },
         "mode": "lines",
         "name": "28",
         "showlegend": true,
         "type": "scattergl",
         "x": [
          0,
          3,
          5,
          6,
          7,
          8,
          10,
          11,
          12,
          13,
          14,
          16,
          17,
          19,
          20,
          22,
          23
         ],
         "xaxis": "x",
         "y": [
          4,
          5,
          10,
          13.666666666666666,
          11,
          10,
          8.5,
          2,
          2,
          1,
          1.5,
          3,
          4,
          0,
          7,
          10,
          14
         ],
         "yaxis": "y"
        },
        {
         "hovertemplate": "station_id=29<br>hour=%{x}<br>num_bikes_available=%{y}<extra></extra>",
         "legendgroup": "29",
         "line": {
          "color": "#B6E880",
          "dash": "solid"
         },
         "marker": {
          "symbol": "circle"
         },
         "mode": "lines",
         "name": "29",
         "showlegend": true,
         "type": "scattergl",
         "x": [
          0,
          1,
          2,
          3,
          6,
          7,
          8,
          9,
          10,
          11,
          12,
          15,
          18,
          19,
          20,
          21,
          22,
          23
         ],
         "xaxis": "x",
         "y": [
          11,
          10,
          16,
          17,
          10,
          13.666666666666666,
          18,
          20,
          20,
          20,
          13,
          8,
          0,
          2,
          5,
          15,
          14,
          20.5
         ],
         "yaxis": "y"
        },
        {
         "hovertemplate": "station_id=30<br>hour=%{x}<br>num_bikes_available=%{y}<extra></extra>",
         "legendgroup": "30",
         "line": {
          "color": "#FF97FF",
          "dash": "solid"
         },
         "marker": {
          "symbol": "circle"
         },
         "mode": "lines",
         "name": "30",
         "showlegend": true,
         "type": "scattergl",
         "x": [
          0,
          2,
          3,
          6,
          8,
          9,
          12,
          13,
          16,
          17,
          18,
          21,
          22,
          23
         ],
         "xaxis": "x",
         "y": [
          12,
          18,
          23,
          24,
          21,
          17,
          16,
          16,
          13,
          15.333333333333334,
          14,
          5.5,
          10,
          9
         ],
         "yaxis": "y"
        },
        {
         "hovertemplate": "station_id=31<br>hour=%{x}<br>num_bikes_available=%{y}<extra></extra>",
         "legendgroup": "31",
         "line": {
          "color": "#FECB52",
          "dash": "solid"
         },
         "marker": {
          "symbol": "circle"
         },
         "mode": "lines",
         "name": "31",
         "showlegend": true,
         "type": "scattergl",
         "x": [
          1,
          2,
          4,
          5,
          8,
          9,
          10,
          11,
          12,
          13,
          14,
          15,
          16,
          18,
          19,
          20,
          21,
          23
         ],
         "xaxis": "x",
         "y": [
          1,
          0,
          0.5,
          0,
          13.75,
          16,
          14,
          15,
          14,
          16,
          15,
          14.5,
          14.5,
          16,
          13.666666666666666,
          10,
          9,
          10.25
         ],
         "yaxis": "y"
        },
        {
         "hovertemplate": "station_id=32<br>hour=%{x}<br>num_bikes_available=%{y}<extra></extra>",
         "legendgroup": "32",
         "line": {
          "color": "#636efa",
          "dash": "solid"
         },
         "marker": {
          "symbol": "circle"
         },
         "mode": "lines",
         "name": "32",
         "showlegend": true,
         "type": "scattergl",
         "x": [
          0,
          1,
          2,
          3,
          6,
          7,
          8,
          9,
          10,
          11,
          14,
          15,
          17,
          18,
          20,
          22
         ],
         "xaxis": "x",
         "y": [
          2,
          1,
          1,
          1,
          1,
          2,
          6.333333333333333,
          13.5,
          13,
          12,
          5,
          12.5,
          14,
          14,
          10,
          3
         ],
         "yaxis": "y"
        },
        {
         "hovertemplate": "station_id=33<br>hour=%{x}<br>num_bikes_available=%{y}<extra></extra>",
         "legendgroup": "33",
         "line": {
          "color": "#EF553B",
          "dash": "solid"
         },
         "marker": {
          "symbol": "circle"
         },
         "mode": "lines",
         "name": "33",
         "showlegend": true,
         "type": "scattergl",
         "x": [
          0,
          5,
          6,
          8,
          9,
          10,
          11,
          12,
          14,
          15,
          16,
          18,
          19,
          21,
          22,
          23
         ],
         "xaxis": "x",
         "y": [
          2.5,
          14,
          16,
          14,
          11.5,
          16,
          15.666666666666666,
          17,
          11,
          20,
          18,
          18.5,
          19,
          13,
          16.333333333333332,
          18
         ],
         "yaxis": "y"
        },
        {
         "hovertemplate": "station_id=34<br>hour=%{x}<br>num_bikes_available=%{y}<extra></extra>",
         "legendgroup": "34",
         "line": {
          "color": "#00cc96",
          "dash": "solid"
         },
         "marker": {
          "symbol": "circle"
         },
         "mode": "lines",
         "name": "34",
         "showlegend": true,
         "type": "scattergl",
         "x": [
          1,
          2,
          3,
          4,
          5,
          6,
          8,
          11,
          13,
          14,
          16,
          17,
          18,
          19,
          21
         ],
         "xaxis": "x",
         "y": [
          10,
          9,
          16,
          17,
          18.333333333333332,
          16.666666666666668,
          12,
          14,
          12,
          17.666666666666668,
          14,
          13.5,
          20,
          16.333333333333332,
          17
         ],
         "yaxis": "y"
        },
        {
         "hovertemplate": "station_id=35<br>hour=%{x}<br>num_bikes_available=%{y}<extra></extra>",
         "legendgroup": "35",
         "line": {
          "color": "#ab63fa",
          "dash": "solid"
         },
         "marker": {
          "symbol": "circle"
         },
         "mode": "lines",
         "name": "35",
         "showlegend": true,
         "type": "scattergl",
         "x": [
          0,
          1,
          2,
          3,
          4,
          5,
          6,
          9,
          10,
          11,
          12,
          13,
          14,
          15,
          16,
          17,
          19,
          21,
          22
         ],
         "xaxis": "x",
         "y": [
          17,
          16.5,
          20.2,
          23,
          22,
          22,
          23,
          24.666666666666668,
          22,
          23,
          20,
          23,
          17,
          21,
          20.5,
          25,
          25,
          31.5,
          34
         ],
         "yaxis": "y"
        },
        {
         "hovertemplate": "station_id=36<br>hour=%{x}<br>num_bikes_available=%{y}<extra></extra>",
         "legendgroup": "36",
         "line": {
          "color": "#FFA15A",
          "dash": "solid"
         },
         "marker": {
          "symbol": "circle"
         },
         "mode": "lines",
         "name": "36",
         "showlegend": true,
         "type": "scattergl",
         "x": [
          0,
          1,
          2,
          4,
          5,
          7,
          8,
          9,
          10,
          11,
          12,
          14,
          16,
          17,
          18,
          19,
          20,
          21,
          22
         ],
         "xaxis": "x",
         "y": [
          14.5,
          14,
          13.25,
          16,
          16,
          18,
          17,
          17,
          17.666666666666668,
          19,
          18,
          13,
          6,
          5,
          19,
          15.5,
          12.5,
          18,
          18
         ],
         "yaxis": "y"
        },
        {
         "hovertemplate": "station_id=37<br>hour=%{x}<br>num_bikes_available=%{y}<extra></extra>",
         "legendgroup": "37",
         "line": {
          "color": "#19d3f3",
          "dash": "solid"
         },
         "marker": {
          "symbol": "circle"
         },
         "mode": "lines",
         "name": "37",
         "showlegend": true,
         "type": "scattergl",
         "x": [
          0,
          1,
          3,
          4,
          8,
          9,
          10,
          12,
          14,
          16,
          18,
          19,
          21,
          22,
          23
         ],
         "xaxis": "x",
         "y": [
          14.333333333333334,
          12,
          8,
          7.5,
          15,
          14,
          15.5,
          20,
          21,
          19,
          21,
          22,
          20,
          20,
          17.5
         ],
         "yaxis": "y"
        },
        {
         "hovertemplate": "station_id=39<br>hour=%{x}<br>num_bikes_available=%{y}<extra></extra>",
         "legendgroup": "39",
         "line": {
          "color": "#FF6692",
          "dash": "solid"
         },
         "marker": {
          "symbol": "circle"
         },
         "mode": "lines",
         "name": "39",
         "showlegend": true,
         "type": "scattergl",
         "x": [
          1,
          2,
          3,
          6,
          7,
          8,
          9,
          10,
          13,
          14,
          15,
          16,
          17,
          18,
          20,
          21
         ],
         "xaxis": "x",
         "y": [
          14,
          13,
          18.5,
          21,
          22,
          20.5,
          20.5,
          17,
          40,
          40,
          40,
          39,
          38,
          38,
          6,
          7.75
         ],
         "yaxis": "y"
        },
        {
         "hovertemplate": "station_id=40<br>hour=%{x}<br>num_bikes_available=%{y}<extra></extra>",
         "legendgroup": "40",
         "line": {
          "color": "#B6E880",
          "dash": "solid"
         },
         "marker": {
          "symbol": "circle"
         },
         "mode": "lines",
         "name": "40",
         "showlegend": true,
         "type": "scattergl",
         "x": [
          0,
          1,
          2,
          3,
          6,
          7,
          8,
          10,
          11,
          12,
          13,
          16,
          18,
          20,
          21,
          22,
          23
         ],
         "xaxis": "x",
         "y": [
          12.5,
          15,
          16.333333333333332,
          16,
          18,
          17,
          17.5,
          17,
          16,
          13,
          15,
          16,
          16,
          16.5,
          15.5,
          14,
          11
         ],
         "yaxis": "y"
        },
        {
         "hovertemplate": "station_id=41<br>hour=%{x}<br>num_bikes_available=%{y}<extra></extra>",
         "legendgroup": "41",
         "line": {
          "color": "#FF97FF",
          "dash": "solid"
         },
         "marker": {
          "symbol": "circle"
         },
         "mode": "lines",
         "name": "41",
         "showlegend": true,
         "type": "scattergl",
         "x": [
          0,
          1,
          2,
          3,
          4,
          5,
          6,
          9,
          10,
          11,
          12,
          15,
          16,
          17,
          18,
          19,
          20,
          21,
          23
         ],
         "xaxis": "x",
         "y": [
          20.5,
          22,
          22,
          13,
          13,
          15,
          17,
          8,
          9,
          10,
          14,
          24,
          24,
          24,
          24,
          23.5,
          23,
          23,
          20
         ],
         "yaxis": "y"
        },
        {
         "hovertemplate": "station_id=42<br>hour=%{x}<br>num_bikes_available=%{y}<extra></extra>",
         "legendgroup": "42",
         "line": {
          "color": "#FECB52",
          "dash": "solid"
         },
         "marker": {
          "symbol": "circle"
         },
         "mode": "lines",
         "name": "42",
         "showlegend": true,
         "type": "scattergl",
         "x": [
          1,
          3,
          9,
          10,
          12,
          13,
          14,
          15,
          16,
          17,
          19,
          21,
          22,
          23
         ],
         "xaxis": "x",
         "y": [
          4.75,
          3,
          20,
          15,
          20,
          5.5,
          8,
          13,
          19,
          19,
          11,
          8,
          4,
          0
         ],
         "yaxis": "y"
        },
        {
         "hovertemplate": "station_id=43<br>hour=%{x}<br>num_bikes_available=%{y}<extra></extra>",
         "legendgroup": "43",
         "line": {
          "color": "#636efa",
          "dash": "solid"
         },
         "marker": {
          "symbol": "circle"
         },
         "mode": "lines",
         "name": "43",
         "showlegend": true,
         "type": "scattergl",
         "x": [
          1,
          2,
          3,
          4,
          5,
          6,
          7,
          8,
          9,
          10,
          11,
          12,
          13,
          14,
          15,
          16,
          18,
          20,
          22,
          23
         ],
         "xaxis": "x",
         "y": [
          3,
          7,
          16,
          13,
          14,
          15.5,
          22,
          20.5,
          12,
          18,
          17,
          19,
          23.5,
          19.5,
          20,
          23,
          11,
          9,
          13,
          15
         ],
         "yaxis": "y"
        },
        {
         "hovertemplate": "station_id=45<br>hour=%{x}<br>num_bikes_available=%{y}<extra></extra>",
         "legendgroup": "45",
         "line": {
          "color": "#EF553B",
          "dash": "solid"
         },
         "marker": {
          "symbol": "circle"
         },
         "mode": "lines",
         "name": "45",
         "showlegend": true,
         "type": "scattergl",
         "x": [
          1,
          4,
          5,
          6,
          7,
          8,
          10,
          11,
          12,
          13,
          15,
          16,
          18,
          19,
          20,
          21,
          23
         ],
         "xaxis": "x",
         "y": [
          14,
          17.5,
          17,
          14,
          14,
          14,
          15,
          14.5,
          16,
          13.333333333333334,
          17,
          19,
          16.5,
          17.5,
          20,
          21,
          16.5
         ],
         "yaxis": "y"
        },
        {
         "hovertemplate": "station_id=46<br>hour=%{x}<br>num_bikes_available=%{y}<extra></extra>",
         "legendgroup": "46",
         "line": {
          "color": "#00cc96",
          "dash": "solid"
         },
         "marker": {
          "symbol": "circle"
         },
         "mode": "lines",
         "name": "46",
         "showlegend": true,
         "type": "scattergl",
         "x": [
          0,
          1,
          2,
          3,
          4,
          5,
          6,
          10,
          11,
          12,
          13,
          15,
          17,
          18,
          19,
          20,
          21,
          22
         ],
         "xaxis": "x",
         "y": [
          47,
          44,
          42.5,
          41.5,
          41,
          40.333333333333336,
          41,
          40,
          41,
          40,
          39,
          40,
          40.666666666666664,
          39,
          39,
          39,
          39,
          39
         ],
         "yaxis": "y"
        },
        {
         "hovertemplate": "station_id=47<br>hour=%{x}<br>num_bikes_available=%{y}<extra></extra>",
         "legendgroup": "47",
         "line": {
          "color": "#ab63fa",
          "dash": "solid"
         },
         "marker": {
          "symbol": "circle"
         },
         "mode": "lines",
         "name": "47",
         "showlegend": true,
         "type": "scattergl",
         "x": [
          0,
          1,
          2,
          3,
          4,
          6,
          7,
          8,
          10,
          12,
          15,
          17,
          19,
          22,
          23
         ],
         "xaxis": "x",
         "y": [
          40,
          40,
          39,
          39,
          39,
          39,
          39,
          39,
          40,
          39,
          39,
          39,
          41,
          39.333333333333336,
          39
         ],
         "yaxis": "y"
        },
        {
         "hovertemplate": "station_id=48<br>hour=%{x}<br>num_bikes_available=%{y}<extra></extra>",
         "legendgroup": "48",
         "line": {
          "color": "#FFA15A",
          "dash": "solid"
         },
         "marker": {
          "symbol": "circle"
         },
         "mode": "lines",
         "name": "48",
         "showlegend": true,
         "type": "scattergl",
         "x": [
          0,
          1,
          2,
          3,
          6,
          7,
          8,
          11,
          12,
          13,
          14,
          15,
          16,
          17,
          21,
          22,
          23
         ],
         "xaxis": "x",
         "y": [
          14,
          16,
          13,
          10,
          7,
          2,
          1,
          6,
          7,
          4,
          1.5,
          3.5,
          1,
          3.5,
          5.5,
          7.5,
          7.5
         ],
         "yaxis": "y"
        },
        {
         "hovertemplate": "station_id=49<br>hour=%{x}<br>num_bikes_available=%{y}<extra></extra>",
         "legendgroup": "49",
         "line": {
          "color": "#19d3f3",
          "dash": "solid"
         },
         "marker": {
          "symbol": "circle"
         },
         "mode": "lines",
         "name": "49",
         "showlegend": true,
         "type": "scattergl",
         "x": [
          0,
          2,
          3,
          4,
          6,
          9,
          10,
          11,
          15,
          17,
          18,
          20,
          23
         ],
         "xaxis": "x",
         "y": [
          7,
          6.5,
          8,
          8,
          8,
          13,
          11,
          13.666666666666666,
          10,
          17,
          16.5,
          14.666666666666666,
          7
         ],
         "yaxis": "y"
        },
        {
         "hovertemplate": "station_id=50<br>hour=%{x}<br>num_bikes_available=%{y}<extra></extra>",
         "legendgroup": "50",
         "line": {
          "color": "#FF6692",
          "dash": "solid"
         },
         "marker": {
          "symbol": "circle"
         },
         "mode": "lines",
         "name": "50",
         "showlegend": true,
         "type": "scattergl",
         "x": [
          0,
          1,
          2,
          3,
          4,
          5,
          7,
          8,
          9,
          10,
          11,
          12,
          13,
          15,
          16,
          17,
          18,
          19,
          22,
          23
         ],
         "xaxis": "x",
         "y": [
          13,
          14,
          13,
          9,
          14,
          2,
          2,
          2,
          4,
          4,
          6,
          5.333333333333333,
          5,
          12,
          9,
          13.666666666666666,
          13,
          11.5,
          12,
          11
         ],
         "yaxis": "y"
        },
        {
         "hovertemplate": "station_id=51<br>hour=%{x}<br>num_bikes_available=%{y}<extra></extra>",
         "legendgroup": "51",
         "line": {
          "color": "#B6E880",
          "dash": "solid"
         },
         "marker": {
          "symbol": "circle"
         },
         "mode": "lines",
         "name": "51",
         "showlegend": true,
         "type": "scattergl",
         "x": [
          0,
          2,
          4,
          5,
          7,
          8,
          9,
          10,
          11,
          12,
          13,
          14,
          15,
          16,
          18,
          21,
          22,
          23
         ],
         "xaxis": "x",
         "y": [
          11,
          11,
          10,
          12,
          14.75,
          14,
          14,
          14,
          14,
          17,
          16.5,
          15,
          13,
          16,
          16,
          16,
          16,
          16
         ],
         "yaxis": "y"
        },
        {
         "hovertemplate": "station_id=52<br>hour=%{x}<br>num_bikes_available=%{y}<extra></extra>",
         "legendgroup": "52",
         "line": {
          "color": "#FF97FF",
          "dash": "solid"
         },
         "marker": {
          "symbol": "circle"
         },
         "mode": "lines",
         "name": "52",
         "showlegend": true,
         "type": "scattergl",
         "x": [
          0,
          3,
          4,
          5,
          6,
          7,
          8,
          9,
          10,
          12,
          13,
          14,
          15,
          16,
          17,
          18,
          19,
          21,
          22,
          23
         ],
         "xaxis": "x",
         "y": [
          19,
          15.5,
          17,
          16.5,
          18,
          16,
          12,
          11.5,
          12,
          19,
          20,
          26.666666666666668,
          28,
          28,
          25,
          27,
          29,
          25,
          24,
          26
         ],
         "yaxis": "y"
        },
        {
         "hovertemplate": "station_id=53<br>hour=%{x}<br>num_bikes_available=%{y}<extra></extra>",
         "legendgroup": "53",
         "line": {
          "color": "#FECB52",
          "dash": "solid"
         },
         "marker": {
          "symbol": "circle"
         },
         "mode": "lines",
         "name": "53",
         "showlegend": true,
         "type": "scattergl",
         "x": [
          0,
          1,
          2,
          4,
          5,
          6,
          7,
          8,
          10,
          11,
          12,
          13,
          15,
          16,
          17,
          18,
          19,
          21,
          22,
          23
         ],
         "xaxis": "x",
         "y": [
          17.5,
          18,
          16,
          17,
          16,
          19,
          19.5,
          21,
          20,
          21,
          20.5,
          17,
          17,
          19,
          18.5,
          19.5,
          18,
          16,
          16,
          13
         ],
         "yaxis": "y"
        },
        {
         "hovertemplate": "station_id=54<br>hour=%{x}<br>num_bikes_available=%{y}<extra></extra>",
         "legendgroup": "54",
         "line": {
          "color": "#636efa",
          "dash": "solid"
         },
         "marker": {
          "symbol": "circle"
         },
         "mode": "lines",
         "name": "54",
         "showlegend": true,
         "type": "scattergl",
         "x": [
          3,
          4,
          5,
          7,
          8,
          9,
          10,
          11,
          12,
          13,
          14,
          17,
          18,
          19,
          20,
          21
         ],
         "xaxis": "x",
         "y": [
          16,
          16,
          16,
          16,
          16,
          17,
          16.5,
          17,
          16,
          16,
          13,
          14,
          15,
          14,
          16,
          17
         ],
         "yaxis": "y"
        },
        {
         "hovertemplate": "station_id=56<br>hour=%{x}<br>num_bikes_available=%{y}<extra></extra>",
         "legendgroup": "56",
         "line": {
          "color": "#EF553B",
          "dash": "solid"
         },
         "marker": {
          "symbol": "circle"
         },
         "mode": "lines",
         "name": "56",
         "showlegend": true,
         "type": "scattergl",
         "x": [
          2,
          3,
          4,
          5,
          6,
          7,
          8,
          9,
          10,
          12,
          13,
          14,
          15,
          16,
          17,
          18,
          19,
          20,
          21,
          22
         ],
         "xaxis": "x",
         "y": [
          4,
          7,
          7,
          6.333333333333333,
          6,
          5,
          4,
          4,
          4,
          5,
          7,
          10.5,
          14,
          7,
          11,
          20,
          14.5,
          8,
          11.5,
          16
         ],
         "yaxis": "y"
        },
        {
         "hovertemplate": "station_id=57<br>hour=%{x}<br>num_bikes_available=%{y}<extra></extra>",
         "legendgroup": "57",
         "line": {
          "color": "#00cc96",
          "dash": "solid"
         },
         "marker": {
          "symbol": "circle"
         },
         "mode": "lines",
         "name": "57",
         "showlegend": true,
         "type": "scattergl",
         "x": [
          2,
          3,
          4,
          5,
          7,
          8,
          9,
          10,
          11,
          14,
          15,
          16,
          17,
          18,
          19,
          22,
          23
         ],
         "xaxis": "x",
         "y": [
          17.5,
          18,
          18.5,
          20,
          16,
          16,
          14,
          13,
          12.5,
          18.25,
          20,
          19.666666666666668,
          20,
          17,
          16,
          10.333333333333334,
          9
         ],
         "yaxis": "y"
        },
        {
         "hovertemplate": "station_id=58<br>hour=%{x}<br>num_bikes_available=%{y}<extra></extra>",
         "legendgroup": "58",
         "line": {
          "color": "#ab63fa",
          "dash": "solid"
         },
         "marker": {
          "symbol": "circle"
         },
         "mode": "lines",
         "name": "58",
         "showlegend": true,
         "type": "scattergl",
         "x": [
          0,
          2,
          3,
          4,
          5,
          6,
          7,
          8,
          10,
          11,
          12,
          15,
          16,
          18,
          20,
          21,
          22,
          23
         ],
         "xaxis": "x",
         "y": [
          35,
          37,
          19,
          19,
          21,
          24,
          20,
          20,
          23.5,
          20,
          21,
          31,
          34,
          36,
          21.5,
          25,
          29,
          27
         ],
         "yaxis": "y"
        },
        {
         "hovertemplate": "station_id=60<br>hour=%{x}<br>num_bikes_available=%{y}<extra></extra>",
         "legendgroup": "60",
         "line": {
          "color": "#FFA15A",
          "dash": "solid"
         },
         "marker": {
          "symbol": "circle"
         },
         "mode": "lines",
         "name": "60",
         "showlegend": true,
         "type": "scattergl",
         "x": [
          0,
          1,
          4,
          6,
          7,
          9,
          11,
          13,
          15,
          17,
          18,
          19,
          21,
          23
         ],
         "xaxis": "x",
         "y": [
          5,
          1.5,
          12,
          11.5,
          14,
          15.25,
          16,
          25,
          24.5,
          16,
          21,
          14.5,
          8,
          2
         ],
         "yaxis": "y"
        },
        {
         "hovertemplate": "station_id=61<br>hour=%{x}<br>num_bikes_available=%{y}<extra></extra>",
         "legendgroup": "61",
         "line": {
          "color": "#19d3f3",
          "dash": "solid"
         },
         "marker": {
          "symbol": "circle"
         },
         "mode": "lines",
         "name": "61",
         "showlegend": true,
         "type": "scattergl",
         "x": [
          0,
          2,
          3,
          4,
          5,
          6,
          7,
          8,
          9,
          11,
          13,
          14,
          15,
          16,
          18,
          20,
          21,
          22
         ],
         "xaxis": "x",
         "y": [
          0,
          1,
          1,
          8,
          8.25,
          5.5,
          3,
          6,
          11,
          15.5,
          19,
          18,
          14,
          11,
          6.333333333333333,
          2,
          5,
          0
         ],
         "yaxis": "y"
        },
        {
         "hovertemplate": "station_id=62<br>hour=%{x}<br>num_bikes_available=%{y}<extra></extra>",
         "legendgroup": "62",
         "line": {
          "color": "#FF6692",
          "dash": "solid"
         },
         "marker": {
          "symbol": "circle"
         },
         "mode": "lines",
         "name": "62",
         "showlegend": true,
         "type": "scattergl",
         "x": [
          0,
          1,
          4,
          5,
          6,
          7,
          9,
          10,
          11,
          12,
          13,
          14,
          15,
          17,
          18,
          21,
          22
         ],
         "xaxis": "x",
         "y": [
          11,
          6,
          5,
          5,
          5.5,
          7,
          10,
          10,
          13.333333333333334,
          17,
          18.5,
          20,
          20,
          20,
          20,
          15.666666666666666,
          13
         ],
         "yaxis": "y"
        },
        {
         "hovertemplate": "station_id=63<br>hour=%{x}<br>num_bikes_available=%{y}<extra></extra>",
         "legendgroup": "63",
         "line": {
          "color": "#B6E880",
          "dash": "solid"
         },
         "marker": {
          "symbol": "circle"
         },
         "mode": "lines",
         "name": "63",
         "showlegend": true,
         "type": "scattergl",
         "x": [
          1,
          2,
          3,
          4,
          6,
          7,
          10,
          11,
          13,
          14,
          15,
          16,
          17,
          18,
          19,
          21,
          22,
          23
         ],
         "xaxis": "x",
         "y": [
          17,
          17.5,
          13,
          13,
          13,
          13,
          18,
          21.5,
          21,
          23,
          25.666666666666668,
          26,
          25,
          20.5,
          27,
          17,
          9,
          5
         ],
         "yaxis": "y"
        },
        {
         "hovertemplate": "station_id=64<br>hour=%{x}<br>num_bikes_available=%{y}<extra></extra>",
         "legendgroup": "64",
         "line": {
          "color": "#FF97FF",
          "dash": "solid"
         },
         "marker": {
          "symbol": "circle"
         },
         "mode": "lines",
         "name": "64",
         "showlegend": true,
         "type": "scattergl",
         "x": [
          0,
          2,
          3,
          4,
          5,
          7,
          8,
          9,
          10,
          12,
          13,
          15,
          20,
          21
         ],
         "xaxis": "x",
         "y": [
          5,
          1,
          0,
          2,
          1,
          1,
          7.5,
          8,
          8,
          12,
          17,
          19,
          15.5,
          9.666666666666666
         ],
         "yaxis": "y"
        },
        {
         "hovertemplate": "station_id=65<br>hour=%{x}<br>num_bikes_available=%{y}<extra></extra>",
         "legendgroup": "65",
         "line": {
          "color": "#FECB52",
          "dash": "solid"
         },
         "marker": {
          "symbol": "circle"
         },
         "mode": "lines",
         "name": "65",
         "showlegend": true,
         "type": "scattergl",
         "x": [
          0,
          2,
          4,
          6,
          8,
          9,
          10,
          11,
          12,
          13,
          15,
          16,
          18,
          19,
          22,
          23
         ],
         "xaxis": "x",
         "y": [
          11,
          11,
          8.5,
          8,
          19,
          19,
          4.333333333333333,
          8,
          17.666666666666668,
          17,
          19,
          19,
          13.5,
          12,
          3,
          7
         ],
         "yaxis": "y"
        },
        {
         "hovertemplate": "station_id=66<br>hour=%{x}<br>num_bikes_available=%{y}<extra></extra>",
         "legendgroup": "66",
         "line": {
          "color": "#636efa",
          "dash": "solid"
         },
         "marker": {
          "symbol": "circle"
         },
         "mode": "lines",
         "name": "66",
         "showlegend": true,
         "type": "scattergl",
         "x": [
          0,
          1,
          2,
          3,
          5,
          9,
          10,
          11,
          14,
          15,
          16,
          17
         ],
         "xaxis": "x",
         "y": [
          5,
          2,
          2,
          2,
          3,
          8.5,
          9,
          12,
          15,
          15,
          13.666666666666666,
          13
         ],
         "yaxis": "y"
        },
        {
         "hovertemplate": "station_id=67<br>hour=%{x}<br>num_bikes_available=%{y}<extra></extra>",
         "legendgroup": "67",
         "line": {
          "color": "#EF553B",
          "dash": "solid"
         },
         "marker": {
          "symbol": "circle"
         },
         "mode": "lines",
         "name": "67",
         "showlegend": true,
         "type": "scattergl",
         "x": [
          0,
          1,
          2,
          3,
          4,
          5,
          6,
          7,
          9,
          10,
          11,
          12,
          13,
          14,
          15,
          17,
          18,
          19,
          21,
          22,
          23
         ],
         "xaxis": "x",
         "y": [
          17,
          19,
          15,
          8,
          6.5,
          0,
          2,
          2.5,
          4.5,
          3,
          5,
          2.5,
          1,
          2,
          0,
          3,
          1,
          1,
          4,
          5.5,
          15
         ],
         "yaxis": "y"
        },
        {
         "hovertemplate": "station_id=68<br>hour=%{x}<br>num_bikes_available=%{y}<extra></extra>",
         "legendgroup": "68",
         "line": {
          "color": "#00cc96",
          "dash": "solid"
         },
         "marker": {
          "symbol": "circle"
         },
         "mode": "lines",
         "name": "68",
         "showlegend": true,
         "type": "scattergl",
         "x": [
          3,
          4,
          5,
          6,
          7,
          9,
          12,
          16,
          19,
          20,
          21,
          22
         ],
         "xaxis": "x",
         "y": [
          8,
          6.5,
          7,
          6.5,
          8,
          9,
          7,
          1.5,
          2.5,
          3,
          6,
          3.5
         ],
         "yaxis": "y"
        },
        {
         "hovertemplate": "station_id=69<br>hour=%{x}<br>num_bikes_available=%{y}<extra></extra>",
         "legendgroup": "69",
         "line": {
          "color": "#ab63fa",
          "dash": "solid"
         },
         "marker": {
          "symbol": "circle"
         },
         "mode": "lines",
         "name": "69",
         "showlegend": true,
         "type": "scattergl",
         "x": [
          0,
          1,
          3,
          4,
          5,
          6,
          7,
          8,
          9,
          10,
          11,
          12,
          13,
          15,
          16,
          17,
          18,
          19,
          20,
          21
         ],
         "xaxis": "x",
         "y": [
          9.75,
          7,
          7,
          5,
          3.3333333333333335,
          1,
          0,
          0,
          1.5,
          2,
          4,
          4,
          9,
          13,
          17,
          17,
          20,
          22,
          23,
          21
         ],
         "yaxis": "y"
        },
        {
         "hovertemplate": "station_id=70<br>hour=%{x}<br>num_bikes_available=%{y}<extra></extra>",
         "legendgroup": "70",
         "line": {
          "color": "#FFA15A",
          "dash": "solid"
         },
         "marker": {
          "symbol": "circle"
         },
         "mode": "lines",
         "name": "70",
         "showlegend": true,
         "type": "scattergl",
         "x": [
          1,
          2,
          4,
          5,
          6,
          7,
          10,
          11,
          12,
          13,
          14,
          15,
          18,
          20,
          22,
          23
         ],
         "xaxis": "x",
         "y": [
          14,
          19,
          22,
          22,
          20,
          19.5,
          12,
          12,
          10.5,
          9,
          11,
          15.25,
          6,
          0,
          13,
          12
         ],
         "yaxis": "y"
        },
        {
         "hovertemplate": "station_id=71<br>hour=%{x}<br>num_bikes_available=%{y}<extra></extra>",
         "legendgroup": "71",
         "line": {
          "color": "#19d3f3",
          "dash": "solid"
         },
         "marker": {
          "symbol": "circle"
         },
         "mode": "lines",
         "name": "71",
         "showlegend": true,
         "type": "scattergl",
         "x": [
          1,
          3,
          4,
          5,
          6,
          7,
          11,
          12,
          14,
          15,
          17,
          18,
          19,
          20,
          23
         ],
         "xaxis": "x",
         "y": [
          16,
          14,
          16.5,
          16.5,
          16,
          15,
          10,
          9,
          4,
          10.333333333333334,
          11,
          8,
          14,
          11.5,
          13
         ],
         "yaxis": "y"
        },
        {
         "hovertemplate": "station_id=72<br>hour=%{x}<br>num_bikes_available=%{y}<extra></extra>",
         "legendgroup": "72",
         "line": {
          "color": "#FF6692",
          "dash": "solid"
         },
         "marker": {
          "symbol": "circle"
         },
         "mode": "lines",
         "name": "72",
         "showlegend": true,
         "type": "scattergl",
         "x": [
          0,
          1,
          2,
          3,
          4,
          5,
          6,
          7,
          8,
          9,
          10,
          11,
          12,
          14,
          16,
          19,
          20,
          21,
          22
         ],
         "xaxis": "x",
         "y": [
          21,
          8,
          7.5,
          7,
          6,
          7,
          4,
          4.75,
          3,
          21,
          20,
          20,
          15,
          9,
          11.5,
          4,
          10,
          12,
          13
         ],
         "yaxis": "y"
        },
        {
         "hovertemplate": "station_id=73<br>hour=%{x}<br>num_bikes_available=%{y}<extra></extra>",
         "legendgroup": "73",
         "line": {
          "color": "#B6E880",
          "dash": "solid"
         },
         "marker": {
          "symbol": "circle"
         },
         "mode": "lines",
         "name": "73",
         "showlegend": true,
         "type": "scattergl",
         "x": [
          0,
          1,
          3,
          4,
          5,
          6,
          7,
          8,
          9,
          10,
          12,
          13,
          14,
          16,
          17,
          18,
          20,
          21,
          22
         ],
         "xaxis": "x",
         "y": [
          4.5,
          0,
          0,
          2.3333333333333335,
          8,
          3.5,
          4.5,
          4,
          3,
          3,
          5,
          11.5,
          18,
          9,
          2,
          4.333333333333333,
          13,
          19,
          14.5
         ],
         "yaxis": "y"
        },
        {
         "hovertemplate": "station_id=74<br>hour=%{x}<br>num_bikes_available=%{y}<extra></extra>",
         "legendgroup": "74",
         "line": {
          "color": "#FF97FF",
          "dash": "solid"
         },
         "marker": {
          "symbol": "circle"
         },
         "mode": "lines",
         "name": "74",
         "showlegend": true,
         "type": "scattergl",
         "x": [
          2,
          3,
          4,
          5,
          7,
          8,
          10,
          11,
          13,
          14,
          15,
          16,
          18,
          19,
          20,
          21
         ],
         "xaxis": "x",
         "y": [
          11,
          11,
          10,
          9.666666666666666,
          5,
          5,
          3,
          1,
          2,
          3.6666666666666665,
          4.5,
          1,
          1,
          4,
          2,
          0
         ],
         "yaxis": "y"
        },
        {
         "hovertemplate": "station_id=75<br>hour=%{x}<br>num_bikes_available=%{y}<extra></extra>",
         "legendgroup": "75",
         "line": {
          "color": "#FECB52",
          "dash": "solid"
         },
         "marker": {
          "symbol": "circle"
         },
         "mode": "lines",
         "name": "75",
         "showlegend": true,
         "type": "scattergl",
         "x": [
          1,
          3,
          4,
          5,
          6,
          8,
          9,
          10,
          11,
          14,
          15,
          16,
          17,
          19,
          20,
          22,
          23
         ],
         "xaxis": "x",
         "y": [
          20,
          9,
          3,
          3,
          3.5,
          1,
          2,
          0,
          1,
          2.3333333333333335,
          1,
          1,
          0,
          0,
          1.5,
          1.5,
          3
         ],
         "yaxis": "y"
        },
        {
         "hovertemplate": "station_id=76<br>hour=%{x}<br>num_bikes_available=%{y}<extra></extra>",
         "legendgroup": "76",
         "line": {
          "color": "#636efa",
          "dash": "solid"
         },
         "marker": {
          "symbol": "circle"
         },
         "mode": "lines",
         "name": "76",
         "showlegend": true,
         "type": "scattergl",
         "x": [
          0,
          1,
          2,
          3,
          4,
          5,
          6,
          7,
          12,
          14,
          16,
          17,
          18,
          20,
          21,
          22,
          23
         ],
         "xaxis": "x",
         "y": [
          10.333333333333334,
          8,
          11,
          13,
          11,
          4.666666666666667,
          4,
          5,
          1,
          11,
          9,
          1.5,
          1,
          1,
          2,
          13,
          13
         ],
         "yaxis": "y"
        },
        {
         "hovertemplate": "station_id=77<br>hour=%{x}<br>num_bikes_available=%{y}<extra></extra>",
         "legendgroup": "77",
         "line": {
          "color": "#EF553B",
          "dash": "solid"
         },
         "marker": {
          "symbol": "circle"
         },
         "mode": "lines",
         "name": "77",
         "showlegend": true,
         "type": "scattergl",
         "x": [
          0,
          1,
          3,
          4,
          5,
          7,
          8,
          9,
          12,
          13,
          16,
          18,
          21,
          22,
          23
         ],
         "xaxis": "x",
         "y": [
          10,
          11,
          9,
          7,
          9,
          9,
          11,
          12,
          19,
          21,
          19,
          20,
          20,
          20.666666666666668,
          21
         ],
         "yaxis": "y"
        },
        {
         "hovertemplate": "station_id=78<br>hour=%{x}<br>num_bikes_available=%{y}<extra></extra>",
         "legendgroup": "78",
         "line": {
          "color": "#00cc96",
          "dash": "solid"
         },
         "marker": {
          "symbol": "circle"
         },
         "mode": "lines",
         "name": "78",
         "showlegend": true,
         "type": "scattergl",
         "x": [
          0,
          1,
          2,
          3,
          5,
          6,
          7,
          9,
          10,
          13,
          15,
          16,
          18,
          19,
          23
         ],
         "xaxis": "x",
         "y": [
          13,
          9.666666666666666,
          9,
          6,
          4,
          3,
          3,
          1.6666666666666667,
          2.25,
          3,
          5.5,
          12,
          20,
          20.666666666666668,
          9.333333333333334
         ],
         "yaxis": "y"
        },
        {
         "hovertemplate": "station_id=79<br>hour=%{x}<br>num_bikes_available=%{y}<extra></extra>",
         "legendgroup": "79",
         "line": {
          "color": "#ab63fa",
          "dash": "solid"
         },
         "marker": {
          "symbol": "circle"
         },
         "mode": "lines",
         "name": "79",
         "showlegend": true,
         "type": "scattergl",
         "x": [
          0,
          1,
          3,
          4,
          5,
          6,
          8,
          9,
          11,
          12,
          13,
          15,
          16,
          17,
          18,
          20,
          21,
          22,
          23
         ],
         "xaxis": "x",
         "y": [
          8,
          3,
          1,
          4,
          7,
          3.5,
          1.5,
          3,
          3,
          5.5,
          4,
          8,
          21,
          22,
          23,
          6,
          11,
          19,
          13.5
         ],
         "yaxis": "y"
        },
        {
         "hovertemplate": "station_id=80<br>hour=%{x}<br>num_bikes_available=%{y}<extra></extra>",
         "legendgroup": "80",
         "line": {
          "color": "#FFA15A",
          "dash": "solid"
         },
         "marker": {
          "symbol": "circle"
         },
         "mode": "lines",
         "name": "80",
         "showlegend": true,
         "type": "scattergl",
         "x": [
          0,
          1,
          3,
          4,
          6,
          7,
          8,
          9,
          10,
          13,
          14,
          15,
          16,
          17,
          18,
          19,
          20
         ],
         "xaxis": "x",
         "y": [
          4,
          2.3333333333333335,
          0,
          1,
          0,
          0.6666666666666666,
          2,
          1,
          0.6666666666666666,
          9.5,
          9,
          6,
          5,
          4,
          3,
          12,
          12.5
         ],
         "yaxis": "y"
        },
        {
         "hovertemplate": "station_id=81<br>hour=%{x}<br>num_bikes_available=%{y}<extra></extra>",
         "legendgroup": "81",
         "line": {
          "color": "#19d3f3",
          "dash": "solid"
         },
         "marker": {
          "symbol": "circle"
         },
         "mode": "lines",
         "name": "81",
         "showlegend": true,
         "type": "scattergl",
         "x": [
          0,
          1,
          2,
          3,
          4,
          6,
          7,
          8,
          9,
          12,
          13,
          14,
          15,
          20,
          21,
          22,
          23
         ],
         "xaxis": "x",
         "y": [
          19,
          19,
          19,
          7,
          4,
          0,
          0,
          1,
          1,
          5.5,
          3,
          4,
          3,
          1,
          1,
          6,
          9
         ],
         "yaxis": "y"
        },
        {
         "hovertemplate": "station_id=82<br>hour=%{x}<br>num_bikes_available=%{y}<extra></extra>",
         "legendgroup": "82",
         "line": {
          "color": "#FF6692",
          "dash": "solid"
         },
         "marker": {
          "symbol": "circle"
         },
         "mode": "lines",
         "name": "82",
         "showlegend": true,
         "type": "scattergl",
         "x": [
          0,
          1,
          3,
          4,
          5,
          6,
          7,
          9,
          10,
          11,
          12,
          13,
          14,
          15,
          16,
          17,
          18,
          19,
          20,
          21,
          22,
          23
         ],
         "xaxis": "x",
         "y": [
          12.333333333333334,
          11,
          14.5,
          15,
          19.5,
          20,
          18,
          18,
          18,
          12.5,
          14,
          10,
          12.333333333333334,
          8,
          4,
          2.5,
          3,
          5,
          11.5,
          16,
          20.5,
          21
         ],
         "yaxis": "y"
        },
        {
         "hovertemplate": "station_id=83<br>hour=%{x}<br>num_bikes_available=%{y}<extra></extra>",
         "legendgroup": "83",
         "line": {
          "color": "#B6E880",
          "dash": "solid"
         },
         "marker": {
          "symbol": "circle"
         },
         "mode": "lines",
         "name": "83",
         "showlegend": true,
         "type": "scattergl",
         "x": [
          0,
          1,
          2,
          3,
          4,
          5,
          6,
          8,
          10,
          11,
          12,
          13,
          14,
          15,
          16,
          17,
          19,
          20,
          21,
          22,
          23
         ],
         "xaxis": "x",
         "y": [
          10,
          13.5,
          13,
          18,
          19,
          19,
          14.75,
          11,
          1,
          3,
          2,
          5,
          2,
          3,
          3,
          0,
          2,
          5,
          8.5,
          17,
          21
         ],
         "yaxis": "y"
        },
        {
         "hovertemplate": "station_id=84<br>hour=%{x}<br>num_bikes_available=%{y}<extra></extra>",
         "legendgroup": "84",
         "line": {
          "color": "#FF97FF",
          "dash": "solid"
         },
         "marker": {
          "symbol": "circle"
         },
         "mode": "lines",
         "name": "84",
         "showlegend": true,
         "type": "scattergl",
         "x": [
          1,
          3,
          4,
          6,
          7,
          8,
          9,
          10,
          13,
          14,
          15,
          16,
          17,
          18,
          20,
          21,
          22,
          23
         ],
         "xaxis": "x",
         "y": [
          13,
          13,
          20,
          20,
          17.5,
          16.5,
          11,
          12,
          9,
          5,
          7,
          12,
          12,
          9.25,
          9.5,
          13,
          12,
          11.5
         ],
         "yaxis": "y"
        },
        {
         "hovertemplate": "station_id=85<br>hour=%{x}<br>num_bikes_available=%{y}<extra></extra>",
         "legendgroup": "85",
         "line": {
          "color": "#FECB52",
          "dash": "solid"
         },
         "marker": {
          "symbol": "circle"
         },
         "mode": "lines",
         "name": "85",
         "showlegend": true,
         "type": "scattergl",
         "x": [
          0,
          2,
          4,
          5,
          6,
          7,
          11,
          12,
          14,
          16,
          19,
          20,
          21,
          22
         ],
         "xaxis": "x",
         "y": [
          37,
          40,
          33,
          32,
          30.75,
          27,
          15,
          7.5,
          10,
          14,
          20,
          19,
          20,
          33
         ],
         "yaxis": "y"
        },
        {
         "hovertemplate": "station_id=86<br>hour=%{x}<br>num_bikes_available=%{y}<extra></extra>",
         "legendgroup": "86",
         "line": {
          "color": "#636efa",
          "dash": "solid"
         },
         "marker": {
          "symbol": "circle"
         },
         "mode": "lines",
         "name": "86",
         "showlegend": true,
         "type": "scattergl",
         "x": [
          1,
          2,
          3,
          5,
          7,
          8,
          11,
          12,
          13,
          14,
          15,
          16,
          17,
          18,
          19,
          21,
          22
         ],
         "xaxis": "x",
         "y": [
          26,
          24,
          23.5,
          25,
          24,
          22.5,
          13,
          9,
          12,
          16,
          7,
          10.5,
          13.5,
          16,
          17.5,
          25,
          26
         ],
         "yaxis": "y"
        },
        {
         "hovertemplate": "station_id=87<br>hour=%{x}<br>num_bikes_available=%{y}<extra></extra>",
         "legendgroup": "87",
         "line": {
          "color": "#EF553B",
          "dash": "solid"
         },
         "marker": {
          "symbol": "circle"
         },
         "mode": "lines",
         "name": "87",
         "showlegend": true,
         "type": "scattergl",
         "x": [
          0,
          3,
          5,
          6,
          7,
          8,
          9,
          10,
          11,
          12,
          14,
          15,
          16,
          17,
          18,
          19,
          22
         ],
         "xaxis": "x",
         "y": [
          19,
          17.5,
          12,
          6,
          1.5,
          1,
          3,
          2,
          2,
          1,
          3,
          2,
          2,
          3.3333333333333335,
          2,
          2,
          7
         ],
         "yaxis": "y"
        },
        {
         "hovertemplate": "station_id=88<br>hour=%{x}<br>num_bikes_available=%{y}<extra></extra>",
         "legendgroup": "88",
         "line": {
          "color": "#00cc96",
          "dash": "solid"
         },
         "marker": {
          "symbol": "circle"
         },
         "mode": "lines",
         "name": "88",
         "showlegend": true,
         "type": "scattergl",
         "x": [
          0,
          1,
          4,
          7,
          9,
          10,
          12,
          14,
          15,
          16,
          17,
          19,
          20,
          21,
          22,
          23
         ],
         "xaxis": "x",
         "y": [
          13.5,
          15,
          0,
          1.5,
          1.6666666666666667,
          1,
          6,
          14,
          11,
          3,
          1.5,
          0,
          7.5,
          7.5,
          4,
          6.5
         ],
         "yaxis": "y"
        },
        {
         "hovertemplate": "station_id=89<br>hour=%{x}<br>num_bikes_available=%{y}<extra></extra>",
         "legendgroup": "89",
         "line": {
          "color": "#ab63fa",
          "dash": "solid"
         },
         "marker": {
          "symbol": "circle"
         },
         "mode": "lines",
         "name": "89",
         "showlegend": true,
         "type": "scattergl",
         "x": [
          0,
          1,
          3,
          4,
          6,
          7,
          8,
          9,
          10,
          11,
          13,
          15,
          16,
          17,
          19,
          20,
          21,
          23
         ],
         "xaxis": "x",
         "y": [
          4,
          5,
          4,
          3.6666666666666665,
          1,
          2,
          1,
          2,
          0,
          1,
          0.3333333333333333,
          1.3333333333333333,
          2,
          3.5,
          2,
          3.5,
          1,
          3
         ],
         "yaxis": "y"
        },
        {
         "hovertemplate": "station_id=90<br>hour=%{x}<br>num_bikes_available=%{y}<extra></extra>",
         "legendgroup": "90",
         "line": {
          "color": "#FFA15A",
          "dash": "solid"
         },
         "marker": {
          "symbol": "circle"
         },
         "mode": "lines",
         "name": "90",
         "showlegend": true,
         "type": "scattergl",
         "x": [
          0,
          1,
          2,
          3,
          4,
          5,
          7,
          8,
          11,
          12,
          15,
          16,
          17,
          18,
          19,
          21,
          22,
          23
         ],
         "xaxis": "x",
         "y": [
          6,
          8,
          4,
          3,
          2,
          1.6666666666666667,
          7,
          6,
          2,
          1,
          2,
          1.3333333333333333,
          0,
          2.5,
          2,
          6.666666666666667,
          7,
          5
         ],
         "yaxis": "y"
        },
        {
         "hovertemplate": "station_id=91<br>hour=%{x}<br>num_bikes_available=%{y}<extra></extra>",
         "legendgroup": "91",
         "line": {
          "color": "#19d3f3",
          "dash": "solid"
         },
         "marker": {
          "symbol": "circle"
         },
         "mode": "lines",
         "name": "91",
         "showlegend": true,
         "type": "scattergl",
         "x": [
          1,
          3,
          4,
          5,
          6,
          8,
          11,
          14,
          15,
          16,
          17,
          19,
          20,
          22,
          23
         ],
         "xaxis": "x",
         "y": [
          17,
          24,
          21,
          21,
          23,
          21.5,
          10,
          10,
          16,
          9,
          13,
          21,
          23.666666666666668,
          31,
          29.5
         ],
         "yaxis": "y"
        },
        {
         "hovertemplate": "station_id=92<br>hour=%{x}<br>num_bikes_available=%{y}<extra></extra>",
         "legendgroup": "92",
         "line": {
          "color": "#FF6692",
          "dash": "solid"
         },
         "marker": {
          "symbol": "circle"
         },
         "mode": "lines",
         "name": "92",
         "showlegend": true,
         "type": "scattergl",
         "x": [
          0,
          2,
          4,
          5,
          6,
          7,
          8,
          9,
          10,
          11,
          12,
          13,
          14,
          15,
          16,
          18,
          19,
          20,
          21,
          22
         ],
         "xaxis": "x",
         "y": [
          9,
          1,
          3.3333333333333335,
          5.25,
          5,
          4,
          4,
          2.25,
          3,
          4,
          5.5,
          4,
          5.666666666666667,
          6,
          2.6666666666666665,
          6,
          2,
          5.333333333333333,
          4,
          2
         ],
         "yaxis": "y"
        },
        {
         "hovertemplate": "station_id=94<br>hour=%{x}<br>num_bikes_available=%{y}<extra></extra>",
         "legendgroup": "94",
         "line": {
          "color": "#B6E880",
          "dash": "solid"
         },
         "marker": {
          "symbol": "circle"
         },
         "mode": "lines",
         "name": "94",
         "showlegend": true,
         "type": "scattergl",
         "x": [
          1,
          2,
          3,
          4,
          5,
          7,
          8,
          9,
          10,
          11,
          12,
          13,
          17,
          18,
          19,
          20,
          21,
          22
         ],
         "xaxis": "x",
         "y": [
          2,
          0.5,
          1.5,
          0.5,
          0,
          2.5,
          3,
          4,
          8,
          11,
          9,
          4.5,
          6.5,
          4,
          6,
          0,
          0,
          1
         ],
         "yaxis": "y"
        },
        {
         "hovertemplate": "station_id=95<br>hour=%{x}<br>num_bikes_available=%{y}<extra></extra>",
         "legendgroup": "95",
         "line": {
          "color": "#FF97FF",
          "dash": "solid"
         },
         "marker": {
          "symbol": "circle"
         },
         "mode": "lines",
         "name": "95",
         "showlegend": true,
         "type": "scattergl",
         "x": [
          0,
          1,
          2,
          4,
          5,
          7,
          8,
          10,
          12,
          13,
          15,
          16,
          17,
          18,
          19,
          20,
          22,
          23
         ],
         "xaxis": "x",
         "y": [
          16,
          10,
          12,
          1,
          0,
          1,
          0.5,
          4,
          3,
          2,
          2,
          1,
          5,
          5,
          4.5,
          1.5,
          4,
          3
         ],
         "yaxis": "y"
        },
        {
         "hovertemplate": "station_id=96<br>hour=%{x}<br>num_bikes_available=%{y}<extra></extra>",
         "legendgroup": "96",
         "line": {
          "color": "#FECB52",
          "dash": "solid"
         },
         "marker": {
          "symbol": "circle"
         },
         "mode": "lines",
         "name": "96",
         "showlegend": true,
         "type": "scattergl",
         "x": [
          0,
          2,
          4,
          5,
          7,
          8,
          10,
          11,
          12,
          13,
          14,
          15,
          16,
          17,
          18,
          19,
          21,
          22,
          23
         ],
         "xaxis": "x",
         "y": [
          5,
          2,
          1,
          1,
          1,
          2.8,
          1.6666666666666667,
          6,
          5,
          2.5,
          5,
          3,
          3,
          4,
          2,
          4.5,
          3,
          1.3333333333333333,
          1
         ],
         "yaxis": "y"
        },
        {
         "hovertemplate": "station_id=97<br>hour=%{x}<br>num_bikes_available=%{y}<extra></extra>",
         "legendgroup": "97",
         "line": {
          "color": "#636efa",
          "dash": "solid"
         },
         "marker": {
          "symbol": "circle"
         },
         "mode": "lines",
         "name": "97",
         "showlegend": true,
         "type": "scattergl",
         "x": [
          0,
          1,
          2,
          3,
          4,
          5,
          6,
          7,
          8,
          9,
          11,
          12,
          17,
          18,
          19,
          20,
          21,
          22,
          23
         ],
         "xaxis": "x",
         "y": [
          14,
          15,
          7.333333333333333,
          2,
          0,
          0,
          0.6666666666666666,
          0,
          0,
          0,
          0,
          0,
          1,
          0,
          1,
          0,
          2.5,
          4,
          1
         ],
         "yaxis": "y"
        },
        {
         "hovertemplate": "station_id=98<br>hour=%{x}<br>num_bikes_available=%{y}<extra></extra>",
         "legendgroup": "98",
         "line": {
          "color": "#EF553B",
          "dash": "solid"
         },
         "marker": {
          "symbol": "circle"
         },
         "mode": "lines",
         "name": "98",
         "showlegend": true,
         "type": "scattergl",
         "x": [
          0,
          1,
          2,
          3,
          4,
          5,
          8,
          10,
          11,
          14,
          16,
          17,
          18,
          19,
          20,
          21,
          22
         ],
         "xaxis": "x",
         "y": [
          12,
          8,
          0.5,
          0,
          0.3333333333333333,
          0.5,
          6.5,
          11,
          11,
          12,
          1,
          4,
          0.5,
          0.5,
          0.5,
          0,
          2.5
         ],
         "yaxis": "y"
        },
        {
         "hovertemplate": "station_id=99<br>hour=%{x}<br>num_bikes_available=%{y}<extra></extra>",
         "legendgroup": "99",
         "line": {
          "color": "#00cc96",
          "dash": "solid"
         },
         "marker": {
          "symbol": "circle"
         },
         "mode": "lines",
         "name": "99",
         "showlegend": true,
         "type": "scattergl",
         "x": [
          0,
          1,
          4,
          6,
          7,
          8,
          9,
          10,
          11,
          13,
          15,
          17,
          18,
          19,
          20,
          23
         ],
         "xaxis": "x",
         "y": [
          19,
          13.333333333333334,
          0,
          2,
          1,
          3.25,
          6,
          2.3333333333333335,
          5,
          8,
          0.3333333333333333,
          1,
          0,
          0,
          0,
          0
         ],
         "yaxis": "y"
        },
        {
         "hovertemplate": "station_id=100<br>hour=%{x}<br>num_bikes_available=%{y}<extra></extra>",
         "legendgroup": "100",
         "line": {
          "color": "#ab63fa",
          "dash": "solid"
         },
         "marker": {
          "symbol": "circle"
         },
         "mode": "lines",
         "name": "100",
         "showlegend": true,
         "type": "scattergl",
         "x": [
          0,
          1,
          3,
          4,
          6,
          7,
          8,
          9,
          13,
          14,
          15,
          16,
          17,
          18,
          19,
          20,
          21,
          22,
          23
         ],
         "xaxis": "x",
         "y": [
          17,
          20,
          0.5,
          0.6666666666666666,
          0,
          0,
          1,
          3,
          1,
          3,
          2,
          1.5,
          1,
          1,
          1,
          0,
          1,
          1,
          0.3333333333333333
         ],
         "yaxis": "y"
        },
        {
         "hovertemplate": "station_id=101<br>hour=%{x}<br>num_bikes_available=%{y}<extra></extra>",
         "legendgroup": "101",
         "line": {
          "color": "#FFA15A",
          "dash": "solid"
         },
         "marker": {
          "symbol": "circle"
         },
         "mode": "lines",
         "name": "101",
         "showlegend": true,
         "type": "scattergl",
         "x": [
          0,
          1,
          2,
          3,
          4,
          5,
          8,
          9,
          10,
          11,
          12,
          13,
          15,
          16,
          17,
          18,
          20,
          21,
          23
         ],
         "xaxis": "x",
         "y": [
          14.5,
          11,
          6,
          5,
          7,
          8,
          6,
          4,
          11.5,
          11,
          4,
          4,
          6,
          7.5,
          2.75,
          1,
          2,
          1,
          2
         ],
         "yaxis": "y"
        },
        {
         "hovertemplate": "station_id=102<br>hour=%{x}<br>num_bikes_available=%{y}<extra></extra>",
         "legendgroup": "102",
         "line": {
          "color": "#19d3f3",
          "dash": "solid"
         },
         "marker": {
          "symbol": "circle"
         },
         "mode": "lines",
         "name": "102",
         "showlegend": true,
         "type": "scattergl",
         "x": [
          0,
          2,
          4,
          5,
          6,
          7,
          8,
          9,
          10,
          11,
          12,
          13,
          14,
          15,
          16,
          17,
          18,
          19,
          22
         ],
         "xaxis": "x",
         "y": [
          6,
          1,
          0,
          0,
          0,
          0,
          0,
          1,
          0.75,
          2,
          2,
          1,
          2,
          1,
          1,
          0,
          0,
          0,
          0
         ],
         "yaxis": "y"
        },
        {
         "hovertemplate": "station_id=103<br>hour=%{x}<br>num_bikes_available=%{y}<extra></extra>",
         "legendgroup": "103",
         "line": {
          "color": "#FF6692",
          "dash": "solid"
         },
         "marker": {
          "symbol": "circle"
         },
         "mode": "lines",
         "name": "103",
         "showlegend": true,
         "type": "scattergl",
         "x": [
          1,
          2,
          3,
          4,
          5,
          6,
          7,
          9,
          10,
          11,
          12,
          14,
          15,
          18,
          21,
          22
         ],
         "xaxis": "x",
         "y": [
          3.5,
          4,
          17,
          18.5,
          20,
          20,
          17.5,
          12,
          14.5,
          17.5,
          16.333333333333332,
          14.5,
          11,
          1,
          0,
          0.5
         ],
         "yaxis": "y"
        },
        {
         "hovertemplate": "station_id=104<br>hour=%{x}<br>num_bikes_available=%{y}<extra></extra>",
         "legendgroup": "104",
         "line": {
          "color": "#B6E880",
          "dash": "solid"
         },
         "marker": {
          "symbol": "circle"
         },
         "mode": "lines",
         "name": "104",
         "showlegend": true,
         "type": "scattergl",
         "x": [
          0,
          2,
          3,
          4,
          5,
          6,
          7,
          10,
          11,
          12,
          14,
          15,
          16,
          17,
          18,
          19,
          21,
          22,
          23
         ],
         "xaxis": "x",
         "y": [
          15,
          22,
          22,
          21.5,
          21,
          22,
          22,
          18,
          18,
          19.5,
          15,
          17,
          16.5,
          18,
          17,
          16,
          16.5,
          15,
          20
         ],
         "yaxis": "y"
        },
        {
         "hovertemplate": "station_id=105<br>hour=%{x}<br>num_bikes_available=%{y}<extra></extra>",
         "legendgroup": "105",
         "line": {
          "color": "#FF97FF",
          "dash": "solid"
         },
         "marker": {
          "symbol": "circle"
         },
         "mode": "lines",
         "name": "105",
         "showlegend": true,
         "type": "scattergl",
         "x": [
          1,
          3,
          4,
          5,
          6,
          8,
          9,
          10,
          12,
          13,
          14,
          16,
          17,
          18,
          19,
          20,
          21,
          22,
          23
         ],
         "xaxis": "x",
         "y": [
          8,
          6,
          9,
          8,
          6,
          4,
          6.5,
          8.5,
          7,
          9,
          6,
          11,
          13,
          14.5,
          11,
          8,
          9,
          8,
          8
         ],
         "yaxis": "y"
        },
        {
         "hovertemplate": "station_id=106<br>hour=%{x}<br>num_bikes_available=%{y}<extra></extra>",
         "legendgroup": "106",
         "line": {
          "color": "#FECB52",
          "dash": "solid"
         },
         "marker": {
          "symbol": "circle"
         },
         "mode": "lines",
         "name": "106",
         "showlegend": true,
         "type": "scattergl",
         "x": [
          0,
          1,
          2,
          3,
          4,
          6,
          8,
          9,
          12,
          14,
          17,
          19,
          20,
          21,
          22,
          23
         ],
         "xaxis": "x",
         "y": [
          5.666666666666667,
          6,
          7,
          4,
          3.5,
          3,
          5,
          3,
          3,
          1,
          2,
          6,
          8.5,
          1,
          6.5,
          8
         ],
         "yaxis": "y"
        },
        {
         "hovertemplate": "station_id=107<br>hour=%{x}<br>num_bikes_available=%{y}<extra></extra>",
         "legendgroup": "107",
         "line": {
          "color": "#636efa",
          "dash": "solid"
         },
         "marker": {
          "symbol": "circle"
         },
         "mode": "lines",
         "name": "107",
         "showlegend": true,
         "type": "scattergl",
         "x": [
          0,
          1,
          2,
          3,
          4,
          5,
          6,
          7,
          8,
          11,
          12,
          13,
          14,
          15,
          16,
          17,
          18,
          19,
          20,
          21,
          23
         ],
         "xaxis": "x",
         "y": [
          1,
          3.5,
          7,
          2,
          0.5,
          0,
          1,
          0,
          2,
          1,
          6,
          4.5,
          6,
          4,
          1,
          0,
          1,
          1.5,
          3,
          11,
          13
         ],
         "yaxis": "y"
        },
        {
         "hovertemplate": "station_id=108<br>hour=%{x}<br>num_bikes_available=%{y}<extra></extra>",
         "legendgroup": "108",
         "line": {
          "color": "#EF553B",
          "dash": "solid"
         },
         "marker": {
          "symbol": "circle"
         },
         "mode": "lines",
         "name": "108",
         "showlegend": true,
         "type": "scattergl",
         "x": [
          1,
          2,
          3,
          4,
          7,
          9,
          10,
          11,
          12,
          14,
          15,
          16,
          17,
          18,
          20,
          21,
          22,
          23
         ],
         "xaxis": "x",
         "y": [
          4.666666666666667,
          8,
          7.5,
          11,
          11,
          5.333333333333333,
          2.3333333333333335,
          2,
          2,
          10,
          1,
          1.5,
          1,
          3,
          6,
          6.5,
          5,
          10
         ],
         "yaxis": "y"
        },
        {
         "hovertemplate": "station_id=109<br>hour=%{x}<br>num_bikes_available=%{y}<extra></extra>",
         "legendgroup": "109",
         "line": {
          "color": "#00cc96",
          "dash": "solid"
         },
         "marker": {
          "symbol": "circle"
         },
         "mode": "lines",
         "name": "109",
         "showlegend": true,
         "type": "scattergl",
         "x": [
          0,
          2,
          3,
          4,
          7,
          8,
          9,
          10,
          11,
          13,
          14,
          15,
          16,
          18,
          20,
          21,
          22,
          23
         ],
         "xaxis": "x",
         "y": [
          8,
          12,
          15,
          12.5,
          0.5,
          1,
          1,
          1,
          1,
          6,
          3,
          6.5,
          5,
          0,
          0,
          6,
          8,
          6
         ],
         "yaxis": "y"
        },
        {
         "hovertemplate": "station_id=110<br>hour=%{x}<br>num_bikes_available=%{y}<extra></extra>",
         "legendgroup": "110",
         "line": {
          "color": "#ab63fa",
          "dash": "solid"
         },
         "marker": {
          "symbol": "circle"
         },
         "mode": "lines",
         "name": "110",
         "showlegend": true,
         "type": "scattergl",
         "x": [
          0,
          1,
          2,
          3,
          5,
          7,
          8,
          9,
          10,
          11,
          12,
          13,
          14,
          15,
          16,
          17,
          18,
          19,
          20,
          21,
          22,
          23
         ],
         "xaxis": "x",
         "y": [
          12.5,
          16,
          20,
          20,
          20,
          21,
          21,
          20,
          17,
          18,
          18,
          16.25,
          11.333333333333334,
          5.5,
          1.3333333333333333,
          1.5,
          3,
          1,
          3,
          8.5,
          6,
          2
         ],
         "yaxis": "y"
        },
        {
         "hovertemplate": "station_id=111<br>hour=%{x}<br>num_bikes_available=%{y}<extra></extra>",
         "legendgroup": "111",
         "line": {
          "color": "#FFA15A",
          "dash": "solid"
         },
         "marker": {
          "symbol": "circle"
         },
         "mode": "lines",
         "name": "111",
         "showlegend": true,
         "type": "scattergl",
         "x": [
          0,
          1,
          2,
          3,
          6,
          7,
          8,
          9,
          10,
          11,
          12,
          13,
          14,
          15,
          16,
          17,
          18,
          19,
          20,
          22,
          23
         ],
         "xaxis": "x",
         "y": [
          14,
          18,
          18,
          18,
          18,
          18,
          17,
          13,
          14,
          14,
          15,
          5,
          5.5,
          6,
          6.5,
          0,
          3,
          3,
          4.5,
          6,
          6.666666666666667
         ],
         "yaxis": "y"
        },
        {
         "hovertemplate": "station_id=112<br>hour=%{x}<br>num_bikes_available=%{y}<extra></extra>",
         "legendgroup": "112",
         "line": {
          "color": "#19d3f3",
          "dash": "solid"
         },
         "marker": {
          "symbol": "circle"
         },
         "mode": "lines",
         "name": "112",
         "showlegend": true,
         "type": "scattergl",
         "x": [
          0,
          1,
          2,
          3,
          4,
          5,
          6,
          7,
          10,
          12,
          13,
          14,
          15,
          16,
          17,
          18,
          20,
          21,
          23
         ],
         "xaxis": "x",
         "y": [
          14,
          15,
          11,
          14.333333333333334,
          15,
          18,
          17,
          17,
          12,
          7,
          8,
          10,
          8,
          9.5,
          2,
          4,
          10,
          10,
          15.5
         ],
         "yaxis": "y"
        },
        {
         "hovertemplate": "station_id=113<br>hour=%{x}<br>num_bikes_available=%{y}<extra></extra>",
         "legendgroup": "113",
         "line": {
          "color": "#FF6692",
          "dash": "solid"
         },
         "marker": {
          "symbol": "circle"
         },
         "mode": "lines",
         "name": "113",
         "showlegend": true,
         "type": "scattergl",
         "x": [
          0,
          2,
          3,
          5,
          6,
          7,
          8,
          10,
          11,
          12,
          13,
          15,
          16,
          17,
          18,
          19,
          20,
          21,
          23
         ],
         "xaxis": "x",
         "y": [
          26,
          27,
          27,
          23.5,
          18,
          16,
          14,
          12,
          15,
          16,
          15,
          20,
          23,
          27.666666666666668,
          26.5,
          25,
          29,
          28.833333333333332,
          27.5
         ],
         "yaxis": "y"
        },
        {
         "hovertemplate": "station_id=114<br>hour=%{x}<br>num_bikes_available=%{y}<extra></extra>",
         "legendgroup": "114",
         "line": {
          "color": "#B6E880",
          "dash": "solid"
         },
         "marker": {
          "symbol": "circle"
         },
         "mode": "lines",
         "name": "114",
         "showlegend": true,
         "type": "scattergl",
         "x": [
          1,
          3,
          4,
          6,
          7,
          9,
          11,
          13,
          15,
          17,
          20,
          22,
          23
         ],
         "xaxis": "x",
         "y": [
          20,
          20,
          20,
          17.666666666666668,
          18,
          16,
          15,
          15,
          18,
          20,
          20,
          20,
          20
         ],
         "yaxis": "y"
        },
        {
         "hovertemplate": "station_id=115<br>hour=%{x}<br>num_bikes_available=%{y}<extra></extra>",
         "legendgroup": "115",
         "line": {
          "color": "#FF97FF",
          "dash": "solid"
         },
         "marker": {
          "symbol": "circle"
         },
         "mode": "lines",
         "name": "115",
         "showlegend": true,
         "type": "scattergl",
         "x": [
          0,
          2,
          3,
          4,
          6,
          7,
          8,
          9,
          10,
          13,
          15,
          16,
          18,
          20,
          21,
          23
         ],
         "xaxis": "x",
         "y": [
          10,
          8,
          7,
          7,
          10,
          12,
          8.5,
          6.5,
          11,
          16,
          17,
          14,
          17,
          3.75,
          12,
          14
         ],
         "yaxis": "y"
        },
        {
         "hovertemplate": "station_id=116<br>hour=%{x}<br>num_bikes_available=%{y}<extra></extra>",
         "legendgroup": "116",
         "line": {
          "color": "#FECB52",
          "dash": "solid"
         },
         "marker": {
          "symbol": "circle"
         },
         "mode": "lines",
         "name": "116",
         "showlegend": true,
         "type": "scattergl",
         "x": [
          2,
          3,
          5,
          6,
          7,
          8,
          9,
          11,
          12,
          15,
          16,
          19,
          20,
          21,
          22,
          23
         ],
         "xaxis": "x",
         "y": [
          10,
          11,
          10,
          12,
          13.333333333333334,
          16.333333333333332,
          19,
          18,
          18,
          22,
          24,
          22,
          23,
          20.333333333333332,
          6,
          4.666666666666667
         ],
         "yaxis": "y"
        },
        {
         "hovertemplate": "station_id=117<br>hour=%{x}<br>num_bikes_available=%{y}<extra></extra>",
         "legendgroup": "117",
         "line": {
          "color": "#636efa",
          "dash": "solid"
         },
         "marker": {
          "symbol": "circle"
         },
         "mode": "lines",
         "name": "117",
         "showlegend": true,
         "type": "scattergl",
         "x": [
          0,
          2,
          3,
          4,
          5,
          7,
          8,
          10,
          11,
          12,
          13,
          14,
          15,
          16,
          17,
          21,
          22,
          23
         ],
         "xaxis": "x",
         "y": [
          17.5,
          17,
          17.5,
          16,
          14,
          14,
          16,
          18,
          14,
          15,
          16.5,
          20,
          17,
          16,
          18,
          19,
          17,
          19
         ],
         "yaxis": "y"
        },
        {
         "hovertemplate": "station_id=118<br>hour=%{x}<br>num_bikes_available=%{y}<extra></extra>",
         "legendgroup": "118",
         "line": {
          "color": "#EF553B",
          "dash": "solid"
         },
         "marker": {
          "symbol": "circle"
         },
         "mode": "lines",
         "name": "118",
         "showlegend": true,
         "type": "scattergl",
         "x": [
          0,
          1,
          2,
          3,
          5,
          6,
          7,
          8,
          9,
          11,
          13,
          15,
          16,
          17,
          18,
          19,
          20,
          21,
          23
         ],
         "xaxis": "x",
         "y": [
          16,
          16.5,
          16,
          18,
          19,
          20,
          16,
          12,
          11.5,
          3.5,
          5,
          15,
          14,
          4,
          9,
          10.5,
          23.5,
          23,
          7.666666666666667
         ],
         "yaxis": "y"
        },
        {
         "hovertemplate": "station_id=119<br>hour=%{x}<br>num_bikes_available=%{y}<extra></extra>",
         "legendgroup": "119",
         "line": {
          "color": "#00cc96",
          "dash": "solid"
         },
         "marker": {
          "symbol": "circle"
         },
         "mode": "lines",
         "name": "119",
         "showlegend": true,
         "type": "scattergl",
         "x": [
          0,
          1,
          2,
          4,
          5,
          6,
          7,
          9,
          10,
          11,
          12,
          16,
          17,
          19,
          20,
          21,
          23
         ],
         "xaxis": "x",
         "y": [
          12.5,
          12,
          16,
          17,
          18,
          16.5,
          17,
          13.5,
          12,
          12,
          8,
          16,
          7.5,
          3.6666666666666665,
          0.5,
          5,
          18
         ],
         "yaxis": "y"
        },
        {
         "hovertemplate": "station_id=120<br>hour=%{x}<br>num_bikes_available=%{y}<extra></extra>",
         "legendgroup": "120",
         "line": {
          "color": "#ab63fa",
          "dash": "solid"
         },
         "marker": {
          "symbol": "circle"
         },
         "mode": "lines",
         "name": "120",
         "showlegend": true,
         "type": "scattergl",
         "x": [
          2,
          4,
          5,
          6,
          7,
          8,
          9,
          10,
          12,
          13,
          14,
          15,
          18,
          19,
          21,
          23
         ],
         "xaxis": "x",
         "y": [
          5.5,
          12.333333333333334,
          13,
          10.333333333333334,
          9,
          10,
          7.5,
          9,
          6,
          3,
          4,
          3,
          0,
          2,
          6,
          11
         ],
         "yaxis": "y"
        },
        {
         "hovertemplate": "station_id=121<br>hour=%{x}<br>num_bikes_available=%{y}<extra></extra>",
         "legendgroup": "121",
         "line": {
          "color": "#FFA15A",
          "dash": "solid"
         },
         "marker": {
          "symbol": "circle"
         },
         "mode": "lines",
         "name": "121",
         "showlegend": true,
         "type": "scattergl",
         "x": [
          0,
          2,
          4,
          5,
          6,
          7,
          8,
          9,
          10,
          11,
          12,
          13,
          14,
          15,
          16,
          17,
          18,
          21,
          23
         ],
         "xaxis": "x",
         "y": [
          12,
          19,
          20,
          16,
          15,
          16,
          11,
          7,
          5,
          13,
          11.666666666666666,
          16,
          3,
          10,
          3.5,
          4,
          5.5,
          13.5,
          18
         ],
         "yaxis": "y"
        },
        {
         "hovertemplate": "station_id=122<br>hour=%{x}<br>num_bikes_available=%{y}<extra></extra>",
         "legendgroup": "122",
         "line": {
          "color": "#19d3f3",
          "dash": "solid"
         },
         "marker": {
          "symbol": "circle"
         },
         "mode": "lines",
         "name": "122",
         "showlegend": true,
         "type": "scattergl",
         "x": [
          0,
          1,
          2,
          4,
          7,
          8,
          9,
          10,
          11,
          12,
          13,
          14,
          15,
          16,
          17,
          20,
          21
         ],
         "xaxis": "x",
         "y": [
          10.5,
          10,
          16,
          14,
          8,
          4,
          20,
          21.333333333333332,
          12,
          11,
          10,
          9.666666666666666,
          8.5,
          3,
          3,
          4.333333333333333,
          5.666666666666667
         ],
         "yaxis": "y"
        },
        {
         "hovertemplate": "station_id=123<br>hour=%{x}<br>num_bikes_available=%{y}<extra></extra>",
         "legendgroup": "123",
         "line": {
          "color": "#FF6692",
          "dash": "solid"
         },
         "marker": {
          "symbol": "circle"
         },
         "mode": "lines",
         "name": "123",
         "showlegend": true,
         "type": "scattergl",
         "x": [
          0,
          1,
          2,
          3,
          5,
          7,
          8,
          9,
          10,
          11,
          12,
          13,
          15,
          16,
          18,
          19,
          20,
          21
         ],
         "xaxis": "x",
         "y": [
          7,
          2,
          2,
          0,
          10,
          8,
          6,
          6.333333333333333,
          7,
          6,
          0,
          1.5,
          3.5,
          6,
          3,
          4,
          1,
          3.5
         ],
         "yaxis": "y"
        },
        {
         "hovertemplate": "station_id=124<br>hour=%{x}<br>num_bikes_available=%{y}<extra></extra>",
         "legendgroup": "124",
         "line": {
          "color": "#B6E880",
          "dash": "solid"
         },
         "marker": {
          "symbol": "circle"
         },
         "mode": "lines",
         "name": "124",
         "showlegend": true,
         "type": "scattergl",
         "x": [
          0,
          1,
          2,
          6,
          8,
          9,
          10,
          11,
          12,
          13,
          14,
          15,
          16,
          17,
          18,
          19,
          20,
          21,
          22,
          23
         ],
         "xaxis": "x",
         "y": [
          1.3333333333333333,
          1,
          1,
          4,
          13,
          23,
          27,
          27,
          27,
          27,
          27.333333333333332,
          26.5,
          28.5,
          29,
          29,
          28,
          18,
          14,
          3.5,
          0
         ],
         "yaxis": "y"
        },
        {
         "hovertemplate": "station_id=125<br>hour=%{x}<br>num_bikes_available=%{y}<extra></extra>",
         "legendgroup": "125",
         "line": {
          "color": "#FF97FF",
          "dash": "solid"
         },
         "marker": {
          "symbol": "circle"
         },
         "mode": "lines",
         "name": "125",
         "showlegend": true,
         "type": "scattergl",
         "x": [
          1,
          3,
          4,
          6,
          7,
          10,
          11,
          12,
          14,
          16,
          19,
          20,
          21,
          22,
          23
         ],
         "xaxis": "x",
         "y": [
          6,
          5,
          4,
          4,
          6,
          12,
          11,
          15,
          10,
          11,
          14,
          7.333333333333333,
          4,
          7,
          7
         ],
         "yaxis": "y"
        },
        {
         "hovertemplate": "station_id=126<br>hour=%{x}<br>num_bikes_available=%{y}<extra></extra>",
         "legendgroup": "126",
         "line": {
          "color": "#FECB52",
          "dash": "solid"
         },
         "marker": {
          "symbol": "circle"
         },
         "mode": "lines",
         "name": "126",
         "showlegend": true,
         "type": "scattergl",
         "x": [
          0,
          2,
          4,
          8,
          11,
          12,
          13,
          14,
          15,
          18,
          19,
          20,
          21,
          22
         ],
         "xaxis": "x",
         "y": [
          17.25,
          18,
          17,
          17,
          20,
          22,
          22,
          22,
          22,
          20,
          19,
          20,
          20.5,
          21.5
         ],
         "yaxis": "y"
        },
        {
         "hovertemplate": "station_id=127<br>hour=%{x}<br>num_bikes_available=%{y}<extra></extra>",
         "legendgroup": "127",
         "line": {
          "color": "#636efa",
          "dash": "solid"
         },
         "marker": {
          "symbol": "circle"
         },
         "mode": "lines",
         "name": "127",
         "showlegend": true,
         "type": "scattergl",
         "x": [
          0,
          3,
          4,
          5,
          6,
          7,
          9,
          10,
          11,
          12,
          14,
          16,
          17,
          20,
          21,
          22,
          23
         ],
         "xaxis": "x",
         "y": [
          7,
          11.666666666666666,
          22,
          22,
          23.5,
          22,
          16.5,
          15,
          6.5,
          6,
          4,
          8.333333333333334,
          13.5,
          4,
          10.5,
          12.5,
          8
         ],
         "yaxis": "y"
        },
        {
         "hovertemplate": "station_id=128<br>hour=%{x}<br>num_bikes_available=%{y}<extra></extra>",
         "legendgroup": "128",
         "line": {
          "color": "#EF553B",
          "dash": "solid"
         },
         "marker": {
          "symbol": "circle"
         },
         "mode": "lines",
         "name": "128",
         "showlegend": true,
         "type": "scattergl",
         "x": [
          0,
          1,
          4,
          5,
          6,
          7,
          9,
          12,
          13,
          14,
          15,
          16,
          18,
          19,
          20
         ],
         "xaxis": "x",
         "y": [
          18,
          20,
          32,
          33,
          36,
          36,
          38,
          38,
          23,
          15.5,
          16,
          18,
          19,
          23,
          24
         ],
         "yaxis": "y"
        },
        {
         "hovertemplate": "station_id=129<br>hour=%{x}<br>num_bikes_available=%{y}<extra></extra>",
         "legendgroup": "129",
         "line": {
          "color": "#00cc96",
          "dash": "solid"
         },
         "marker": {
          "symbol": "circle"
         },
         "mode": "lines",
         "name": "129",
         "showlegend": true,
         "type": "scattergl",
         "x": [
          0,
          1,
          2,
          3,
          5,
          6,
          7,
          8,
          9,
          11,
          12,
          13,
          14,
          17,
          18,
          19,
          20,
          21,
          22
         ],
         "xaxis": "x",
         "y": [
          15,
          19,
          19,
          19,
          8,
          8.333333333333334,
          12,
          11.333333333333334,
          12,
          9,
          10,
          13.666666666666666,
          17.666666666666668,
          12,
          18,
          18,
          20,
          19,
          21
         ],
         "yaxis": "y"
        },
        {
         "hovertemplate": "station_id=130<br>hour=%{x}<br>num_bikes_available=%{y}<extra></extra>",
         "legendgroup": "130",
         "line": {
          "color": "#ab63fa",
          "dash": "solid"
         },
         "marker": {
          "symbol": "circle"
         },
         "mode": "lines",
         "name": "130",
         "showlegend": true,
         "type": "scattergl",
         "x": [
          0,
          2,
          3,
          4,
          7,
          8,
          9,
          11,
          12,
          14,
          15,
          17,
          18,
          19,
          20,
          21,
          22,
          23
         ],
         "xaxis": "x",
         "y": [
          15,
          15.5,
          17,
          17,
          21,
          17,
          14,
          13,
          13,
          11,
          10.5,
          12,
          8,
          11,
          13,
          12.5,
          15,
          20
         ],
         "yaxis": "y"
        },
        {
         "hovertemplate": "station_id=131<br>hour=%{x}<br>num_bikes_available=%{y}<extra></extra>",
         "legendgroup": "131",
         "line": {
          "color": "#FFA15A",
          "dash": "solid"
         },
         "marker": {
          "symbol": "circle"
         },
         "mode": "lines",
         "name": "131",
         "showlegend": true,
         "type": "scattergl",
         "x": [
          2,
          4,
          5,
          6,
          7,
          9,
          10,
          11,
          14,
          15,
          16,
          17,
          18,
          19,
          20,
          21,
          22
         ],
         "xaxis": "x",
         "y": [
          21,
          26.5,
          27,
          26,
          26.666666666666668,
          27,
          25,
          25,
          24,
          19,
          19,
          19.25,
          26,
          25,
          23,
          23,
          15
         ],
         "yaxis": "y"
        },
        {
         "hovertemplate": "station_id=132<br>hour=%{x}<br>num_bikes_available=%{y}<extra></extra>",
         "legendgroup": "132",
         "line": {
          "color": "#19d3f3",
          "dash": "solid"
         },
         "marker": {
          "symbol": "circle"
         },
         "mode": "lines",
         "name": "132",
         "showlegend": true,
         "type": "scattergl",
         "x": [
          0,
          1,
          2,
          3,
          4,
          5,
          6,
          7,
          8,
          9,
          10,
          11,
          12,
          13,
          14,
          15,
          16,
          17,
          20,
          21,
          22,
          23
         ],
         "xaxis": "x",
         "y": [
          16,
          18,
          18.5,
          24,
          24,
          25,
          25,
          25,
          24,
          23.5,
          23,
          19,
          15,
          19,
          17,
          17,
          11,
          12,
          16.666666666666668,
          22,
          24,
          22
         ],
         "yaxis": "y"
        },
        {
         "hovertemplate": "station_id=133<br>hour=%{x}<br>num_bikes_available=%{y}<extra></extra>",
         "legendgroup": "133",
         "line": {
          "color": "#FF6692",
          "dash": "solid"
         },
         "marker": {
          "symbol": "circle"
         },
         "mode": "lines",
         "name": "133",
         "showlegend": true,
         "type": "scattergl",
         "x": [
          0,
          1,
          2,
          3,
          4,
          7,
          8,
          10,
          11,
          12,
          14,
          15,
          16,
          17,
          19,
          20,
          21,
          23
         ],
         "xaxis": "x",
         "y": [
          2.5,
          3,
          3,
          3.5,
          4,
          7,
          5,
          2.5,
          7,
          2.5,
          7,
          11.333333333333334,
          7.333333333333333,
          5,
          12,
          9,
          9.5,
          10
         ],
         "yaxis": "y"
        },
        {
         "hovertemplate": "station_id=134<br>hour=%{x}<br>num_bikes_available=%{y}<extra></extra>",
         "legendgroup": "134",
         "line": {
          "color": "#B6E880",
          "dash": "solid"
         },
         "marker": {
          "symbol": "circle"
         },
         "mode": "lines",
         "name": "134",
         "showlegend": true,
         "type": "scattergl",
         "x": [
          0,
          2,
          3,
          4,
          5,
          6,
          7,
          8,
          9,
          10,
          11,
          12,
          13,
          15,
          16,
          17,
          20,
          21,
          22
         ],
         "xaxis": "x",
         "y": [
          9.666666666666666,
          11,
          11,
          10.666666666666666,
          11.5,
          12,
          9.5,
          11,
          8,
          7,
          6.666666666666667,
          11,
          12,
          11.5,
          11,
          9,
          12.666666666666666,
          14,
          14
         ],
         "yaxis": "y"
        },
        {
         "hovertemplate": "station_id=135<br>hour=%{x}<br>num_bikes_available=%{y}<extra></extra>",
         "legendgroup": "135",
         "line": {
          "color": "#FF97FF",
          "dash": "solid"
         },
         "marker": {
          "symbol": "circle"
         },
         "mode": "lines",
         "name": "135",
         "showlegend": true,
         "type": "scattergl",
         "x": [
          0,
          2,
          3,
          5,
          7,
          10,
          12,
          15,
          17,
          19,
          20,
          22,
          23
         ],
         "xaxis": "x",
         "y": [
          7,
          14,
          20,
          11.666666666666666,
          13,
          11,
          10.5,
          10,
          13,
          7,
          7,
          10,
          11
         ],
         "yaxis": "y"
        },
        {
         "hovertemplate": "station_id=136<br>hour=%{x}<br>num_bikes_available=%{y}<extra></extra>",
         "legendgroup": "136",
         "line": {
          "color": "#FECB52",
          "dash": "solid"
         },
         "marker": {
          "symbol": "circle"
         },
         "mode": "lines",
         "name": "136",
         "showlegend": true,
         "type": "scattergl",
         "x": [
          0,
          2,
          3,
          4,
          5,
          6,
          7,
          8,
          9,
          10,
          11,
          12,
          13,
          14,
          15,
          16,
          17,
          19,
          20,
          21,
          23
         ],
         "xaxis": "x",
         "y": [
          21.5,
          24,
          24,
          24,
          25,
          24,
          24,
          25,
          27,
          27,
          25,
          25,
          24,
          22,
          22,
          26,
          24.5,
          20,
          21,
          24,
          13
         ],
         "yaxis": "y"
        },
        {
         "hovertemplate": "station_id=137<br>hour=%{x}<br>num_bikes_available=%{y}<extra></extra>",
         "legendgroup": "137",
         "line": {
          "color": "#636efa",
          "dash": "solid"
         },
         "marker": {
          "symbol": "circle"
         },
         "mode": "lines",
         "name": "137",
         "showlegend": true,
         "type": "scattergl",
         "x": [
          0,
          1,
          3,
          4,
          5,
          6,
          8,
          11,
          12,
          13,
          14,
          15,
          16,
          17,
          18,
          20,
          21,
          22,
          23
         ],
         "xaxis": "x",
         "y": [
          2,
          10,
          13,
          13.5,
          13,
          14,
          17,
          13,
          15,
          14,
          14,
          13,
          12.5,
          9.666666666666666,
          8,
          7,
          12,
          12,
          12
         ],
         "yaxis": "y"
        },
        {
         "hovertemplate": "station_id=138<br>hour=%{x}<br>num_bikes_available=%{y}<extra></extra>",
         "legendgroup": "138",
         "line": {
          "color": "#EF553B",
          "dash": "solid"
         },
         "marker": {
          "symbol": "circle"
         },
         "mode": "lines",
         "name": "138",
         "showlegend": true,
         "type": "scattergl",
         "x": [
          1,
          3,
          4,
          5,
          6,
          7,
          8,
          10,
          12,
          13,
          14,
          15,
          16,
          18,
          19,
          20,
          21,
          23
         ],
         "xaxis": "x",
         "y": [
          16,
          13,
          15,
          15,
          15,
          15,
          15,
          14,
          13.5,
          12,
          8.666666666666666,
          7,
          6,
          2.5,
          7.333333333333333,
          9,
          6,
          11
         ],
         "yaxis": "y"
        },
        {
         "hovertemplate": "station_id=139<br>hour=%{x}<br>num_bikes_available=%{y}<extra></extra>",
         "legendgroup": "139",
         "line": {
          "color": "#00cc96",
          "dash": "solid"
         },
         "marker": {
          "symbol": "circle"
         },
         "mode": "lines",
         "name": "139",
         "showlegend": true,
         "type": "scattergl",
         "x": [
          0,
          2,
          3,
          4,
          6,
          7,
          8,
          9,
          11,
          12,
          13,
          14,
          15,
          16,
          17,
          18,
          20,
          21,
          23
         ],
         "xaxis": "x",
         "y": [
          13,
          13,
          14.5,
          14.5,
          15,
          13.666666666666666,
          11,
          12,
          13,
          13.5,
          14,
          16,
          16,
          17,
          13,
          12.5,
          12,
          11,
          12
         ],
         "yaxis": "y"
        },
        {
         "hovertemplate": "station_id=140<br>hour=%{x}<br>num_bikes_available=%{y}<extra></extra>",
         "legendgroup": "140",
         "line": {
          "color": "#ab63fa",
          "dash": "solid"
         },
         "marker": {
          "symbol": "circle"
         },
         "mode": "lines",
         "name": "140",
         "showlegend": true,
         "type": "scattergl",
         "x": [
          0,
          1,
          2,
          3,
          5,
          6,
          7,
          11,
          13,
          16,
          17,
          19,
          21,
          22,
          23
         ],
         "xaxis": "x",
         "y": [
          18,
          20,
          18,
          21,
          23,
          21,
          22,
          16.5,
          14,
          12,
          13,
          11.5,
          12,
          15,
          17.5
         ],
         "yaxis": "y"
        },
        {
         "hovertemplate": "station_id=141<br>hour=%{x}<br>num_bikes_available=%{y}<extra></extra>",
         "legendgroup": "141",
         "line": {
          "color": "#FFA15A",
          "dash": "solid"
         },
         "marker": {
          "symbol": "circle"
         },
         "mode": "lines",
         "name": "141",
         "showlegend": true,
         "type": "scattergl",
         "x": [
          0,
          1,
          2,
          3,
          4,
          5,
          6,
          8,
          9,
          11,
          13,
          15,
          16,
          17,
          19,
          20,
          21,
          22,
          23
         ],
         "xaxis": "x",
         "y": [
          9.5,
          11,
          12.5,
          14,
          14,
          16.75,
          17,
          16,
          19,
          15,
          9,
          14,
          10,
          11.5,
          14,
          15,
          18.5,
          21,
          19
         ],
         "yaxis": "y"
        },
        {
         "hovertemplate": "station_id=142<br>hour=%{x}<br>num_bikes_available=%{y}<extra></extra>",
         "legendgroup": "142",
         "line": {
          "color": "#19d3f3",
          "dash": "solid"
         },
         "marker": {
          "symbol": "circle"
         },
         "mode": "lines",
         "name": "142",
         "showlegend": true,
         "type": "scattergl",
         "x": [
          0,
          1,
          4,
          6,
          7,
          8,
          9,
          10,
          11,
          12,
          13,
          14,
          15,
          16,
          17,
          18,
          19,
          20,
          22,
          23
         ],
         "xaxis": "x",
         "y": [
          7,
          7,
          7,
          3,
          3,
          6,
          7,
          11,
          14,
          14,
          15,
          13,
          11,
          14.666666666666666,
          19.5,
          21,
          19,
          17,
          9,
          8.666666666666666
         ],
         "yaxis": "y"
        },
        {
         "hovertemplate": "station_id=143<br>hour=%{x}<br>num_bikes_available=%{y}<extra></extra>",
         "legendgroup": "143",
         "line": {
          "color": "#FF6692",
          "dash": "solid"
         },
         "marker": {
          "symbol": "circle"
         },
         "mode": "lines",
         "name": "143",
         "showlegend": true,
         "type": "scattergl",
         "x": [
          0,
          1,
          2,
          3,
          4,
          8,
          9,
          11,
          12,
          13,
          14,
          15,
          16,
          18,
          19,
          20,
          21
         ],
         "xaxis": "x",
         "y": [
          12.666666666666666,
          12,
          12.5,
          15,
          14.5,
          14.5,
          13,
          16,
          13,
          12,
          11,
          9,
          12.5,
          14.666666666666666,
          19,
          20,
          19
         ],
         "yaxis": "y"
        },
        {
         "hovertemplate": "station_id=144<br>hour=%{x}<br>num_bikes_available=%{y}<extra></extra>",
         "legendgroup": "144",
         "line": {
          "color": "#B6E880",
          "dash": "solid"
         },
         "marker": {
          "symbol": "circle"
         },
         "mode": "lines",
         "name": "144",
         "showlegend": true,
         "type": "scattergl",
         "x": [
          2,
          4,
          5,
          7,
          8,
          10,
          11,
          12,
          14,
          15,
          16,
          17,
          18,
          19,
          20,
          21,
          23
         ],
         "xaxis": "x",
         "y": [
          13.666666666666666,
          14.5,
          15.5,
          17,
          17.5,
          17,
          12,
          11,
          21,
          19,
          19,
          12,
          11,
          17,
          19,
          25,
          22.666666666666668
         ],
         "yaxis": "y"
        },
        {
         "hovertemplate": "station_id=145<br>hour=%{x}<br>num_bikes_available=%{y}<extra></extra>",
         "legendgroup": "145",
         "line": {
          "color": "#FF97FF",
          "dash": "solid"
         },
         "marker": {
          "symbol": "circle"
         },
         "mode": "lines",
         "name": "145",
         "showlegend": true,
         "type": "scattergl",
         "x": [
          1,
          2,
          3,
          5,
          6,
          9,
          10,
          13,
          14,
          17,
          18,
          19,
          21,
          22
         ],
         "xaxis": "x",
         "y": [
          11,
          13.5,
          18,
          22.5,
          22,
          20,
          19,
          16.5,
          15,
          5,
          7,
          4,
          9,
          7
         ],
         "yaxis": "y"
        },
        {
         "hovertemplate": "station_id=146<br>hour=%{x}<br>num_bikes_available=%{y}<extra></extra>",
         "legendgroup": "146",
         "line": {
          "color": "#FECB52",
          "dash": "solid"
         },
         "marker": {
          "symbol": "circle"
         },
         "mode": "lines",
         "name": "146",
         "showlegend": true,
         "type": "scattergl",
         "x": [
          0,
          1,
          2,
          4,
          5,
          8,
          9,
          10,
          11,
          13,
          15,
          16,
          18,
          19,
          20,
          21,
          23
         ],
         "xaxis": "x",
         "y": [
          15,
          19,
          19,
          13.5,
          6,
          5,
          10,
          10,
          14.5,
          1,
          4,
          3,
          4,
          5,
          4,
          8,
          8
         ],
         "yaxis": "y"
        },
        {
         "hovertemplate": "station_id=147<br>hour=%{x}<br>num_bikes_available=%{y}<extra></extra>",
         "legendgroup": "147",
         "line": {
          "color": "#636efa",
          "dash": "solid"
         },
         "marker": {
          "symbol": "circle"
         },
         "mode": "lines",
         "name": "147",
         "showlegend": true,
         "type": "scattergl",
         "x": [
          0,
          1,
          2,
          3,
          5,
          8,
          9,
          10,
          11,
          12,
          15,
          18,
          19,
          20
         ],
         "xaxis": "x",
         "y": [
          19,
          19.666666666666668,
          26.5,
          32,
          13,
          12.333333333333334,
          9.5,
          9,
          7.5,
          7,
          6,
          6,
          6.5,
          5
         ],
         "yaxis": "y"
        },
        {
         "hovertemplate": "station_id=148<br>hour=%{x}<br>num_bikes_available=%{y}<extra></extra>",
         "legendgroup": "148",
         "line": {
          "color": "#EF553B",
          "dash": "solid"
         },
         "marker": {
          "symbol": "circle"
         },
         "mode": "lines",
         "name": "148",
         "showlegend": true,
         "type": "scattergl",
         "x": [
          0,
          2,
          4,
          5,
          6,
          8,
          9,
          10,
          11,
          12,
          13,
          14,
          15,
          17,
          19,
          20,
          21,
          22
         ],
         "xaxis": "x",
         "y": [
          22,
          23.666666666666668,
          24,
          24,
          23,
          23,
          24,
          23.333333333333332,
          23,
          24,
          23,
          20,
          24,
          20,
          22,
          16,
          23.5,
          24
         ],
         "yaxis": "y"
        },
        {
         "hovertemplate": "station_id=149<br>hour=%{x}<br>num_bikes_available=%{y}<extra></extra>",
         "legendgroup": "149",
         "line": {
          "color": "#00cc96",
          "dash": "solid"
         },
         "marker": {
          "symbol": "circle"
         },
         "mode": "lines",
         "name": "149",
         "showlegend": true,
         "type": "scattergl",
         "x": [
          0,
          1,
          3,
          5,
          7,
          8,
          9,
          11,
          12,
          15,
          16,
          17,
          18,
          19,
          20
         ],
         "xaxis": "x",
         "y": [
          11.5,
          16,
          9,
          5.5,
          9,
          9,
          8,
          9,
          9,
          9.5,
          12.25,
          10.5,
          10,
          8,
          9
         ],
         "yaxis": "y"
        },
        {
         "hovertemplate": "station_id=150<br>hour=%{x}<br>num_bikes_available=%{y}<extra></extra>",
         "legendgroup": "150",
         "line": {
          "color": "#ab63fa",
          "dash": "solid"
         },
         "marker": {
          "symbol": "circle"
         },
         "mode": "lines",
         "name": "150",
         "showlegend": true,
         "type": "scattergl",
         "x": [
          0,
          1,
          2,
          3,
          5,
          6,
          7,
          9,
          12,
          13,
          14,
          15,
          17,
          18,
          19,
          21
         ],
         "xaxis": "x",
         "y": [
          10,
          11,
          15,
          17,
          20,
          20.5,
          23,
          3,
          5,
          11,
          7,
          2,
          4,
          3.6666666666666665,
          2.6,
          6
         ],
         "yaxis": "y"
        },
        {
         "hovertemplate": "station_id=151<br>hour=%{x}<br>num_bikes_available=%{y}<extra></extra>",
         "legendgroup": "151",
         "line": {
          "color": "#FFA15A",
          "dash": "solid"
         },
         "marker": {
          "symbol": "circle"
         },
         "mode": "lines",
         "name": "151",
         "showlegend": true,
         "type": "scattergl",
         "x": [
          0,
          1,
          2,
          3,
          4,
          5,
          6,
          7,
          8,
          9,
          10,
          11,
          12,
          13,
          16,
          18,
          19,
          21,
          22,
          23
         ],
         "xaxis": "x",
         "y": [
          13,
          15,
          14.5,
          14.5,
          15,
          13.5,
          15,
          15,
          15.5,
          15,
          14,
          16,
          16,
          17.5,
          19,
          19,
          20,
          22,
          22,
          22
         ],
         "yaxis": "y"
        },
        {
         "hovertemplate": "station_id=152<br>hour=%{x}<br>num_bikes_available=%{y}<extra></extra>",
         "legendgroup": "152",
         "line": {
          "color": "#19d3f3",
          "dash": "solid"
         },
         "marker": {
          "symbol": "circle"
         },
         "mode": "lines",
         "name": "152",
         "showlegend": true,
         "type": "scattergl",
         "x": [
          1,
          2,
          4,
          6,
          7,
          8,
          10,
          11,
          13,
          15,
          17,
          18,
          19,
          20,
          21,
          23
         ],
         "xaxis": "x",
         "y": [
          15,
          14,
          14,
          16,
          16,
          14,
          11.5,
          13,
          5,
          5,
          10,
          10.5,
          15,
          17,
          10,
          12
         ],
         "yaxis": "y"
        },
        {
         "hovertemplate": "station_id=153<br>hour=%{x}<br>num_bikes_available=%{y}<extra></extra>",
         "legendgroup": "153",
         "line": {
          "color": "#FF6692",
          "dash": "solid"
         },
         "marker": {
          "symbol": "circle"
         },
         "mode": "lines",
         "name": "153",
         "showlegend": true,
         "type": "scattergl",
         "x": [
          0,
          1,
          2,
          3,
          9,
          10,
          11,
          12,
          13,
          14,
          15,
          16,
          18,
          19,
          22,
          23
         ],
         "xaxis": "x",
         "y": [
          7,
          7,
          7.5,
          13.5,
          8,
          7,
          6,
          6,
          6,
          9,
          11,
          7.5,
          11.6,
          20,
          21.5,
          7.666666666666667
         ],
         "yaxis": "y"
        },
        {
         "hovertemplate": "station_id=154<br>hour=%{x}<br>num_bikes_available=%{y}<extra></extra>",
         "legendgroup": "154",
         "line": {
          "color": "#B6E880",
          "dash": "solid"
         },
         "marker": {
          "symbol": "circle"
         },
         "mode": "lines",
         "name": "154",
         "showlegend": true,
         "type": "scattergl",
         "x": [
          0,
          2,
          7,
          8,
          10,
          11,
          12,
          14,
          15,
          16,
          17,
          18,
          19,
          20,
          21,
          22,
          23
         ],
         "xaxis": "x",
         "y": [
          27,
          29.5,
          31,
          12,
          11,
          15,
          11,
          11,
          8.5,
          11.5,
          6,
          5.666666666666667,
          13,
          25.25,
          31,
          30,
          9
         ],
         "yaxis": "y"
        },
        {
         "hovertemplate": "station_id=155<br>hour=%{x}<br>num_bikes_available=%{y}<extra></extra>",
         "legendgroup": "155",
         "line": {
          "color": "#FF97FF",
          "dash": "solid"
         },
         "marker": {
          "symbol": "circle"
         },
         "mode": "lines",
         "name": "155",
         "showlegend": true,
         "type": "scattergl",
         "x": [
          0,
          1,
          2,
          3,
          4,
          5,
          6,
          7,
          8,
          10,
          11,
          13,
          15,
          16,
          17,
          20,
          21,
          22
         ],
         "xaxis": "x",
         "y": [
          20,
          17,
          16,
          18,
          17,
          17,
          17,
          16,
          18,
          15,
          17.666666666666668,
          20,
          20.5,
          21,
          22,
          26,
          22.5,
          21
         ],
         "yaxis": "y"
        },
        {
         "hovertemplate": "station_id=156<br>hour=%{x}<br>num_bikes_available=%{y}<extra></extra>",
         "legendgroup": "156",
         "line": {
          "color": "#FECB52",
          "dash": "solid"
         },
         "marker": {
          "symbol": "circle"
         },
         "mode": "lines",
         "name": "156",
         "showlegend": true,
         "type": "scattergl",
         "x": [
          0,
          1,
          3,
          4,
          5,
          6,
          7,
          9,
          10,
          12,
          14,
          15,
          16,
          18,
          19,
          20,
          21,
          23
         ],
         "xaxis": "x",
         "y": [
          8,
          14.666666666666666,
          11,
          11,
          11,
          9,
          10,
          11,
          7,
          6,
          6.5,
          3,
          4,
          16,
          17,
          18.5,
          20,
          16
         ],
         "yaxis": "y"
        },
        {
         "hovertemplate": "station_id=157<br>hour=%{x}<br>num_bikes_available=%{y}<extra></extra>",
         "legendgroup": "157",
         "line": {
          "color": "#636efa",
          "dash": "solid"
         },
         "marker": {
          "symbol": "circle"
         },
         "mode": "lines",
         "name": "157",
         "showlegend": true,
         "type": "scattergl",
         "x": [
          0,
          1,
          2,
          4,
          5,
          6,
          10,
          11,
          13,
          14,
          15,
          18,
          19,
          20,
          22,
          23
         ],
         "xaxis": "x",
         "y": [
          10,
          9,
          9,
          9,
          9.5,
          11,
          11,
          10,
          9,
          7,
          9,
          7,
          5,
          5,
          15,
          16
         ],
         "yaxis": "y"
        },
        {
         "hovertemplate": "station_id=158<br>hour=%{x}<br>num_bikes_available=%{y}<extra></extra>",
         "legendgroup": "158",
         "line": {
          "color": "#EF553B",
          "dash": "solid"
         },
         "marker": {
          "symbol": "circle"
         },
         "mode": "lines",
         "name": "158",
         "showlegend": true,
         "type": "scattergl",
         "x": [
          0,
          1,
          4,
          5,
          7,
          8,
          9,
          10,
          11,
          12,
          13,
          14,
          16,
          17,
          19,
          20,
          21,
          22,
          23
         ],
         "xaxis": "x",
         "y": [
          11,
          7,
          9,
          9,
          10,
          10,
          10,
          9.5,
          9,
          10,
          12,
          4,
          4,
          4,
          8,
          14,
          8.666666666666666,
          6.333333333333333,
          7
         ],
         "yaxis": "y"
        },
        {
         "hovertemplate": "station_id=159<br>hour=%{x}<br>num_bikes_available=%{y}<extra></extra>",
         "legendgroup": "159",
         "line": {
          "color": "#00cc96",
          "dash": "solid"
         },
         "marker": {
          "symbol": "circle"
         },
         "mode": "lines",
         "name": "159",
         "showlegend": true,
         "type": "scattergl",
         "x": [
          1,
          2,
          4,
          5,
          6,
          7,
          8,
          9,
          11,
          12,
          15,
          17,
          18,
          20,
          22,
          23
         ],
         "xaxis": "x",
         "y": [
          9,
          7,
          9,
          9.5,
          12,
          13.333333333333334,
          14,
          18,
          18.5,
          20,
          10,
          17,
          20,
          13,
          6,
          6.666666666666667
         ],
         "yaxis": "y"
        },
        {
         "hovertemplate": "station_id=160<br>hour=%{x}<br>num_bikes_available=%{y}<extra></extra>",
         "legendgroup": "160",
         "line": {
          "color": "#ab63fa",
          "dash": "solid"
         },
         "marker": {
          "symbol": "circle"
         },
         "mode": "lines",
         "name": "160",
         "showlegend": true,
         "type": "scattergl",
         "x": [
          0,
          1,
          2,
          3,
          4,
          5,
          6,
          8,
          9,
          10,
          11,
          12,
          13,
          14,
          15,
          16,
          17,
          18,
          20,
          21,
          22,
          23
         ],
         "xaxis": "x",
         "y": [
          16,
          16,
          16.5,
          17,
          18,
          18,
          18,
          21,
          24,
          26,
          14,
          15,
          17.5,
          22,
          27,
          23,
          27,
          29,
          28,
          23.5,
          21.5,
          20
         ],
         "yaxis": "y"
        },
        {
         "hovertemplate": "station_id=161<br>hour=%{x}<br>num_bikes_available=%{y}<extra></extra>",
         "legendgroup": "161",
         "line": {
          "color": "#FFA15A",
          "dash": "solid"
         },
         "marker": {
          "symbol": "circle"
         },
         "mode": "lines",
         "name": "161",
         "showlegend": true,
         "type": "scattergl",
         "x": [
          1,
          2,
          3,
          4,
          6,
          7,
          8,
          9,
          10,
          11,
          12,
          13,
          15,
          16,
          18,
          19,
          21,
          22,
          23
         ],
         "xaxis": "x",
         "y": [
          21.5,
          25,
          21,
          19,
          19,
          17,
          16,
          17,
          17,
          18.666666666666668,
          18,
          16,
          25.5,
          20,
          24,
          23.5,
          21,
          22,
          22.333333333333332
         ],
         "yaxis": "y"
        },
        {
         "hovertemplate": "station_id=162<br>hour=%{x}<br>num_bikes_available=%{y}<extra></extra>",
         "legendgroup": "162",
         "line": {
          "color": "#19d3f3",
          "dash": "solid"
         },
         "marker": {
          "symbol": "circle"
         },
         "mode": "lines",
         "name": "162",
         "showlegend": true,
         "type": "scattergl",
         "x": [
          0,
          1,
          3,
          4,
          7,
          8,
          9,
          11,
          12,
          15,
          16,
          18,
          19,
          22,
          23
         ],
         "xaxis": "x",
         "y": [
          12,
          11.666666666666666,
          19,
          19,
          21,
          21.5,
          20,
          19.5,
          15,
          15,
          15.5,
          25,
          24.5,
          4,
          2
         ],
         "yaxis": "y"
        },
        {
         "hovertemplate": "station_id=163<br>hour=%{x}<br>num_bikes_available=%{y}<extra></extra>",
         "legendgroup": "163",
         "line": {
          "color": "#FF6692",
          "dash": "solid"
         },
         "marker": {
          "symbol": "circle"
         },
         "mode": "lines",
         "name": "163",
         "showlegend": true,
         "type": "scattergl",
         "x": [
          0,
          2,
          4,
          5,
          6,
          7,
          9,
          10,
          11,
          12,
          14,
          15,
          16,
          17,
          19,
          21,
          23
         ],
         "xaxis": "x",
         "y": [
          3,
          2.5,
          4,
          3,
          3.5,
          5,
          5,
          2,
          6,
          2,
          1,
          6.5,
          17.5,
          19,
          21,
          5,
          7.333333333333333
         ],
         "yaxis": "y"
        },
        {
         "hovertemplate": "station_id=164<br>hour=%{x}<br>num_bikes_available=%{y}<extra></extra>",
         "legendgroup": "164",
         "line": {
          "color": "#B6E880",
          "dash": "solid"
         },
         "marker": {
          "symbol": "circle"
         },
         "mode": "lines",
         "name": "164",
         "showlegend": true,
         "type": "scattergl",
         "x": [
          0,
          1,
          5,
          6,
          7,
          9,
          10,
          11,
          12,
          13,
          14,
          15,
          16,
          17,
          19,
          21,
          22,
          23
         ],
         "xaxis": "x",
         "y": [
          7,
          10,
          14,
          15,
          16.333333333333332,
          15,
          17,
          15.5,
          15,
          13.5,
          6,
          4,
          4,
          4,
          2,
          9,
          11,
          15
         ],
         "yaxis": "y"
        },
        {
         "hovertemplate": "station_id=165<br>hour=%{x}<br>num_bikes_available=%{y}<extra></extra>",
         "legendgroup": "165",
         "line": {
          "color": "#FF97FF",
          "dash": "solid"
         },
         "marker": {
          "symbol": "circle"
         },
         "mode": "lines",
         "name": "165",
         "showlegend": true,
         "type": "scattergl",
         "x": [
          0,
          1,
          2,
          4,
          5,
          6,
          7,
          9,
          10,
          11,
          12,
          14,
          15,
          16,
          17,
          19,
          21,
          22
         ],
         "xaxis": "x",
         "y": [
          11,
          8,
          9,
          11,
          12,
          14,
          15.666666666666666,
          14,
          11.75,
          14.5,
          17.333333333333332,
          22,
          22,
          22,
          22,
          23,
          24,
          20.75
         ],
         "yaxis": "y"
        },
        {
         "hovertemplate": "station_id=166<br>hour=%{x}<br>num_bikes_available=%{y}<extra></extra>",
         "legendgroup": "166",
         "line": {
          "color": "#FECB52",
          "dash": "solid"
         },
         "marker": {
          "symbol": "circle"
         },
         "mode": "lines",
         "name": "166",
         "showlegend": true,
         "type": "scattergl",
         "x": [
          0,
          1,
          2,
          4,
          5,
          7,
          8,
          9,
          12,
          13,
          14,
          15,
          16,
          17,
          18,
          19,
          20,
          22,
          23
         ],
         "xaxis": "x",
         "y": [
          16,
          14,
          16.5,
          19,
          18,
          22,
          21,
          18,
          14,
          19,
          18.5,
          22,
          25,
          25,
          25,
          26,
          20,
          23,
          23
         ],
         "yaxis": "y"
        },
        {
         "hovertemplate": "station_id=167<br>hour=%{x}<br>num_bikes_available=%{y}<extra></extra>",
         "legendgroup": "167",
         "line": {
          "color": "#636efa",
          "dash": "solid"
         },
         "marker": {
          "symbol": "circle"
         },
         "mode": "lines",
         "name": "167",
         "showlegend": true,
         "type": "scattergl",
         "x": [
          1,
          2,
          4,
          5,
          6,
          7,
          8,
          10,
          11,
          12,
          13,
          15,
          16,
          17,
          18,
          19,
          22
         ],
         "xaxis": "x",
         "y": [
          5,
          6,
          7,
          7,
          7,
          11,
          10,
          10,
          10.5,
          9,
          7,
          6,
          11,
          17,
          17,
          18,
          11
         ],
         "yaxis": "y"
        },
        {
         "hovertemplate": "station_id=168<br>hour=%{x}<br>num_bikes_available=%{y}<extra></extra>",
         "legendgroup": "168",
         "line": {
          "color": "#EF553B",
          "dash": "solid"
         },
         "marker": {
          "symbol": "circle"
         },
         "mode": "lines",
         "name": "168",
         "showlegend": true,
         "type": "scattergl",
         "x": [
          0,
          1,
          4,
          5,
          6,
          8,
          9,
          10,
          12,
          13,
          14,
          15,
          17,
          18,
          20,
          21,
          22,
          23
         ],
         "xaxis": "x",
         "y": [
          15.333333333333334,
          14,
          16,
          16,
          16.666666666666668,
          17,
          19,
          21,
          21,
          18.5,
          18,
          18,
          22.5,
          22,
          14.5,
          14,
          14,
          16
         ],
         "yaxis": "y"
        },
        {
         "hovertemplate": "station_id=170<br>hour=%{x}<br>num_bikes_available=%{y}<extra></extra>",
         "legendgroup": "170",
         "line": {
          "color": "#00cc96",
          "dash": "solid"
         },
         "marker": {
          "symbol": "circle"
         },
         "mode": "lines",
         "name": "170",
         "showlegend": true,
         "type": "scattergl",
         "x": [
          0,
          3,
          4,
          5,
          8,
          9,
          13,
          14,
          15,
          18,
          19,
          22,
          23
         ],
         "xaxis": "x",
         "y": [
          16,
          11,
          10,
          9,
          14.5,
          20,
          13.5,
          13.5,
          17,
          51,
          26,
          20,
          13
         ],
         "yaxis": "y"
        },
        {
         "hovertemplate": "station_id=171<br>hour=%{x}<br>num_bikes_available=%{y}<extra></extra>",
         "legendgroup": "171",
         "line": {
          "color": "#ab63fa",
          "dash": "solid"
         },
         "marker": {
          "symbol": "circle"
         },
         "mode": "lines",
         "name": "171",
         "showlegend": true,
         "type": "scattergl",
         "x": [
          1,
          2,
          3,
          4,
          5,
          6,
          7,
          8,
          9,
          10,
          12,
          13,
          14,
          15,
          17,
          18,
          21,
          22,
          23
         ],
         "xaxis": "x",
         "y": [
          10,
          8,
          6,
          8,
          6,
          6,
          11,
          22,
          22,
          24,
          11,
          11,
          39,
          44,
          50.5,
          51,
          19,
          17.25,
          16
         ],
         "yaxis": "y"
        },
        {
         "hovertemplate": "station_id=173<br>hour=%{x}<br>num_bikes_available=%{y}<extra></extra>",
         "legendgroup": "173",
         "line": {
          "color": "#FFA15A",
          "dash": "solid"
         },
         "marker": {
          "symbol": "circle"
         },
         "mode": "lines",
         "name": "173",
         "showlegend": true,
         "type": "scattergl",
         "x": [
          0,
          2,
          3,
          4,
          5,
          6,
          7,
          8,
          11,
          13,
          15,
          17,
          18,
          20,
          23
         ],
         "xaxis": "x",
         "y": [
          6.5,
          1,
          1,
          1,
          1.5,
          3.5,
          7.666666666666667,
          16,
          23,
          15,
          24,
          24.5,
          25.5,
          8,
          1
         ],
         "yaxis": "y"
        },
        {
         "hovertemplate": "station_id=174<br>hour=%{x}<br>num_bikes_available=%{y}<extra></extra>",
         "legendgroup": "174",
         "line": {
          "color": "#19d3f3",
          "dash": "solid"
         },
         "marker": {
          "symbol": "circle"
         },
         "mode": "lines",
         "name": "174",
         "showlegend": true,
         "type": "scattergl",
         "x": [
          0,
          1,
          2,
          3,
          5,
          7,
          8,
          10,
          11,
          12,
          13,
          14,
          15,
          16,
          17,
          18,
          19,
          20,
          21
         ],
         "xaxis": "x",
         "y": [
          9,
          10,
          9,
          9,
          9,
          10,
          10,
          12,
          14,
          13,
          11,
          11.333333333333334,
          13.5,
          24,
          26.5,
          27,
          25,
          19,
          11.5
         ],
         "yaxis": "y"
        },
        {
         "hovertemplate": "station_id=175<br>hour=%{x}<br>num_bikes_available=%{y}<extra></extra>",
         "legendgroup": "175",
         "line": {
          "color": "#FF6692",
          "dash": "solid"
         },
         "marker": {
          "symbol": "circle"
         },
         "mode": "lines",
         "name": "175",
         "showlegend": true,
         "type": "scattergl",
         "x": [
          1,
          2,
          3,
          4,
          5,
          6,
          8,
          9,
          10,
          12,
          13,
          15,
          16,
          17,
          19,
          20,
          21,
          22
         ],
         "xaxis": "x",
         "y": [
          11,
          11,
          11,
          12,
          13,
          13,
          12,
          12,
          9,
          10,
          9,
          11,
          12,
          12,
          15,
          16,
          15,
          15
         ],
         "yaxis": "y"
        },
        {
         "hovertemplate": "station_id=176<br>hour=%{x}<br>num_bikes_available=%{y}<extra></extra>",
         "legendgroup": "176",
         "line": {
          "color": "#B6E880",
          "dash": "solid"
         },
         "marker": {
          "symbol": "circle"
         },
         "mode": "lines",
         "name": "176",
         "showlegend": true,
         "type": "scattergl",
         "x": [
          0,
          1,
          2,
          3,
          4,
          5,
          6,
          7,
          8,
          9,
          10,
          11,
          13,
          14,
          16,
          17,
          18,
          19,
          21,
          22,
          23
         ],
         "xaxis": "x",
         "y": [
          7,
          7,
          7,
          7,
          7,
          7,
          7,
          7,
          8,
          10,
          11,
          10.5,
          12.5,
          12,
          26,
          29,
          29,
          27,
          17,
          16,
          16
         ],
         "yaxis": "y"
        },
        {
         "hovertemplate": "station_id=177<br>hour=%{x}<br>num_bikes_available=%{y}<extra></extra>",
         "legendgroup": "177",
         "line": {
          "color": "#FF97FF",
          "dash": "solid"
         },
         "marker": {
          "symbol": "circle"
         },
         "mode": "lines",
         "name": "177",
         "showlegend": true,
         "type": "scattergl",
         "x": [
          1,
          2,
          3,
          4,
          11,
          12,
          13,
          15,
          16,
          17,
          18,
          19,
          21,
          22
         ],
         "xaxis": "x",
         "y": [
          13,
          18,
          23.333333333333332,
          29,
          15,
          13,
          6.5,
          8.5,
          8,
          8.333333333333334,
          5,
          7,
          18,
          22
         ],
         "yaxis": "y"
        },
        {
         "hovertemplate": "station_id=178<br>hour=%{x}<br>num_bikes_available=%{y}<extra></extra>",
         "legendgroup": "178",
         "line": {
          "color": "#FECB52",
          "dash": "solid"
         },
         "marker": {
          "symbol": "circle"
         },
         "mode": "lines",
         "name": "178",
         "showlegend": true,
         "type": "scattergl",
         "x": [
          0,
          1,
          2,
          3,
          7,
          9,
          10,
          13,
          15,
          16,
          18,
          19,
          21,
          23
         ],
         "xaxis": "x",
         "y": [
          13,
          13,
          13,
          13,
          15.5,
          20,
          20.5,
          17,
          15.333333333333334,
          16,
          23,
          22,
          17.333333333333332,
          15.666666666666666
         ],
         "yaxis": "y"
        },
        {
         "hovertemplate": "station_id=179<br>hour=%{x}<br>num_bikes_available=%{y}<extra></extra>",
         "legendgroup": "179",
         "line": {
          "color": "#636efa",
          "dash": "solid"
         },
         "marker": {
          "symbol": "circle"
         },
         "mode": "lines",
         "name": "179",
         "showlegend": true,
         "type": "scattergl",
         "x": [
          1,
          2,
          3,
          4,
          5,
          6,
          7,
          8,
          9,
          10,
          11,
          12,
          14,
          15,
          17,
          18,
          19,
          21,
          22,
          23
         ],
         "xaxis": "x",
         "y": [
          1,
          2,
          3,
          9,
          12,
          12,
          12,
          0,
          12,
          10,
          12,
          13.5,
          11.5,
          11,
          10,
          10,
          6.5,
          8,
          7,
          8
         ],
         "yaxis": "y"
        },
        {
         "hovertemplate": "station_id=180<br>hour=%{x}<br>num_bikes_available=%{y}<extra></extra>",
         "legendgroup": "180",
         "line": {
          "color": "#EF553B",
          "dash": "solid"
         },
         "marker": {
          "symbol": "circle"
         },
         "mode": "lines",
         "name": "180",
         "showlegend": true,
         "type": "scattergl",
         "x": [
          0,
          1,
          3,
          4,
          5,
          7,
          8,
          9,
          12,
          13,
          15,
          16,
          17,
          18,
          19,
          22,
          23
         ],
         "xaxis": "x",
         "y": [
          19,
          21,
          26.5,
          22,
          24,
          22,
          22,
          24,
          26,
          29,
          26,
          23,
          24,
          26.5,
          28,
          26.5,
          26
         ],
         "yaxis": "y"
        },
        {
         "hovertemplate": "station_id=182<br>hour=%{x}<br>num_bikes_available=%{y}<extra></extra>",
         "legendgroup": "182",
         "line": {
          "color": "#00cc96",
          "dash": "solid"
         },
         "marker": {
          "symbol": "circle"
         },
         "mode": "lines",
         "name": "182",
         "showlegend": true,
         "type": "scattergl",
         "x": [
          1,
          2,
          4,
          5,
          6,
          7,
          8,
          9,
          10,
          12,
          14,
          15,
          16,
          18,
          19,
          20,
          22,
          23
         ],
         "xaxis": "x",
         "y": [
          19,
          22,
          23.5,
          24,
          21,
          18,
          19,
          14,
          15,
          4.5,
          4,
          2,
          10,
          6.5,
          5,
          9,
          14,
          14.5
         ],
         "yaxis": "y"
        },
        {
         "hovertemplate": "station_id=183<br>hour=%{x}<br>num_bikes_available=%{y}<extra></extra>",
         "legendgroup": "183",
         "line": {
          "color": "#ab63fa",
          "dash": "solid"
         },
         "marker": {
          "symbol": "circle"
         },
         "mode": "lines",
         "name": "183",
         "showlegend": true,
         "type": "scattergl",
         "x": [
          0,
          2,
          3,
          5,
          6,
          8,
          9,
          11,
          12,
          14,
          16,
          17,
          18,
          19,
          20,
          21,
          23
         ],
         "xaxis": "x",
         "y": [
          27,
          29,
          22.5,
          11,
          12,
          9.5,
          7,
          4,
          3,
          5,
          5,
          1,
          0,
          1,
          3,
          4,
          2
         ],
         "yaxis": "y"
        },
        {
         "hovertemplate": "station_id=184<br>hour=%{x}<br>num_bikes_available=%{y}<extra></extra>",
         "legendgroup": "184",
         "line": {
          "color": "#FFA15A",
          "dash": "solid"
         },
         "marker": {
          "symbol": "circle"
         },
         "mode": "lines",
         "name": "184",
         "showlegend": true,
         "type": "scattergl",
         "x": [
          0,
          1,
          6,
          7,
          8,
          9,
          10,
          11,
          14,
          16,
          18,
          19,
          20,
          23
         ],
         "xaxis": "x",
         "y": [
          12,
          13,
          21.5,
          21,
          22,
          22,
          21,
          19,
          19,
          23.5,
          19,
          18,
          20,
          25
         ],
         "yaxis": "y"
        },
        {
         "hovertemplate": "station_id=185<br>hour=%{x}<br>num_bikes_available=%{y}<extra></extra>",
         "legendgroup": "185",
         "line": {
          "color": "#19d3f3",
          "dash": "solid"
         },
         "marker": {
          "symbol": "circle"
         },
         "mode": "lines",
         "name": "185",
         "showlegend": true,
         "type": "scattergl",
         "x": [
          0,
          5,
          6,
          8,
          10,
          11,
          12,
          13,
          14,
          15,
          16,
          17,
          18,
          19,
          20,
          21,
          23
         ],
         "xaxis": "x",
         "y": [
          13,
          6,
          7,
          8,
          7,
          6,
          6,
          6,
          3.5,
          4,
          4.666666666666667,
          5,
          5.5,
          6,
          5,
          7,
          8
         ],
         "yaxis": "y"
        },
        {
         "hovertemplate": "station_id=186<br>hour=%{x}<br>num_bikes_available=%{y}<extra></extra>",
         "legendgroup": "186",
         "line": {
          "color": "#FF6692",
          "dash": "solid"
         },
         "marker": {
          "symbol": "circle"
         },
         "mode": "lines",
         "name": "186",
         "showlegend": true,
         "type": "scattergl",
         "x": [
          0,
          1,
          3,
          4,
          5,
          10,
          12,
          13,
          14,
          15,
          16,
          18,
          19,
          20,
          21,
          22,
          23
         ],
         "xaxis": "x",
         "y": [
          20,
          20.8,
          3,
          1.5,
          1,
          1,
          1,
          2,
          2,
          0.3333333333333333,
          0,
          0,
          1.6666666666666667,
          2,
          4,
          3,
          4
         ],
         "yaxis": "y"
        },
        {
         "hovertemplate": "station_id=187<br>hour=%{x}<br>num_bikes_available=%{y}<extra></extra>",
         "legendgroup": "187",
         "line": {
          "color": "#B6E880",
          "dash": "solid"
         },
         "marker": {
          "symbol": "circle"
         },
         "mode": "lines",
         "name": "187",
         "showlegend": true,
         "type": "scattergl",
         "x": [
          0,
          1,
          2,
          4,
          5,
          7,
          8,
          10,
          12,
          13,
          14,
          15,
          16,
          17,
          19,
          20,
          21,
          22,
          23
         ],
         "xaxis": "x",
         "y": [
          11,
          19,
          19,
          12.5,
          7,
          3,
          3,
          2,
          1,
          0.5,
          1,
          6,
          6,
          12,
          12,
          12,
          17,
          11,
          10
         ],
         "yaxis": "y"
        },
        {
         "hovertemplate": "station_id=188<br>hour=%{x}<br>num_bikes_available=%{y}<extra></extra>",
         "legendgroup": "188",
         "line": {
          "color": "#FF97FF",
          "dash": "solid"
         },
         "marker": {
          "symbol": "circle"
         },
         "mode": "lines",
         "name": "188",
         "showlegend": true,
         "type": "scattergl",
         "x": [
          0,
          1,
          2,
          4,
          5,
          6,
          11,
          12,
          13,
          15,
          16,
          17,
          18,
          19,
          20,
          22,
          23
         ],
         "xaxis": "x",
         "y": [
          22.5,
          6,
          0,
          1.5,
          2,
          0,
          3,
          1.6666666666666667,
          6,
          6,
          4,
          7,
          6,
          2,
          8,
          0,
          4
         ],
         "yaxis": "y"
        },
        {
         "hovertemplate": "station_id=189<br>hour=%{x}<br>num_bikes_available=%{y}<extra></extra>",
         "legendgroup": "189",
         "line": {
          "color": "#FECB52",
          "dash": "solid"
         },
         "marker": {
          "symbol": "circle"
         },
         "mode": "lines",
         "name": "189",
         "showlegend": true,
         "type": "scattergl",
         "x": [
          0,
          2,
          3,
          5,
          6,
          7,
          8,
          9,
          10,
          12,
          13,
          14,
          15,
          18,
          21,
          23
         ],
         "xaxis": "x",
         "y": [
          2,
          14,
          15,
          15,
          15,
          14,
          15,
          14,
          20,
          22,
          20,
          16.666666666666668,
          24,
          13,
          8.5,
          7.333333333333333
         ],
         "yaxis": "y"
        },
        {
         "hovertemplate": "station_id=190<br>hour=%{x}<br>num_bikes_available=%{y}<extra></extra>",
         "legendgroup": "190",
         "line": {
          "color": "#636efa",
          "dash": "solid"
         },
         "marker": {
          "symbol": "circle"
         },
         "mode": "lines",
         "name": "190",
         "showlegend": true,
         "type": "scattergl",
         "x": [
          1,
          2,
          3,
          5,
          8,
          9,
          10,
          11,
          12,
          13,
          15,
          16,
          18,
          19,
          21,
          23
         ],
         "xaxis": "x",
         "y": [
          1,
          1,
          1,
          1,
          6,
          14,
          15.5,
          17,
          18,
          19,
          28,
          28,
          22.333333333333332,
          20,
          1,
          1.3333333333333333
         ],
         "yaxis": "y"
        },
        {
         "hovertemplate": "station_id=191<br>hour=%{x}<br>num_bikes_available=%{y}<extra></extra>",
         "legendgroup": "191",
         "line": {
          "color": "#EF553B",
          "dash": "solid"
         },
         "marker": {
          "symbol": "circle"
         },
         "mode": "lines",
         "name": "191",
         "showlegend": true,
         "type": "scattergl",
         "x": [
          0,
          3,
          4,
          6,
          7,
          8,
          9,
          10,
          11,
          12,
          13,
          14,
          15,
          18,
          19,
          21
         ],
         "xaxis": "x",
         "y": [
          32,
          7,
          4,
          1.3333333333333333,
          1,
          1.5,
          1,
          1,
          2.5,
          6,
          1,
          1.5,
          1,
          1,
          2,
          3.5
         ],
         "yaxis": "y"
        },
        {
         "hovertemplate": "station_id=192<br>hour=%{x}<br>num_bikes_available=%{y}<extra></extra>",
         "legendgroup": "192",
         "line": {
          "color": "#00cc96",
          "dash": "solid"
         },
         "marker": {
          "symbol": "circle"
         },
         "mode": "lines",
         "name": "192",
         "showlegend": true,
         "type": "scattergl",
         "x": [
          0,
          1,
          2,
          3,
          5,
          6,
          7,
          8,
          10,
          11,
          12,
          13,
          14,
          15,
          16,
          17,
          19,
          20,
          21,
          22,
          23
         ],
         "xaxis": "x",
         "y": [
          14.5,
          5,
          5,
          1,
          2,
          0,
          1.3333333333333333,
          1,
          2.5,
          1,
          1.5,
          1.3333333333333333,
          1,
          1,
          2,
          3,
          1,
          4,
          7,
          8,
          8.5
         ],
         "yaxis": "y"
        },
        {
         "hovertemplate": "station_id=193<br>hour=%{x}<br>num_bikes_available=%{y}<extra></extra>",
         "legendgroup": "193",
         "line": {
          "color": "#ab63fa",
          "dash": "solid"
         },
         "marker": {
          "symbol": "circle"
         },
         "mode": "lines",
         "name": "193",
         "showlegend": true,
         "type": "scattergl",
         "x": [
          0,
          2,
          3,
          4,
          8,
          9,
          10,
          11,
          14,
          19,
          20,
          21,
          22,
          23
         ],
         "xaxis": "x",
         "y": [
          7,
          8,
          10,
          8.333333333333334,
          8,
          7,
          8,
          5,
          0,
          2,
          2,
          3.3333333333333335,
          5,
          1
         ],
         "yaxis": "y"
        },
        {
         "hovertemplate": "station_id=194<br>hour=%{x}<br>num_bikes_available=%{y}<extra></extra>",
         "legendgroup": "194",
         "line": {
          "color": "#FFA15A",
          "dash": "solid"
         },
         "marker": {
          "symbol": "circle"
         },
         "mode": "lines",
         "name": "194",
         "showlegend": true,
         "type": "scattergl",
         "x": [
          0,
          1,
          3,
          4,
          5,
          6,
          8,
          9,
          10,
          11,
          14,
          15,
          16,
          17,
          18,
          19,
          21,
          22
         ],
         "xaxis": "x",
         "y": [
          19,
          19.25,
          0.5,
          0,
          0,
          0,
          1,
          1,
          1,
          0,
          2,
          1,
          0,
          2,
          0,
          0,
          4,
          4
         ],
         "yaxis": "y"
        },
        {
         "hovertemplate": "station_id=195<br>hour=%{x}<br>num_bikes_available=%{y}<extra></extra>",
         "legendgroup": "195",
         "line": {
          "color": "#19d3f3",
          "dash": "solid"
         },
         "marker": {
          "symbol": "circle"
         },
         "mode": "lines",
         "name": "195",
         "showlegend": true,
         "type": "scattergl",
         "x": [
          1,
          6,
          8,
          11,
          12,
          13,
          14,
          15,
          17,
          18,
          19,
          22,
          23
         ],
         "xaxis": "x",
         "y": [
          13,
          1,
          1,
          1.3333333333333333,
          1,
          2,
          3,
          0.5,
          2,
          0,
          1,
          0,
          2
         ],
         "yaxis": "y"
        },
        {
         "hovertemplate": "station_id=196<br>hour=%{x}<br>num_bikes_available=%{y}<extra></extra>",
         "legendgroup": "196",
         "line": {
          "color": "#FF6692",
          "dash": "solid"
         },
         "marker": {
          "symbol": "circle"
         },
         "mode": "lines",
         "name": "196",
         "showlegend": true,
         "type": "scattergl",
         "x": [
          0,
          1,
          2,
          3,
          4,
          6,
          7,
          8,
          9,
          10,
          11,
          12,
          13,
          14,
          16,
          17,
          18,
          20,
          21,
          22,
          23
         ],
         "xaxis": "x",
         "y": [
          24,
          25,
          20.5,
          0,
          0,
          0,
          0.5,
          0,
          0,
          3,
          4.333333333333333,
          0,
          2.5,
          0,
          5,
          0,
          1.5,
          0,
          1,
          3,
          2
         ],
         "yaxis": "y"
        },
        {
         "hovertemplate": "station_id=197<br>hour=%{x}<br>num_bikes_available=%{y}<extra></extra>",
         "legendgroup": "197",
         "line": {
          "color": "#B6E880",
          "dash": "solid"
         },
         "marker": {
          "symbol": "circle"
         },
         "mode": "lines",
         "name": "197",
         "showlegend": true,
         "type": "scattergl",
         "x": [
          1,
          2,
          4,
          5,
          6,
          7,
          8,
          9,
          10,
          11,
          15,
          16,
          18,
          19,
          20,
          21,
          22,
          23
         ],
         "xaxis": "x",
         "y": [
          8.25,
          20,
          15.666666666666666,
          9.333333333333334,
          10,
          7,
          4,
          3,
          0,
          0.5,
          5.333333333333333,
          6,
          1,
          3,
          2,
          1,
          3,
          4
         ],
         "yaxis": "y"
        },
        {
         "hovertemplate": "station_id=198<br>hour=%{x}<br>num_bikes_available=%{y}<extra></extra>",
         "legendgroup": "198",
         "line": {
          "color": "#FF97FF",
          "dash": "solid"
         },
         "marker": {
          "symbol": "circle"
         },
         "mode": "lines",
         "name": "198",
         "showlegend": true,
         "type": "scattergl",
         "x": [
          2,
          3,
          4,
          5,
          6,
          8,
          10,
          12,
          13,
          14,
          15,
          16,
          17,
          18,
          19,
          20,
          21,
          23
         ],
         "xaxis": "x",
         "y": [
          14,
          7,
          8,
          3,
          3,
          2.3333333333333335,
          4,
          3.5,
          1,
          6,
          3,
          4,
          0,
          0,
          2,
          3,
          2.3333333333333335,
          0
         ],
         "yaxis": "y"
        },
        {
         "hovertemplate": "station_id=199<br>hour=%{x}<br>num_bikes_available=%{y}<extra></extra>",
         "legendgroup": "199",
         "line": {
          "color": "#FECB52",
          "dash": "solid"
         },
         "marker": {
          "symbol": "circle"
         },
         "mode": "lines",
         "name": "199",
         "showlegend": true,
         "type": "scattergl",
         "x": [
          0,
          1,
          3,
          4,
          5,
          6,
          9,
          10,
          11,
          12,
          13,
          14,
          15,
          16,
          17,
          19,
          20,
          21,
          23
         ],
         "xaxis": "x",
         "y": [
          1,
          1,
          2,
          4.5,
          4,
          5,
          0,
          1,
          2,
          1,
          1,
          3,
          5,
          5,
          2.5,
          1,
          3,
          7,
          1.6666666666666667
         ],
         "yaxis": "y"
        },
        {
         "hovertemplate": "station_id=200<br>hour=%{x}<br>num_bikes_available=%{y}<extra></extra>",
         "legendgroup": "200",
         "line": {
          "color": "#636efa",
          "dash": "solid"
         },
         "marker": {
          "symbol": "circle"
         },
         "mode": "lines",
         "name": "200",
         "showlegend": true,
         "type": "scattergl",
         "x": [
          1,
          2,
          3,
          4,
          5,
          6,
          8,
          10,
          11,
          13,
          14,
          15,
          17,
          18,
          19,
          20,
          21,
          22,
          23
         ],
         "xaxis": "x",
         "y": [
          6.5,
          10,
          9,
          7,
          7,
          9,
          6,
          5,
          4,
          2,
          6.666666666666667,
          6,
          1,
          1,
          0,
          1.5,
          3.5,
          1,
          0
         ],
         "yaxis": "y"
        },
        {
         "hovertemplate": "station_id=201<br>hour=%{x}<br>num_bikes_available=%{y}<extra></extra>",
         "legendgroup": "201",
         "line": {
          "color": "#EF553B",
          "dash": "solid"
         },
         "marker": {
          "symbol": "circle"
         },
         "mode": "lines",
         "name": "201",
         "showlegend": true,
         "type": "scattergl",
         "x": [
          1,
          3,
          4,
          5,
          6,
          7,
          8,
          10,
          11,
          12,
          13,
          14,
          15,
          16,
          17,
          20,
          21,
          22
         ],
         "xaxis": "x",
         "y": [
          0,
          5,
          4,
          2.5,
          3,
          4.25,
          4.333333333333333,
          1,
          3.5,
          3,
          1.25,
          1.5,
          0.5,
          0.6666666666666666,
          2,
          1.6666666666666667,
          2.6666666666666665,
          2.6666666666666665
         ],
         "yaxis": "y"
        },
        {
         "hovertemplate": "station_id=202<br>hour=%{x}<br>num_bikes_available=%{y}<extra></extra>",
         "legendgroup": "202",
         "line": {
          "color": "#00cc96",
          "dash": "solid"
         },
         "marker": {
          "symbol": "circle"
         },
         "mode": "lines",
         "name": "202",
         "showlegend": true,
         "type": "scattergl",
         "x": [
          0,
          1,
          2,
          4,
          5,
          7,
          8,
          9,
          10,
          11,
          12,
          13,
          14,
          15,
          18,
          19,
          20,
          22,
          23
         ],
         "xaxis": "x",
         "y": [
          1,
          0,
          2,
          6,
          6,
          5.5,
          4.75,
          4.333333333333333,
          6,
          4,
          6,
          1.5,
          1.5,
          5.5,
          1.5,
          0,
          0.5,
          4,
          0
         ],
         "yaxis": "y"
        },
        {
         "hovertemplate": "station_id=203<br>hour=%{x}<br>num_bikes_available=%{y}<extra></extra>",
         "legendgroup": "203",
         "line": {
          "color": "#ab63fa",
          "dash": "solid"
         },
         "marker": {
          "symbol": "circle"
         },
         "mode": "lines",
         "name": "203",
         "showlegend": true,
         "type": "scattergl",
         "x": [
          2,
          5,
          6,
          7,
          8,
          9,
          10,
          11,
          12,
          13,
          14,
          16,
          20,
          21,
          22
         ],
         "xaxis": "x",
         "y": [
          2.3333333333333335,
          2.6666666666666665,
          0,
          0,
          2,
          3,
          3,
          3,
          4,
          2,
          2,
          0.6666666666666666,
          0.6666666666666666,
          0.5,
          0
         ],
         "yaxis": "y"
        },
        {
         "hovertemplate": "station_id=204<br>hour=%{x}<br>num_bikes_available=%{y}<extra></extra>",
         "legendgroup": "204",
         "line": {
          "color": "#FFA15A",
          "dash": "solid"
         },
         "marker": {
          "symbol": "circle"
         },
         "mode": "lines",
         "name": "204",
         "showlegend": true,
         "type": "scattergl",
         "x": [
          0,
          1,
          2,
          3,
          4,
          5,
          10,
          12,
          14,
          15,
          16,
          17,
          18,
          21,
          22,
          23
         ],
         "xaxis": "x",
         "y": [
          2,
          2.6666666666666665,
          3,
          0.6666666666666666,
          0.6666666666666666,
          1.5,
          3,
          1.5,
          0,
          0,
          1,
          0,
          3.5,
          0.5,
          0,
          0
         ],
         "yaxis": "y"
        },
        {
         "hovertemplate": "station_id=205<br>hour=%{x}<br>num_bikes_available=%{y}<extra></extra>",
         "legendgroup": "205",
         "line": {
          "color": "#19d3f3",
          "dash": "solid"
         },
         "marker": {
          "symbol": "circle"
         },
         "mode": "lines",
         "name": "205",
         "showlegend": true,
         "type": "scattergl",
         "x": [
          0,
          2,
          3,
          4,
          5,
          6,
          7,
          8,
          9,
          10,
          11,
          12,
          13,
          15,
          16,
          17,
          19,
          21,
          22
         ],
         "xaxis": "x",
         "y": [
          2.3333333333333335,
          1,
          1,
          3.5,
          3,
          6,
          5,
          5,
          1,
          1,
          3,
          4.666666666666667,
          3.5,
          3,
          3,
          1,
          1,
          6,
          0.6
         ],
         "yaxis": "y"
        },
        {
         "hovertemplate": "station_id=206<br>hour=%{x}<br>num_bikes_available=%{y}<extra></extra>",
         "legendgroup": "206",
         "line": {
          "color": "#FF6692",
          "dash": "solid"
         },
         "marker": {
          "symbol": "circle"
         },
         "mode": "lines",
         "name": "206",
         "showlegend": true,
         "type": "scattergl",
         "x": [
          0,
          1,
          3,
          4,
          5,
          6,
          7,
          10,
          11,
          12,
          14,
          15,
          16,
          17,
          18,
          19,
          21,
          22,
          23
         ],
         "xaxis": "x",
         "y": [
          1.3333333333333333,
          1,
          0,
          0,
          0,
          1,
          1,
          0,
          1,
          2,
          0,
          1,
          1,
          0,
          1,
          0,
          0,
          0,
          0
         ],
         "yaxis": "y"
        },
        {
         "hovertemplate": "station_id=207<br>hour=%{x}<br>num_bikes_available=%{y}<extra></extra>",
         "legendgroup": "207",
         "line": {
          "color": "#B6E880",
          "dash": "solid"
         },
         "marker": {
          "symbol": "circle"
         },
         "mode": "lines",
         "name": "207",
         "showlegend": true,
         "type": "scattergl",
         "x": [
          0,
          1,
          3,
          4,
          5,
          8,
          11,
          13,
          14,
          15,
          17,
          19,
          20,
          21,
          22,
          23
         ],
         "xaxis": "x",
         "y": [
          2.5,
          1,
          0.3333333333333333,
          1,
          2,
          4,
          14,
          17,
          16.5,
          17,
          10,
          3,
          1,
          1,
          1,
          0
         ],
         "yaxis": "y"
        },
        {
         "hovertemplate": "station_id=208<br>hour=%{x}<br>num_bikes_available=%{y}<extra></extra>",
         "legendgroup": "208",
         "line": {
          "color": "#FF97FF",
          "dash": "solid"
         },
         "marker": {
          "symbol": "circle"
         },
         "mode": "lines",
         "name": "208",
         "showlegend": true,
         "type": "scattergl",
         "x": [
          0,
          2,
          3,
          4,
          5,
          6,
          8,
          9,
          10,
          13,
          15,
          16,
          18,
          21
         ],
         "xaxis": "x",
         "y": [
          1,
          0,
          0,
          1,
          1,
          1,
          4,
          2.5,
          4.5,
          6,
          7.666666666666667,
          7,
          1,
          0
         ],
         "yaxis": "y"
        },
        {
         "hovertemplate": "station_id=209<br>hour=%{x}<br>num_bikes_available=%{y}<extra></extra>",
         "legendgroup": "209",
         "line": {
          "color": "#FECB52",
          "dash": "solid"
         },
         "marker": {
          "symbol": "circle"
         },
         "mode": "lines",
         "name": "209",
         "showlegend": true,
         "type": "scattergl",
         "x": [
          1,
          2,
          3,
          4,
          5,
          7,
          8,
          9,
          12,
          13,
          14,
          16,
          17,
          18,
          19,
          21,
          22,
          23
         ],
         "xaxis": "x",
         "y": [
          11.333333333333334,
          6,
          2,
          1,
          1,
          1,
          1.5,
          0.5,
          2,
          2,
          2.6666666666666665,
          4,
          8,
          1,
          9,
          3,
          9,
          9
         ],
         "yaxis": "y"
        },
        {
         "hovertemplate": "station_id=210<br>hour=%{x}<br>num_bikes_available=%{y}<extra></extra>",
         "legendgroup": "210",
         "line": {
          "color": "#636efa",
          "dash": "solid"
         },
         "marker": {
          "symbol": "circle"
         },
         "mode": "lines",
         "name": "210",
         "showlegend": true,
         "type": "scattergl",
         "x": [
          0,
          2,
          3,
          4,
          7,
          8,
          10,
          11,
          12,
          13,
          14,
          15,
          16,
          19,
          20,
          21
         ],
         "xaxis": "x",
         "y": [
          30.5,
          22.333333333333332,
          2,
          1,
          0,
          0,
          1,
          3,
          7.5,
          5,
          4,
          3,
          2,
          2.6666666666666665,
          3,
          5.5
         ],
         "yaxis": "y"
        },
        {
         "hovertemplate": "station_id=211<br>hour=%{x}<br>num_bikes_available=%{y}<extra></extra>",
         "legendgroup": "211",
         "line": {
          "color": "#EF553B",
          "dash": "solid"
         },
         "marker": {
          "symbol": "circle"
         },
         "mode": "lines",
         "name": "211",
         "showlegend": true,
         "type": "scattergl",
         "x": [
          0,
          3,
          4,
          6,
          7,
          8,
          9,
          11,
          12,
          16,
          17,
          19,
          20,
          21,
          22,
          23
         ],
         "xaxis": "x",
         "y": [
          24.5,
          13.5,
          13.5,
          7,
          6,
          5,
          5.75,
          6,
          7,
          8.5,
          9.5,
          11,
          15,
          11,
          12,
          11
         ],
         "yaxis": "y"
        },
        {
         "hovertemplate": "station_id=212<br>hour=%{x}<br>num_bikes_available=%{y}<extra></extra>",
         "legendgroup": "212",
         "line": {
          "color": "#00cc96",
          "dash": "solid"
         },
         "marker": {
          "symbol": "circle"
         },
         "mode": "lines",
         "name": "212",
         "showlegend": true,
         "type": "scattergl",
         "x": [
          0,
          2,
          3,
          5,
          6,
          8,
          9,
          10,
          11,
          12,
          14,
          15,
          16,
          18,
          19,
          22,
          23
         ],
         "xaxis": "x",
         "y": [
          0,
          3.3333333333333335,
          2.5,
          4,
          6,
          2,
          2,
          2,
          1,
          0,
          1.5,
          0,
          1,
          1,
          1,
          0,
          1
         ],
         "yaxis": "y"
        },
        {
         "hovertemplate": "station_id=213<br>hour=%{x}<br>num_bikes_available=%{y}<extra></extra>",
         "legendgroup": "213",
         "line": {
          "color": "#ab63fa",
          "dash": "solid"
         },
         "marker": {
          "symbol": "circle"
         },
         "mode": "lines",
         "name": "213",
         "showlegend": true,
         "type": "scattergl",
         "x": [
          0,
          1,
          2,
          3,
          5,
          7,
          8,
          10,
          11,
          12,
          13,
          14,
          15,
          16,
          17,
          18,
          19,
          20,
          22,
          23
         ],
         "xaxis": "x",
         "y": [
          0,
          0,
          0,
          0,
          0,
          1,
          3,
          3.5,
          1,
          2,
          1,
          2.5,
          0.2,
          2,
          1.5,
          5,
          3,
          0,
          4,
          0
         ],
         "yaxis": "y"
        },
        {
         "hovertemplate": "station_id=214<br>hour=%{x}<br>num_bikes_available=%{y}<extra></extra>",
         "legendgroup": "214",
         "line": {
          "color": "#FFA15A",
          "dash": "solid"
         },
         "marker": {
          "symbol": "circle"
         },
         "mode": "lines",
         "name": "214",
         "showlegend": true,
         "type": "scattergl",
         "x": [
          1,
          2,
          3,
          5,
          6,
          7,
          8,
          9,
          11,
          13,
          14,
          15,
          16,
          17,
          19,
          20,
          21,
          22,
          23
         ],
         "xaxis": "x",
         "y": [
          2.3333333333333335,
          1,
          0,
          0.6666666666666666,
          1,
          1,
          0,
          1,
          0,
          1,
          0,
          1,
          0.5,
          0,
          5,
          3,
          1,
          1,
          0.5
         ],
         "yaxis": "y"
        },
        {
         "hovertemplate": "station_id=215<br>hour=%{x}<br>num_bikes_available=%{y}<extra></extra>",
         "legendgroup": "215",
         "line": {
          "color": "#19d3f3",
          "dash": "solid"
         },
         "marker": {
          "symbol": "circle"
         },
         "mode": "lines",
         "name": "215",
         "showlegend": true,
         "type": "scattergl",
         "x": [
          0,
          2,
          3,
          4,
          7,
          8,
          11,
          12,
          13,
          15,
          16,
          18,
          20,
          21,
          22,
          23
         ],
         "xaxis": "x",
         "y": [
          2,
          0,
          1,
          1.5,
          3,
          5,
          14,
          14.5,
          16,
          4.666666666666667,
          4,
          7,
          1,
          2,
          5,
          0
         ],
         "yaxis": "y"
        },
        {
         "hovertemplate": "station_id=216<br>hour=%{x}<br>num_bikes_available=%{y}<extra></extra>",
         "legendgroup": "216",
         "line": {
          "color": "#FF6692",
          "dash": "solid"
         },
         "marker": {
          "symbol": "circle"
         },
         "mode": "lines",
         "name": "216",
         "showlegend": true,
         "type": "scattergl",
         "x": [
          1,
          2,
          4,
          5,
          6,
          9,
          11,
          13,
          14,
          15,
          16,
          17,
          18,
          19,
          20,
          21,
          22
         ],
         "xaxis": "x",
         "y": [
          1,
          3,
          1,
          4,
          4,
          2,
          0,
          1,
          0.75,
          1,
          1,
          0.6666666666666666,
          0.75,
          1.5,
          2.5,
          1,
          2
         ],
         "yaxis": "y"
        },
        {
         "hovertemplate": "station_id=217<br>hour=%{x}<br>num_bikes_available=%{y}<extra></extra>",
         "legendgroup": "217",
         "line": {
          "color": "#B6E880",
          "dash": "solid"
         },
         "marker": {
          "symbol": "circle"
         },
         "mode": "lines",
         "name": "217",
         "showlegend": true,
         "type": "scattergl",
         "x": [
          1,
          2,
          3,
          4,
          6,
          7,
          8,
          9,
          10,
          12,
          13,
          14,
          16,
          17,
          18,
          19,
          23
         ],
         "xaxis": "x",
         "y": [
          1,
          1,
          3,
          5,
          5,
          6,
          6,
          6,
          7.666666666666667,
          1,
          1,
          1,
          3,
          1,
          0.5,
          2,
          7
         ],
         "yaxis": "y"
        },
        {
         "hovertemplate": "station_id=218<br>hour=%{x}<br>num_bikes_available=%{y}<extra></extra>",
         "legendgroup": "218",
         "line": {
          "color": "#FF97FF",
          "dash": "solid"
         },
         "marker": {
          "symbol": "circle"
         },
         "mode": "lines",
         "name": "218",
         "showlegend": true,
         "type": "scattergl",
         "x": [
          4,
          5,
          8,
          9,
          10,
          11,
          13,
          14,
          15,
          16,
          17,
          18,
          19
         ],
         "xaxis": "x",
         "y": [
          24.333333333333332,
          29,
          31.5,
          34,
          32,
          27,
          30,
          34,
          34,
          24.5,
          18.666666666666668,
          15,
          20.5
         ],
         "yaxis": "y"
        },
        {
         "hovertemplate": "station_id=219<br>hour=%{x}<br>num_bikes_available=%{y}<extra></extra>",
         "legendgroup": "219",
         "line": {
          "color": "#FECB52",
          "dash": "solid"
         },
         "marker": {
          "symbol": "circle"
         },
         "mode": "lines",
         "name": "219",
         "showlegend": true,
         "type": "scattergl",
         "x": [
          1,
          2,
          3,
          5,
          6,
          8,
          9,
          10,
          11,
          12,
          13,
          14,
          16,
          20,
          21,
          23
         ],
         "xaxis": "x",
         "y": [
          2,
          1,
          2,
          4.5,
          2,
          1,
          3,
          4,
          1,
          1,
          4,
          4,
          2,
          4.5,
          9.666666666666666,
          16.5
         ],
         "yaxis": "y"
        },
        {
         "hovertemplate": "station_id=220<br>hour=%{x}<br>num_bikes_available=%{y}<extra></extra>",
         "legendgroup": "220",
         "line": {
          "color": "#636efa",
          "dash": "solid"
         },
         "marker": {
          "symbol": "circle"
         },
         "mode": "lines",
         "name": "220",
         "showlegend": true,
         "type": "scattergl",
         "x": [
          0,
          2,
          3,
          4,
          5,
          6,
          9,
          10,
          11,
          12,
          13,
          14,
          15,
          16,
          17,
          18,
          19,
          20,
          22,
          23
         ],
         "xaxis": "x",
         "y": [
          15,
          3.5,
          2,
          0.6666666666666666,
          0,
          0.3333333333333333,
          3.5,
          3,
          6,
          4,
          3.3333333333333335,
          1,
          2,
          1,
          3,
          0.5,
          2,
          0,
          8,
          9
         ],
         "yaxis": "y"
        },
        {
         "hovertemplate": "station_id=221<br>hour=%{x}<br>num_bikes_available=%{y}<extra></extra>",
         "legendgroup": "221",
         "line": {
          "color": "#EF553B",
          "dash": "solid"
         },
         "marker": {
          "symbol": "circle"
         },
         "mode": "lines",
         "name": "221",
         "showlegend": true,
         "type": "scattergl",
         "x": [
          0,
          1,
          2,
          6,
          8,
          10,
          11,
          12,
          13,
          14,
          16,
          19,
          20,
          22,
          23
         ],
         "xaxis": "x",
         "y": [
          1,
          0.5,
          1.5,
          8,
          8,
          10,
          9.333333333333334,
          10.5,
          12,
          8,
          0,
          4,
          3,
          10,
          18
         ],
         "yaxis": "y"
        },
        {
         "hovertemplate": "station_id=222<br>hour=%{x}<br>num_bikes_available=%{y}<extra></extra>",
         "legendgroup": "222",
         "line": {
          "color": "#00cc96",
          "dash": "solid"
         },
         "marker": {
          "symbol": "circle"
         },
         "mode": "lines",
         "name": "222",
         "showlegend": true,
         "type": "scattergl",
         "x": [
          0,
          2,
          3,
          4,
          5,
          6,
          8,
          9,
          10,
          12,
          13,
          14,
          16,
          17,
          19,
          20,
          21,
          22,
          23
         ],
         "xaxis": "x",
         "y": [
          0,
          1,
          9,
          16,
          16,
          15,
          8,
          5,
          2.5,
          3.5,
          5.5,
          4,
          2,
          1,
          1,
          11.333333333333334,
          14,
          13.666666666666666,
          11
         ],
         "yaxis": "y"
        },
        {
         "hovertemplate": "station_id=223<br>hour=%{x}<br>num_bikes_available=%{y}<extra></extra>",
         "legendgroup": "223",
         "line": {
          "color": "#ab63fa",
          "dash": "solid"
         },
         "marker": {
          "symbol": "circle"
         },
         "mode": "lines",
         "name": "223",
         "showlegend": true,
         "type": "scattergl",
         "x": [
          0,
          1,
          2,
          4,
          7,
          10,
          11,
          12,
          13,
          19,
          20,
          21,
          22,
          23
         ],
         "xaxis": "x",
         "y": [
          9.333333333333334,
          0,
          17,
          14.25,
          16,
          12,
          11,
          11,
          7,
          1.5,
          10,
          7.333333333333333,
          5,
          3
         ],
         "yaxis": "y"
        },
        {
         "hovertemplate": "station_id=224<br>hour=%{x}<br>num_bikes_available=%{y}<extra></extra>",
         "legendgroup": "224",
         "line": {
          "color": "#FFA15A",
          "dash": "solid"
         },
         "marker": {
          "symbol": "circle"
         },
         "mode": "lines",
         "name": "224",
         "showlegend": true,
         "type": "scattergl",
         "x": [
          2,
          3,
          5,
          6,
          8,
          9,
          10,
          11,
          12,
          13,
          14,
          16,
          17,
          18,
          19,
          20,
          21,
          22,
          23
         ],
         "xaxis": "x",
         "y": [
          4,
          9,
          8,
          7,
          7,
          7,
          3,
          1,
          1,
          18,
          10,
          6.25,
          0,
          8,
          12,
          0.5,
          1.6666666666666667,
          5,
          6.5
         ],
         "yaxis": "y"
        },
        {
         "hovertemplate": "station_id=225<br>hour=%{x}<br>num_bikes_available=%{y}<extra></extra>",
         "legendgroup": "225",
         "line": {
          "color": "#19d3f3",
          "dash": "solid"
         },
         "marker": {
          "symbol": "circle"
         },
         "mode": "lines",
         "name": "225",
         "showlegend": true,
         "type": "scattergl",
         "x": [
          0,
          1,
          2,
          4,
          5,
          6,
          8,
          9,
          10,
          12,
          14,
          16,
          17,
          18,
          19,
          20,
          21,
          22
         ],
         "xaxis": "x",
         "y": [
          4,
          6.5,
          10.5,
          13,
          15,
          16,
          17,
          16,
          9,
          4,
          6,
          0.5,
          1,
          0,
          0.75,
          0,
          3,
          1.3333333333333333
         ],
         "yaxis": "y"
        },
        {
         "hovertemplate": "station_id=226<br>hour=%{x}<br>num_bikes_available=%{y}<extra></extra>",
         "legendgroup": "226",
         "line": {
          "color": "#FF6692",
          "dash": "solid"
         },
         "marker": {
          "symbol": "circle"
         },
         "mode": "lines",
         "name": "226",
         "showlegend": true,
         "type": "scattergl",
         "x": [
          0,
          1,
          2,
          3,
          5,
          6,
          8,
          9,
          10,
          11,
          13,
          15,
          16,
          21,
          22,
          23
         ],
         "xaxis": "x",
         "y": [
          2.3333333333333335,
          5,
          18,
          18,
          22,
          21,
          20,
          16,
          13.5,
          4,
          2,
          12.5,
          1,
          17.5,
          18.2,
          18
         ],
         "yaxis": "y"
        },
        {
         "hovertemplate": "station_id=227<br>hour=%{x}<br>num_bikes_available=%{y}<extra></extra>",
         "legendgroup": "227",
         "line": {
          "color": "#B6E880",
          "dash": "solid"
         },
         "marker": {
          "symbol": "circle"
         },
         "mode": "lines",
         "name": "227",
         "showlegend": true,
         "type": "scattergl",
         "x": [
          0,
          1,
          2,
          3,
          4,
          5,
          6,
          7,
          8,
          9,
          10,
          11,
          12,
          13,
          15,
          16,
          17,
          18,
          19,
          21
         ],
         "xaxis": "x",
         "y": [
          7,
          8.5,
          9.5,
          14,
          14,
          16,
          15.5,
          15,
          10,
          6,
          3.5,
          5,
          2,
          1.5,
          0,
          4.25,
          1,
          7,
          3,
          1
         ],
         "yaxis": "y"
        },
        {
         "hovertemplate": "station_id=228<br>hour=%{x}<br>num_bikes_available=%{y}<extra></extra>",
         "legendgroup": "228",
         "line": {
          "color": "#FF97FF",
          "dash": "solid"
         },
         "marker": {
          "symbol": "circle"
         },
         "mode": "lines",
         "name": "228",
         "showlegend": true,
         "type": "scattergl",
         "x": [
          2,
          3,
          5,
          6,
          7,
          8,
          9,
          10,
          11,
          12,
          13,
          14,
          15,
          17,
          18,
          19,
          20,
          21,
          22,
          23
         ],
         "xaxis": "x",
         "y": [
          4.5,
          4,
          5,
          6,
          6,
          3,
          3,
          2,
          2,
          0,
          1.5,
          0,
          1.5,
          0,
          1,
          1,
          6,
          1,
          1.3333333333333333,
          5.333333333333333
         ],
         "yaxis": "y"
        },
        {
         "hovertemplate": "station_id=229<br>hour=%{x}<br>num_bikes_available=%{y}<extra></extra>",
         "legendgroup": "229",
         "line": {
          "color": "#FECB52",
          "dash": "solid"
         },
         "marker": {
          "symbol": "circle"
         },
         "mode": "lines",
         "name": "229",
         "showlegend": true,
         "type": "scattergl",
         "x": [
          0,
          1,
          2,
          3,
          4,
          8,
          9,
          10,
          11,
          12,
          13,
          14,
          17,
          18,
          19,
          20,
          21,
          22,
          23
         ],
         "xaxis": "x",
         "y": [
          4,
          3,
          2,
          13,
          11,
          12,
          8,
          7.5,
          6,
          2.5,
          0,
          3,
          0,
          2.5,
          7,
          5,
          4.333333333333333,
          2,
          1.5
         ],
         "yaxis": "y"
        },
        {
         "hovertemplate": "station_id=230<br>hour=%{x}<br>num_bikes_available=%{y}<extra></extra>",
         "legendgroup": "230",
         "line": {
          "color": "#636efa",
          "dash": "solid"
         },
         "marker": {
          "symbol": "circle"
         },
         "mode": "lines",
         "name": "230",
         "showlegend": true,
         "type": "scattergl",
         "x": [
          0,
          1,
          2,
          3,
          4,
          5,
          7,
          8,
          10,
          12,
          13,
          14,
          15,
          16,
          17,
          19,
          22
         ],
         "xaxis": "x",
         "y": [
          2,
          4,
          4.25,
          10.333333333333334,
          16,
          13.5,
          15,
          13,
          9.666666666666666,
          9.5,
          7.5,
          1,
          5,
          3,
          1.6666666666666667,
          1.5,
          4
         ],
         "yaxis": "y"
        },
        {
         "hovertemplate": "station_id=231<br>hour=%{x}<br>num_bikes_available=%{y}<extra></extra>",
         "legendgroup": "231",
         "line": {
          "color": "#EF553B",
          "dash": "solid"
         },
         "marker": {
          "symbol": "circle"
         },
         "mode": "lines",
         "name": "231",
         "showlegend": true,
         "type": "scattergl",
         "x": [
          3,
          5,
          7,
          8,
          10,
          11,
          12,
          14,
          15,
          16,
          17,
          19,
          20,
          21,
          23
         ],
         "xaxis": "x",
         "y": [
          19,
          21,
          19,
          18.5,
          15,
          10,
          8.333333333333334,
          4,
          2,
          1,
          3,
          0,
          1,
          13,
          14.666666666666666
         ],
         "yaxis": "y"
        },
        {
         "hovertemplate": "station_id=232<br>hour=%{x}<br>num_bikes_available=%{y}<extra></extra>",
         "legendgroup": "232",
         "line": {
          "color": "#00cc96",
          "dash": "solid"
         },
         "marker": {
          "symbol": "circle"
         },
         "mode": "lines",
         "name": "232",
         "showlegend": true,
         "type": "scattergl",
         "x": [
          1,
          2,
          4,
          5,
          6,
          7,
          9,
          10,
          11,
          12,
          13,
          15,
          16,
          17,
          18,
          19,
          20,
          23
         ],
         "xaxis": "x",
         "y": [
          23.5,
          23,
          23,
          20,
          20,
          17.25,
          17,
          15,
          15,
          18,
          19,
          24,
          24,
          20,
          22,
          22.5,
          23.5,
          22.5
         ],
         "yaxis": "y"
        },
        {
         "hovertemplate": "station_id=233<br>hour=%{x}<br>num_bikes_available=%{y}<extra></extra>",
         "legendgroup": "233",
         "line": {
          "color": "#ab63fa",
          "dash": "solid"
         },
         "marker": {
          "symbol": "circle"
         },
         "mode": "lines",
         "name": "233",
         "showlegend": true,
         "type": "scattergl",
         "x": [
          0,
          1,
          2,
          3,
          4,
          5,
          8,
          10,
          11,
          12,
          13,
          14,
          15,
          16,
          19,
          20,
          22
         ],
         "xaxis": "x",
         "y": [
          18.25,
          25.5,
          25,
          26,
          23,
          23,
          24,
          16,
          10,
          11,
          7,
          6,
          11,
          10,
          17,
          14,
          2
         ],
         "yaxis": "y"
        },
        {
         "hovertemplate": "station_id=234<br>hour=%{x}<br>num_bikes_available=%{y}<extra></extra>",
         "legendgroup": "234",
         "line": {
          "color": "#FFA15A",
          "dash": "solid"
         },
         "marker": {
          "symbol": "circle"
         },
         "mode": "lines",
         "name": "234",
         "showlegend": true,
         "type": "scattergl",
         "x": [
          1,
          5,
          7,
          8,
          10,
          12,
          13,
          14,
          16,
          18,
          19,
          21,
          22
         ],
         "xaxis": "x",
         "y": [
          13.5,
          23.5,
          20,
          18.333333333333332,
          17,
          12,
          5,
          2.5,
          10,
          19,
          14,
          16,
          16
         ],
         "yaxis": "y"
        },
        {
         "hovertemplate": "station_id=235<br>hour=%{x}<br>num_bikes_available=%{y}<extra></extra>",
         "legendgroup": "235",
         "line": {
          "color": "#19d3f3",
          "dash": "solid"
         },
         "marker": {
          "symbol": "circle"
         },
         "mode": "lines",
         "name": "235",
         "showlegend": true,
         "type": "scattergl",
         "x": [
          2,
          3,
          4,
          5,
          6,
          9,
          10,
          11,
          12,
          13,
          14,
          16,
          17,
          18,
          20,
          21
         ],
         "xaxis": "x",
         "y": [
          18.5,
          19,
          17,
          14.333333333333334,
          16,
          15,
          14,
          14,
          12,
          10,
          12,
          15,
          14,
          17,
          10.5,
          18
         ],
         "yaxis": "y"
        },
        {
         "hovertemplate": "station_id=236<br>hour=%{x}<br>num_bikes_available=%{y}<extra></extra>",
         "legendgroup": "236",
         "line": {
          "color": "#FF6692",
          "dash": "solid"
         },
         "marker": {
          "symbol": "circle"
         },
         "mode": "lines",
         "name": "236",
         "showlegend": true,
         "type": "scattergl",
         "x": [
          0,
          1,
          4,
          5,
          6,
          8,
          11,
          13,
          14,
          16,
          17,
          18,
          19,
          20,
          23
         ],
         "xaxis": "x",
         "y": [
          2,
          3.6666666666666665,
          2,
          1.5,
          2.3333333333333335,
          2,
          6,
          5,
          0,
          8,
          10,
          5,
          2,
          0,
          0
         ],
         "yaxis": "y"
        },
        {
         "hovertemplate": "station_id=237<br>hour=%{x}<br>num_bikes_available=%{y}<extra></extra>",
         "legendgroup": "237",
         "line": {
          "color": "#B6E880",
          "dash": "solid"
         },
         "marker": {
          "symbol": "circle"
         },
         "mode": "lines",
         "name": "237",
         "showlegend": true,
         "type": "scattergl",
         "x": [
          1,
          2,
          3,
          4,
          5,
          7,
          9,
          10,
          11,
          12,
          13,
          15,
          16,
          17,
          18,
          20,
          22,
          23
         ],
         "xaxis": "x",
         "y": [
          24,
          20,
          21.5,
          21.5,
          19.666666666666668,
          15,
          17,
          19,
          19.5,
          23,
          23,
          14.5,
          19,
          15,
          15.5,
          15,
          23,
          23
         ],
         "yaxis": "y"
        },
        {
         "hovertemplate": "station_id=238<br>hour=%{x}<br>num_bikes_available=%{y}<extra></extra>",
         "legendgroup": "238",
         "line": {
          "color": "#FF97FF",
          "dash": "solid"
         },
         "marker": {
          "symbol": "circle"
         },
         "mode": "lines",
         "name": "238",
         "showlegend": true,
         "type": "scattergl",
         "x": [
          0,
          1,
          5,
          6,
          7,
          8,
          10,
          11,
          13,
          14,
          15,
          16,
          18,
          19,
          20,
          21,
          22
         ],
         "xaxis": "x",
         "y": [
          8,
          12,
          19,
          19,
          19,
          20,
          21.5,
          17,
          17.5,
          16,
          17,
          15,
          8,
          4,
          4,
          6,
          4.5
         ],
         "yaxis": "y"
        },
        {
         "hovertemplate": "station_id=239<br>hour=%{x}<br>num_bikes_available=%{y}<extra></extra>",
         "legendgroup": "239",
         "line": {
          "color": "#FECB52",
          "dash": "solid"
         },
         "marker": {
          "symbol": "circle"
         },
         "mode": "lines",
         "name": "239",
         "showlegend": true,
         "type": "scattergl",
         "x": [
          0,
          5,
          6,
          7,
          8,
          9,
          11,
          13,
          14,
          15,
          16,
          17,
          18,
          19,
          20,
          21,
          22,
          23
         ],
         "xaxis": "x",
         "y": [
          2,
          9,
          7,
          9,
          9,
          13,
          16,
          12,
          13,
          15,
          14.333333333333334,
          10,
          6.75,
          8.5,
          8.5,
          18,
          23,
          24
         ],
         "yaxis": "y"
        },
        {
         "hovertemplate": "station_id=240<br>hour=%{x}<br>num_bikes_available=%{y}<extra></extra>",
         "legendgroup": "240",
         "line": {
          "color": "#636efa",
          "dash": "solid"
         },
         "marker": {
          "symbol": "circle"
         },
         "mode": "lines",
         "name": "240",
         "showlegend": true,
         "type": "scattergl",
         "x": [
          1,
          2,
          3,
          4,
          5,
          7,
          8,
          9,
          11,
          12,
          14,
          15,
          16,
          19,
          20,
          22,
          23
         ],
         "xaxis": "x",
         "y": [
          18,
          17,
          20.5,
          21,
          20,
          22,
          16,
          18,
          17.5,
          12.5,
          14.333333333333334,
          14,
          13,
          5,
          2,
          9,
          10
         ],
         "yaxis": "y"
        },
        {
         "hovertemplate": "station_id=241<br>hour=%{x}<br>num_bikes_available=%{y}<extra></extra>",
         "legendgroup": "241",
         "line": {
          "color": "#EF553B",
          "dash": "solid"
         },
         "marker": {
          "symbol": "circle"
         },
         "mode": "lines",
         "name": "241",
         "showlegend": true,
         "type": "scattergl",
         "x": [
          1,
          2,
          5,
          6,
          7,
          8,
          9,
          10,
          12,
          14,
          15,
          16,
          18,
          19,
          20,
          21,
          22
         ],
         "xaxis": "x",
         "y": [
          11,
          13,
          20.857142857142858,
          20,
          20.5,
          19,
          15,
          12,
          5,
          25.25,
          20,
          21,
          8,
          4.5,
          6,
          10,
          18
         ],
         "yaxis": "y"
        },
        {
         "hovertemplate": "station_id=242<br>hour=%{x}<br>num_bikes_available=%{y}<extra></extra>",
         "legendgroup": "242",
         "line": {
          "color": "#00cc96",
          "dash": "solid"
         },
         "marker": {
          "symbol": "circle"
         },
         "mode": "lines",
         "name": "242",
         "showlegend": true,
         "type": "scattergl",
         "x": [
          0,
          1,
          3,
          4,
          5,
          6,
          8,
          9,
          10,
          11,
          12,
          13,
          15,
          16,
          20,
          21,
          22,
          23
         ],
         "xaxis": "x",
         "y": [
          3.8,
          4,
          13.5,
          9,
          9,
          9,
          8,
          5.666666666666667,
          4,
          7,
          7,
          6,
          8,
          6,
          3.5,
          1,
          0,
          1
         ],
         "yaxis": "y"
        },
        {
         "hovertemplate": "station_id=243<br>hour=%{x}<br>num_bikes_available=%{y}<extra></extra>",
         "legendgroup": "243",
         "line": {
          "color": "#ab63fa",
          "dash": "solid"
         },
         "marker": {
          "symbol": "circle"
         },
         "mode": "lines",
         "name": "243",
         "showlegend": true,
         "type": "scattergl",
         "x": [
          1,
          3,
          4,
          5,
          6,
          7,
          8,
          10,
          11,
          12,
          13,
          14,
          15,
          17,
          18,
          19,
          20,
          21,
          22,
          23
         ],
         "xaxis": "x",
         "y": [
          9,
          9,
          11,
          11,
          9,
          9,
          6.5,
          5,
          5,
          4,
          4,
          4,
          3.5,
          2,
          1,
          1,
          1,
          4,
          4,
          4
         ],
         "yaxis": "y"
        },
        {
         "hovertemplate": "station_id=244<br>hour=%{x}<br>num_bikes_available=%{y}<extra></extra>",
         "legendgroup": "244",
         "line": {
          "color": "#FFA15A",
          "dash": "solid"
         },
         "marker": {
          "symbol": "circle"
         },
         "mode": "lines",
         "name": "244",
         "showlegend": true,
         "type": "scattergl",
         "x": [
          1,
          3,
          5,
          6,
          8,
          11,
          12,
          13,
          14,
          15,
          19,
          23
         ],
         "xaxis": "x",
         "y": [
          7,
          6.5,
          5.333333333333333,
          1.5,
          2,
          15.333333333333334,
          12.333333333333334,
          11,
          13.5,
          11,
          5,
          6
         ],
         "yaxis": "y"
        },
        {
         "hovertemplate": "station_id=245<br>hour=%{x}<br>num_bikes_available=%{y}<extra></extra>",
         "legendgroup": "245",
         "line": {
          "color": "#19d3f3",
          "dash": "solid"
         },
         "marker": {
          "symbol": "circle"
         },
         "mode": "lines",
         "name": "245",
         "showlegend": true,
         "type": "scattergl",
         "x": [
          1,
          2,
          3,
          4,
          5,
          6,
          7,
          8,
          9,
          10,
          12,
          14,
          15,
          16,
          17,
          18,
          19,
          20,
          21,
          22,
          23
         ],
         "xaxis": "x",
         "y": [
          11,
          15,
          12,
          13,
          13,
          14,
          14,
          16,
          14.666666666666666,
          13,
          11.666666666666666,
          16.5,
          20,
          17,
          17,
          16,
          19,
          15,
          16,
          16,
          14
         ],
         "yaxis": "y"
        },
        {
         "hovertemplate": "station_id=246<br>hour=%{x}<br>num_bikes_available=%{y}<extra></extra>",
         "legendgroup": "246",
         "line": {
          "color": "#FF6692",
          "dash": "solid"
         },
         "marker": {
          "symbol": "circle"
         },
         "mode": "lines",
         "name": "246",
         "showlegend": true,
         "type": "scattergl",
         "x": [
          0,
          1,
          4,
          5,
          6,
          7,
          8,
          10,
          11,
          12,
          14,
          15,
          16,
          17,
          18,
          19,
          20,
          21,
          22,
          23
         ],
         "xaxis": "x",
         "y": [
          7,
          9.666666666666666,
          0,
          7,
          8,
          4,
          8.5,
          14.5,
          15,
          11,
          8,
          6,
          3,
          2,
          3.3333333333333335,
          6,
          3.5,
          2.5,
          1.6666666666666667,
          0
         ],
         "yaxis": "y"
        },
        {
         "hovertemplate": "station_id=247<br>hour=%{x}<br>num_bikes_available=%{y}<extra></extra>",
         "legendgroup": "247",
         "line": {
          "color": "#B6E880",
          "dash": "solid"
         },
         "marker": {
          "symbol": "circle"
         },
         "mode": "lines",
         "name": "247",
         "showlegend": true,
         "type": "scattergl",
         "x": [
          0,
          1,
          3,
          4,
          5,
          6,
          7,
          8,
          9,
          10,
          12,
          14,
          15,
          17,
          18,
          19,
          20,
          21,
          22
         ],
         "xaxis": "x",
         "y": [
          16.5,
          19,
          18,
          20,
          20,
          16,
          15,
          13,
          12,
          12,
          10,
          8,
          7.5,
          7.25,
          7,
          8,
          7.666666666666667,
          6,
          4
         ],
         "yaxis": "y"
        },
        {
         "hovertemplate": "station_id=248<br>hour=%{x}<br>num_bikes_available=%{y}<extra></extra>",
         "legendgroup": "248",
         "line": {
          "color": "#FF97FF",
          "dash": "solid"
         },
         "marker": {
          "symbol": "circle"
         },
         "mode": "lines",
         "name": "248",
         "showlegend": true,
         "type": "scattergl",
         "x": [
          0,
          1,
          2,
          3,
          6,
          8,
          9,
          11,
          12,
          14,
          15,
          17,
          18,
          19,
          20,
          21,
          22,
          23
         ],
         "xaxis": "x",
         "y": [
          10,
          11.5,
          11.5,
          12,
          13,
          13,
          11,
          10,
          10,
          6,
          3,
          12,
          10,
          11,
          12,
          15.5,
          17.5,
          17
         ],
         "yaxis": "y"
        },
        {
         "hovertemplate": "station_id=249<br>hour=%{x}<br>num_bikes_available=%{y}<extra></extra>",
         "legendgroup": "249",
         "line": {
          "color": "#FECB52",
          "dash": "solid"
         },
         "marker": {
          "symbol": "circle"
         },
         "mode": "lines",
         "name": "249",
         "showlegend": true,
         "type": "scattergl",
         "x": [
          0,
          2,
          3,
          6,
          7,
          11,
          12,
          14,
          15,
          17,
          19,
          20,
          21,
          22
         ],
         "xaxis": "x",
         "y": [
          25,
          15,
          11,
          9,
          9,
          12,
          11,
          7,
          6.333333333333333,
          4,
          2,
          5,
          7,
          9
         ],
         "yaxis": "y"
        },
        {
         "hovertemplate": "station_id=250<br>hour=%{x}<br>num_bikes_available=%{y}<extra></extra>",
         "legendgroup": "250",
         "line": {
          "color": "#636efa",
          "dash": "solid"
         },
         "marker": {
          "symbol": "circle"
         },
         "mode": "lines",
         "name": "250",
         "showlegend": true,
         "type": "scattergl",
         "x": [
          0,
          1,
          2,
          3,
          4,
          5,
          6,
          7,
          9,
          10,
          11,
          12,
          13,
          15,
          16,
          17,
          18,
          19,
          20,
          23
         ],
         "xaxis": "x",
         "y": [
          11,
          14,
          16.666666666666668,
          19.333333333333332,
          22,
          25,
          26,
          26,
          26,
          13,
          11,
          11.5,
          10.5,
          9,
          6.333333333333333,
          6,
          5,
          6,
          13.5,
          19
         ],
         "yaxis": "y"
        },
        {
         "hovertemplate": "station_id=251<br>hour=%{x}<br>num_bikes_available=%{y}<extra></extra>",
         "legendgroup": "251",
         "line": {
          "color": "#EF553B",
          "dash": "solid"
         },
         "marker": {
          "symbol": "circle"
         },
         "mode": "lines",
         "name": "251",
         "showlegend": true,
         "type": "scattergl",
         "x": [
          1,
          3,
          5,
          7,
          8,
          10,
          13,
          14,
          15,
          16,
          17,
          18,
          20,
          21,
          23
         ],
         "xaxis": "x",
         "y": [
          13.666666666666666,
          15,
          16,
          19,
          20.5,
          17,
          19,
          20,
          15,
          13.5,
          4.5,
          4,
          2,
          6,
          14
         ],
         "yaxis": "y"
        },
        {
         "hovertemplate": "station_id=252<br>hour=%{x}<br>num_bikes_available=%{y}<extra></extra>",
         "legendgroup": "252",
         "line": {
          "color": "#00cc96",
          "dash": "solid"
         },
         "marker": {
          "symbol": "circle"
         },
         "mode": "lines",
         "name": "252",
         "showlegend": true,
         "type": "scattergl",
         "x": [
          0,
          5,
          6,
          7,
          9,
          11,
          12,
          13,
          14,
          16,
          17,
          18,
          19,
          20,
          23
         ],
         "xaxis": "x",
         "y": [
          25.333333333333332,
          21,
          24.5,
          22.5,
          22.5,
          21,
          23,
          22,
          23.5,
          29,
          31.5,
          30,
          27,
          28,
          30
         ],
         "yaxis": "y"
        },
        {
         "hovertemplate": "station_id=253<br>hour=%{x}<br>num_bikes_available=%{y}<extra></extra>",
         "legendgroup": "253",
         "line": {
          "color": "#ab63fa",
          "dash": "solid"
         },
         "marker": {
          "symbol": "circle"
         },
         "mode": "lines",
         "name": "253",
         "showlegend": true,
         "type": "scattergl",
         "x": [
          0,
          1,
          2,
          3,
          4,
          5,
          6,
          8,
          9,
          13,
          14,
          15,
          16,
          17,
          18,
          20,
          21,
          23
         ],
         "xaxis": "x",
         "y": [
          27,
          27,
          10,
          10,
          11,
          11,
          11,
          12,
          11,
          12,
          11.5,
          12,
          13,
          14.5,
          13,
          12,
          15,
          14
         ],
         "yaxis": "y"
        },
        {
         "hovertemplate": "station_id=254<br>hour=%{x}<br>num_bikes_available=%{y}<extra></extra>",
         "legendgroup": "254",
         "line": {
          "color": "#FFA15A",
          "dash": "solid"
         },
         "marker": {
          "symbol": "circle"
         },
         "mode": "lines",
         "name": "254",
         "showlegend": true,
         "type": "scattergl",
         "x": [
          1,
          3,
          4,
          5,
          6,
          8,
          11,
          12,
          14,
          15,
          17,
          18,
          21,
          22,
          23
         ],
         "xaxis": "x",
         "y": [
          13,
          20,
          20.5,
          16,
          12.75,
          10,
          9.333333333333334,
          8,
          6,
          10,
          3,
          3,
          9.5,
          16,
          14
         ],
         "yaxis": "y"
        },
        {
         "hovertemplate": "station_id=255<br>hour=%{x}<br>num_bikes_available=%{y}<extra></extra>",
         "legendgroup": "255",
         "line": {
          "color": "#19d3f3",
          "dash": "solid"
         },
         "marker": {
          "symbol": "circle"
         },
         "mode": "lines",
         "name": "255",
         "showlegend": true,
         "type": "scattergl",
         "x": [
          1,
          2,
          4,
          6,
          7,
          11,
          12,
          13,
          14,
          15,
          16,
          17,
          19,
          20,
          21,
          23
         ],
         "xaxis": "x",
         "y": [
          8,
          7,
          7,
          8,
          8,
          8,
          6.5,
          6,
          6.666666666666667,
          8,
          8,
          4.333333333333333,
          3,
          1,
          2.5,
          3
         ],
         "yaxis": "y"
        },
        {
         "hovertemplate": "station_id=256<br>hour=%{x}<br>num_bikes_available=%{y}<extra></extra>",
         "legendgroup": "256",
         "line": {
          "color": "#FF6692",
          "dash": "solid"
         },
         "marker": {
          "symbol": "circle"
         },
         "mode": "lines",
         "name": "256",
         "showlegend": true,
         "type": "scattergl",
         "x": [
          0,
          1,
          4,
          5,
          6,
          7,
          8,
          10,
          12,
          13,
          14,
          17,
          20,
          21,
          22,
          23
         ],
         "xaxis": "x",
         "y": [
          20,
          21,
          25,
          22.333333333333332,
          19,
          19,
          19,
          18.5,
          19,
          21,
          21,
          19,
          19,
          20,
          20,
          21
         ],
         "yaxis": "y"
        },
        {
         "hovertemplate": "station_id=257<br>hour=%{x}<br>num_bikes_available=%{y}<extra></extra>",
         "legendgroup": "257",
         "line": {
          "color": "#B6E880",
          "dash": "solid"
         },
         "marker": {
          "symbol": "circle"
         },
         "mode": "lines",
         "name": "257",
         "showlegend": true,
         "type": "scattergl",
         "x": [
          0,
          1,
          3,
          5,
          6,
          7,
          9,
          10,
          11,
          12,
          14,
          15,
          16,
          17,
          18,
          19,
          20,
          21,
          22
         ],
         "xaxis": "x",
         "y": [
          18,
          19,
          21.5,
          19.25,
          20,
          20,
          19,
          20,
          21.5,
          19,
          17,
          14,
          13.5,
          13,
          16,
          18,
          19.666666666666668,
          18,
          21
         ],
         "yaxis": "y"
        },
        {
         "hovertemplate": "station_id=258<br>hour=%{x}<br>num_bikes_available=%{y}<extra></extra>",
         "legendgroup": "258",
         "line": {
          "color": "#FF97FF",
          "dash": "solid"
         },
         "marker": {
          "symbol": "circle"
         },
         "mode": "lines",
         "name": "258",
         "showlegend": true,
         "type": "scattergl",
         "x": [
          1,
          2,
          3,
          4,
          5,
          6,
          7,
          8,
          9,
          11,
          12,
          13,
          14,
          15,
          16,
          17,
          18,
          19,
          20,
          21,
          23
         ],
         "xaxis": "x",
         "y": [
          13,
          13,
          13,
          15,
          14,
          14,
          14,
          13.5,
          14,
          14,
          14,
          14,
          14.333333333333334,
          14,
          14,
          14,
          18,
          16,
          17,
          18,
          18
         ],
         "yaxis": "y"
        },
        {
         "hovertemplate": "station_id=259<br>hour=%{x}<br>num_bikes_available=%{y}<extra></extra>",
         "legendgroup": "259",
         "line": {
          "color": "#FECB52",
          "dash": "solid"
         },
         "marker": {
          "symbol": "circle"
         },
         "mode": "lines",
         "name": "259",
         "showlegend": true,
         "type": "scattergl",
         "x": [
          1,
          2,
          3,
          5,
          6,
          10,
          12,
          13,
          14,
          15,
          16,
          17,
          19,
          21,
          23
         ],
         "xaxis": "x",
         "y": [
          4.5,
          9,
          9,
          9,
          12,
          11,
          7,
          9,
          11.5,
          12.5,
          14.75,
          16,
          12,
          10,
          18
         ],
         "yaxis": "y"
        },
        {
         "hovertemplate": "station_id=260<br>hour=%{x}<br>num_bikes_available=%{y}<extra></extra>",
         "legendgroup": "260",
         "line": {
          "color": "#636efa",
          "dash": "solid"
         },
         "marker": {
          "symbol": "circle"
         },
         "mode": "lines",
         "name": "260",
         "showlegend": true,
         "type": "scattergl",
         "x": [
          0,
          1,
          4,
          5,
          6,
          7,
          11,
          12,
          14,
          16,
          17,
          18,
          19,
          20,
          21,
          22,
          23
         ],
         "xaxis": "x",
         "y": [
          9,
          10,
          6,
          6,
          6,
          6,
          9,
          11,
          13,
          11.666666666666666,
          13,
          13,
          11.5,
          17,
          18,
          16.5,
          12.5
         ],
         "yaxis": "y"
        },
        {
         "hovertemplate": "station_id=261<br>hour=%{x}<br>num_bikes_available=%{y}<extra></extra>",
         "legendgroup": "261",
         "line": {
          "color": "#EF553B",
          "dash": "solid"
         },
         "marker": {
          "symbol": "circle"
         },
         "mode": "lines",
         "name": "261",
         "showlegend": true,
         "type": "scattergl",
         "x": [
          0,
          1,
          2,
          3,
          4,
          5,
          6,
          7,
          8,
          9,
          10,
          11,
          12,
          13,
          16,
          17,
          20,
          21,
          22,
          23
         ],
         "xaxis": "x",
         "y": [
          14.5,
          17.5,
          18,
          18,
          15,
          19,
          21.5,
          21,
          21,
          22,
          21,
          21,
          20,
          24,
          21,
          16.5,
          13,
          12,
          19,
          22
         ],
         "yaxis": "y"
        },
        {
         "hovertemplate": "station_id=262<br>hour=%{x}<br>num_bikes_available=%{y}<extra></extra>",
         "legendgroup": "262",
         "line": {
          "color": "#00cc96",
          "dash": "solid"
         },
         "marker": {
          "symbol": "circle"
         },
         "mode": "lines",
         "name": "262",
         "showlegend": true,
         "type": "scattergl",
         "x": [
          1,
          2,
          3,
          5,
          6,
          7,
          9,
          10,
          11,
          12,
          13,
          14,
          16,
          18,
          19,
          22
         ],
         "xaxis": "x",
         "y": [
          16,
          19,
          21.5,
          17,
          13.666666666666666,
          12,
          18,
          20,
          18,
          14,
          15,
          16,
          8,
          9,
          6,
          11
         ],
         "yaxis": "y"
        },
        {
         "hovertemplate": "station_id=263<br>hour=%{x}<br>num_bikes_available=%{y}<extra></extra>",
         "legendgroup": "263",
         "line": {
          "color": "#ab63fa",
          "dash": "solid"
         },
         "marker": {
          "symbol": "circle"
         },
         "mode": "lines",
         "name": "263",
         "showlegend": true,
         "type": "scattergl",
         "x": [
          1,
          2,
          4,
          5,
          7,
          8,
          9,
          10,
          12,
          13,
          14,
          15,
          19,
          20,
          21,
          23
         ],
         "xaxis": "x",
         "y": [
          7,
          8,
          11,
          11,
          13,
          13,
          13,
          13,
          12,
          11,
          13.5,
          14,
          11,
          10,
          10,
          12
         ],
         "yaxis": "y"
        },
        {
         "hovertemplate": "station_id=264<br>hour=%{x}<br>num_bikes_available=%{y}<extra></extra>",
         "legendgroup": "264",
         "line": {
          "color": "#FFA15A",
          "dash": "solid"
         },
         "marker": {
          "symbol": "circle"
         },
         "mode": "lines",
         "name": "264",
         "showlegend": true,
         "type": "scattergl",
         "x": [
          0,
          2,
          4,
          5,
          8,
          9,
          11,
          12,
          13,
          14,
          15,
          16,
          18,
          19,
          22,
          23
         ],
         "xaxis": "x",
         "y": [
          13,
          13,
          13,
          13,
          13.5,
          13,
          14,
          17,
          20,
          19,
          19,
          19,
          24,
          24,
          23.666666666666668,
          22
         ],
         "yaxis": "y"
        },
        {
         "hovertemplate": "station_id=265<br>hour=%{x}<br>num_bikes_available=%{y}<extra></extra>",
         "legendgroup": "265",
         "line": {
          "color": "#19d3f3",
          "dash": "solid"
         },
         "marker": {
          "symbol": "circle"
         },
         "mode": "lines",
         "name": "265",
         "showlegend": true,
         "type": "scattergl",
         "x": [
          1,
          3,
          4,
          5,
          6,
          9,
          10,
          13,
          14,
          15,
          17,
          18,
          19,
          20,
          21,
          23
         ],
         "xaxis": "x",
         "y": [
          14.333333333333334,
          12,
          5,
          4,
          6,
          2,
          3.5,
          10,
          7,
          5,
          4.25,
          5,
          5,
          3,
          9,
          11
         ],
         "yaxis": "y"
        },
        {
         "hovertemplate": "station_id=266<br>hour=%{x}<br>num_bikes_available=%{y}<extra></extra>",
         "legendgroup": "266",
         "line": {
          "color": "#FF6692",
          "dash": "solid"
         },
         "marker": {
          "symbol": "circle"
         },
         "mode": "lines",
         "name": "266",
         "showlegend": true,
         "type": "scattergl",
         "x": [
          0,
          1,
          2,
          4,
          6,
          7,
          8,
          9,
          11,
          12,
          13,
          14,
          15,
          16,
          21,
          22,
          23
         ],
         "xaxis": "x",
         "y": [
          6,
          6,
          7,
          7,
          7,
          7,
          4,
          4,
          5,
          4.5,
          2,
          2.4,
          4.333333333333333,
          7.25,
          3.5,
          2.3333333333333335,
          2
         ],
         "yaxis": "y"
        },
        {
         "hovertemplate": "station_id=267<br>hour=%{x}<br>num_bikes_available=%{y}<extra></extra>",
         "legendgroup": "267",
         "line": {
          "color": "#B6E880",
          "dash": "solid"
         },
         "marker": {
          "symbol": "circle"
         },
         "mode": "lines",
         "name": "267",
         "showlegend": true,
         "type": "scattergl",
         "x": [
          1,
          2,
          3,
          6,
          7,
          8,
          9,
          10,
          11,
          12,
          13,
          16,
          17,
          18,
          19,
          20,
          22,
          23
         ],
         "xaxis": "x",
         "y": [
          12,
          12,
          12,
          11.5,
          11,
          12,
          12,
          11.5,
          11,
          11,
          12,
          16,
          17,
          15.5,
          16,
          13,
          11,
          10
         ],
         "yaxis": "y"
        },
        {
         "hovertemplate": "station_id=268<br>hour=%{x}<br>num_bikes_available=%{y}<extra></extra>",
         "legendgroup": "268",
         "line": {
          "color": "#FF97FF",
          "dash": "solid"
         },
         "marker": {
          "symbol": "circle"
         },
         "mode": "lines",
         "name": "268",
         "showlegend": true,
         "type": "scattergl",
         "x": [
          0,
          1,
          3,
          4,
          6,
          9,
          10,
          11,
          12,
          14,
          16,
          19,
          20,
          22,
          23
         ],
         "xaxis": "x",
         "y": [
          15,
          15,
          17,
          16,
          15,
          12,
          12,
          12,
          12,
          12,
          12,
          13,
          14,
          16,
          16
         ],
         "yaxis": "y"
        },
        {
         "hovertemplate": "station_id=269<br>hour=%{x}<br>num_bikes_available=%{y}<extra></extra>",
         "legendgroup": "269",
         "line": {
          "color": "#FECB52",
          "dash": "solid"
         },
         "marker": {
          "symbol": "circle"
         },
         "mode": "lines",
         "name": "269",
         "showlegend": true,
         "type": "scattergl",
         "x": [
          1,
          2,
          3,
          4,
          5,
          6,
          7,
          8,
          9,
          11,
          12,
          14,
          15,
          16,
          17,
          19,
          20,
          21,
          23
         ],
         "xaxis": "x",
         "y": [
          15.5,
          15,
          15,
          15,
          14,
          14,
          13,
          14,
          15,
          15,
          15,
          13,
          13,
          14,
          14,
          16,
          17,
          18,
          18
         ],
         "yaxis": "y"
        },
        {
         "hovertemplate": "station_id=270<br>hour=%{x}<br>num_bikes_available=%{y}<extra></extra>",
         "legendgroup": "270",
         "line": {
          "color": "#636efa",
          "dash": "solid"
         },
         "marker": {
          "symbol": "circle"
         },
         "mode": "lines",
         "name": "270",
         "showlegend": true,
         "type": "scattergl",
         "x": [
          0,
          1,
          2,
          3,
          5,
          6,
          7,
          8,
          9,
          11,
          12,
          13,
          14,
          15,
          16,
          17,
          18,
          19,
          21,
          22,
          23
         ],
         "xaxis": "x",
         "y": [
          12,
          12,
          10,
          12,
          14,
          14,
          14,
          12,
          12,
          13,
          11,
          11,
          10,
          10.5,
          11,
          12,
          12,
          12,
          12,
          13,
          13.5
         ],
         "yaxis": "y"
        },
        {
         "hovertemplate": "station_id=271<br>hour=%{x}<br>num_bikes_available=%{y}<extra></extra>",
         "legendgroup": "271",
         "line": {
          "color": "#EF553B",
          "dash": "solid"
         },
         "marker": {
          "symbol": "circle"
         },
         "mode": "lines",
         "name": "271",
         "showlegend": true,
         "type": "scattergl",
         "x": [
          0,
          1,
          2,
          5,
          6,
          7,
          8,
          9,
          10,
          11,
          14,
          15,
          16,
          17,
          18,
          19,
          20,
          21,
          22,
          23
         ],
         "xaxis": "x",
         "y": [
          6,
          5,
          5,
          5,
          5,
          4,
          5,
          4,
          4,
          5,
          6,
          6,
          6,
          6,
          7,
          7,
          6,
          6,
          6,
          6
         ],
         "yaxis": "y"
        },
        {
         "hovertemplate": "station_id=272<br>hour=%{x}<br>num_bikes_available=%{y}<extra></extra>",
         "legendgroup": "272",
         "line": {
          "color": "#00cc96",
          "dash": "solid"
         },
         "marker": {
          "symbol": "circle"
         },
         "mode": "lines",
         "name": "272",
         "showlegend": true,
         "type": "scattergl",
         "x": [
          0,
          2,
          3,
          6,
          7,
          8,
          9,
          10,
          11,
          12,
          13,
          14,
          15,
          16,
          17,
          18,
          19,
          20,
          21,
          22,
          23
         ],
         "xaxis": "x",
         "y": [
          7,
          12,
          13,
          14,
          14,
          15,
          16,
          17,
          16,
          15,
          16,
          13.5,
          14.5,
          16,
          16,
          15,
          15.75,
          13.333333333333334,
          13,
          16,
          16
         ],
         "yaxis": "y"
        },
        {
         "hovertemplate": "station_id=273<br>hour=%{x}<br>num_bikes_available=%{y}<extra></extra>",
         "legendgroup": "273",
         "line": {
          "color": "#ab63fa",
          "dash": "solid"
         },
         "marker": {
          "symbol": "circle"
         },
         "mode": "lines",
         "name": "273",
         "showlegend": true,
         "type": "scattergl",
         "x": [
          0,
          2,
          3,
          4,
          5,
          6,
          7,
          8,
          11,
          12,
          13,
          14,
          15,
          17,
          19,
          20,
          21,
          22
         ],
         "xaxis": "x",
         "y": [
          12.666666666666666,
          8,
          3,
          9,
          16,
          17,
          18.5,
          23,
          28,
          28,
          28.5,
          27,
          30,
          32,
          27.666666666666668,
          24,
          18,
          7
         ],
         "yaxis": "y"
        },
        {
         "hovertemplate": "station_id=274<br>hour=%{x}<br>num_bikes_available=%{y}<extra></extra>",
         "legendgroup": "274",
         "line": {
          "color": "#FFA15A",
          "dash": "solid"
         },
         "marker": {
          "symbol": "circle"
         },
         "mode": "lines",
         "name": "274",
         "showlegend": true,
         "type": "scattergl",
         "x": [
          1,
          4,
          8,
          9,
          11,
          12,
          13,
          14,
          16,
          17,
          20,
          22,
          23
         ],
         "xaxis": "x",
         "y": [
          18,
          19,
          20,
          19.5,
          18,
          14,
          14,
          11.5,
          8,
          8.5,
          9.5,
          9,
          10
         ],
         "yaxis": "y"
        },
        {
         "hovertemplate": "station_id=275<br>hour=%{x}<br>num_bikes_available=%{y}<extra></extra>",
         "legendgroup": "275",
         "line": {
          "color": "#19d3f3",
          "dash": "solid"
         },
         "marker": {
          "symbol": "circle"
         },
         "mode": "lines",
         "name": "275",
         "showlegend": true,
         "type": "scattergl",
         "x": [
          0,
          1,
          2,
          3,
          4,
          7,
          8,
          9,
          10,
          12,
          13,
          14,
          15,
          17,
          18,
          19,
          20,
          21,
          22,
          23
         ],
         "xaxis": "x",
         "y": [
          13.5,
          13,
          15,
          16,
          17,
          15,
          16,
          15,
          12,
          8,
          10,
          13,
          11.666666666666666,
          15.5,
          16,
          21,
          16.5,
          12,
          13.5,
          14
         ],
         "yaxis": "y"
        },
        {
         "hovertemplate": "station_id=276<br>hour=%{x}<br>num_bikes_available=%{y}<extra></extra>",
         "legendgroup": "276",
         "line": {
          "color": "#FF6692",
          "dash": "solid"
         },
         "marker": {
          "symbol": "circle"
         },
         "mode": "lines",
         "name": "276",
         "showlegend": true,
         "type": "scattergl",
         "x": [
          0,
          1,
          2,
          4,
          6,
          7,
          8,
          10,
          11,
          13,
          15,
          16,
          17,
          18,
          20,
          21,
          22
         ],
         "xaxis": "x",
         "y": [
          5,
          8,
          11.5,
          9,
          12.333333333333334,
          14,
          14,
          14,
          8.5,
          4.5,
          2.5,
          2,
          0,
          2,
          2,
          1,
          5.5
         ],
         "yaxis": "y"
        },
        {
         "hovertemplate": "station_id=277<br>hour=%{x}<br>num_bikes_available=%{y}<extra></extra>",
         "legendgroup": "277",
         "line": {
          "color": "#B6E880",
          "dash": "solid"
         },
         "marker": {
          "symbol": "circle"
         },
         "mode": "lines",
         "name": "277",
         "showlegend": true,
         "type": "scattergl",
         "x": [
          0,
          1,
          2,
          4,
          6,
          8,
          9,
          12,
          13,
          14,
          15,
          16,
          17,
          18,
          19,
          20,
          21,
          22
         ],
         "xaxis": "x",
         "y": [
          4,
          5.5,
          5,
          10,
          11,
          11.5,
          14,
          8.5,
          9.5,
          5,
          2.5,
          0.25,
          2,
          2,
          2,
          5,
          13,
          14
         ],
         "yaxis": "y"
        },
        {
         "hovertemplate": "station_id=278<br>hour=%{x}<br>num_bikes_available=%{y}<extra></extra>",
         "legendgroup": "278",
         "line": {
          "color": "#FF97FF",
          "dash": "solid"
         },
         "marker": {
          "symbol": "circle"
         },
         "mode": "lines",
         "name": "278",
         "showlegend": true,
         "type": "scattergl",
         "x": [
          1,
          3,
          4,
          5,
          6,
          7,
          9,
          10,
          11,
          12,
          13,
          14,
          15,
          16,
          17,
          19,
          21,
          22,
          23
         ],
         "xaxis": "x",
         "y": [
          16,
          17,
          17.666666666666668,
          16,
          20.333333333333332,
          20.5,
          18,
          14,
          12.666666666666666,
          10,
          9,
          7,
          3,
          4,
          3,
          0,
          16,
          23,
          24
         ],
         "yaxis": "y"
        },
        {
         "hovertemplate": "station_id=279<br>hour=%{x}<br>num_bikes_available=%{y}<extra></extra>",
         "legendgroup": "279",
         "line": {
          "color": "#FECB52",
          "dash": "solid"
         },
         "marker": {
          "symbol": "circle"
         },
         "mode": "lines",
         "name": "279",
         "showlegend": true,
         "type": "scattergl",
         "x": [
          1,
          2,
          5,
          6,
          7,
          8,
          9,
          10,
          11,
          12,
          15,
          16,
          17,
          19,
          21,
          22
         ],
         "xaxis": "x",
         "y": [
          1,
          17,
          21,
          23,
          23,
          23,
          21.5,
          20.25,
          20,
          17,
          6.5,
          4,
          1.5,
          0.5,
          0.5,
          1
         ],
         "yaxis": "y"
        },
        {
         "hovertemplate": "station_id=280<br>hour=%{x}<br>num_bikes_available=%{y}<extra></extra>",
         "legendgroup": "280",
         "line": {
          "color": "#636efa",
          "dash": "solid"
         },
         "marker": {
          "symbol": "circle"
         },
         "mode": "lines",
         "name": "280",
         "showlegend": true,
         "type": "scattergl",
         "x": [
          1,
          2,
          3,
          5,
          10,
          11,
          12,
          13,
          14,
          16,
          18,
          19,
          21,
          22,
          23
         ],
         "xaxis": "x",
         "y": [
          2.5,
          2,
          3.5,
          23,
          21,
          20.5,
          18,
          16,
          12,
          11,
          8,
          4,
          2.5,
          5,
          6.333333333333333
         ],
         "yaxis": "y"
        },
        {
         "hovertemplate": "station_id=281<br>hour=%{x}<br>num_bikes_available=%{y}<extra></extra>",
         "legendgroup": "281",
         "line": {
          "color": "#EF553B",
          "dash": "solid"
         },
         "marker": {
          "symbol": "circle"
         },
         "mode": "lines",
         "name": "281",
         "showlegend": true,
         "type": "scattergl",
         "x": [
          0,
          1,
          2,
          4,
          5,
          6,
          7,
          8,
          9,
          11,
          12,
          14,
          15,
          19,
          20,
          21,
          23
         ],
         "xaxis": "x",
         "y": [
          4,
          7,
          9,
          8.666666666666666,
          9,
          10,
          11,
          11.5,
          11,
          12,
          11.333333333333334,
          4,
          3,
          1,
          3.5,
          1.4,
          6
         ],
         "yaxis": "y"
        },
        {
         "hovertemplate": "station_id=282<br>hour=%{x}<br>num_bikes_available=%{y}<extra></extra>",
         "legendgroup": "282",
         "line": {
          "color": "#00cc96",
          "dash": "solid"
         },
         "marker": {
          "symbol": "circle"
         },
         "mode": "lines",
         "name": "282",
         "showlegend": true,
         "type": "scattergl",
         "x": [
          0,
          1,
          2,
          3,
          4,
          7,
          8,
          9,
          11,
          12,
          14,
          15,
          16,
          17,
          18,
          20,
          21,
          22,
          23
         ],
         "xaxis": "x",
         "y": [
          3.5,
          6,
          6,
          6,
          10,
          10,
          8,
          8,
          7,
          7.5,
          3.5,
          4,
          3,
          1,
          0.5,
          0,
          3,
          4.5,
          2.5
         ],
         "yaxis": "y"
        },
        {
         "hovertemplate": "station_id=283<br>hour=%{x}<br>num_bikes_available=%{y}<extra></extra>",
         "legendgroup": "283",
         "line": {
          "color": "#ab63fa",
          "dash": "solid"
         },
         "marker": {
          "symbol": "circle"
         },
         "mode": "lines",
         "name": "283",
         "showlegend": true,
         "type": "scattergl",
         "x": [
          0,
          2,
          3,
          4,
          5,
          6,
          7,
          8,
          10,
          12,
          13,
          14,
          15,
          16,
          17,
          19,
          20,
          21,
          23
         ],
         "xaxis": "x",
         "y": [
          6,
          9,
          10,
          11,
          11,
          11,
          11,
          11,
          10,
          10.333333333333334,
          8,
          4.5,
          4,
          4,
          5,
          5,
          1,
          2,
          1
         ],
         "yaxis": "y"
        },
        {
         "hovertemplate": "station_id=284<br>hour=%{x}<br>num_bikes_available=%{y}<extra></extra>",
         "legendgroup": "284",
         "line": {
          "color": "#FFA15A",
          "dash": "solid"
         },
         "marker": {
          "symbol": "circle"
         },
         "mode": "lines",
         "name": "284",
         "showlegend": true,
         "type": "scattergl",
         "x": [
          0,
          1,
          2,
          3,
          4,
          5,
          6,
          7,
          8,
          10,
          13,
          15,
          17,
          18,
          19,
          20,
          21,
          22,
          23
         ],
         "xaxis": "x",
         "y": [
          0,
          1,
          1,
          1,
          1,
          1,
          1,
          2,
          2,
          4.5,
          0.5,
          0,
          3,
          0.3333333333333333,
          0,
          0,
          0,
          0,
          0
         ],
         "yaxis": "y"
        },
        {
         "hovertemplate": "station_id=285<br>hour=%{x}<br>num_bikes_available=%{y}<extra></extra>",
         "legendgroup": "285",
         "line": {
          "color": "#19d3f3",
          "dash": "solid"
         },
         "marker": {
          "symbol": "circle"
         },
         "mode": "lines",
         "name": "285",
         "showlegend": true,
         "type": "scattergl",
         "x": [
          0,
          2,
          3,
          4,
          8,
          10,
          13,
          14,
          15,
          16,
          17,
          18,
          19,
          20,
          21
         ],
         "xaxis": "x",
         "y": [
          7,
          8,
          11,
          12,
          12,
          12,
          7,
          7,
          8,
          5,
          4,
          4,
          4,
          5,
          7
         ],
         "yaxis": "y"
        },
        {
         "hovertemplate": "station_id=286<br>hour=%{x}<br>num_bikes_available=%{y}<extra></extra>",
         "legendgroup": "286",
         "line": {
          "color": "#FF6692",
          "dash": "solid"
         },
         "marker": {
          "symbol": "circle"
         },
         "mode": "lines",
         "name": "286",
         "showlegend": true,
         "type": "scattergl",
         "x": [
          0,
          3,
          4,
          5,
          6,
          7,
          8,
          9,
          10,
          12,
          13,
          14,
          15,
          16,
          20,
          22,
          23
         ],
         "xaxis": "x",
         "y": [
          9.4,
          8,
          7,
          10.333333333333334,
          10,
          11,
          12,
          15,
          11,
          15,
          13,
          14,
          8,
          6,
          10,
          14,
          11
         ],
         "yaxis": "y"
        },
        {
         "hovertemplate": "station_id=287<br>hour=%{x}<br>num_bikes_available=%{y}<extra></extra>",
         "legendgroup": "287",
         "line": {
          "color": "#B6E880",
          "dash": "solid"
         },
         "marker": {
          "symbol": "circle"
         },
         "mode": "lines",
         "name": "287",
         "showlegend": true,
         "type": "scattergl",
         "x": [
          1,
          2,
          3,
          4,
          5,
          6,
          7,
          10,
          11,
          12,
          14,
          16,
          17,
          18,
          20,
          21,
          22,
          23
         ],
         "xaxis": "x",
         "y": [
          13.5,
          12.666666666666666,
          11,
          8,
          8,
          6,
          6,
          11,
          13,
          15,
          14.666666666666666,
          14,
          14.333333333333334,
          13.5,
          8.5,
          9,
          7,
          6
         ],
         "yaxis": "y"
        },
        {
         "hovertemplate": "station_id=288<br>hour=%{x}<br>num_bikes_available=%{y}<extra></extra>",
         "legendgroup": "288",
         "line": {
          "color": "#FF97FF",
          "dash": "solid"
         },
         "marker": {
          "symbol": "circle"
         },
         "mode": "lines",
         "name": "288",
         "showlegend": true,
         "type": "scattergl",
         "x": [
          1,
          2,
          3,
          4,
          5,
          6,
          8,
          10,
          13,
          14,
          15,
          17,
          20,
          21,
          22,
          23
         ],
         "xaxis": "x",
         "y": [
          5,
          18,
          15,
          16,
          16,
          15,
          16.5,
          15.5,
          11,
          11,
          10,
          15,
          18,
          18,
          0,
          1
         ],
         "yaxis": "y"
        },
        {
         "hovertemplate": "station_id=289<br>hour=%{x}<br>num_bikes_available=%{y}<extra></extra>",
         "legendgroup": "289",
         "line": {
          "color": "#FECB52",
          "dash": "solid"
         },
         "marker": {
          "symbol": "circle"
         },
         "mode": "lines",
         "name": "289",
         "showlegend": true,
         "type": "scattergl",
         "x": [
          0,
          1,
          3,
          4,
          7,
          8,
          11,
          13,
          14,
          15,
          16,
          17,
          18,
          19,
          21,
          23
         ],
         "xaxis": "x",
         "y": [
          7.5,
          8,
          10,
          10.5,
          8.5,
          8,
          6,
          8,
          9,
          10,
          10,
          9,
          13,
          9,
          11.5,
          13.5
         ],
         "yaxis": "y"
        },
        {
         "hovertemplate": "station_id=290<br>hour=%{x}<br>num_bikes_available=%{y}<extra></extra>",
         "legendgroup": "290",
         "line": {
          "color": "#636efa",
          "dash": "solid"
         },
         "marker": {
          "symbol": "circle"
         },
         "mode": "lines",
         "name": "290",
         "showlegend": true,
         "type": "scattergl",
         "x": [
          1,
          2,
          3,
          4,
          5,
          6,
          9,
          10,
          11,
          12,
          13,
          14,
          15,
          19,
          21,
          22,
          23
         ],
         "xaxis": "x",
         "y": [
          3,
          2,
          3,
          4,
          3,
          3.3333333333333335,
          2,
          3,
          2,
          1,
          0.5,
          0.5,
          1.5,
          2,
          1,
          4,
          7
         ],
         "yaxis": "y"
        },
        {
         "hovertemplate": "station_id=291<br>hour=%{x}<br>num_bikes_available=%{y}<extra></extra>",
         "legendgroup": "291",
         "line": {
          "color": "#EF553B",
          "dash": "solid"
         },
         "marker": {
          "symbol": "circle"
         },
         "mode": "lines",
         "name": "291",
         "showlegend": true,
         "type": "scattergl",
         "x": [
          0,
          1,
          2,
          3,
          5,
          11,
          13,
          14,
          15,
          18,
          19,
          20,
          21,
          22,
          23
         ],
         "xaxis": "x",
         "y": [
          4,
          4,
          4,
          4,
          5,
          0,
          3,
          1.5,
          2,
          0,
          0.5,
          1,
          3,
          3,
          1
         ],
         "yaxis": "y"
        },
        {
         "hovertemplate": "station_id=292<br>hour=%{x}<br>num_bikes_available=%{y}<extra></extra>",
         "legendgroup": "292",
         "line": {
          "color": "#00cc96",
          "dash": "solid"
         },
         "marker": {
          "symbol": "circle"
         },
         "mode": "lines",
         "name": "292",
         "showlegend": true,
         "type": "scattergl",
         "x": [
          0,
          1,
          2,
          4,
          5,
          6,
          7,
          8,
          9,
          10,
          11,
          12,
          13,
          14,
          15,
          17,
          18,
          19,
          20,
          22,
          23
         ],
         "xaxis": "x",
         "y": [
          3,
          2,
          5,
          5,
          5.5,
          6,
          6.333333333333333,
          7,
          8,
          5,
          5,
          4.5,
          5,
          5,
          4,
          4,
          5,
          3.5,
          2,
          5,
          6
         ],
         "yaxis": "y"
        },
        {
         "hovertemplate": "station_id=293<br>hour=%{x}<br>num_bikes_available=%{y}<extra></extra>",
         "legendgroup": "293",
         "line": {
          "color": "#ab63fa",
          "dash": "solid"
         },
         "marker": {
          "symbol": "circle"
         },
         "mode": "lines",
         "name": "293",
         "showlegend": true,
         "type": "scattergl",
         "x": [
          2,
          3,
          4,
          6,
          7,
          8,
          9,
          12,
          14,
          15,
          16,
          18,
          19,
          20,
          21,
          23
         ],
         "xaxis": "x",
         "y": [
          4,
          2.5,
          5,
          7,
          6,
          5,
          5,
          4,
          2,
          3,
          1,
          5,
          1.3333333333333333,
          2,
          2,
          4
         ],
         "yaxis": "y"
        },
        {
         "hovertemplate": "station_id=294<br>hour=%{x}<br>num_bikes_available=%{y}<extra></extra>",
         "legendgroup": "294",
         "line": {
          "color": "#FFA15A",
          "dash": "solid"
         },
         "marker": {
          "symbol": "circle"
         },
         "mode": "lines",
         "name": "294",
         "showlegend": true,
         "type": "scattergl",
         "x": [
          0,
          1,
          4,
          5,
          6,
          8,
          9,
          10,
          11,
          12,
          13,
          14,
          16,
          17,
          19,
          20,
          21,
          22,
          23
         ],
         "xaxis": "x",
         "y": [
          3,
          1,
          3,
          2,
          2,
          2,
          1,
          2,
          2,
          2,
          2,
          1,
          0,
          0,
          0,
          0,
          0,
          0,
          0.3333333333333333
         ],
         "yaxis": "y"
        },
        {
         "hovertemplate": "station_id=295<br>hour=%{x}<br>num_bikes_available=%{y}<extra></extra>",
         "legendgroup": "295",
         "line": {
          "color": "#19d3f3",
          "dash": "solid"
         },
         "marker": {
          "symbol": "circle"
         },
         "mode": "lines",
         "name": "295",
         "showlegend": true,
         "type": "scattergl",
         "x": [
          0,
          2,
          3,
          5,
          7,
          8,
          9,
          11,
          12,
          13,
          14,
          17,
          18,
          19,
          21
         ],
         "xaxis": "x",
         "y": [
          2,
          4,
          5.5,
          8,
          8,
          8,
          9,
          8,
          8,
          9.5,
          9.5,
          8,
          8,
          7,
          6
         ],
         "yaxis": "y"
        },
        {
         "hovertemplate": "station_id=296<br>hour=%{x}<br>num_bikes_available=%{y}<extra></extra>",
         "legendgroup": "296",
         "line": {
          "color": "#FF6692",
          "dash": "solid"
         },
         "marker": {
          "symbol": "circle"
         },
         "mode": "lines",
         "name": "296",
         "showlegend": true,
         "type": "scattergl",
         "x": [
          0,
          2,
          4,
          5,
          6,
          8,
          9,
          10,
          11,
          13,
          14,
          15,
          16,
          19,
          20,
          21,
          22,
          23
         ],
         "xaxis": "x",
         "y": [
          2,
          3,
          3.6666666666666665,
          3,
          2,
          2,
          8,
          10,
          9,
          11,
          11,
          10,
          9.333333333333334,
          12,
          9,
          7,
          7.5,
          8
         ],
         "yaxis": "y"
        },
        {
         "hovertemplate": "station_id=297<br>hour=%{x}<br>num_bikes_available=%{y}<extra></extra>",
         "legendgroup": "297",
         "line": {
          "color": "#B6E880",
          "dash": "solid"
         },
         "marker": {
          "symbol": "circle"
         },
         "mode": "lines",
         "name": "297",
         "showlegend": true,
         "type": "scattergl",
         "x": [
          2,
          4,
          5,
          6,
          7,
          8,
          9,
          10,
          11,
          14,
          18,
          19,
          20,
          21,
          22
         ],
         "xaxis": "x",
         "y": [
          2,
          3,
          5,
          4,
          4,
          4,
          4,
          2,
          1,
          7,
          4,
          4,
          8,
          2.5,
          6
         ],
         "yaxis": "y"
        },
        {
         "hovertemplate": "station_id=298<br>hour=%{x}<br>num_bikes_available=%{y}<extra></extra>",
         "legendgroup": "298",
         "line": {
          "color": "#FF97FF",
          "dash": "solid"
         },
         "marker": {
          "symbol": "circle"
         },
         "mode": "lines",
         "name": "298",
         "showlegend": true,
         "type": "scattergl",
         "x": [
          0,
          1,
          2,
          5,
          7,
          8,
          9,
          10,
          12,
          13,
          14,
          15,
          16,
          17,
          19,
          21,
          23
         ],
         "xaxis": "x",
         "y": [
          10,
          6,
          6,
          6,
          6.5,
          6,
          4,
          4,
          8,
          9,
          12,
          10,
          11,
          10.333333333333334,
          9,
          9.666666666666666,
          8
         ],
         "yaxis": "y"
        },
        {
         "hovertemplate": "station_id=299<br>hour=%{x}<br>num_bikes_available=%{y}<extra></extra>",
         "legendgroup": "299",
         "line": {
          "color": "#FECB52",
          "dash": "solid"
         },
         "marker": {
          "symbol": "circle"
         },
         "mode": "lines",
         "name": "299",
         "showlegend": true,
         "type": "scattergl",
         "x": [
          0,
          1,
          2,
          3,
          4,
          5,
          6,
          7,
          9,
          10,
          11,
          13,
          16,
          17,
          18,
          19,
          21,
          22,
          23
         ],
         "xaxis": "x",
         "y": [
          4,
          6,
          4,
          4,
          4,
          3,
          3,
          3,
          2.5,
          3,
          2,
          4,
          3.4,
          2,
          3,
          2,
          1,
          0,
          0
         ],
         "yaxis": "y"
        },
        {
         "hovertemplate": "station_id=300<br>hour=%{x}<br>num_bikes_available=%{y}<extra></extra>",
         "legendgroup": "300",
         "line": {
          "color": "#636efa",
          "dash": "solid"
         },
         "marker": {
          "symbol": "circle"
         },
         "mode": "lines",
         "name": "300",
         "showlegend": true,
         "type": "scattergl",
         "x": [
          1,
          2,
          4,
          5,
          6,
          7,
          8,
          9,
          10,
          11,
          14,
          15,
          16,
          19,
          20,
          21,
          22,
          23
         ],
         "xaxis": "x",
         "y": [
          12,
          12,
          14,
          13,
          11,
          11,
          11,
          11.333333333333334,
          12,
          11,
          10.5,
          11,
          14,
          1,
          1,
          4.333333333333333,
          5,
          3
         ],
         "yaxis": "y"
        },
        {
         "hovertemplate": "station_id=301<br>hour=%{x}<br>num_bikes_available=%{y}<extra></extra>",
         "legendgroup": "301",
         "line": {
          "color": "#EF553B",
          "dash": "solid"
         },
         "marker": {
          "symbol": "circle"
         },
         "mode": "lines",
         "name": "301",
         "showlegend": true,
         "type": "scattergl",
         "x": [
          0,
          1,
          2,
          3,
          4,
          6,
          7,
          8,
          11,
          14,
          15,
          17,
          19,
          20,
          22,
          23
         ],
         "xaxis": "x",
         "y": [
          3,
          3,
          3,
          3,
          3,
          4,
          4,
          4,
          4,
          1,
          1,
          1,
          0,
          0,
          0,
          0
         ],
         "yaxis": "y"
        },
        {
         "hovertemplate": "station_id=302<br>hour=%{x}<br>num_bikes_available=%{y}<extra></extra>",
         "legendgroup": "302",
         "line": {
          "color": "#00cc96",
          "dash": "solid"
         },
         "marker": {
          "symbol": "circle"
         },
         "mode": "lines",
         "name": "302",
         "showlegend": true,
         "type": "scattergl",
         "x": [
          0,
          1,
          2,
          3,
          4,
          5,
          6,
          7,
          8,
          9,
          10,
          11,
          12,
          13,
          14,
          15,
          16,
          17,
          18,
          19,
          20,
          22,
          23
         ],
         "xaxis": "x",
         "y": [
          2,
          3,
          3,
          2,
          2,
          2,
          3,
          3,
          3,
          3,
          4,
          4,
          4,
          4,
          4,
          4,
          3,
          4,
          3,
          2.6666666666666665,
          1,
          1,
          6
         ],
         "yaxis": "y"
        },
        {
         "hovertemplate": "station_id=303<br>hour=%{x}<br>num_bikes_available=%{y}<extra></extra>",
         "legendgroup": "303",
         "line": {
          "color": "#ab63fa",
          "dash": "solid"
         },
         "marker": {
          "symbol": "circle"
         },
         "mode": "lines",
         "name": "303",
         "showlegend": true,
         "type": "scattergl",
         "x": [
          2,
          6,
          7,
          8,
          9,
          10,
          11,
          12,
          13,
          14,
          16,
          18,
          19,
          20,
          21,
          22,
          23
         ],
         "xaxis": "x",
         "y": [
          6,
          0,
          0,
          0,
          1,
          2,
          0,
          0.5,
          1.5,
          3,
          4.666666666666667,
          3,
          3.25,
          1,
          0.3333333333333333,
          2.5,
          3
         ],
         "yaxis": "y"
        },
        {
         "hovertemplate": "station_id=304<br>hour=%{x}<br>num_bikes_available=%{y}<extra></extra>",
         "legendgroup": "304",
         "line": {
          "color": "#FFA15A",
          "dash": "solid"
         },
         "marker": {
          "symbol": "circle"
         },
         "mode": "lines",
         "name": "304",
         "showlegend": true,
         "type": "scattergl",
         "x": [
          1,
          2,
          4,
          5,
          7,
          8,
          9,
          10,
          11,
          12,
          13,
          14,
          15,
          17,
          18,
          19,
          21,
          23
         ],
         "xaxis": "x",
         "y": [
          5,
          7,
          4,
          5,
          2.5,
          2.5,
          1,
          1.3333333333333333,
          0.6666666666666666,
          0.5,
          1,
          2,
          2,
          1,
          1.5,
          2,
          0.5,
          2
         ],
         "yaxis": "y"
        },
        {
         "hovertemplate": "station_id=305<br>hour=%{x}<br>num_bikes_available=%{y}<extra></extra>",
         "legendgroup": "305",
         "line": {
          "color": "#19d3f3",
          "dash": "solid"
         },
         "marker": {
          "symbol": "circle"
         },
         "mode": "lines",
         "name": "305",
         "showlegend": true,
         "type": "scattergl",
         "x": [
          0,
          1,
          2,
          4,
          5,
          6,
          8,
          9,
          10,
          11,
          12,
          13,
          14,
          15,
          16,
          18,
          19,
          20,
          21,
          22,
          23
         ],
         "xaxis": "x",
         "y": [
          1,
          1,
          0,
          0,
          0,
          0,
          0.3333333333333333,
          1,
          1,
          0,
          0,
          0.3333333333333333,
          0,
          1,
          1,
          1,
          0,
          1,
          1,
          0,
          0
         ],
         "yaxis": "y"
        },
        {
         "hovertemplate": "station_id=306<br>hour=%{x}<br>num_bikes_available=%{y}<extra></extra>",
         "legendgroup": "306",
         "line": {
          "color": "#FF6692",
          "dash": "solid"
         },
         "marker": {
          "symbol": "circle"
         },
         "mode": "lines",
         "name": "306",
         "showlegend": true,
         "type": "scattergl",
         "x": [
          0,
          1,
          2,
          3,
          5,
          6,
          7,
          8,
          9,
          10,
          12,
          14,
          15,
          16,
          18,
          21,
          22,
          23
         ],
         "xaxis": "x",
         "y": [
          1,
          1,
          1,
          1,
          2,
          1,
          1,
          5,
          6.333333333333333,
          8,
          9,
          8,
          7,
          4,
          2,
          0,
          0,
          0
         ],
         "yaxis": "y"
        },
        {
         "hovertemplate": "station_id=307<br>hour=%{x}<br>num_bikes_available=%{y}<extra></extra>",
         "legendgroup": "307",
         "line": {
          "color": "#B6E880",
          "dash": "solid"
         },
         "marker": {
          "symbol": "circle"
         },
         "mode": "lines",
         "name": "307",
         "showlegend": true,
         "type": "scattergl",
         "x": [
          0,
          3,
          4,
          5,
          9,
          10,
          11,
          13,
          14,
          16,
          17,
          19,
          20,
          21,
          22,
          23
         ],
         "xaxis": "x",
         "y": [
          3,
          1,
          1,
          0,
          1,
          1.6666666666666667,
          2,
          1,
          1,
          0,
          1.6666666666666667,
          1,
          1.6,
          0,
          0,
          1
         ],
         "yaxis": "y"
        },
        {
         "hovertemplate": "station_id=308<br>hour=%{x}<br>num_bikes_available=%{y}<extra></extra>",
         "legendgroup": "308",
         "line": {
          "color": "#FF97FF",
          "dash": "solid"
         },
         "marker": {
          "symbol": "circle"
         },
         "mode": "lines",
         "name": "308",
         "showlegend": true,
         "type": "scattergl",
         "x": [
          0,
          1,
          2,
          4,
          6,
          7,
          8,
          9,
          10,
          11,
          12,
          16,
          17,
          19,
          21,
          22,
          23
         ],
         "xaxis": "x",
         "y": [
          6.5,
          5.25,
          5.333333333333333,
          4.666666666666667,
          7,
          5,
          5,
          4,
          4.5,
          4,
          5,
          3,
          2,
          1.5,
          2,
          1,
          1
         ],
         "yaxis": "y"
        },
        {
         "hovertemplate": "station_id=309<br>hour=%{x}<br>num_bikes_available=%{y}<extra></extra>",
         "legendgroup": "309",
         "line": {
          "color": "#FECB52",
          "dash": "solid"
         },
         "marker": {
          "symbol": "circle"
         },
         "mode": "lines",
         "name": "309",
         "showlegend": true,
         "type": "scattergl",
         "x": [
          0,
          1,
          4,
          5,
          6,
          7,
          8,
          9,
          10,
          11,
          12,
          13,
          15,
          16,
          17,
          18,
          19,
          22,
          23
         ],
         "xaxis": "x",
         "y": [
          4.5,
          9.333333333333334,
          17,
          17.5,
          20,
          19,
          16.5,
          15,
          16,
          16,
          10,
          11,
          4,
          3,
          1,
          1,
          5,
          4,
          6
         ],
         "yaxis": "y"
        },
        {
         "hovertemplate": "station_id=310<br>hour=%{x}<br>num_bikes_available=%{y}<extra></extra>",
         "legendgroup": "310",
         "line": {
          "color": "#636efa",
          "dash": "solid"
         },
         "marker": {
          "symbol": "circle"
         },
         "mode": "lines",
         "name": "310",
         "showlegend": true,
         "type": "scattergl",
         "x": [
          0,
          1,
          2,
          4,
          6,
          7,
          10,
          11,
          12,
          13,
          15,
          18,
          19,
          21,
          22,
          23
         ],
         "xaxis": "x",
         "y": [
          5,
          2,
          3,
          1,
          1.5,
          1,
          1,
          2,
          2,
          2,
          2,
          3.25,
          7,
          1.6666666666666667,
          0.5,
          1
         ],
         "yaxis": "y"
        },
        {
         "hovertemplate": "station_id=311<br>hour=%{x}<br>num_bikes_available=%{y}<extra></extra>",
         "legendgroup": "311",
         "line": {
          "color": "#EF553B",
          "dash": "solid"
         },
         "marker": {
          "symbol": "circle"
         },
         "mode": "lines",
         "name": "311",
         "showlegend": true,
         "type": "scattergl",
         "x": [
          0,
          2,
          3,
          4,
          5,
          6,
          8,
          10,
          11,
          13,
          14,
          17,
          18,
          19,
          20,
          21,
          23
         ],
         "xaxis": "x",
         "y": [
          3.5,
          5,
          6.666666666666667,
          10,
          13,
          9,
          12.75,
          12,
          12,
          4,
          5,
          2,
          1.3333333333333333,
          3,
          2.6666666666666665,
          2,
          3
         ],
         "yaxis": "y"
        },
        {
         "hovertemplate": "station_id=312<br>hour=%{x}<br>num_bikes_available=%{y}<extra></extra>",
         "legendgroup": "312",
         "line": {
          "color": "#00cc96",
          "dash": "solid"
         },
         "marker": {
          "symbol": "circle"
         },
         "mode": "lines",
         "name": "312",
         "showlegend": true,
         "type": "scattergl",
         "x": [
          1,
          2,
          4,
          5,
          6,
          7,
          8,
          11,
          12,
          13,
          14,
          15,
          17,
          19,
          21,
          23
         ],
         "xaxis": "x",
         "y": [
          6,
          7.5,
          8,
          9.5,
          12,
          13,
          11,
          11,
          10.5,
          10.5,
          7,
          5.5,
          3,
          1.6666666666666667,
          2.6666666666666665,
          2
         ],
         "yaxis": "y"
        },
        {
         "hovertemplate": "station_id=313<br>hour=%{x}<br>num_bikes_available=%{y}<extra></extra>",
         "legendgroup": "313",
         "line": {
          "color": "#ab63fa",
          "dash": "solid"
         },
         "marker": {
          "symbol": "circle"
         },
         "mode": "lines",
         "name": "313",
         "showlegend": true,
         "type": "scattergl",
         "x": [
          0,
          1,
          2,
          3,
          4,
          6,
          7,
          8,
          9,
          11,
          15,
          16,
          17,
          19,
          20,
          21,
          22,
          23
         ],
         "xaxis": "x",
         "y": [
          27,
          28,
          27,
          26.5,
          25,
          23,
          23,
          22,
          22.5,
          20,
          9,
          7.5,
          5,
          1,
          3,
          1,
          4.5,
          6
         ],
         "yaxis": "y"
        },
        {
         "hovertemplate": "station_id=314<br>hour=%{x}<br>num_bikes_available=%{y}<extra></extra>",
         "legendgroup": "314",
         "line": {
          "color": "#FFA15A",
          "dash": "solid"
         },
         "marker": {
          "symbol": "circle"
         },
         "mode": "lines",
         "name": "314",
         "showlegend": true,
         "type": "scattergl",
         "x": [
          1,
          2,
          3,
          5,
          6,
          7,
          9,
          10,
          11,
          12,
          13,
          14,
          15,
          16,
          18,
          19,
          20,
          21,
          23
         ],
         "xaxis": "x",
         "y": [
          21.666666666666668,
          22,
          18,
          11,
          9.5,
          12,
          5,
          3,
          4,
          3,
          5,
          4.75,
          5.666666666666667,
          3.3333333333333335,
          1.75,
          2,
          1,
          4,
          5.666666666666667
         ],
         "yaxis": "y"
        },
        {
         "hovertemplate": "station_id=315<br>hour=%{x}<br>num_bikes_available=%{y}<extra></extra>",
         "legendgroup": "315",
         "line": {
          "color": "#19d3f3",
          "dash": "solid"
         },
         "marker": {
          "symbol": "circle"
         },
         "mode": "lines",
         "name": "315",
         "showlegend": true,
         "type": "scattergl",
         "x": [
          0,
          1,
          3,
          4,
          6,
          8,
          9,
          12,
          13,
          14,
          15,
          16,
          18,
          19,
          20,
          21,
          22,
          23
         ],
         "xaxis": "x",
         "y": [
          0.5,
          7.666666666666667,
          15,
          15,
          16,
          16.5,
          15,
          16.5,
          15,
          14,
          16.833333333333332,
          24,
          8.5,
          5,
          9.5,
          9,
          10.666666666666666,
          13
         ],
         "yaxis": "y"
        },
        {
         "hovertemplate": "station_id=316<br>hour=%{x}<br>num_bikes_available=%{y}<extra></extra>",
         "legendgroup": "316",
         "line": {
          "color": "#FF6692",
          "dash": "solid"
         },
         "marker": {
          "symbol": "circle"
         },
         "mode": "lines",
         "name": "316",
         "showlegend": true,
         "type": "scattergl",
         "x": [
          0,
          1,
          2,
          3,
          4,
          5,
          6,
          9,
          10,
          11,
          12,
          13,
          15,
          16,
          17,
          19,
          20,
          21,
          22
         ],
         "xaxis": "x",
         "y": [
          14,
          15,
          20,
          19,
          19,
          19,
          19,
          20,
          17,
          16,
          16,
          18,
          14,
          11.5,
          7,
          12.5,
          12,
          16.666666666666668,
          21
         ],
         "yaxis": "y"
        },
        {
         "hovertemplate": "station_id=317<br>hour=%{x}<br>num_bikes_available=%{y}<extra></extra>",
         "legendgroup": "317",
         "line": {
          "color": "#B6E880",
          "dash": "solid"
         },
         "marker": {
          "symbol": "circle"
         },
         "mode": "lines",
         "name": "317",
         "showlegend": true,
         "type": "scattergl",
         "x": [
          0,
          2,
          3,
          4,
          5,
          6,
          7,
          8,
          9,
          10,
          11,
          12,
          13,
          14,
          15,
          16,
          17,
          18,
          19,
          20,
          22
         ],
         "xaxis": "x",
         "y": [
          7,
          9,
          9,
          10,
          12,
          14.333333333333334,
          18,
          16,
          16,
          17,
          24,
          22,
          21,
          22,
          15,
          13,
          11,
          12,
          13,
          14,
          10.333333333333334
         ],
         "yaxis": "y"
        },
        {
         "hovertemplate": "station_id=318<br>hour=%{x}<br>num_bikes_available=%{y}<extra></extra>",
         "legendgroup": "318",
         "line": {
          "color": "#FF97FF",
          "dash": "solid"
         },
         "marker": {
          "symbol": "circle"
         },
         "mode": "lines",
         "name": "318",
         "showlegend": true,
         "type": "scattergl",
         "x": [
          0,
          1,
          2,
          3,
          4,
          5,
          8,
          9,
          10,
          11,
          13,
          16,
          18,
          19,
          22,
          23
         ],
         "xaxis": "x",
         "y": [
          5,
          6.5,
          8,
          9,
          12,
          11,
          11,
          11.5,
          15,
          13.5,
          11,
          1,
          3.5,
          5,
          5,
          12
         ],
         "yaxis": "y"
        },
        {
         "hovertemplate": "station_id=319<br>hour=%{x}<br>num_bikes_available=%{y}<extra></extra>",
         "legendgroup": "319",
         "line": {
          "color": "#FECB52",
          "dash": "solid"
         },
         "marker": {
          "symbol": "circle"
         },
         "mode": "lines",
         "name": "319",
         "showlegend": true,
         "type": "scattergl",
         "x": [
          0,
          2,
          3,
          6,
          7,
          8,
          9,
          10,
          11,
          12,
          13,
          14,
          15,
          16,
          17,
          19,
          20,
          21,
          22,
          23
         ],
         "xaxis": "x",
         "y": [
          24.5,
          17.5,
          18,
          9,
          9.333333333333334,
          13.333333333333334,
          12,
          11,
          10,
          7,
          8.5,
          11,
          6,
          7,
          0,
          4,
          1.6666666666666667,
          2,
          4,
          2
         ],
         "yaxis": "y"
        },
        {
         "hovertemplate": "station_id=320<br>hour=%{x}<br>num_bikes_available=%{y}<extra></extra>",
         "legendgroup": "320",
         "line": {
          "color": "#636efa",
          "dash": "solid"
         },
         "marker": {
          "symbol": "circle"
         },
         "mode": "lines",
         "name": "320",
         "showlegend": true,
         "type": "scattergl",
         "x": [
          1,
          3,
          4,
          5,
          6,
          8,
          9,
          11,
          12,
          14,
          15,
          16,
          17,
          18,
          19,
          20,
          21,
          22,
          23
         ],
         "xaxis": "x",
         "y": [
          5,
          5.5,
          0,
          1,
          0,
          1,
          2,
          1,
          1,
          7.5,
          7.5,
          11,
          8,
          0,
          1.5,
          6,
          9.333333333333334,
          4,
          5
         ],
         "yaxis": "y"
        },
        {
         "hovertemplate": "station_id=321<br>hour=%{x}<br>num_bikes_available=%{y}<extra></extra>",
         "legendgroup": "321",
         "line": {
          "color": "#EF553B",
          "dash": "solid"
         },
         "marker": {
          "symbol": "circle"
         },
         "mode": "lines",
         "name": "321",
         "showlegend": true,
         "type": "scattergl",
         "x": [
          1,
          2,
          3,
          4,
          5,
          6,
          7,
          9,
          10,
          11,
          12,
          13,
          14,
          15,
          16,
          17,
          18,
          19,
          20,
          21,
          22
         ],
         "xaxis": "x",
         "y": [
          16,
          20.333333333333332,
          23,
          21,
          24,
          25,
          25,
          18,
          19,
          19,
          13,
          9,
          6,
          2,
          2,
          3,
          1,
          1,
          3,
          6,
          4
         ],
         "yaxis": "y"
        },
        {
         "hovertemplate": "station_id=322<br>hour=%{x}<br>num_bikes_available=%{y}<extra></extra>",
         "legendgroup": "322",
         "line": {
          "color": "#00cc96",
          "dash": "solid"
         },
         "marker": {
          "symbol": "circle"
         },
         "mode": "lines",
         "name": "322",
         "showlegend": true,
         "type": "scattergl",
         "x": [
          0,
          3,
          4,
          5,
          6,
          7,
          8,
          11,
          12,
          13,
          14,
          17,
          18,
          19,
          21,
          22,
          23
         ],
         "xaxis": "x",
         "y": [
          0,
          6,
          9,
          9,
          9,
          11,
          8.666666666666666,
          5,
          5,
          1,
          2,
          0,
          1.5,
          0.5,
          7.5,
          9,
          4.5
         ],
         "yaxis": "y"
        },
        {
         "hovertemplate": "station_id=323<br>hour=%{x}<br>num_bikes_available=%{y}<extra></extra>",
         "legendgroup": "323",
         "line": {
          "color": "#ab63fa",
          "dash": "solid"
         },
         "marker": {
          "symbol": "circle"
         },
         "mode": "lines",
         "name": "323",
         "showlegend": true,
         "type": "scattergl",
         "x": [
          0,
          1,
          2,
          3,
          4,
          5,
          6,
          8,
          9,
          10,
          11,
          13,
          14,
          15,
          16,
          17,
          18,
          23
         ],
         "xaxis": "x",
         "y": [
          1,
          0,
          0,
          1,
          1.6666666666666667,
          2,
          2,
          3,
          1.5,
          0.3333333333333333,
          2,
          2.5,
          1,
          1,
          0,
          0.5,
          1,
          2
         ],
         "yaxis": "y"
        },
        {
         "hovertemplate": "station_id=324<br>hour=%{x}<br>num_bikes_available=%{y}<extra></extra>",
         "legendgroup": "324",
         "line": {
          "color": "#FFA15A",
          "dash": "solid"
         },
         "marker": {
          "symbol": "circle"
         },
         "mode": "lines",
         "name": "324",
         "showlegend": true,
         "type": "scattergl",
         "x": [
          0,
          1,
          4,
          5,
          6,
          7,
          8,
          9,
          10,
          11,
          13,
          15,
          16,
          19,
          20,
          21,
          22,
          23
         ],
         "xaxis": "x",
         "y": [
          0,
          0,
          2,
          3,
          3,
          3,
          3.3333333333333335,
          5,
          5,
          4,
          4,
          5,
          2,
          0,
          1,
          4,
          2,
          3
         ],
         "yaxis": "y"
        },
        {
         "hovertemplate": "station_id=325<br>hour=%{x}<br>num_bikes_available=%{y}<extra></extra>",
         "legendgroup": "325",
         "line": {
          "color": "#19d3f3",
          "dash": "solid"
         },
         "marker": {
          "symbol": "circle"
         },
         "mode": "lines",
         "name": "325",
         "showlegend": true,
         "type": "scattergl",
         "x": [
          0,
          2,
          3,
          5,
          6,
          7,
          8,
          9,
          11,
          13,
          14,
          16,
          18,
          20,
          21,
          23
         ],
         "xaxis": "x",
         "y": [
          0,
          2,
          0,
          0,
          0,
          0,
          1,
          2,
          2,
          1,
          2,
          0,
          0,
          2,
          0.5,
          1
         ],
         "yaxis": "y"
        },
        {
         "hovertemplate": "station_id=326<br>hour=%{x}<br>num_bikes_available=%{y}<extra></extra>",
         "legendgroup": "326",
         "line": {
          "color": "#FF6692",
          "dash": "solid"
         },
         "marker": {
          "symbol": "circle"
         },
         "mode": "lines",
         "name": "326",
         "showlegend": true,
         "type": "scattergl",
         "x": [
          2,
          3,
          4,
          5,
          6,
          7,
          8,
          9,
          10,
          11,
          12,
          13,
          14,
          16,
          17,
          18,
          19,
          23
         ],
         "xaxis": "x",
         "y": [
          1.5,
          3,
          7,
          8,
          9,
          9,
          8,
          6,
          5,
          4,
          2,
          2,
          3,
          0,
          1.3333333333333333,
          1,
          0,
          5
         ],
         "yaxis": "y"
        },
        {
         "hovertemplate": "station_id=327<br>hour=%{x}<br>num_bikes_available=%{y}<extra></extra>",
         "legendgroup": "327",
         "line": {
          "color": "#B6E880",
          "dash": "solid"
         },
         "marker": {
          "symbol": "circle"
         },
         "mode": "lines",
         "name": "327",
         "showlegend": true,
         "type": "scattergl",
         "x": [
          0,
          1,
          2,
          3,
          4,
          7,
          8,
          11,
          13,
          14,
          15,
          16,
          17,
          18,
          19,
          20,
          22,
          23
         ],
         "xaxis": "x",
         "y": [
          1,
          1,
          2,
          3,
          4,
          5,
          4,
          0,
          0,
          8,
          5.5,
          2,
          4,
          1,
          0,
          0.25,
          1,
          5
         ],
         "yaxis": "y"
        },
        {
         "hovertemplate": "station_id=328<br>hour=%{x}<br>num_bikes_available=%{y}<extra></extra>",
         "legendgroup": "328",
         "line": {
          "color": "#FF97FF",
          "dash": "solid"
         },
         "marker": {
          "symbol": "circle"
         },
         "mode": "lines",
         "name": "328",
         "showlegend": true,
         "type": "scattergl",
         "x": [
          0,
          1,
          3,
          4,
          5,
          6,
          8,
          9,
          10,
          11,
          14,
          15,
          16,
          17,
          18,
          20,
          23
         ],
         "xaxis": "x",
         "y": [
          0,
          0,
          5,
          4,
          3.1666666666666665,
          3,
          2,
          1,
          1,
          0,
          1,
          1,
          1,
          0.5,
          2,
          2,
          10
         ],
         "yaxis": "y"
        },
        {
         "hovertemplate": "station_id=329<br>hour=%{x}<br>num_bikes_available=%{y}<extra></extra>",
         "legendgroup": "329",
         "line": {
          "color": "#FECB52",
          "dash": "solid"
         },
         "marker": {
          "symbol": "circle"
         },
         "mode": "lines",
         "name": "329",
         "showlegend": true,
         "type": "scattergl",
         "x": [
          0,
          1,
          2,
          3,
          4,
          6,
          7,
          8,
          9,
          10,
          11,
          12,
          13,
          14,
          15,
          17,
          18,
          19,
          21,
          22,
          23
         ],
         "xaxis": "x",
         "y": [
          1.3333333333333333,
          0,
          1,
          2,
          2,
          3,
          2,
          2,
          3,
          3,
          3,
          5,
          4,
          3,
          8,
          1,
          0.5,
          0,
          3,
          0.3333333333333333,
          0.5
         ],
         "yaxis": "y"
        },
        {
         "hovertemplate": "station_id=330<br>hour=%{x}<br>num_bikes_available=%{y}<extra></extra>",
         "legendgroup": "330",
         "line": {
          "color": "#636efa",
          "dash": "solid"
         },
         "marker": {
          "symbol": "circle"
         },
         "mode": "lines",
         "name": "330",
         "showlegend": true,
         "type": "scattergl",
         "x": [
          0,
          1,
          2,
          3,
          4,
          5,
          7,
          8,
          9,
          10,
          11,
          12,
          13,
          14,
          15,
          16,
          18,
          19,
          20,
          23
         ],
         "xaxis": "x",
         "y": [
          0,
          0,
          1,
          1,
          2,
          1,
          1,
          1,
          2,
          1,
          3,
          3,
          3,
          2.5,
          2,
          0,
          0,
          0,
          3.3333333333333335,
          0
         ],
         "yaxis": "y"
        },
        {
         "hovertemplate": "station_id=331<br>hour=%{x}<br>num_bikes_available=%{y}<extra></extra>",
         "legendgroup": "331",
         "line": {
          "color": "#EF553B",
          "dash": "solid"
         },
         "marker": {
          "symbol": "circle"
         },
         "mode": "lines",
         "name": "331",
         "showlegend": true,
         "type": "scattergl",
         "x": [
          0,
          1,
          3,
          4,
          5,
          6,
          7,
          8,
          9,
          10,
          11,
          13,
          14,
          15,
          17,
          18,
          19,
          20,
          21,
          22
         ],
         "xaxis": "x",
         "y": [
          3,
          0,
          1,
          2,
          4,
          3.6666666666666665,
          3,
          3,
          2,
          2.5,
          5,
          1,
          0,
          0,
          1,
          1,
          2,
          1,
          1,
          0
         ],
         "yaxis": "y"
        },
        {
         "hovertemplate": "station_id=332<br>hour=%{x}<br>num_bikes_available=%{y}<extra></extra>",
         "legendgroup": "332",
         "line": {
          "color": "#00cc96",
          "dash": "solid"
         },
         "marker": {
          "symbol": "circle"
         },
         "mode": "lines",
         "name": "332",
         "showlegend": true,
         "type": "scattergl",
         "x": [
          0,
          4,
          5,
          6,
          8,
          9,
          10,
          11,
          12,
          13,
          16,
          17,
          19,
          20,
          21,
          22
         ],
         "xaxis": "x",
         "y": [
          3,
          4,
          4,
          5,
          4,
          3,
          3,
          1,
          2,
          1.6666666666666667,
          1,
          0,
          0,
          1,
          0,
          0
         ],
         "yaxis": "y"
        },
        {
         "hovertemplate": "station_id=333<br>hour=%{x}<br>num_bikes_available=%{y}<extra></extra>",
         "legendgroup": "333",
         "line": {
          "color": "#ab63fa",
          "dash": "solid"
         },
         "marker": {
          "symbol": "circle"
         },
         "mode": "lines",
         "name": "333",
         "showlegend": true,
         "type": "scattergl",
         "x": [
          0,
          2,
          3,
          4,
          5,
          9,
          10,
          11,
          12,
          15,
          16,
          17,
          18,
          19,
          20,
          21,
          22,
          23
         ],
         "xaxis": "x",
         "y": [
          1.5,
          2.5,
          3,
          7,
          7.25,
          12,
          12,
          10,
          6.333333333333333,
          2,
          1.5,
          1,
          1,
          3.5,
          1,
          1.5,
          1,
          2
         ],
         "yaxis": "y"
        },
        {
         "hovertemplate": "station_id=334<br>hour=%{x}<br>num_bikes_available=%{y}<extra></extra>",
         "legendgroup": "334",
         "line": {
          "color": "#FFA15A",
          "dash": "solid"
         },
         "marker": {
          "symbol": "circle"
         },
         "mode": "lines",
         "name": "334",
         "showlegend": true,
         "type": "scattergl",
         "x": [
          0,
          1,
          2,
          4,
          5,
          6,
          7,
          9,
          10,
          11,
          12,
          13,
          15,
          16,
          19,
          21,
          23
         ],
         "xaxis": "x",
         "y": [
          1.6666666666666667,
          1.6666666666666667,
          1,
          2,
          2,
          3,
          1.5,
          2,
          2,
          3,
          2,
          1,
          1,
          0,
          1,
          1,
          1
         ],
         "yaxis": "y"
        },
        {
         "hovertemplate": "station_id=335<br>hour=%{x}<br>num_bikes_available=%{y}<extra></extra>",
         "legendgroup": "335",
         "line": {
          "color": "#19d3f3",
          "dash": "solid"
         },
         "marker": {
          "symbol": "circle"
         },
         "mode": "lines",
         "name": "335",
         "showlegend": true,
         "type": "scattergl",
         "x": [
          0,
          1,
          2,
          3,
          4,
          5,
          6,
          7,
          10,
          11,
          12,
          14,
          15,
          16,
          18,
          20,
          21,
          23
         ],
         "xaxis": "x",
         "y": [
          0,
          3,
          4,
          4,
          5.5,
          5,
          5,
          6,
          4,
          2.6666666666666665,
          1,
          1,
          1,
          5,
          3.5,
          2,
          1.3333333333333333,
          1.5
         ],
         "yaxis": "y"
        },
        {
         "hovertemplate": "station_id=336<br>hour=%{x}<br>num_bikes_available=%{y}<extra></extra>",
         "legendgroup": "336",
         "line": {
          "color": "#FF6692",
          "dash": "solid"
         },
         "marker": {
          "symbol": "circle"
         },
         "mode": "lines",
         "name": "336",
         "showlegend": true,
         "type": "scattergl",
         "x": [
          0,
          1,
          2,
          4,
          5,
          7,
          8,
          9,
          10,
          12,
          14,
          15,
          17,
          19,
          20,
          22
         ],
         "xaxis": "x",
         "y": [
          0.5,
          0,
          0,
          3,
          3,
          2,
          2,
          1,
          0.5,
          0,
          0.5,
          0,
          1,
          1,
          0,
          5
         ],
         "yaxis": "y"
        },
        {
         "hovertemplate": "station_id=337<br>hour=%{x}<br>num_bikes_available=%{y}<extra></extra>",
         "legendgroup": "337",
         "line": {
          "color": "#B6E880",
          "dash": "solid"
         },
         "marker": {
          "symbol": "circle"
         },
         "mode": "lines",
         "name": "337",
         "showlegend": true,
         "type": "scattergl",
         "x": [
          0,
          2,
          3,
          4,
          5,
          6,
          7,
          9,
          11,
          12,
          13,
          18,
          19,
          20,
          22
         ],
         "xaxis": "x",
         "y": [
          3,
          2,
          3.6666666666666665,
          1,
          3,
          4,
          4,
          4.333333333333333,
          4,
          5,
          5,
          0.6666666666666666,
          2,
          1,
          1.5
         ],
         "yaxis": "y"
        },
        {
         "hovertemplate": "station_id=338<br>hour=%{x}<br>num_bikes_available=%{y}<extra></extra>",
         "legendgroup": "338",
         "line": {
          "color": "#FF97FF",
          "dash": "solid"
         },
         "marker": {
          "symbol": "circle"
         },
         "mode": "lines",
         "name": "338",
         "showlegend": true,
         "type": "scattergl",
         "x": [
          0,
          1,
          2,
          5,
          7,
          8,
          9,
          10,
          11,
          12,
          13,
          14,
          15,
          17,
          18,
          19,
          22,
          23
         ],
         "xaxis": "x",
         "y": [
          0,
          0,
          0,
          0,
          1.5,
          2,
          3,
          2,
          2,
          1.5,
          2,
          0,
          0,
          0,
          0.3333333333333333,
          0.5,
          0,
          2.5
         ],
         "yaxis": "y"
        },
        {
         "hovertemplate": "station_id=339<br>hour=%{x}<br>num_bikes_available=%{y}<extra></extra>",
         "legendgroup": "339",
         "line": {
          "color": "#FECB52",
          "dash": "solid"
         },
         "marker": {
          "symbol": "circle"
         },
         "mode": "lines",
         "name": "339",
         "showlegend": true,
         "type": "scattergl",
         "x": [
          1,
          3,
          4,
          5,
          6,
          7,
          9,
          10,
          11,
          12,
          13,
          14,
          15,
          16,
          17,
          19,
          20,
          22
         ],
         "xaxis": "x",
         "y": [
          5.5,
          8,
          6,
          5.75,
          5.5,
          6.333333333333333,
          7,
          6,
          6,
          7,
          12,
          10,
          7,
          18,
          26,
          26,
          22,
          26
         ],
         "yaxis": "y"
        },
        {
         "hovertemplate": "station_id=340<br>hour=%{x}<br>num_bikes_available=%{y}<extra></extra>",
         "legendgroup": "340",
         "line": {
          "color": "#636efa",
          "dash": "solid"
         },
         "marker": {
          "symbol": "circle"
         },
         "mode": "lines",
         "name": "340",
         "showlegend": true,
         "type": "scattergl",
         "x": [
          1,
          2,
          3,
          4,
          5,
          6,
          7,
          8,
          9,
          11,
          12,
          13,
          14,
          15,
          16,
          18,
          19,
          20,
          21,
          22
         ],
         "xaxis": "x",
         "y": [
          23,
          22,
          22,
          23,
          21,
          20,
          20,
          20,
          20,
          20,
          20,
          20,
          21.666666666666668,
          21,
          23,
          22.5,
          23,
          23,
          23,
          22.666666666666668
         ],
         "yaxis": "y"
        },
        {
         "hovertemplate": "station_id=341<br>hour=%{x}<br>num_bikes_available=%{y}<extra></extra>",
         "legendgroup": "341",
         "line": {
          "color": "#EF553B",
          "dash": "solid"
         },
         "marker": {
          "symbol": "circle"
         },
         "mode": "lines",
         "name": "341",
         "showlegend": true,
         "type": "scattergl",
         "x": [
          0,
          1,
          2,
          5,
          6,
          11,
          12,
          14,
          15,
          16,
          17,
          18,
          21,
          22
         ],
         "xaxis": "x",
         "y": [
          20.5,
          21,
          22,
          22,
          22,
          18,
          17,
          16,
          14,
          15,
          16,
          16,
          18,
          20
         ],
         "yaxis": "y"
        },
        {
         "hovertemplate": "station_id=342<br>hour=%{x}<br>num_bikes_available=%{y}<extra></extra>",
         "legendgroup": "342",
         "line": {
          "color": "#00cc96",
          "dash": "solid"
         },
         "marker": {
          "symbol": "circle"
         },
         "mode": "lines",
         "name": "342",
         "showlegend": true,
         "type": "scattergl",
         "x": [
          0,
          2,
          3,
          7,
          8,
          9,
          10,
          11,
          16,
          19,
          20,
          22
         ],
         "xaxis": "x",
         "y": [
          11,
          9,
          9,
          10,
          16,
          16.666666666666668,
          15,
          13,
          25,
          19,
          20,
          15.5
         ],
         "yaxis": "y"
        },
        {
         "hovertemplate": "station_id=343<br>hour=%{x}<br>num_bikes_available=%{y}<extra></extra>",
         "legendgroup": "343",
         "line": {
          "color": "#ab63fa",
          "dash": "solid"
         },
         "marker": {
          "symbol": "circle"
         },
         "mode": "lines",
         "name": "343",
         "showlegend": true,
         "type": "scattergl",
         "x": [
          0,
          2,
          3,
          4,
          5,
          6,
          7,
          8,
          10,
          14,
          15,
          16,
          17,
          18,
          19,
          20,
          21,
          22,
          23
         ],
         "xaxis": "x",
         "y": [
          4,
          2.5,
          3,
          3,
          4,
          6,
          6,
          5,
          4,
          2,
          5,
          2.5,
          2.6666666666666665,
          2,
          1,
          4,
          4,
          5,
          7
         ],
         "yaxis": "y"
        },
        {
         "hovertemplate": "station_id=344<br>hour=%{x}<br>num_bikes_available=%{y}<extra></extra>",
         "legendgroup": "344",
         "line": {
          "color": "#FFA15A",
          "dash": "solid"
         },
         "marker": {
          "symbol": "circle"
         },
         "mode": "lines",
         "name": "344",
         "showlegend": true,
         "type": "scattergl",
         "x": [
          0,
          2,
          3,
          4,
          6,
          7,
          8,
          9,
          13,
          14,
          16,
          17,
          19,
          21,
          22,
          23
         ],
         "xaxis": "x",
         "y": [
          9,
          6,
          4,
          4,
          4,
          4,
          4.666666666666667,
          5,
          6,
          5,
          4,
          4,
          4,
          5,
          5,
          5
         ],
         "yaxis": "y"
        },
        {
         "hovertemplate": "station_id=345<br>hour=%{x}<br>num_bikes_available=%{y}<extra></extra>",
         "legendgroup": "345",
         "line": {
          "color": "#19d3f3",
          "dash": "solid"
         },
         "marker": {
          "symbol": "circle"
         },
         "mode": "lines",
         "name": "345",
         "showlegend": true,
         "type": "scattergl",
         "x": [
          1,
          2,
          3,
          4,
          5,
          6,
          7,
          8,
          9,
          10,
          11,
          12,
          14,
          15,
          16,
          17,
          20,
          22,
          23
         ],
         "xaxis": "x",
         "y": [
          26,
          29,
          31,
          31,
          31,
          30,
          31,
          29.5,
          26,
          26,
          24,
          22,
          17,
          15,
          13,
          0,
          22,
          24,
          24
         ],
         "yaxis": "y"
        },
        {
         "hovertemplate": "station_id=346<br>hour=%{x}<br>num_bikes_available=%{y}<extra></extra>",
         "legendgroup": "346",
         "line": {
          "color": "#FF6692",
          "dash": "solid"
         },
         "marker": {
          "symbol": "circle"
         },
         "mode": "lines",
         "name": "346",
         "showlegend": true,
         "type": "scattergl",
         "x": [
          1,
          2,
          3,
          4,
          5,
          8,
          9,
          10,
          11,
          12,
          13,
          14,
          15,
          17,
          19,
          20,
          21,
          22,
          23
         ],
         "xaxis": "x",
         "y": [
          13.333333333333334,
          15,
          15,
          20.333333333333332,
          26,
          26,
          24,
          24,
          23.5,
          23,
          22.666666666666668,
          21,
          20,
          17,
          13,
          12,
          14.5,
          20,
          22
         ],
         "yaxis": "y"
        },
        {
         "hovertemplate": "station_id=347<br>hour=%{x}<br>num_bikes_available=%{y}<extra></extra>",
         "legendgroup": "347",
         "line": {
          "color": "#B6E880",
          "dash": "solid"
         },
         "marker": {
          "symbol": "circle"
         },
         "mode": "lines",
         "name": "347",
         "showlegend": true,
         "type": "scattergl",
         "x": [
          0,
          2,
          5,
          6,
          7,
          8,
          10,
          12,
          15,
          18,
          19,
          20,
          21,
          22,
          23
         ],
         "xaxis": "x",
         "y": [
          16,
          15,
          17,
          14,
          13,
          14,
          14,
          14,
          10,
          15,
          18,
          23.5,
          21,
          10,
          12.666666666666666
         ],
         "yaxis": "y"
        },
        {
         "hovertemplate": "station_id=348<br>hour=%{x}<br>num_bikes_available=%{y}<extra></extra>",
         "legendgroup": "348",
         "line": {
          "color": "#FF97FF",
          "dash": "solid"
         },
         "marker": {
          "symbol": "circle"
         },
         "mode": "lines",
         "name": "348",
         "showlegend": true,
         "type": "scattergl",
         "x": [
          0,
          1,
          2,
          3,
          4,
          5,
          7,
          8,
          11,
          12,
          15,
          17,
          21,
          22,
          23
         ],
         "xaxis": "x",
         "y": [
          13,
          12,
          13,
          13,
          13,
          12,
          8,
          10,
          10,
          10,
          12.25,
          11,
          11.666666666666666,
          9,
          6.666666666666667
         ],
         "yaxis": "y"
        },
        {
         "hovertemplate": "station_id=349<br>hour=%{x}<br>num_bikes_available=%{y}<extra></extra>",
         "legendgroup": "349",
         "line": {
          "color": "#FECB52",
          "dash": "solid"
         },
         "marker": {
          "symbol": "circle"
         },
         "mode": "lines",
         "name": "349",
         "showlegend": true,
         "type": "scattergl",
         "x": [
          0,
          3,
          4,
          5,
          7,
          9,
          11,
          12,
          15,
          18,
          19,
          20,
          21,
          22,
          23
         ],
         "xaxis": "x",
         "y": [
          12,
          15,
          21,
          21,
          21.5,
          25,
          20,
          18,
          15,
          11,
          10.5,
          11.5,
          11,
          14,
          16.5
         ],
         "yaxis": "y"
        },
        {
         "hovertemplate": "station_id=350<br>hour=%{x}<br>num_bikes_available=%{y}<extra></extra>",
         "legendgroup": "350",
         "line": {
          "color": "#636efa",
          "dash": "solid"
         },
         "marker": {
          "symbol": "circle"
         },
         "mode": "lines",
         "name": "350",
         "showlegend": true,
         "type": "scattergl",
         "x": [
          0,
          2,
          3,
          4,
          5,
          7,
          8,
          10,
          12,
          13,
          14,
          17,
          18,
          20,
          21,
          22
         ],
         "xaxis": "x",
         "y": [
          2,
          24,
          24,
          20,
          16,
          11,
          12,
          10,
          4,
          2.5,
          1.5,
          1,
          2,
          4,
          3,
          2
         ],
         "yaxis": "y"
        },
        {
         "hovertemplate": "station_id=351<br>hour=%{x}<br>num_bikes_available=%{y}<extra></extra>",
         "legendgroup": "351",
         "line": {
          "color": "#EF553B",
          "dash": "solid"
         },
         "marker": {
          "symbol": "circle"
         },
         "mode": "lines",
         "name": "351",
         "showlegend": true,
         "type": "scattergl",
         "x": [
          1,
          2,
          3,
          4,
          5,
          7,
          8,
          9,
          12,
          15,
          17,
          18,
          19,
          20,
          22,
          23
         ],
         "xaxis": "x",
         "y": [
          19,
          22,
          22,
          28,
          30,
          32,
          32,
          30,
          24,
          26,
          26,
          29,
          28,
          26,
          27,
          28
         ],
         "yaxis": "y"
        },
        {
         "hovertemplate": "station_id=353<br>hour=%{x}<br>num_bikes_available=%{y}<extra></extra>",
         "legendgroup": "353",
         "line": {
          "color": "#00cc96",
          "dash": "solid"
         },
         "marker": {
          "symbol": "circle"
         },
         "mode": "lines",
         "name": "353",
         "showlegend": true,
         "type": "scattergl",
         "x": [
          0,
          1,
          3,
          4,
          6,
          8,
          9,
          10,
          11,
          12,
          15,
          17,
          20,
          21,
          22,
          23
         ],
         "xaxis": "x",
         "y": [
          10,
          13.5,
          17,
          20,
          23,
          20,
          15,
          13,
          16,
          10,
          2,
          4,
          8,
          10,
          16,
          15
         ],
         "yaxis": "y"
        },
        {
         "hovertemplate": "station_id=354<br>hour=%{x}<br>num_bikes_available=%{y}<extra></extra>",
         "legendgroup": "354",
         "line": {
          "color": "#ab63fa",
          "dash": "solid"
         },
         "marker": {
          "symbol": "circle"
         },
         "mode": "lines",
         "name": "354",
         "showlegend": true,
         "type": "scattergl",
         "x": [
          0,
          1,
          3,
          6,
          7,
          8,
          9,
          10,
          11,
          12,
          14,
          16,
          17,
          18,
          19,
          20
         ],
         "xaxis": "x",
         "y": [
          26,
          26,
          17,
          9,
          12,
          12,
          12.5,
          12,
          10.5,
          9,
          5.5,
          4,
          6.5,
          3.3333333333333335,
          2.25,
          3
         ],
         "yaxis": "y"
        },
        {
         "hovertemplate": "station_id=355<br>hour=%{x}<br>num_bikes_available=%{y}<extra></extra>",
         "legendgroup": "355",
         "line": {
          "color": "#FFA15A",
          "dash": "solid"
         },
         "marker": {
          "symbol": "circle"
         },
         "mode": "lines",
         "name": "355",
         "showlegend": true,
         "type": "scattergl",
         "x": [
          0,
          1,
          2,
          4,
          6,
          10,
          13,
          14,
          15,
          16,
          17,
          18,
          20,
          22,
          23
         ],
         "xaxis": "x",
         "y": [
          14.666666666666666,
          19,
          20.75,
          22,
          23,
          22,
          15.333333333333334,
          12.5,
          13,
          16,
          17.5,
          20.5,
          17,
          22,
          21
         ],
         "yaxis": "y"
        },
        {
         "hovertemplate": "station_id=356<br>hour=%{x}<br>num_bikes_available=%{y}<extra></extra>",
         "legendgroup": "356",
         "line": {
          "color": "#19d3f3",
          "dash": "solid"
         },
         "marker": {
          "symbol": "circle"
         },
         "mode": "lines",
         "name": "356",
         "showlegend": true,
         "type": "scattergl",
         "x": [
          1,
          2,
          5,
          6,
          7,
          8,
          11,
          12,
          14,
          15,
          16,
          17,
          18,
          19,
          20,
          21,
          22
         ],
         "xaxis": "x",
         "y": [
          3,
          5,
          8,
          10,
          10,
          11,
          3,
          2,
          2,
          1,
          1,
          1,
          4,
          1.6666666666666667,
          2,
          3,
          5.5
         ],
         "yaxis": "y"
        },
        {
         "hovertemplate": "station_id=357<br>hour=%{x}<br>num_bikes_available=%{y}<extra></extra>",
         "legendgroup": "357",
         "line": {
          "color": "#FF6692",
          "dash": "solid"
         },
         "marker": {
          "symbol": "circle"
         },
         "mode": "lines",
         "name": "357",
         "showlegend": true,
         "type": "scattergl",
         "x": [
          0,
          1,
          2,
          4,
          8,
          9,
          10,
          11,
          12,
          14,
          15,
          17,
          18,
          19,
          21,
          22
         ],
         "xaxis": "x",
         "y": [
          8,
          14,
          18,
          12.333333333333334,
          11,
          8.5,
          7,
          5,
          3,
          0.6666666666666666,
          1,
          1,
          2.5,
          4,
          6.5,
          3.5
         ],
         "yaxis": "y"
        },
        {
         "hovertemplate": "station_id=358<br>hour=%{x}<br>num_bikes_available=%{y}<extra></extra>",
         "legendgroup": "358",
         "line": {
          "color": "#B6E880",
          "dash": "solid"
         },
         "marker": {
          "symbol": "circle"
         },
         "mode": "lines",
         "name": "358",
         "showlegend": true,
         "type": "scattergl",
         "x": [
          0,
          1,
          3,
          4,
          6,
          7,
          8,
          10,
          11,
          12,
          13,
          14,
          15,
          17,
          18,
          20,
          21
         ],
         "xaxis": "x",
         "y": [
          21,
          20,
          21.333333333333332,
          24,
          25,
          23,
          24,
          22,
          25,
          24,
          25.333333333333332,
          21,
          20,
          26,
          26,
          23.5,
          25
         ],
         "yaxis": "y"
        },
        {
         "hovertemplate": "station_id=359<br>hour=%{x}<br>num_bikes_available=%{y}<extra></extra>",
         "legendgroup": "359",
         "line": {
          "color": "#FF97FF",
          "dash": "solid"
         },
         "marker": {
          "symbol": "circle"
         },
         "mode": "lines",
         "name": "359",
         "showlegend": true,
         "type": "scattergl",
         "x": [
          0,
          1,
          3,
          4,
          5,
          6,
          8,
          9,
          11,
          12,
          13,
          14,
          15,
          16,
          18,
          19,
          20,
          21,
          22,
          23
         ],
         "xaxis": "x",
         "y": [
          9,
          10,
          14,
          18,
          16.25,
          16,
          15,
          14.5,
          18,
          23,
          11.5,
          10.333333333333334,
          10.5,
          11,
          15,
          12,
          8,
          12,
          13.5,
          16.666666666666668
         ],
         "yaxis": "y"
        },
        {
         "hovertemplate": "station_id=360<br>hour=%{x}<br>num_bikes_available=%{y}<extra></extra>",
         "legendgroup": "360",
         "line": {
          "color": "#FECB52",
          "dash": "solid"
         },
         "marker": {
          "symbol": "circle"
         },
         "mode": "lines",
         "name": "360",
         "showlegend": true,
         "type": "scattergl",
         "x": [
          1,
          2,
          3,
          4,
          5,
          6,
          7,
          8,
          11,
          13,
          14,
          15,
          16,
          17,
          20,
          21,
          22,
          23
         ],
         "xaxis": "x",
         "y": [
          9,
          14.5,
          14.25,
          14,
          12,
          12,
          12,
          13,
          11,
          14,
          16.5,
          20,
          8,
          3.5,
          25,
          28,
          25.5,
          20
         ],
         "yaxis": "y"
        },
        {
         "hovertemplate": "station_id=361<br>hour=%{x}<br>num_bikes_available=%{y}<extra></extra>",
         "legendgroup": "361",
         "line": {
          "color": "#636efa",
          "dash": "solid"
         },
         "marker": {
          "symbol": "circle"
         },
         "mode": "lines",
         "name": "361",
         "showlegend": true,
         "type": "scattergl",
         "x": [
          0,
          1,
          2,
          4,
          5,
          6,
          7,
          9,
          10,
          12,
          13,
          14,
          16,
          18,
          20,
          21,
          23
         ],
         "xaxis": "x",
         "y": [
          22,
          18,
          17,
          15,
          15,
          15,
          19,
          26.5,
          28,
          29,
          31,
          28,
          30.666666666666668,
          29,
          26,
          27,
          21.5
         ],
         "yaxis": "y"
        },
        {
         "hovertemplate": "station_id=362<br>hour=%{x}<br>num_bikes_available=%{y}<extra></extra>",
         "legendgroup": "362",
         "line": {
          "color": "#EF553B",
          "dash": "solid"
         },
         "marker": {
          "symbol": "circle"
         },
         "mode": "lines",
         "name": "362",
         "showlegend": true,
         "type": "scattergl",
         "x": [
          0,
          1,
          2,
          3,
          5,
          6,
          7,
          8,
          9,
          10,
          12,
          15,
          16,
          17,
          18,
          20,
          21,
          22
         ],
         "xaxis": "x",
         "y": [
          18,
          15,
          7,
          9.5,
          8,
          12,
          11,
          11.5,
          14,
          16,
          15,
          10.333333333333334,
          13,
          4,
          21,
          21,
          25,
          26
         ],
         "yaxis": "y"
        },
        {
         "hovertemplate": "station_id=363<br>hour=%{x}<br>num_bikes_available=%{y}<extra></extra>",
         "legendgroup": "363",
         "line": {
          "color": "#00cc96",
          "dash": "solid"
         },
         "marker": {
          "symbol": "circle"
         },
         "mode": "lines",
         "name": "363",
         "showlegend": true,
         "type": "scattergl",
         "x": [
          1,
          2,
          4,
          5,
          7,
          8,
          10,
          11,
          13,
          14,
          15,
          16,
          18,
          19,
          20,
          23
         ],
         "xaxis": "x",
         "y": [
          2.5,
          4,
          4,
          6,
          8,
          7,
          8,
          8,
          10.5,
          13,
          14,
          14,
          8,
          9,
          10,
          9.5
         ],
         "yaxis": "y"
        },
        {
         "hovertemplate": "station_id=364<br>hour=%{x}<br>num_bikes_available=%{y}<extra></extra>",
         "legendgroup": "364",
         "line": {
          "color": "#ab63fa",
          "dash": "solid"
         },
         "marker": {
          "symbol": "circle"
         },
         "mode": "lines",
         "name": "364",
         "showlegend": true,
         "type": "scattergl",
         "x": [
          0,
          1,
          3,
          4,
          5,
          6,
          7,
          8,
          9,
          10,
          11,
          13,
          14,
          15,
          16,
          17,
          18,
          20,
          21,
          22,
          23
         ],
         "xaxis": "x",
         "y": [
          10,
          22,
          15,
          14,
          14,
          17,
          21,
          20.5,
          17.333333333333332,
          19.5,
          23,
          30,
          30,
          25,
          19,
          18,
          3,
          21,
          16.5,
          14,
          10
         ],
         "yaxis": "y"
        },
        {
         "hovertemplate": "station_id=365<br>hour=%{x}<br>num_bikes_available=%{y}<extra></extra>",
         "legendgroup": "365",
         "line": {
          "color": "#FFA15A",
          "dash": "solid"
         },
         "marker": {
          "symbol": "circle"
         },
         "mode": "lines",
         "name": "365",
         "showlegend": true,
         "type": "scattergl",
         "x": [
          1,
          2,
          3,
          4,
          5,
          7,
          8,
          9,
          10,
          12,
          13,
          14,
          17,
          18,
          20,
          21,
          22,
          23
         ],
         "xaxis": "x",
         "y": [
          9,
          9,
          10.666666666666666,
          13,
          13,
          14,
          9.5,
          8,
          5.5,
          1.5,
          1,
          0,
          2.6666666666666665,
          0,
          1,
          1,
          1,
          1
         ],
         "yaxis": "y"
        },
        {
         "hovertemplate": "station_id=366<br>hour=%{x}<br>num_bikes_available=%{y}<extra></extra>",
         "legendgroup": "366",
         "line": {
          "color": "#19d3f3",
          "dash": "solid"
         },
         "marker": {
          "symbol": "circle"
         },
         "mode": "lines",
         "name": "366",
         "showlegend": true,
         "type": "scattergl",
         "x": [
          0,
          1,
          2,
          4,
          5,
          6,
          8,
          9,
          12,
          13,
          14,
          15,
          16,
          18,
          19,
          20,
          21,
          23
         ],
         "xaxis": "x",
         "y": [
          6,
          2,
          1.5,
          0,
          1,
          2,
          2.5,
          4.5,
          9,
          11,
          10,
          15,
          6.5,
          10.666666666666666,
          9,
          4,
          6,
          8
         ],
         "yaxis": "y"
        },
        {
         "hovertemplate": "station_id=367<br>hour=%{x}<br>num_bikes_available=%{y}<extra></extra>",
         "legendgroup": "367",
         "line": {
          "color": "#FF6692",
          "dash": "solid"
         },
         "marker": {
          "symbol": "circle"
         },
         "mode": "lines",
         "name": "367",
         "showlegend": true,
         "type": "scattergl",
         "x": [
          0,
          1,
          2,
          3,
          5,
          6,
          7,
          8,
          9,
          10,
          13,
          14,
          15,
          17,
          18,
          20,
          21,
          22,
          23
         ],
         "xaxis": "x",
         "y": [
          25,
          28.5,
          30,
          7,
          0,
          0,
          0,
          0.5,
          1,
          2,
          0,
          0,
          0,
          0,
          0.3333333333333333,
          2,
          3,
          1,
          3
         ],
         "yaxis": "y"
        },
        {
         "hovertemplate": "station_id=368<br>hour=%{x}<br>num_bikes_available=%{y}<extra></extra>",
         "legendgroup": "368",
         "line": {
          "color": "#B6E880",
          "dash": "solid"
         },
         "marker": {
          "symbol": "circle"
         },
         "mode": "lines",
         "name": "368",
         "showlegend": true,
         "type": "scattergl",
         "x": [
          0,
          1,
          2,
          3,
          4,
          7,
          8,
          9,
          11,
          12,
          13,
          14,
          15,
          18,
          19,
          20,
          21,
          22,
          23
         ],
         "xaxis": "x",
         "y": [
          16,
          11.666666666666666,
          8,
          10,
          13,
          13.666666666666666,
          14.5,
          15,
          13.5,
          12.666666666666666,
          13,
          8.333333333333334,
          7,
          3,
          5,
          2.6666666666666665,
          12,
          11,
          10.5
         ],
         "yaxis": "y"
        },
        {
         "hovertemplate": "station_id=369<br>hour=%{x}<br>num_bikes_available=%{y}<extra></extra>",
         "legendgroup": "369",
         "line": {
          "color": "#FF97FF",
          "dash": "solid"
         },
         "marker": {
          "symbol": "circle"
         },
         "mode": "lines",
         "name": "369",
         "showlegend": true,
         "type": "scattergl",
         "x": [
          0,
          1,
          2,
          3,
          4,
          5,
          7,
          9,
          11,
          12,
          13,
          14,
          15,
          16,
          19,
          20,
          21,
          22,
          23
         ],
         "xaxis": "x",
         "y": [
          10,
          7,
          10,
          12.666666666666666,
          22,
          22.333333333333332,
          23,
          19,
          23,
          22,
          17.5,
          13,
          9.333333333333334,
          18.5,
          10,
          12,
          9.5,
          14,
          20.5
         ],
         "yaxis": "y"
        },
        {
         "hovertemplate": "station_id=370<br>hour=%{x}<br>num_bikes_available=%{y}<extra></extra>",
         "legendgroup": "370",
         "line": {
          "color": "#FECB52",
          "dash": "solid"
         },
         "marker": {
          "symbol": "circle"
         },
         "mode": "lines",
         "name": "370",
         "showlegend": true,
         "type": "scattergl",
         "x": [
          0,
          1,
          3,
          4,
          5,
          7,
          9,
          11,
          12,
          13,
          14,
          15,
          16,
          17,
          18,
          21,
          22,
          23
         ],
         "xaxis": "x",
         "y": [
          13,
          13,
          10,
          11,
          23,
          25,
          26,
          27,
          26,
          26,
          12.333333333333334,
          3,
          4,
          2,
          0,
          16.5,
          16.5,
          20.666666666666668
         ],
         "yaxis": "y"
        },
        {
         "hovertemplate": "station_id=371<br>hour=%{x}<br>num_bikes_available=%{y}<extra></extra>",
         "legendgroup": "371",
         "line": {
          "color": "#636efa",
          "dash": "solid"
         },
         "marker": {
          "symbol": "circle"
         },
         "mode": "lines",
         "name": "371",
         "showlegend": true,
         "type": "scattergl",
         "x": [
          0,
          2,
          4,
          6,
          7,
          8,
          9,
          11,
          12,
          13,
          14,
          15,
          17,
          18,
          19,
          21,
          22
         ],
         "xaxis": "x",
         "y": [
          3.5,
          19,
          28,
          26,
          25,
          25,
          27,
          15,
          30,
          29,
          25.5,
          13.5,
          9,
          11,
          6,
          12.5,
          13
         ],
         "yaxis": "y"
        },
        {
         "hovertemplate": "station_id=372<br>hour=%{x}<br>num_bikes_available=%{y}<extra></extra>",
         "legendgroup": "372",
         "line": {
          "color": "#EF553B",
          "dash": "solid"
         },
         "marker": {
          "symbol": "circle"
         },
         "mode": "lines",
         "name": "372",
         "showlegend": true,
         "type": "scattergl",
         "x": [
          0,
          1,
          2,
          4,
          6,
          8,
          13,
          16,
          17,
          18,
          19,
          20,
          22
         ],
         "xaxis": "x",
         "y": [
          12,
          21,
          25,
          26,
          24,
          21,
          12,
          9.666666666666666,
          7,
          7,
          9.5,
          11.5,
          20.5
         ],
         "yaxis": "y"
        },
        {
         "hovertemplate": "station_id=373<br>hour=%{x}<br>num_bikes_available=%{y}<extra></extra>",
         "legendgroup": "373",
         "line": {
          "color": "#00cc96",
          "dash": "solid"
         },
         "marker": {
          "symbol": "circle"
         },
         "mode": "lines",
         "name": "373",
         "showlegend": true,
         "type": "scattergl",
         "x": [
          1,
          2,
          3,
          4,
          5,
          6,
          8,
          10,
          12,
          13,
          14,
          16,
          19,
          21,
          22
         ],
         "xaxis": "x",
         "y": [
          26.333333333333332,
          27,
          24.5,
          25.666666666666668,
          25,
          24,
          15,
          12,
          3.6666666666666665,
          1,
          3,
          14.5,
          24,
          28,
          28
         ],
         "yaxis": "y"
        },
        {
         "hovertemplate": "station_id=374<br>hour=%{x}<br>num_bikes_available=%{y}<extra></extra>",
         "legendgroup": "374",
         "line": {
          "color": "#ab63fa",
          "dash": "solid"
         },
         "marker": {
          "symbol": "circle"
         },
         "mode": "lines",
         "name": "374",
         "showlegend": true,
         "type": "scattergl",
         "x": [
          1,
          3,
          4,
          5,
          6,
          8,
          9,
          10,
          11,
          13,
          14,
          16,
          18,
          19,
          20,
          21,
          22,
          23
         ],
         "xaxis": "x",
         "y": [
          7,
          5.5,
          5,
          5,
          4,
          5,
          9,
          9,
          8.5,
          15,
          17.5,
          13.333333333333334,
          4.2,
          4,
          1,
          1.5,
          1,
          0
         ],
         "yaxis": "y"
        },
        {
         "hovertemplate": "station_id=375<br>hour=%{x}<br>num_bikes_available=%{y}<extra></extra>",
         "legendgroup": "375",
         "line": {
          "color": "#FFA15A",
          "dash": "solid"
         },
         "marker": {
          "symbol": "circle"
         },
         "mode": "lines",
         "name": "375",
         "showlegend": true,
         "type": "scattergl",
         "x": [
          0,
          1,
          2,
          3,
          4,
          5,
          6,
          8,
          9,
          10,
          11,
          12,
          13,
          15,
          16,
          17,
          20,
          21,
          22,
          23
         ],
         "xaxis": "x",
         "y": [
          12,
          12,
          12,
          12,
          12,
          15,
          16.666666666666668,
          27.333333333333332,
          28.5,
          35,
          35,
          34,
          34.666666666666664,
          27,
          24,
          21,
          16,
          15.5,
          12.75,
          12
         ],
         "yaxis": "y"
        },
        {
         "hovertemplate": "station_id=376<br>hour=%{x}<br>num_bikes_available=%{y}<extra></extra>",
         "legendgroup": "376",
         "line": {
          "color": "#19d3f3",
          "dash": "solid"
         },
         "marker": {
          "symbol": "circle"
         },
         "mode": "lines",
         "name": "376",
         "showlegend": true,
         "type": "scattergl",
         "x": [
          2,
          3,
          4,
          5,
          6,
          9,
          10,
          13,
          15,
          16,
          17,
          19,
          21
         ],
         "xaxis": "x",
         "y": [
          8,
          8,
          10,
          11,
          12,
          19,
          20,
          21.5,
          18,
          16,
          18,
          19,
          17
         ],
         "yaxis": "y"
        },
        {
         "hovertemplate": "station_id=377<br>hour=%{x}<br>num_bikes_available=%{y}<extra></extra>",
         "legendgroup": "377",
         "line": {
          "color": "#FF6692",
          "dash": "solid"
         },
         "marker": {
          "symbol": "circle"
         },
         "mode": "lines",
         "name": "377",
         "showlegend": true,
         "type": "scattergl",
         "x": [
          0,
          1,
          2,
          3,
          5,
          7,
          10,
          11,
          12,
          13,
          14,
          15,
          16,
          17,
          18,
          19,
          20,
          22,
          23
         ],
         "xaxis": "x",
         "y": [
          9,
          6,
          5,
          2,
          1,
          7,
          27,
          28,
          28,
          25,
          28,
          28,
          23,
          18,
          10.5,
          3,
          6,
          9,
          7.5
         ],
         "yaxis": "y"
        },
        {
         "hovertemplate": "station_id=378<br>hour=%{x}<br>num_bikes_available=%{y}<extra></extra>",
         "legendgroup": "378",
         "line": {
          "color": "#B6E880",
          "dash": "solid"
         },
         "marker": {
          "symbol": "circle"
         },
         "mode": "lines",
         "name": "378",
         "showlegend": true,
         "type": "scattergl",
         "x": [
          0,
          2,
          3,
          4,
          5,
          7,
          13,
          14,
          16,
          17,
          19,
          20,
          21,
          22,
          23
         ],
         "xaxis": "x",
         "y": [
          18,
          13,
          18,
          14.5,
          15,
          11,
          21,
          19,
          19,
          21,
          18,
          19,
          17,
          17,
          14.666666666666666
         ],
         "yaxis": "y"
        },
        {
         "hovertemplate": "station_id=379<br>hour=%{x}<br>num_bikes_available=%{y}<extra></extra>",
         "legendgroup": "379",
         "line": {
          "color": "#FF97FF",
          "dash": "solid"
         },
         "marker": {
          "symbol": "circle"
         },
         "mode": "lines",
         "name": "379",
         "showlegend": true,
         "type": "scattergl",
         "x": [
          0,
          2,
          3,
          5,
          6,
          7,
          8,
          10,
          11,
          14,
          15,
          16,
          17,
          22,
          23
         ],
         "xaxis": "x",
         "y": [
          20,
          10.5,
          0,
          0,
          0,
          0,
          0,
          1,
          0,
          0,
          1,
          0.6666666666666666,
          1,
          1.5,
          0.5
         ],
         "yaxis": "y"
        },
        {
         "hovertemplate": "station_id=380<br>hour=%{x}<br>num_bikes_available=%{y}<extra></extra>",
         "legendgroup": "380",
         "line": {
          "color": "#FECB52",
          "dash": "solid"
         },
         "marker": {
          "symbol": "circle"
         },
         "mode": "lines",
         "name": "380",
         "showlegend": true,
         "type": "scattergl",
         "x": [
          0,
          1,
          4,
          5,
          6,
          7,
          8,
          9,
          10,
          12,
          13,
          14,
          15,
          16,
          17,
          18,
          19,
          20,
          22,
          23
         ],
         "xaxis": "x",
         "y": [
          14,
          14,
          16,
          17,
          18,
          19,
          18,
          20.5,
          21,
          23.5,
          23.333333333333332,
          21,
          19.5,
          16,
          13.5,
          13.5,
          14,
          14,
          15.5,
          18
         ],
         "yaxis": "y"
        },
        {
         "hovertemplate": "station_id=381<br>hour=%{x}<br>num_bikes_available=%{y}<extra></extra>",
         "legendgroup": "381",
         "line": {
          "color": "#636efa",
          "dash": "solid"
         },
         "marker": {
          "symbol": "circle"
         },
         "mode": "lines",
         "name": "381",
         "showlegend": true,
         "type": "scattergl",
         "x": [
          0,
          1,
          3,
          5,
          6,
          7,
          10,
          12,
          14,
          15,
          16,
          17,
          18,
          20,
          21,
          23
         ],
         "xaxis": "x",
         "y": [
          34,
          32,
          32.5,
          32,
          33,
          32.666666666666664,
          28,
          25,
          25.25,
          24,
          26.5,
          28,
          28.5,
          27,
          33,
          37
         ],
         "yaxis": "y"
        },
        {
         "hovertemplate": "station_id=382<br>hour=%{x}<br>num_bikes_available=%{y}<extra></extra>",
         "legendgroup": "382",
         "line": {
          "color": "#EF553B",
          "dash": "solid"
         },
         "marker": {
          "symbol": "circle"
         },
         "mode": "lines",
         "name": "382",
         "showlegend": true,
         "type": "scattergl",
         "x": [
          0,
          1,
          3,
          5,
          6,
          9,
          10,
          11,
          13,
          14,
          15,
          16,
          17,
          21,
          22,
          23
         ],
         "xaxis": "x",
         "y": [
          9,
          8,
          15.5,
          21.666666666666668,
          22,
          12,
          11.666666666666666,
          11.333333333333334,
          9,
          8.666666666666666,
          8.666666666666666,
          7,
          6,
          16,
          19,
          18.333333333333332
         ],
         "yaxis": "y"
        },
        {
         "hovertemplate": "station_id=383<br>hour=%{x}<br>num_bikes_available=%{y}<extra></extra>",
         "legendgroup": "383",
         "line": {
          "color": "#00cc96",
          "dash": "solid"
         },
         "marker": {
          "symbol": "circle"
         },
         "mode": "lines",
         "name": "383",
         "showlegend": true,
         "type": "scattergl",
         "x": [
          0,
          1,
          2,
          3,
          5,
          6,
          7,
          10,
          11,
          12,
          14,
          15,
          16,
          17,
          21,
          22,
          23
         ],
         "xaxis": "x",
         "y": [
          19,
          19,
          1,
          0,
          0,
          1,
          0,
          2,
          2,
          4,
          0,
          0,
          1,
          0,
          0,
          0,
          0
         ],
         "yaxis": "y"
        },
        {
         "hovertemplate": "station_id=384<br>hour=%{x}<br>num_bikes_available=%{y}<extra></extra>",
         "legendgroup": "384",
         "line": {
          "color": "#ab63fa",
          "dash": "solid"
         },
         "marker": {
          "symbol": "circle"
         },
         "mode": "lines",
         "name": "384",
         "showlegend": true,
         "type": "scattergl",
         "x": [
          2,
          4,
          5,
          6,
          7,
          8,
          10,
          13,
          15,
          16,
          17,
          18,
          20,
          22,
          23
         ],
         "xaxis": "x",
         "y": [
          17.5,
          1.5,
          3,
          0.5,
          1,
          0,
          2.5,
          1.5,
          2,
          0.5,
          5,
          0,
          3.5,
          3,
          1
         ],
         "yaxis": "y"
        },
        {
         "hovertemplate": "station_id=385<br>hour=%{x}<br>num_bikes_available=%{y}<extra></extra>",
         "legendgroup": "385",
         "line": {
          "color": "#FFA15A",
          "dash": "solid"
         },
         "marker": {
          "symbol": "circle"
         },
         "mode": "lines",
         "name": "385",
         "showlegend": true,
         "type": "scattergl",
         "x": [
          0,
          1,
          2,
          4,
          5,
          6,
          8,
          9,
          10,
          11,
          12,
          13,
          14,
          15,
          16,
          17,
          18,
          19,
          21,
          22,
          23
         ],
         "xaxis": "x",
         "y": [
          23,
          25,
          16,
          15,
          19,
          21,
          20,
          21,
          19,
          21.333333333333332,
          21,
          19,
          22.333333333333332,
          23,
          14,
          8.5,
          5.5,
          6,
          14,
          19,
          16
         ],
         "yaxis": "y"
        },
        {
         "hovertemplate": "station_id=386<br>hour=%{x}<br>num_bikes_available=%{y}<extra></extra>",
         "legendgroup": "386",
         "line": {
          "color": "#19d3f3",
          "dash": "solid"
         },
         "marker": {
          "symbol": "circle"
         },
         "mode": "lines",
         "name": "386",
         "showlegend": true,
         "type": "scattergl",
         "x": [
          2,
          3,
          4,
          5,
          7,
          9,
          11,
          12,
          14,
          15,
          16,
          17,
          18,
          20,
          21,
          22,
          23
         ],
         "xaxis": "x",
         "y": [
          16,
          15,
          16,
          14,
          16,
          15,
          12,
          9,
          8,
          8,
          7,
          5,
          6,
          3.5,
          8,
          11,
          7.2
         ],
         "yaxis": "y"
        },
        {
         "hovertemplate": "station_id=387<br>hour=%{x}<br>num_bikes_available=%{y}<extra></extra>",
         "legendgroup": "387",
         "line": {
          "color": "#FF6692",
          "dash": "solid"
         },
         "marker": {
          "symbol": "circle"
         },
         "mode": "lines",
         "name": "387",
         "showlegend": true,
         "type": "scattergl",
         "x": [
          0,
          2,
          3,
          4,
          5,
          6,
          7,
          9,
          10,
          12,
          14,
          15,
          16,
          17,
          18,
          19,
          22,
          23
         ],
         "xaxis": "x",
         "y": [
          17,
          21.666666666666668,
          24,
          26,
          29,
          29,
          27,
          24,
          22,
          20,
          17,
          19,
          18,
          17,
          17.5,
          17.333333333333332,
          20,
          20
         ],
         "yaxis": "y"
        },
        {
         "hovertemplate": "station_id=388<br>hour=%{x}<br>num_bikes_available=%{y}<extra></extra>",
         "legendgroup": "388",
         "line": {
          "color": "#B6E880",
          "dash": "solid"
         },
         "marker": {
          "symbol": "circle"
         },
         "mode": "lines",
         "name": "388",
         "showlegend": true,
         "type": "scattergl",
         "x": [
          1,
          2,
          3,
          4,
          6,
          8,
          11,
          12,
          14,
          15,
          18,
          19,
          21,
          22,
          23
         ],
         "xaxis": "x",
         "y": [
          20.5,
          33,
          34,
          33,
          34,
          29.666666666666668,
          24.75,
          21,
          19,
          17.5,
          20,
          17.5,
          26,
          29.666666666666668,
          28.666666666666668
         ],
         "yaxis": "y"
        },
        {
         "hovertemplate": "station_id=389<br>hour=%{x}<br>num_bikes_available=%{y}<extra></extra>",
         "legendgroup": "389",
         "line": {
          "color": "#FF97FF",
          "dash": "solid"
         },
         "marker": {
          "symbol": "circle"
         },
         "mode": "lines",
         "name": "389",
         "showlegend": true,
         "type": "scattergl",
         "x": [
          0,
          2,
          3,
          4,
          5,
          6,
          7,
          8,
          9,
          10,
          11,
          13,
          15,
          16,
          19,
          22,
          23
         ],
         "xaxis": "x",
         "y": [
          13,
          13,
          13,
          13,
          13,
          13,
          13,
          13,
          12.333333333333334,
          13,
          22,
          27,
          23,
          24.5,
          25,
          20.5,
          21
         ],
         "yaxis": "y"
        },
        {
         "hovertemplate": "station_id=390<br>hour=%{x}<br>num_bikes_available=%{y}<extra></extra>",
         "legendgroup": "390",
         "line": {
          "color": "#FECB52",
          "dash": "solid"
         },
         "marker": {
          "symbol": "circle"
         },
         "mode": "lines",
         "name": "390",
         "showlegend": true,
         "type": "scattergl",
         "x": [
          0,
          1,
          2,
          3,
          4,
          5,
          9,
          10,
          11,
          16,
          17,
          20,
          22,
          23
         ],
         "xaxis": "x",
         "y": [
          20,
          17.5,
          17,
          14,
          14,
          13.5,
          6.5,
          0,
          0,
          23,
          22.5,
          20,
          21,
          21
         ],
         "yaxis": "y"
        },
        {
         "hovertemplate": "station_id=391<br>hour=%{x}<br>num_bikes_available=%{y}<extra></extra>",
         "legendgroup": "391",
         "line": {
          "color": "#636efa",
          "dash": "solid"
         },
         "marker": {
          "symbol": "circle"
         },
         "mode": "lines",
         "name": "391",
         "showlegend": true,
         "type": "scattergl",
         "x": [
          1,
          2,
          3,
          4,
          6,
          7,
          8,
          9,
          10,
          11,
          12,
          14,
          15,
          16,
          19,
          20,
          22
         ],
         "xaxis": "x",
         "y": [
          11,
          11,
          11,
          11.5,
          12,
          12,
          11,
          7,
          6,
          3.6666666666666665,
          8,
          13,
          11,
          8,
          1,
          3,
          2.6666666666666665
         ],
         "yaxis": "y"
        },
        {
         "hovertemplate": "station_id=392<br>hour=%{x}<br>num_bikes_available=%{y}<extra></extra>",
         "legendgroup": "392",
         "line": {
          "color": "#EF553B",
          "dash": "solid"
         },
         "marker": {
          "symbol": "circle"
         },
         "mode": "lines",
         "name": "392",
         "showlegend": true,
         "type": "scattergl",
         "x": [
          0,
          1,
          2,
          3,
          4,
          5,
          7,
          12,
          13,
          15,
          17,
          20,
          21,
          22,
          23
         ],
         "xaxis": "x",
         "y": [
          8.666666666666666,
          10,
          10,
          11,
          7,
          7.5,
          7,
          7.333333333333333,
          6,
          11,
          7,
          11,
          8,
          10,
          11.5
         ],
         "yaxis": "y"
        },
        {
         "hovertemplate": "station_id=393<br>hour=%{x}<br>num_bikes_available=%{y}<extra></extra>",
         "legendgroup": "393",
         "line": {
          "color": "#00cc96",
          "dash": "solid"
         },
         "marker": {
          "symbol": "circle"
         },
         "mode": "lines",
         "name": "393",
         "showlegend": true,
         "type": "scattergl",
         "x": [
          0,
          2,
          3,
          4,
          7,
          9,
          11,
          12,
          13,
          15,
          16,
          18,
          22
         ],
         "xaxis": "x",
         "y": [
          15,
          14.333333333333334,
          16.666666666666668,
          16.666666666666668,
          17,
          15,
          13,
          11,
          7.5,
          15,
          18.2,
          14,
          27
         ],
         "yaxis": "y"
        },
        {
         "hovertemplate": "station_id=394<br>hour=%{x}<br>num_bikes_available=%{y}<extra></extra>",
         "legendgroup": "394",
         "line": {
          "color": "#ab63fa",
          "dash": "solid"
         },
         "marker": {
          "symbol": "circle"
         },
         "mode": "lines",
         "name": "394",
         "showlegend": true,
         "type": "scattergl",
         "x": [
          2,
          3,
          4,
          5,
          6,
          7,
          8,
          10,
          11,
          12,
          13,
          16,
          17,
          18,
          19,
          20,
          22,
          23
         ],
         "xaxis": "x",
         "y": [
          6,
          2.3333333333333335,
          1.6666666666666667,
          0,
          0,
          0,
          1,
          2.75,
          4,
          3,
          13.25,
          10.666666666666666,
          13,
          13,
          10,
          5,
          11,
          10.333333333333334
         ],
         "yaxis": "y"
        },
        {
         "hovertemplate": "station_id=395<br>hour=%{x}<br>num_bikes_available=%{y}<extra></extra>",
         "legendgroup": "395",
         "line": {
          "color": "#FFA15A",
          "dash": "solid"
         },
         "marker": {
          "symbol": "circle"
         },
         "mode": "lines",
         "name": "395",
         "showlegend": true,
         "type": "scattergl",
         "x": [
          1,
          3,
          4,
          5,
          6,
          7,
          8,
          10,
          11,
          14,
          16,
          17,
          18,
          19,
          20,
          21,
          22,
          23
         ],
         "xaxis": "x",
         "y": [
          13,
          5,
          6,
          6,
          6,
          10,
          13,
          12,
          13.5,
          13,
          27,
          29,
          23,
          22,
          16,
          15,
          8,
          8
         ],
         "yaxis": "y"
        },
        {
         "hovertemplate": "station_id=396<br>hour=%{x}<br>num_bikes_available=%{y}<extra></extra>",
         "legendgroup": "396",
         "line": {
          "color": "#19d3f3",
          "dash": "solid"
         },
         "marker": {
          "symbol": "circle"
         },
         "mode": "lines",
         "name": "396",
         "showlegend": true,
         "type": "scattergl",
         "x": [
          0,
          2,
          3,
          5,
          8,
          9,
          10,
          13,
          17,
          18,
          19,
          21,
          23
         ],
         "xaxis": "x",
         "y": [
          6,
          6,
          4,
          1,
          2.3333333333333335,
          5,
          6,
          7,
          10.5,
          24,
          29,
          20,
          17.5
         ],
         "yaxis": "y"
        },
        {
         "hovertemplate": "station_id=397<br>hour=%{x}<br>num_bikes_available=%{y}<extra></extra>",
         "legendgroup": "397",
         "line": {
          "color": "#FF6692",
          "dash": "solid"
         },
         "marker": {
          "symbol": "circle"
         },
         "mode": "lines",
         "name": "397",
         "showlegend": true,
         "type": "scattergl",
         "x": [
          0,
          1,
          3,
          4,
          5,
          6,
          9,
          10,
          11,
          12,
          16,
          17,
          18,
          19,
          21,
          22
         ],
         "xaxis": "x",
         "y": [
          3,
          3,
          3,
          3,
          3,
          3.5,
          6,
          9,
          15,
          15,
          25,
          26,
          26,
          24.5,
          6,
          8
         ],
         "yaxis": "y"
        },
        {
         "hovertemplate": "station_id=398<br>hour=%{x}<br>num_bikes_available=%{y}<extra></extra>",
         "legendgroup": "398",
         "line": {
          "color": "#B6E880",
          "dash": "solid"
         },
         "marker": {
          "symbol": "circle"
         },
         "mode": "lines",
         "name": "398",
         "showlegend": true,
         "type": "scattergl",
         "x": [
          3,
          4,
          7,
          8,
          10,
          11,
          13,
          15,
          17,
          19,
          20,
          21,
          22,
          23
         ],
         "xaxis": "x",
         "y": [
          20,
          18,
          18,
          17,
          20,
          19,
          19,
          20,
          32,
          28,
          22,
          22,
          20,
          18.5
         ],
         "yaxis": "y"
        },
        {
         "hovertemplate": "station_id=399<br>hour=%{x}<br>num_bikes_available=%{y}<extra></extra>",
         "legendgroup": "399",
         "line": {
          "color": "#FF97FF",
          "dash": "solid"
         },
         "marker": {
          "symbol": "circle"
         },
         "mode": "lines",
         "name": "399",
         "showlegend": true,
         "type": "scattergl",
         "x": [
          1,
          2,
          3,
          5,
          6,
          7,
          8,
          9,
          10,
          11,
          12,
          13,
          14,
          15,
          16,
          17,
          18,
          19,
          20,
          21,
          22,
          23
         ],
         "xaxis": "x",
         "y": [
          21,
          15.333333333333334,
          4,
          2,
          1,
          2,
          2.5,
          1,
          1.5,
          1,
          1,
          1,
          4,
          2,
          5,
          3,
          5,
          8.333333333333334,
          10,
          12,
          9.5,
          13
         ],
         "yaxis": "y"
        },
        {
         "hovertemplate": "station_id=400<br>hour=%{x}<br>num_bikes_available=%{y}<extra></extra>",
         "legendgroup": "400",
         "line": {
          "color": "#FECB52",
          "dash": "solid"
         },
         "marker": {
          "symbol": "circle"
         },
         "mode": "lines",
         "name": "400",
         "showlegend": true,
         "type": "scattergl",
         "x": [
          0,
          1,
          3,
          4,
          5,
          6,
          7,
          8,
          9,
          11,
          12,
          14,
          15,
          16,
          18,
          19,
          20,
          21,
          23
         ],
         "xaxis": "x",
         "y": [
          6,
          5,
          2,
          2,
          4,
          10,
          13,
          33,
          38,
          41,
          40,
          41,
          41.333333333333336,
          42,
          42,
          43,
          34.5,
          14,
          1
         ],
         "yaxis": "y"
        },
        {
         "hovertemplate": "station_id=401<br>hour=%{x}<br>num_bikes_available=%{y}<extra></extra>",
         "legendgroup": "401",
         "line": {
          "color": "#636efa",
          "dash": "solid"
         },
         "marker": {
          "symbol": "circle"
         },
         "mode": "lines",
         "name": "401",
         "showlegend": true,
         "type": "scattergl",
         "x": [
          0,
          1,
          2,
          3,
          7,
          8,
          9,
          10,
          11,
          12,
          13,
          14,
          15,
          17,
          18,
          20,
          21,
          23
         ],
         "xaxis": "x",
         "y": [
          21,
          21,
          22,
          21,
          22.666666666666668,
          22,
          22,
          23.5,
          23,
          23,
          23,
          23.5,
          24,
          23,
          23.25,
          21,
          21,
          20
         ],
         "yaxis": "y"
        },
        {
         "hovertemplate": "station_id=402<br>hour=%{x}<br>num_bikes_available=%{y}<extra></extra>",
         "legendgroup": "402",
         "line": {
          "color": "#EF553B",
          "dash": "solid"
         },
         "marker": {
          "symbol": "circle"
         },
         "mode": "lines",
         "name": "402",
         "showlegend": true,
         "type": "scattergl",
         "x": [
          0,
          2,
          3,
          5,
          6,
          8,
          9,
          10,
          11,
          12,
          13,
          14,
          16,
          17,
          20,
          21,
          22,
          23
         ],
         "xaxis": "x",
         "y": [
          25,
          17,
          16,
          14,
          12,
          13,
          15.333333333333334,
          17,
          21,
          30,
          30,
          30,
          30,
          30,
          26,
          22,
          21,
          23.5
         ],
         "yaxis": "y"
        },
        {
         "hovertemplate": "station_id=403<br>hour=%{x}<br>num_bikes_available=%{y}<extra></extra>",
         "legendgroup": "403",
         "line": {
          "color": "#00cc96",
          "dash": "solid"
         },
         "marker": {
          "symbol": "circle"
         },
         "mode": "lines",
         "name": "403",
         "showlegend": true,
         "type": "scattergl",
         "x": [
          0,
          1,
          2,
          3,
          4,
          6,
          7,
          8,
          9,
          10,
          11,
          12,
          13,
          15,
          17,
          19,
          20,
          21,
          22
         ],
         "xaxis": "x",
         "y": [
          19.5,
          6,
          0,
          0,
          0,
          2,
          2,
          1,
          2,
          2,
          1,
          0,
          0,
          0,
          0,
          0,
          2,
          1,
          1
         ],
         "yaxis": "y"
        },
        {
         "hovertemplate": "station_id=404<br>hour=%{x}<br>num_bikes_available=%{y}<extra></extra>",
         "legendgroup": "404",
         "line": {
          "color": "#ab63fa",
          "dash": "solid"
         },
         "marker": {
          "symbol": "circle"
         },
         "mode": "lines",
         "name": "404",
         "showlegend": true,
         "type": "scattergl",
         "x": [
          2,
          3,
          5,
          6,
          7,
          8,
          10,
          12,
          13,
          14,
          15,
          16,
          18,
          19,
          20,
          21,
          22,
          23
         ],
         "xaxis": "x",
         "y": [
          23.333333333333332,
          26,
          27,
          28,
          28,
          27,
          30,
          29,
          27,
          25,
          25.666666666666668,
          22,
          15,
          16,
          18.5,
          21,
          27,
          30
         ],
         "yaxis": "y"
        },
        {
         "hovertemplate": "station_id=405<br>hour=%{x}<br>num_bikes_available=%{y}<extra></extra>",
         "legendgroup": "405",
         "line": {
          "color": "#FFA15A",
          "dash": "solid"
         },
         "marker": {
          "symbol": "circle"
         },
         "mode": "lines",
         "name": "405",
         "showlegend": true,
         "type": "scattergl",
         "x": [
          0,
          2,
          3,
          4,
          5,
          6,
          9,
          10,
          11,
          13,
          14,
          15,
          16,
          17,
          18,
          20,
          21,
          22,
          23
         ],
         "xaxis": "x",
         "y": [
          8.5,
          5.5,
          9,
          8,
          10,
          9,
          3,
          2,
          1,
          4,
          7.5,
          5,
          6,
          0,
          2,
          6,
          7,
          13,
          12
         ],
         "yaxis": "y"
        },
        {
         "hovertemplate": "station_id=406<br>hour=%{x}<br>num_bikes_available=%{y}<extra></extra>",
         "legendgroup": "406",
         "line": {
          "color": "#19d3f3",
          "dash": "solid"
         },
         "marker": {
          "symbol": "circle"
         },
         "mode": "lines",
         "name": "406",
         "showlegend": true,
         "type": "scattergl",
         "x": [
          0,
          1,
          4,
          5,
          7,
          8,
          10,
          12,
          14,
          15,
          16,
          17,
          18,
          21,
          22,
          23
         ],
         "xaxis": "x",
         "y": [
          19,
          11,
          3,
          1,
          2.3333333333333335,
          3,
          3,
          4,
          11.5,
          12,
          13,
          13.333333333333334,
          16,
          12.5,
          12,
          8
         ],
         "yaxis": "y"
        },
        {
         "hovertemplate": "station_id=408<br>hour=%{x}<br>num_bikes_available=%{y}<extra></extra>",
         "legendgroup": "408",
         "line": {
          "color": "#FF6692",
          "dash": "solid"
         },
         "marker": {
          "symbol": "circle"
         },
         "mode": "lines",
         "name": "408",
         "showlegend": true,
         "type": "scattergl",
         "x": [
          0,
          1,
          5,
          6,
          8,
          9,
          10,
          12,
          13,
          14,
          16,
          17,
          18,
          19,
          20,
          22,
          23
         ],
         "xaxis": "x",
         "y": [
          23,
          21,
          19,
          16,
          16,
          16,
          14,
          15,
          15,
          15,
          15,
          20,
          17,
          17,
          16.5,
          11,
          12
         ],
         "yaxis": "y"
        },
        {
         "hovertemplate": "station_id=409<br>hour=%{x}<br>num_bikes_available=%{y}<extra></extra>",
         "legendgroup": "409",
         "line": {
          "color": "#B6E880",
          "dash": "solid"
         },
         "marker": {
          "symbol": "circle"
         },
         "mode": "lines",
         "name": "409",
         "showlegend": true,
         "type": "scattergl",
         "x": [
          0,
          2,
          3,
          5,
          6,
          7,
          8,
          12,
          13,
          14,
          16,
          18,
          19,
          21,
          22
         ],
         "xaxis": "x",
         "y": [
          20.333333333333332,
          9,
          8,
          8,
          9.5,
          9,
          11,
          9,
          9.5,
          14,
          4.5,
          8,
          7,
          10,
          13
         ],
         "yaxis": "y"
        },
        {
         "hovertemplate": "station_id=410<br>hour=%{x}<br>num_bikes_available=%{y}<extra></extra>",
         "legendgroup": "410",
         "line": {
          "color": "#FF97FF",
          "dash": "solid"
         },
         "marker": {
          "symbol": "circle"
         },
         "mode": "lines",
         "name": "410",
         "showlegend": true,
         "type": "scattergl",
         "x": [
          0,
          4,
          5,
          6,
          8,
          10,
          11,
          12,
          13,
          14,
          15,
          17,
          19,
          20,
          21,
          22
         ],
         "xaxis": "x",
         "y": [
          31,
          30,
          30,
          30,
          31,
          32,
          37,
          37,
          37.5,
          38,
          38,
          38,
          33.5,
          29,
          24.333333333333332,
          24
         ],
         "yaxis": "y"
        },
        {
         "hovertemplate": "station_id=411<br>hour=%{x}<br>num_bikes_available=%{y}<extra></extra>",
         "legendgroup": "411",
         "line": {
          "color": "#FECB52",
          "dash": "solid"
         },
         "marker": {
          "symbol": "circle"
         },
         "mode": "lines",
         "name": "411",
         "showlegend": true,
         "type": "scattergl",
         "x": [
          0,
          4,
          5,
          6,
          9,
          10,
          11,
          12,
          13,
          14,
          15,
          17,
          18,
          19,
          21,
          23
         ],
         "xaxis": "x",
         "y": [
          11,
          10.5,
          11,
          11,
          17,
          19,
          19,
          18,
          16,
          13,
          11,
          13,
          14,
          14.5,
          12,
          16
         ],
         "yaxis": "y"
        },
        {
         "hovertemplate": "station_id=412<br>hour=%{x}<br>num_bikes_available=%{y}<extra></extra>",
         "legendgroup": "412",
         "line": {
          "color": "#636efa",
          "dash": "solid"
         },
         "marker": {
          "symbol": "circle"
         },
         "mode": "lines",
         "name": "412",
         "showlegend": true,
         "type": "scattergl",
         "x": [
          0,
          1,
          2,
          3,
          4,
          5,
          6,
          7,
          8,
          9,
          10,
          13,
          14,
          15,
          16,
          17,
          18,
          19,
          20,
          21
         ],
         "xaxis": "x",
         "y": [
          11.5,
          12,
          10,
          10,
          10,
          6.333333333333333,
          3.5,
          3,
          4,
          4,
          6,
          13.5,
          13.5,
          5,
          9,
          12,
          17,
          23,
          15,
          11
         ],
         "yaxis": "y"
        },
        {
         "hovertemplate": "station_id=413<br>hour=%{x}<br>num_bikes_available=%{y}<extra></extra>",
         "legendgroup": "413",
         "line": {
          "color": "#EF553B",
          "dash": "solid"
         },
         "marker": {
          "symbol": "circle"
         },
         "mode": "lines",
         "name": "413",
         "showlegend": true,
         "type": "scattergl",
         "x": [
          0,
          1,
          2,
          3,
          4,
          5,
          6,
          7,
          9,
          10,
          11,
          12,
          13,
          15,
          16,
          18,
          21,
          22,
          23
         ],
         "xaxis": "x",
         "y": [
          13.5,
          11,
          11,
          11,
          11,
          12,
          13,
          12,
          14,
          15.666666666666666,
          19,
          22,
          21.666666666666668,
          19,
          16,
          20,
          24.5,
          26.5,
          17.5
         ],
         "yaxis": "y"
        },
        {
         "hovertemplate": "station_id=414<br>hour=%{x}<br>num_bikes_available=%{y}<extra></extra>",
         "legendgroup": "414",
         "line": {
          "color": "#00cc96",
          "dash": "solid"
         },
         "marker": {
          "symbol": "circle"
         },
         "mode": "lines",
         "name": "414",
         "showlegend": true,
         "type": "scattergl",
         "x": [
          3,
          4,
          7,
          8,
          9,
          12,
          13,
          14,
          15,
          17,
          18,
          21,
          22
         ],
         "xaxis": "x",
         "y": [
          6,
          8,
          8.666666666666666,
          11,
          9,
          22.333333333333332,
          23,
          22,
          25.333333333333332,
          17,
          16.5,
          9.5,
          12
         ],
         "yaxis": "y"
        },
        {
         "hovertemplate": "station_id=415<br>hour=%{x}<br>num_bikes_available=%{y}<extra></extra>",
         "legendgroup": "415",
         "line": {
          "color": "#ab63fa",
          "dash": "solid"
         },
         "marker": {
          "symbol": "circle"
         },
         "mode": "lines",
         "name": "415",
         "showlegend": true,
         "type": "scattergl",
         "x": [
          1,
          2,
          3,
          5,
          6,
          7,
          8,
          9,
          12,
          13,
          14,
          16,
          20,
          21,
          22,
          23
         ],
         "xaxis": "x",
         "y": [
          24,
          10,
          19,
          23,
          19,
          18.5,
          13,
          6,
          6,
          7.25,
          5.333333333333333,
          15,
          22,
          24,
          24,
          21
         ],
         "yaxis": "y"
        },
        {
         "hovertemplate": "station_id=416<br>hour=%{x}<br>num_bikes_available=%{y}<extra></extra>",
         "legendgroup": "416",
         "line": {
          "color": "#FFA15A",
          "dash": "solid"
         },
         "marker": {
          "symbol": "circle"
         },
         "mode": "lines",
         "name": "416",
         "showlegend": true,
         "type": "scattergl",
         "x": [
          0,
          1,
          2,
          3,
          4,
          7,
          9,
          10,
          12,
          13,
          14,
          15,
          17,
          18,
          19,
          21
         ],
         "xaxis": "x",
         "y": [
          24,
          25.5,
          25,
          26,
          24,
          19,
          19,
          20,
          18,
          17,
          18.5,
          16,
          22.333333333333332,
          23,
          23,
          25
         ],
         "yaxis": "y"
        },
        {
         "hovertemplate": "station_id=417<br>hour=%{x}<br>num_bikes_available=%{y}<extra></extra>",
         "legendgroup": "417",
         "line": {
          "color": "#19d3f3",
          "dash": "solid"
         },
         "marker": {
          "symbol": "circle"
         },
         "mode": "lines",
         "name": "417",
         "showlegend": true,
         "type": "scattergl",
         "x": [
          1,
          2,
          3,
          4,
          5,
          9,
          10,
          11,
          12,
          13,
          18,
          21
         ],
         "xaxis": "x",
         "y": [
          8.5,
          9,
          10.5,
          12,
          13,
          16,
          18.5,
          15,
          12,
          11,
          11.5,
          4
         ],
         "yaxis": "y"
        },
        {
         "hovertemplate": "station_id=418<br>hour=%{x}<br>num_bikes_available=%{y}<extra></extra>",
         "legendgroup": "418",
         "line": {
          "color": "#FF6692",
          "dash": "solid"
         },
         "marker": {
          "symbol": "circle"
         },
         "mode": "lines",
         "name": "418",
         "showlegend": true,
         "type": "scattergl",
         "x": [
          0,
          2,
          3,
          4,
          6,
          8,
          9,
          10,
          11,
          12,
          13,
          14,
          15,
          16,
          18,
          19,
          20,
          21,
          22,
          23
         ],
         "xaxis": "x",
         "y": [
          23,
          24,
          23.6,
          24,
          23.5,
          20.666666666666668,
          23,
          24,
          25,
          23,
          23.666666666666668,
          23,
          22,
          21,
          24,
          21.666666666666668,
          19,
          23,
          17,
          16.5
         ],
         "yaxis": "y"
        },
        {
         "hovertemplate": "station_id=419<br>hour=%{x}<br>num_bikes_available=%{y}<extra></extra>",
         "legendgroup": "419",
         "line": {
          "color": "#B6E880",
          "dash": "solid"
         },
         "marker": {
          "symbol": "circle"
         },
         "mode": "lines",
         "name": "419",
         "showlegend": true,
         "type": "scattergl",
         "x": [
          0,
          2,
          3,
          4,
          6,
          7,
          9,
          10,
          11,
          12,
          15,
          16,
          17,
          18,
          19,
          20,
          21,
          22,
          23
         ],
         "xaxis": "x",
         "y": [
          20,
          22,
          20,
          20.25,
          20,
          19,
          27,
          27.333333333333332,
          29.5,
          17,
          28,
          31,
          22,
          27,
          10,
          20.25,
          13,
          15.666666666666666,
          14
         ],
         "yaxis": "y"
        },
        {
         "hovertemplate": "station_id=420<br>hour=%{x}<br>num_bikes_available=%{y}<extra></extra>",
         "legendgroup": "420",
         "line": {
          "color": "#FF97FF",
          "dash": "solid"
         },
         "marker": {
          "symbol": "circle"
         },
         "mode": "lines",
         "name": "420",
         "showlegend": true,
         "type": "scattergl",
         "x": [
          1,
          2,
          4,
          5,
          6,
          7,
          8,
          10,
          11,
          12,
          13,
          14,
          15,
          16,
          17,
          18,
          20
         ],
         "xaxis": "x",
         "y": [
          2,
          4,
          11,
          8,
          8,
          8.333333333333334,
          7,
          4.666666666666667,
          10,
          10,
          4,
          5,
          9,
          4,
          5,
          4.5,
          6.333333333333333
         ],
         "yaxis": "y"
        },
        {
         "hovertemplate": "station_id=421<br>hour=%{x}<br>num_bikes_available=%{y}<extra></extra>",
         "legendgroup": "421",
         "line": {
          "color": "#FECB52",
          "dash": "solid"
         },
         "marker": {
          "symbol": "circle"
         },
         "mode": "lines",
         "name": "421",
         "showlegend": true,
         "type": "scattergl",
         "x": [
          1,
          2,
          4,
          5,
          7,
          8,
          9,
          10,
          11,
          12,
          13,
          14,
          15,
          16,
          17,
          18,
          19,
          20,
          21,
          22
         ],
         "xaxis": "x",
         "y": [
          1.8,
          0,
          0,
          0,
          1,
          2,
          1,
          0,
          0.6666666666666666,
          4,
          7,
          6,
          1,
          0,
          1,
          1,
          0,
          2,
          2,
          3
         ],
         "yaxis": "y"
        },
        {
         "hovertemplate": "station_id=422<br>hour=%{x}<br>num_bikes_available=%{y}<extra></extra>",
         "legendgroup": "422",
         "line": {
          "color": "#636efa",
          "dash": "solid"
         },
         "marker": {
          "symbol": "circle"
         },
         "mode": "lines",
         "name": "422",
         "showlegend": true,
         "type": "scattergl",
         "x": [
          1,
          2,
          3,
          4,
          5,
          6,
          8,
          9,
          11,
          12,
          14,
          16,
          17,
          18,
          19,
          20,
          21,
          22
         ],
         "xaxis": "x",
         "y": [
          3,
          3,
          3,
          2,
          2,
          2,
          2,
          2,
          0,
          1,
          4,
          3.5,
          3,
          2,
          0,
          0,
          5,
          0
         ],
         "yaxis": "y"
        },
        {
         "hovertemplate": "station_id=423<br>hour=%{x}<br>num_bikes_available=%{y}<extra></extra>",
         "legendgroup": "423",
         "line": {
          "color": "#EF553B",
          "dash": "solid"
         },
         "marker": {
          "symbol": "circle"
         },
         "mode": "lines",
         "name": "423",
         "showlegend": true,
         "type": "scattergl",
         "x": [
          0,
          1,
          2,
          3,
          5,
          6,
          7,
          8,
          9,
          10,
          11,
          12,
          13,
          14,
          15,
          17,
          18,
          19,
          20,
          21,
          22
         ],
         "xaxis": "x",
         "y": [
          14,
          13.666666666666666,
          13,
          14,
          14,
          14,
          15,
          12,
          10,
          7.5,
          10,
          12,
          12,
          13,
          14,
          10.666666666666666,
          8.5,
          7.5,
          6,
          9,
          9
         ],
         "yaxis": "y"
        },
        {
         "hovertemplate": "station_id=424<br>hour=%{x}<br>num_bikes_available=%{y}<extra></extra>",
         "legendgroup": "424",
         "line": {
          "color": "#00cc96",
          "dash": "solid"
         },
         "marker": {
          "symbol": "circle"
         },
         "mode": "lines",
         "name": "424",
         "showlegend": true,
         "type": "scattergl",
         "x": [
          0,
          1,
          3,
          8,
          9,
          10,
          11,
          12,
          13,
          14,
          15,
          18,
          19,
          21,
          22,
          23
         ],
         "xaxis": "x",
         "y": [
          10,
          12.5,
          11,
          14,
          15,
          15,
          14,
          15,
          14,
          18,
          22,
          24.666666666666668,
          21.5,
          20,
          18,
          15
         ],
         "yaxis": "y"
        },
        {
         "hovertemplate": "station_id=425<br>hour=%{x}<br>num_bikes_available=%{y}<extra></extra>",
         "legendgroup": "425",
         "line": {
          "color": "#ab63fa",
          "dash": "solid"
         },
         "marker": {
          "symbol": "circle"
         },
         "mode": "lines",
         "name": "425",
         "showlegend": true,
         "type": "scattergl",
         "x": [
          0,
          1,
          3,
          5,
          6,
          10,
          11,
          13,
          14,
          15,
          16,
          17,
          18,
          19,
          21,
          22,
          23
         ],
         "xaxis": "x",
         "y": [
          23,
          24,
          14,
          12,
          12,
          12,
          11.666666666666666,
          10,
          12,
          15,
          17.5,
          15,
          17,
          18,
          21.333333333333332,
          22,
          17
         ],
         "yaxis": "y"
        },
        {
         "hovertemplate": "station_id=426<br>hour=%{x}<br>num_bikes_available=%{y}<extra></extra>",
         "legendgroup": "426",
         "line": {
          "color": "#FFA15A",
          "dash": "solid"
         },
         "marker": {
          "symbol": "circle"
         },
         "mode": "lines",
         "name": "426",
         "showlegend": true,
         "type": "scattergl",
         "x": [
          1,
          2,
          5,
          6,
          9,
          10,
          11,
          12,
          17,
          18,
          19,
          20,
          22,
          23
         ],
         "xaxis": "x",
         "y": [
          17,
          17,
          26.5,
          25,
          12,
          13.5,
          15,
          12,
          6.75,
          3,
          5.333333333333333,
          6,
          11,
          10.333333333333334
         ],
         "yaxis": "y"
        },
        {
         "hovertemplate": "station_id=427<br>hour=%{x}<br>num_bikes_available=%{y}<extra></extra>",
         "legendgroup": "427",
         "line": {
          "color": "#19d3f3",
          "dash": "solid"
         },
         "marker": {
          "symbol": "circle"
         },
         "mode": "lines",
         "name": "427",
         "showlegend": true,
         "type": "scattergl",
         "x": [
          0,
          2,
          4,
          5,
          9,
          10,
          11,
          12,
          13,
          14,
          15,
          16,
          17,
          18,
          22,
          23
         ],
         "xaxis": "x",
         "y": [
          22,
          23,
          21,
          19,
          12,
          12,
          6,
          4,
          3,
          4,
          12,
          14,
          14.5,
          17,
          19,
          16.666666666666668
         ],
         "yaxis": "y"
        },
        {
         "hovertemplate": "station_id=428<br>hour=%{x}<br>num_bikes_available=%{y}<extra></extra>",
         "legendgroup": "428",
         "line": {
          "color": "#FF6692",
          "dash": "solid"
         },
         "marker": {
          "symbol": "circle"
         },
         "mode": "lines",
         "name": "428",
         "showlegend": true,
         "type": "scattergl",
         "x": [
          1,
          2,
          3,
          4,
          6,
          10,
          11,
          12,
          15,
          16,
          17,
          18,
          20,
          22,
          23
         ],
         "xaxis": "x",
         "y": [
          8,
          9,
          8.666666666666666,
          7.666666666666667,
          5.5,
          5,
          5,
          5,
          10,
          9.4,
          11,
          12,
          9,
          9,
          6.666666666666667
         ],
         "yaxis": "y"
        },
        {
         "hovertemplate": "station_id=429<br>hour=%{x}<br>num_bikes_available=%{y}<extra></extra>",
         "legendgroup": "429",
         "line": {
          "color": "#B6E880",
          "dash": "solid"
         },
         "marker": {
          "symbol": "circle"
         },
         "mode": "lines",
         "name": "429",
         "showlegend": true,
         "type": "scattergl",
         "x": [
          0,
          1,
          2,
          3,
          4,
          5,
          7,
          9,
          10,
          11,
          12,
          13,
          15,
          16,
          17,
          18,
          19,
          22,
          23
         ],
         "xaxis": "x",
         "y": [
          2,
          2,
          3,
          3,
          4,
          3.5,
          1,
          2,
          2,
          1.5,
          1,
          2,
          5,
          4,
          5.666666666666667,
          6,
          4.666666666666667,
          1,
          1.3333333333333333
         ],
         "yaxis": "y"
        },
        {
         "hovertemplate": "station_id=430<br>hour=%{x}<br>num_bikes_available=%{y}<extra></extra>",
         "legendgroup": "430",
         "line": {
          "color": "#FF97FF",
          "dash": "solid"
         },
         "marker": {
          "symbol": "circle"
         },
         "mode": "lines",
         "name": "430",
         "showlegend": true,
         "type": "scattergl",
         "x": [
          1,
          3,
          4,
          5,
          6,
          7,
          8,
          9,
          10,
          11,
          12,
          13,
          14,
          15,
          16,
          17,
          18,
          19,
          20,
          21,
          22
         ],
         "xaxis": "x",
         "y": [
          1,
          4.5,
          5,
          4.5,
          3,
          3,
          2.3333333333333335,
          3,
          3,
          2.5,
          2,
          1.6666666666666667,
          1,
          2,
          3,
          4,
          11,
          12.5,
          9,
          0,
          1
         ],
         "yaxis": "y"
        },
        {
         "hovertemplate": "station_id=431<br>hour=%{x}<br>num_bikes_available=%{y}<extra></extra>",
         "legendgroup": "431",
         "line": {
          "color": "#FECB52",
          "dash": "solid"
         },
         "marker": {
          "symbol": "circle"
         },
         "mode": "lines",
         "name": "431",
         "showlegend": true,
         "type": "scattergl",
         "x": [
          0,
          2,
          5,
          6,
          8,
          9,
          10,
          11,
          14,
          15,
          16,
          17,
          18,
          20,
          21,
          22,
          23
         ],
         "xaxis": "x",
         "y": [
          0,
          0,
          0,
          0,
          0.5,
          1,
          1,
          2,
          0,
          0,
          0,
          0,
          0,
          0,
          1,
          1,
          0.5
         ],
         "yaxis": "y"
        },
        {
         "hovertemplate": "station_id=432<br>hour=%{x}<br>num_bikes_available=%{y}<extra></extra>",
         "legendgroup": "432",
         "line": {
          "color": "#636efa",
          "dash": "solid"
         },
         "marker": {
          "symbol": "circle"
         },
         "mode": "lines",
         "name": "432",
         "showlegend": true,
         "type": "scattergl",
         "x": [
          0,
          1,
          2,
          5,
          6,
          9,
          11,
          12,
          14,
          15,
          16,
          17,
          18,
          20,
          21,
          22,
          23
         ],
         "xaxis": "x",
         "y": [
          3,
          3,
          2.5,
          0,
          0,
          3,
          3,
          3.3333333333333335,
          1.5,
          1.5,
          2,
          4,
          2.3333333333333335,
          1,
          0,
          0,
          0
         ],
         "yaxis": "y"
        },
        {
         "hovertemplate": "station_id=433<br>hour=%{x}<br>num_bikes_available=%{y}<extra></extra>",
         "legendgroup": "433",
         "line": {
          "color": "#EF553B",
          "dash": "solid"
         },
         "marker": {
          "symbol": "circle"
         },
         "mode": "lines",
         "name": "433",
         "showlegend": true,
         "type": "scattergl",
         "x": [
          0,
          1,
          5,
          6,
          7,
          8,
          9,
          11,
          14,
          15,
          16,
          20,
          21,
          22,
          23
         ],
         "xaxis": "x",
         "y": [
          1,
          0,
          2,
          2,
          3,
          3,
          5,
          9,
          6,
          4,
          0.5,
          0,
          0,
          0.5,
          0
         ],
         "yaxis": "y"
        },
        {
         "hovertemplate": "station_id=434<br>hour=%{x}<br>num_bikes_available=%{y}<extra></extra>",
         "legendgroup": "434",
         "line": {
          "color": "#00cc96",
          "dash": "solid"
         },
         "marker": {
          "symbol": "circle"
         },
         "mode": "lines",
         "name": "434",
         "showlegend": true,
         "type": "scattergl",
         "x": [
          0,
          1,
          2,
          4,
          5,
          6,
          7,
          9,
          10,
          12,
          13,
          14,
          15,
          16,
          18,
          19,
          20,
          22
         ],
         "xaxis": "x",
         "y": [
          9,
          11,
          9,
          15.333333333333334,
          20,
          20.5,
          19,
          16,
          16,
          13,
          12,
          11.5,
          9.666666666666666,
          5.333333333333333,
          4,
          2,
          2.5,
          5
         ],
         "yaxis": "y"
        },
        {
         "hovertemplate": "station_id=435<br>hour=%{x}<br>num_bikes_available=%{y}<extra></extra>",
         "legendgroup": "435",
         "line": {
          "color": "#ab63fa",
          "dash": "solid"
         },
         "marker": {
          "symbol": "circle"
         },
         "mode": "lines",
         "name": "435",
         "showlegend": true,
         "type": "scattergl",
         "x": [
          0,
          1,
          2,
          3,
          5,
          6,
          7,
          8,
          9,
          10,
          11,
          13,
          14,
          15,
          17,
          18,
          20,
          21,
          22
         ],
         "xaxis": "x",
         "y": [
          0,
          2,
          2,
          1,
          0,
          0,
          2.5,
          3,
          4,
          7,
          8,
          9,
          0.5,
          0,
          11,
          14,
          1.3333333333333333,
          0,
          0
         ],
         "yaxis": "y"
        },
        {
         "hovertemplate": "station_id=436<br>hour=%{x}<br>num_bikes_available=%{y}<extra></extra>",
         "legendgroup": "436",
         "line": {
          "color": "#FFA15A",
          "dash": "solid"
         },
         "marker": {
          "symbol": "circle"
         },
         "mode": "lines",
         "name": "436",
         "showlegend": true,
         "type": "scattergl",
         "x": [
          0,
          2,
          3,
          4,
          5,
          6,
          7,
          10,
          11,
          12,
          13,
          14,
          15,
          16,
          17,
          19,
          20,
          21
         ],
         "xaxis": "x",
         "y": [
          12,
          9,
          8,
          8,
          8,
          6.5,
          5,
          6,
          7,
          6,
          8,
          8,
          5,
          7,
          8,
          6.666666666666667,
          9,
          9.333333333333334
         ],
         "yaxis": "y"
        },
        {
         "hovertemplate": "station_id=437<br>hour=%{x}<br>num_bikes_available=%{y}<extra></extra>",
         "legendgroup": "437",
         "line": {
          "color": "#19d3f3",
          "dash": "solid"
         },
         "marker": {
          "symbol": "circle"
         },
         "mode": "lines",
         "name": "437",
         "showlegend": true,
         "type": "scattergl",
         "x": [
          1,
          3,
          4,
          6,
          7,
          8,
          9,
          10,
          12,
          15,
          16,
          17,
          18,
          19,
          20,
          21,
          22,
          23
         ],
         "xaxis": "x",
         "y": [
          12,
          12,
          12,
          11,
          11.5,
          12,
          12,
          11,
          12,
          10,
          10,
          10,
          10,
          12,
          13,
          12,
          11.25,
          12
         ],
         "yaxis": "y"
        },
        {
         "hovertemplate": "station_id=438<br>hour=%{x}<br>num_bikes_available=%{y}<extra></extra>",
         "legendgroup": "438",
         "line": {
          "color": "#FF6692",
          "dash": "solid"
         },
         "marker": {
          "symbol": "circle"
         },
         "mode": "lines",
         "name": "438",
         "showlegend": true,
         "type": "scattergl",
         "x": [
          0,
          1,
          2,
          3,
          7,
          8,
          9,
          10,
          13,
          14,
          15,
          16,
          19,
          21,
          22,
          23
         ],
         "xaxis": "x",
         "y": [
          12,
          21,
          15,
          16,
          19,
          18,
          16,
          17,
          16,
          18,
          13,
          2,
          5,
          9,
          19,
          18
         ],
         "yaxis": "y"
        },
        {
         "hovertemplate": "station_id=439<br>hour=%{x}<br>num_bikes_available=%{y}<extra></extra>",
         "legendgroup": "439",
         "line": {
          "color": "#B6E880",
          "dash": "solid"
         },
         "marker": {
          "symbol": "circle"
         },
         "mode": "lines",
         "name": "439",
         "showlegend": true,
         "type": "scattergl",
         "x": [
          0,
          1,
          2,
          3,
          4,
          6,
          7,
          8,
          9,
          10,
          13,
          14,
          15,
          17,
          18,
          20,
          22,
          23
         ],
         "xaxis": "x",
         "y": [
          11,
          11,
          14,
          12,
          9.5,
          8,
          7,
          7,
          7,
          8,
          4,
          1,
          3,
          5,
          7,
          2,
          8,
          12
         ],
         "yaxis": "y"
        },
        {
         "hovertemplate": "station_id=440<br>hour=%{x}<br>num_bikes_available=%{y}<extra></extra>",
         "legendgroup": "440",
         "line": {
          "color": "#FF97FF",
          "dash": "solid"
         },
         "marker": {
          "symbol": "circle"
         },
         "mode": "lines",
         "name": "440",
         "showlegend": true,
         "type": "scattergl",
         "x": [
          0,
          2,
          3,
          5,
          6,
          7,
          8,
          9,
          10,
          11,
          13,
          14,
          17,
          20,
          21,
          22
         ],
         "xaxis": "x",
         "y": [
          20,
          15,
          17,
          21.5,
          21,
          20,
          21.666666666666668,
          21,
          23,
          15,
          9,
          7.666666666666667,
          2,
          13,
          16,
          22
         ],
         "yaxis": "y"
        },
        {
         "hovertemplate": "station_id=441<br>hour=%{x}<br>num_bikes_available=%{y}<extra></extra>",
         "legendgroup": "441",
         "line": {
          "color": "#FECB52",
          "dash": "solid"
         },
         "marker": {
          "symbol": "circle"
         },
         "mode": "lines",
         "name": "441",
         "showlegend": true,
         "type": "scattergl",
         "x": [
          0,
          1,
          2,
          3,
          4,
          5,
          6,
          7,
          8,
          9,
          11,
          12,
          13,
          14,
          15,
          16,
          17,
          18,
          19,
          21,
          22
         ],
         "xaxis": "x",
         "y": [
          14,
          9,
          2,
          1.3333333333333333,
          1.25,
          2,
          1,
          1.5,
          2,
          1,
          3.5,
          2,
          2.3333333333333335,
          1.5,
          3,
          5,
          2.5,
          1,
          4,
          2,
          3
         ],
         "yaxis": "y"
        },
        {
         "hovertemplate": "station_id=442<br>hour=%{x}<br>num_bikes_available=%{y}<extra></extra>",
         "legendgroup": "442",
         "line": {
          "color": "#636efa",
          "dash": "solid"
         },
         "marker": {
          "symbol": "circle"
         },
         "mode": "lines",
         "name": "442",
         "showlegend": true,
         "type": "scattergl",
         "x": [
          0,
          1,
          2,
          3,
          4,
          5,
          6,
          7,
          8,
          10,
          12,
          13,
          14,
          17,
          18,
          19,
          21,
          22,
          23
         ],
         "xaxis": "x",
         "y": [
          14,
          15,
          16,
          14,
          15,
          14.666666666666666,
          16,
          16,
          16,
          13,
          13,
          12.25,
          12.5,
          9,
          9,
          9,
          11,
          15,
          15
         ],
         "yaxis": "y"
        },
        {
         "hovertemplate": "station_id=443<br>hour=%{x}<br>num_bikes_available=%{y}<extra></extra>",
         "legendgroup": "443",
         "line": {
          "color": "#EF553B",
          "dash": "solid"
         },
         "marker": {
          "symbol": "circle"
         },
         "mode": "lines",
         "name": "443",
         "showlegend": true,
         "type": "scattergl",
         "x": [
          0,
          3,
          4,
          5,
          6,
          7,
          8,
          9,
          10,
          11,
          12,
          14,
          16,
          17,
          18,
          19,
          20,
          22,
          23
         ],
         "xaxis": "x",
         "y": [
          24,
          28,
          28,
          29,
          28.5,
          29,
          28,
          26,
          26,
          22,
          17,
          15,
          16,
          12,
          2,
          2,
          4.333333333333333,
          8.5,
          10.333333333333334
         ],
         "yaxis": "y"
        },
        {
         "hovertemplate": "station_id=444<br>hour=%{x}<br>num_bikes_available=%{y}<extra></extra>",
         "legendgroup": "444",
         "line": {
          "color": "#00cc96",
          "dash": "solid"
         },
         "marker": {
          "symbol": "circle"
         },
         "mode": "lines",
         "name": "444",
         "showlegend": true,
         "type": "scattergl",
         "x": [
          0,
          1,
          2,
          4,
          5,
          6,
          7,
          9,
          11,
          12,
          13,
          14,
          15,
          20,
          21,
          22,
          23
         ],
         "xaxis": "x",
         "y": [
          15,
          17.666666666666668,
          20,
          25,
          23,
          23,
          22,
          20.333333333333332,
          24,
          20,
          21,
          18,
          11,
          22,
          26,
          24.666666666666668,
          23.5
         ],
         "yaxis": "y"
        },
        {
         "hovertemplate": "station_id=445<br>hour=%{x}<br>num_bikes_available=%{y}<extra></extra>",
         "legendgroup": "445",
         "line": {
          "color": "#ab63fa",
          "dash": "solid"
         },
         "marker": {
          "symbol": "circle"
         },
         "mode": "lines",
         "name": "445",
         "showlegend": true,
         "type": "scattergl",
         "x": [
          1,
          3,
          4,
          5,
          7,
          8,
          11,
          12,
          13,
          18,
          19,
          20,
          21,
          22,
          23
         ],
         "xaxis": "x",
         "y": [
          15.666666666666666,
          21,
          21,
          14,
          9,
          9,
          4,
          1,
          1.5,
          3,
          4,
          4.5,
          5,
          3,
          4
         ],
         "yaxis": "y"
        },
        {
         "hovertemplate": "station_id=446<br>hour=%{x}<br>num_bikes_available=%{y}<extra></extra>",
         "legendgroup": "446",
         "line": {
          "color": "#FFA15A",
          "dash": "solid"
         },
         "marker": {
          "symbol": "circle"
         },
         "mode": "lines",
         "name": "446",
         "showlegend": true,
         "type": "scattergl",
         "x": [
          0,
          1,
          3,
          4,
          5,
          6,
          7,
          8,
          10,
          11,
          12,
          17,
          18,
          19,
          20,
          21,
          22
         ],
         "xaxis": "x",
         "y": [
          2,
          3.6666666666666665,
          4.5,
          6,
          8,
          5,
          8,
          10,
          10.5,
          8.5,
          12,
          11,
          7,
          8,
          6,
          6,
          7
         ],
         "yaxis": "y"
        },
        {
         "hovertemplate": "station_id=447<br>hour=%{x}<br>num_bikes_available=%{y}<extra></extra>",
         "legendgroup": "447",
         "line": {
          "color": "#19d3f3",
          "dash": "solid"
         },
         "marker": {
          "symbol": "circle"
         },
         "mode": "lines",
         "name": "447",
         "showlegend": true,
         "type": "scattergl",
         "x": [
          0,
          1,
          2,
          3,
          4,
          5,
          6,
          7,
          9,
          10,
          11,
          12,
          13,
          14,
          15,
          17,
          18,
          21,
          22,
          23
         ],
         "xaxis": "x",
         "y": [
          19,
          23,
          24.333333333333332,
          24.5,
          24,
          10,
          10,
          10,
          10,
          10,
          11,
          8,
          9,
          9.666666666666666,
          9,
          4.333333333333333,
          3,
          5.75,
          9,
          6
         ],
         "yaxis": "y"
        },
        {
         "hovertemplate": "station_id=448<br>hour=%{x}<br>num_bikes_available=%{y}<extra></extra>",
         "legendgroup": "448",
         "line": {
          "color": "#FF6692",
          "dash": "solid"
         },
         "marker": {
          "symbol": "circle"
         },
         "mode": "lines",
         "name": "448",
         "showlegend": true,
         "type": "scattergl",
         "x": [
          0,
          1,
          3,
          4,
          5,
          6,
          7,
          8,
          9,
          10,
          11,
          12,
          13,
          15,
          16,
          18,
          20,
          23
         ],
         "xaxis": "x",
         "y": [
          12,
          13,
          19.5,
          21,
          21,
          20,
          17,
          17,
          15,
          13,
          13,
          14,
          14,
          19,
          22,
          24,
          24,
          16
         ],
         "yaxis": "y"
        },
        {
         "hovertemplate": "station_id=449<br>hour=%{x}<br>num_bikes_available=%{y}<extra></extra>",
         "legendgroup": "449",
         "line": {
          "color": "#B6E880",
          "dash": "solid"
         },
         "marker": {
          "symbol": "circle"
         },
         "mode": "lines",
         "name": "449",
         "showlegend": true,
         "type": "scattergl",
         "x": [
          0,
          1,
          3,
          4,
          5,
          7,
          8,
          9,
          12,
          13,
          16,
          18,
          21,
          23
         ],
         "xaxis": "x",
         "y": [
          10,
          11,
          9.5,
          13.666666666666666,
          14.5,
          12.5,
          15,
          15,
          21,
          21,
          23.5,
          24,
          24.333333333333332,
          8
         ],
         "yaxis": "y"
        },
        {
         "hovertemplate": "station_id=450<br>hour=%{x}<br>num_bikes_available=%{y}<extra></extra>",
         "legendgroup": "450",
         "line": {
          "color": "#FF97FF",
          "dash": "solid"
         },
         "marker": {
          "symbol": "circle"
         },
         "mode": "lines",
         "name": "450",
         "showlegend": true,
         "type": "scattergl",
         "x": [
          0,
          2,
          3,
          4,
          5,
          6,
          8,
          9,
          11,
          12,
          13,
          14,
          16,
          17,
          20,
          21,
          22
         ],
         "xaxis": "x",
         "y": [
          10,
          10.5,
          11,
          12,
          12,
          11,
          11,
          10.5,
          8,
          8,
          7,
          7,
          11.5,
          15,
          27,
          9.5,
          8
         ],
         "yaxis": "y"
        },
        {
         "hovertemplate": "station_id=451<br>hour=%{x}<br>num_bikes_available=%{y}<extra></extra>",
         "legendgroup": "451",
         "line": {
          "color": "#FECB52",
          "dash": "solid"
         },
         "marker": {
          "symbol": "circle"
         },
         "mode": "lines",
         "name": "451",
         "showlegend": true,
         "type": "scattergl",
         "x": [
          0,
          1,
          2,
          3,
          4,
          5,
          6,
          7,
          8,
          10,
          11,
          12,
          13,
          14,
          15,
          16,
          17,
          18,
          19,
          20,
          21,
          23
         ],
         "xaxis": "x",
         "y": [
          12,
          14,
          16.5,
          17.5,
          22,
          21,
          23,
          23,
          16,
          12.666666666666666,
          12,
          13,
          11.5,
          10.666666666666666,
          10,
          8,
          10,
          8,
          8,
          9,
          9,
          7
         ],
         "yaxis": "y"
        },
        {
         "hovertemplate": "station_id=452<br>hour=%{x}<br>num_bikes_available=%{y}<extra></extra>",
         "legendgroup": "452",
         "line": {
          "color": "#636efa",
          "dash": "solid"
         },
         "marker": {
          "symbol": "circle"
         },
         "mode": "lines",
         "name": "452",
         "showlegend": true,
         "type": "scattergl",
         "x": [
          0,
          1,
          2,
          3,
          4,
          5,
          6,
          7,
          8,
          9,
          11,
          12,
          13,
          14,
          15,
          16,
          17,
          18,
          19,
          20,
          22,
          23
         ],
         "xaxis": "x",
         "y": [
          42,
          44,
          44,
          44,
          43,
          43,
          45,
          43,
          43,
          39,
          36,
          33,
          33,
          35,
          35,
          36.333333333333336,
          16,
          15.5,
          14,
          16,
          18,
          23
         ],
         "yaxis": "y"
        },
        {
         "hovertemplate": "station_id=454<br>hour=%{x}<br>num_bikes_available=%{y}<extra></extra>",
         "legendgroup": "454",
         "line": {
          "color": "#EF553B",
          "dash": "solid"
         },
         "marker": {
          "symbol": "circle"
         },
         "mode": "lines",
         "name": "454",
         "showlegend": true,
         "type": "scattergl",
         "x": [
          0,
          1,
          2,
          3,
          4,
          7,
          8,
          9,
          10,
          11,
          12,
          13,
          16,
          17,
          18,
          19,
          20,
          21,
          23
         ],
         "xaxis": "x",
         "y": [
          9.333333333333334,
          16,
          17,
          18,
          18,
          18,
          15,
          16,
          13,
          12,
          13,
          10,
          0,
          1,
          3,
          1,
          0,
          6,
          10
         ],
         "yaxis": "y"
        },
        {
         "hovertemplate": "station_id=455<br>hour=%{x}<br>num_bikes_available=%{y}<extra></extra>",
         "legendgroup": "455",
         "line": {
          "color": "#00cc96",
          "dash": "solid"
         },
         "marker": {
          "symbol": "circle"
         },
         "mode": "lines",
         "name": "455",
         "showlegend": true,
         "type": "scattergl",
         "x": [
          0,
          2,
          3,
          4,
          5,
          6,
          7,
          8,
          9,
          10,
          11,
          13,
          14,
          15,
          16,
          17,
          20,
          21,
          23
         ],
         "xaxis": "x",
         "y": [
          5.5,
          17,
          21,
          21,
          20,
          19.333333333333332,
          19,
          17.5,
          18,
          17,
          13,
          11.5,
          12,
          16,
          11,
          13,
          20,
          14,
          13
         ],
         "yaxis": "y"
        },
        {
         "hovertemplate": "station_id=456<br>hour=%{x}<br>num_bikes_available=%{y}<extra></extra>",
         "legendgroup": "456",
         "line": {
          "color": "#ab63fa",
          "dash": "solid"
         },
         "marker": {
          "symbol": "circle"
         },
         "mode": "lines",
         "name": "456",
         "showlegend": true,
         "type": "scattergl",
         "x": [
          0,
          1,
          2,
          3,
          4,
          7,
          8,
          10,
          13,
          15,
          16,
          18,
          19,
          22,
          23
         ],
         "xaxis": "x",
         "y": [
          11,
          13,
          16,
          19,
          18,
          17.5,
          16,
          17,
          7.5,
          4,
          7,
          3,
          4,
          10.666666666666666,
          12
         ],
         "yaxis": "y"
        },
        {
         "hovertemplate": "station_id=457<br>hour=%{x}<br>num_bikes_available=%{y}<extra></extra>",
         "legendgroup": "457",
         "line": {
          "color": "#FFA15A",
          "dash": "solid"
         },
         "marker": {
          "symbol": "circle"
         },
         "mode": "lines",
         "name": "457",
         "showlegend": true,
         "type": "scattergl",
         "x": [
          1,
          2,
          3,
          4,
          5,
          6,
          7,
          9,
          10,
          11,
          12,
          15,
          16,
          17,
          20,
          22,
          23
         ],
         "xaxis": "x",
         "y": [
          13,
          16,
          15,
          16,
          16,
          16,
          16,
          17,
          17,
          15.5,
          15,
          15,
          15,
          15,
          17,
          18,
          18
         ],
         "yaxis": "y"
        },
        {
         "hovertemplate": "station_id=458<br>hour=%{x}<br>num_bikes_available=%{y}<extra></extra>",
         "legendgroup": "458",
         "line": {
          "color": "#19d3f3",
          "dash": "solid"
         },
         "marker": {
          "symbol": "circle"
         },
         "mode": "lines",
         "name": "458",
         "showlegend": true,
         "type": "scattergl",
         "x": [
          0,
          3,
          4,
          5,
          6,
          9,
          10,
          11,
          12,
          15,
          16,
          17,
          18,
          19,
          20,
          22,
          23
         ],
         "xaxis": "x",
         "y": [
          18.5,
          19,
          19,
          19,
          19,
          20,
          20,
          20,
          20,
          22,
          22,
          22,
          22,
          21,
          20.5,
          18.5,
          18
         ],
         "yaxis": "y"
        },
        {
         "hovertemplate": "station_id=459<br>hour=%{x}<br>num_bikes_available=%{y}<extra></extra>",
         "legendgroup": "459",
         "line": {
          "color": "#FF6692",
          "dash": "solid"
         },
         "marker": {
          "symbol": "circle"
         },
         "mode": "lines",
         "name": "459",
         "showlegend": true,
         "type": "scattergl",
         "x": [
          2,
          4,
          5,
          6,
          7,
          8,
          9,
          13,
          15,
          17,
          20,
          21,
          22
         ],
         "xaxis": "x",
         "y": [
          15.333333333333334,
          3.5,
          0,
          15,
          15,
          14,
          14,
          15.5,
          15,
          13,
          15,
          14,
          16
         ],
         "yaxis": "y"
        },
        {
         "hovertemplate": "station_id=460<br>hour=%{x}<br>num_bikes_available=%{y}<extra></extra>",
         "legendgroup": "460",
         "line": {
          "color": "#B6E880",
          "dash": "solid"
         },
         "marker": {
          "symbol": "circle"
         },
         "mode": "lines",
         "name": "460",
         "showlegend": true,
         "type": "scattergl",
         "x": [
          0,
          1,
          2,
          3,
          4,
          5,
          7,
          8,
          10,
          11,
          13,
          14,
          16,
          18,
          19,
          20,
          23
         ],
         "xaxis": "x",
         "y": [
          3.5,
          4,
          4,
          4,
          8,
          8,
          9,
          9,
          9,
          9,
          9,
          8,
          9,
          7,
          7,
          7,
          5.666666666666667
         ],
         "yaxis": "y"
        },
        {
         "hovertemplate": "station_id=461<br>hour=%{x}<br>num_bikes_available=%{y}<extra></extra>",
         "legendgroup": "461",
         "line": {
          "color": "#FF97FF",
          "dash": "solid"
         },
         "marker": {
          "symbol": "circle"
         },
         "mode": "lines",
         "name": "461",
         "showlegend": true,
         "type": "scattergl",
         "x": [
          0,
          1,
          3,
          4,
          5,
          6,
          7,
          8,
          9,
          12,
          13,
          15,
          17,
          19,
          20,
          21,
          22,
          23
         ],
         "xaxis": "x",
         "y": [
          5,
          5,
          8.333333333333334,
          13,
          12.5,
          13,
          11,
          9,
          9,
          6,
          4,
          4,
          3,
          6,
          7.666666666666667,
          4,
          6,
          7
         ],
         "yaxis": "y"
        },
        {
         "hovertemplate": "station_id=462<br>hour=%{x}<br>num_bikes_available=%{y}<extra></extra>",
         "legendgroup": "462",
         "line": {
          "color": "#FECB52",
          "dash": "solid"
         },
         "marker": {
          "symbol": "circle"
         },
         "mode": "lines",
         "name": "462",
         "showlegend": true,
         "type": "scattergl",
         "x": [
          2,
          3,
          4,
          5,
          7,
          10,
          11,
          12,
          14,
          15,
          16,
          17,
          18,
          21
         ],
         "xaxis": "x",
         "y": [
          13,
          13,
          13,
          13,
          14,
          13.5,
          13,
          13,
          12,
          12,
          11,
          11,
          12,
          14
         ],
         "yaxis": "y"
        },
        {
         "hovertemplate": "station_id=463<br>hour=%{x}<br>num_bikes_available=%{y}<extra></extra>",
         "legendgroup": "463",
         "line": {
          "color": "#636efa",
          "dash": "solid"
         },
         "marker": {
          "symbol": "circle"
         },
         "mode": "lines",
         "name": "463",
         "showlegend": true,
         "type": "scattergl",
         "x": [
          1,
          4,
          5,
          6,
          8,
          9,
          11,
          14,
          15,
          17,
          18,
          20,
          21,
          23
         ],
         "xaxis": "x",
         "y": [
          10.5,
          11,
          11,
          11.5,
          12,
          11,
          11,
          11,
          8.5,
          6.666666666666667,
          6,
          8,
          5.5,
          6
         ],
         "yaxis": "y"
        },
        {
         "hovertemplate": "station_id=464<br>hour=%{x}<br>num_bikes_available=%{y}<extra></extra>",
         "legendgroup": "464",
         "line": {
          "color": "#EF553B",
          "dash": "solid"
         },
         "marker": {
          "symbol": "circle"
         },
         "mode": "lines",
         "name": "464",
         "showlegend": true,
         "type": "scattergl",
         "x": [
          0,
          1,
          2,
          3,
          4,
          5,
          6,
          9,
          11,
          13,
          14,
          15,
          16,
          17,
          19,
          20,
          21,
          23
         ],
         "xaxis": "x",
         "y": [
          3,
          3.5,
          4,
          4,
          4,
          4,
          3,
          3,
          3,
          4,
          6,
          5,
          2,
          2.5,
          1,
          0.5,
          1,
          4
         ],
         "yaxis": "y"
        },
        {
         "hovertemplate": "station_id=465<br>hour=%{x}<br>num_bikes_available=%{y}<extra></extra>",
         "legendgroup": "465",
         "line": {
          "color": "#00cc96",
          "dash": "solid"
         },
         "marker": {
          "symbol": "circle"
         },
         "mode": "lines",
         "name": "465",
         "showlegend": true,
         "type": "scattergl",
         "x": [
          0,
          4,
          5,
          6,
          7,
          10,
          11,
          12,
          14,
          15,
          17,
          18,
          19,
          20,
          21,
          22,
          23
         ],
         "xaxis": "x",
         "y": [
          9,
          4,
          4,
          4,
          5.333333333333333,
          7,
          11,
          10,
          9,
          2,
          4,
          0,
          13,
          8.5,
          0,
          1.6666666666666667,
          0
         ],
         "yaxis": "y"
        },
        {
         "hovertemplate": "station_id=466<br>hour=%{x}<br>num_bikes_available=%{y}<extra></extra>",
         "legendgroup": "466",
         "line": {
          "color": "#ab63fa",
          "dash": "solid"
         },
         "marker": {
          "symbol": "circle"
         },
         "mode": "lines",
         "name": "466",
         "showlegend": true,
         "type": "scattergl",
         "x": [
          0,
          1,
          2,
          3,
          4,
          5,
          6,
          7,
          8,
          9,
          10,
          11,
          12,
          13,
          14,
          16,
          17,
          18
         ],
         "xaxis": "x",
         "y": [
          6,
          6,
          9,
          12,
          16,
          17,
          16.5,
          15.333333333333334,
          15,
          14,
          14.666666666666666,
          15,
          14,
          7,
          8,
          6,
          3,
          4
         ],
         "yaxis": "y"
        },
        {
         "hovertemplate": "station_id=467<br>hour=%{x}<br>num_bikes_available=%{y}<extra></extra>",
         "legendgroup": "467",
         "line": {
          "color": "#FFA15A",
          "dash": "solid"
         },
         "marker": {
          "symbol": "circle"
         },
         "mode": "lines",
         "name": "467",
         "showlegend": true,
         "type": "scattergl",
         "x": [
          0,
          1,
          2,
          3,
          4,
          5,
          6,
          8,
          9,
          10,
          11,
          13,
          14,
          15,
          17,
          18,
          19,
          20,
          21,
          23
         ],
         "xaxis": "x",
         "y": [
          1.5,
          1,
          3,
          3,
          2,
          3,
          2.5,
          1,
          1,
          12,
          12,
          11,
          10,
          9,
          6.666666666666667,
          6,
          5,
          5,
          5,
          7
         ],
         "yaxis": "y"
        },
        {
         "hovertemplate": "station_id=468<br>hour=%{x}<br>num_bikes_available=%{y}<extra></extra>",
         "legendgroup": "468",
         "line": {
          "color": "#19d3f3",
          "dash": "solid"
         },
         "marker": {
          "symbol": "circle"
         },
         "mode": "lines",
         "name": "468",
         "showlegend": true,
         "type": "scattergl",
         "x": [
          0,
          1,
          2,
          3,
          4,
          6,
          9,
          10,
          14,
          16,
          19,
          21,
          22
         ],
         "xaxis": "x",
         "y": [
          2,
          2,
          2,
          2.75,
          4,
          5,
          5,
          5,
          5,
          4,
          3.5,
          1,
          0
         ],
         "yaxis": "y"
        },
        {
         "hovertemplate": "station_id=469<br>hour=%{x}<br>num_bikes_available=%{y}<extra></extra>",
         "legendgroup": "469",
         "line": {
          "color": "#FF6692",
          "dash": "solid"
         },
         "marker": {
          "symbol": "circle"
         },
         "mode": "lines",
         "name": "469",
         "showlegend": true,
         "type": "scattergl",
         "x": [
          0,
          2,
          3,
          4,
          5,
          6,
          7,
          9,
          13,
          14,
          15,
          16,
          18,
          19,
          21,
          22,
          23
         ],
         "xaxis": "x",
         "y": [
          8,
          9,
          11,
          12,
          11.5,
          11,
          11,
          11,
          2,
          4,
          3,
          4,
          2,
          2,
          5,
          5,
          7
         ],
         "yaxis": "y"
        },
        {
         "hovertemplate": "station_id=470<br>hour=%{x}<br>num_bikes_available=%{y}<extra></extra>",
         "legendgroup": "470",
         "line": {
          "color": "#B6E880",
          "dash": "solid"
         },
         "marker": {
          "symbol": "circle"
         },
         "mode": "lines",
         "name": "470",
         "showlegend": true,
         "type": "scattergl",
         "x": [
          0,
          2,
          4,
          5,
          6,
          7,
          8,
          11,
          12,
          13,
          14,
          15,
          17,
          18,
          21,
          22
         ],
         "xaxis": "x",
         "y": [
          10,
          8,
          8.666666666666666,
          10,
          11,
          11,
          10.5,
          8,
          7,
          8,
          6,
          6,
          5,
          5.25,
          5,
          4.5
         ],
         "yaxis": "y"
        },
        {
         "hovertemplate": "station_id=471<br>hour=%{x}<br>num_bikes_available=%{y}<extra></extra>",
         "legendgroup": "471",
         "line": {
          "color": "#FF97FF",
          "dash": "solid"
         },
         "marker": {
          "symbol": "circle"
         },
         "mode": "lines",
         "name": "471",
         "showlegend": true,
         "type": "scattergl",
         "x": [
          0,
          2,
          4,
          5,
          6,
          7,
          8,
          9,
          10,
          12,
          13,
          14,
          15,
          17,
          18,
          19,
          20,
          22,
          23
         ],
         "xaxis": "x",
         "y": [
          2,
          2,
          4,
          6,
          6,
          6,
          5,
          4,
          4,
          4,
          2.75,
          2,
          1,
          2,
          1.6666666666666667,
          0.5,
          2,
          2.5,
          3
         ],
         "yaxis": "y"
        },
        {
         "hovertemplate": "station_id=472<br>hour=%{x}<br>num_bikes_available=%{y}<extra></extra>",
         "legendgroup": "472",
         "line": {
          "color": "#FECB52",
          "dash": "solid"
         },
         "marker": {
          "symbol": "circle"
         },
         "mode": "lines",
         "name": "472",
         "showlegend": true,
         "type": "scattergl",
         "x": [
          0,
          3,
          4,
          6,
          7,
          8,
          10,
          12,
          13,
          15,
          16,
          17,
          22,
          23
         ],
         "xaxis": "x",
         "y": [
          2,
          3,
          4,
          1,
          1,
          1,
          1,
          8.333333333333334,
          9,
          9,
          10,
          8,
          5,
          5
         ],
         "yaxis": "y"
        },
        {
         "hovertemplate": "station_id=473<br>hour=%{x}<br>num_bikes_available=%{y}<extra></extra>",
         "legendgroup": "473",
         "line": {
          "color": "#636efa",
          "dash": "solid"
         },
         "marker": {
          "symbol": "circle"
         },
         "mode": "lines",
         "name": "473",
         "showlegend": true,
         "type": "scattergl",
         "x": [
          0,
          1,
          2,
          3,
          5,
          7,
          8,
          10,
          12,
          13,
          14,
          15,
          16,
          17,
          18,
          19,
          22,
          23
         ],
         "xaxis": "x",
         "y": [
          5,
          6,
          6,
          7,
          6,
          9,
          11.5,
          12.666666666666666,
          11,
          8,
          4,
          3.3333333333333335,
          3.5,
          5.666666666666667,
          3,
          0,
          1,
          2.5
         ],
         "yaxis": "y"
        },
        {
         "hovertemplate": "station_id=474<br>hour=%{x}<br>num_bikes_available=%{y}<extra></extra>",
         "legendgroup": "474",
         "line": {
          "color": "#EF553B",
          "dash": "solid"
         },
         "marker": {
          "symbol": "circle"
         },
         "mode": "lines",
         "name": "474",
         "showlegend": true,
         "type": "scattergl",
         "x": [
          0,
          1,
          3,
          4,
          6,
          8,
          10,
          11,
          17,
          18,
          19,
          21,
          23
         ],
         "xaxis": "x",
         "y": [
          2,
          3.5,
          0,
          0,
          2,
          1.5,
          1,
          1,
          2,
          2.5,
          3,
          2.6666666666666665,
          2
         ],
         "yaxis": "y"
        },
        {
         "hovertemplate": "station_id=475<br>hour=%{x}<br>num_bikes_available=%{y}<extra></extra>",
         "legendgroup": "475",
         "line": {
          "color": "#00cc96",
          "dash": "solid"
         },
         "marker": {
          "symbol": "circle"
         },
         "mode": "lines",
         "name": "475",
         "showlegend": true,
         "type": "scattergl",
         "x": [
          0,
          1,
          4,
          5,
          10,
          11,
          12,
          15,
          17,
          18,
          19,
          20,
          21,
          22,
          23
         ],
         "xaxis": "x",
         "y": [
          7,
          7,
          6.333333333333333,
          3,
          7,
          6,
          7.333333333333333,
          4.5,
          3.6666666666666665,
          4,
          4,
          2,
          4,
          5.333333333333333,
          10
         ],
         "yaxis": "y"
        },
        {
         "hovertemplate": "station_id=476<br>hour=%{x}<br>num_bikes_available=%{y}<extra></extra>",
         "legendgroup": "476",
         "line": {
          "color": "#ab63fa",
          "dash": "solid"
         },
         "marker": {
          "symbol": "circle"
         },
         "mode": "lines",
         "name": "476",
         "showlegend": true,
         "type": "scattergl",
         "x": [
          0,
          1,
          2,
          4,
          5,
          6,
          10,
          11,
          12,
          13,
          15,
          16,
          18,
          20,
          22,
          23
         ],
         "xaxis": "x",
         "y": [
          8,
          7,
          7,
          9.5,
          11,
          10,
          8,
          6,
          2.6666666666666665,
          1,
          1,
          3,
          0.5,
          4,
          3,
          5
         ],
         "yaxis": "y"
        },
        {
         "hovertemplate": "station_id=477<br>hour=%{x}<br>num_bikes_available=%{y}<extra></extra>",
         "legendgroup": "477",
         "line": {
          "color": "#FFA15A",
          "dash": "solid"
         },
         "marker": {
          "symbol": "circle"
         },
         "mode": "lines",
         "name": "477",
         "showlegend": true,
         "type": "scattergl",
         "x": [
          2,
          3,
          4,
          6,
          7,
          8,
          9,
          10,
          13,
          14,
          15,
          16,
          17,
          18,
          19,
          20,
          21,
          22
         ],
         "xaxis": "x",
         "y": [
          5,
          8,
          8,
          8,
          7,
          5,
          5,
          5,
          5,
          5,
          4,
          4.5,
          5,
          4,
          0.5,
          0,
          2,
          4
         ],
         "yaxis": "y"
        },
        {
         "hovertemplate": "station_id=478<br>hour=%{x}<br>num_bikes_available=%{y}<extra></extra>",
         "legendgroup": "478",
         "line": {
          "color": "#19d3f3",
          "dash": "solid"
         },
         "marker": {
          "symbol": "circle"
         },
         "mode": "lines",
         "name": "478",
         "showlegend": true,
         "type": "scattergl",
         "x": [
          0,
          4,
          5,
          6,
          7,
          8,
          9,
          12,
          15,
          16,
          20,
          21,
          22,
          23
         ],
         "xaxis": "x",
         "y": [
          6,
          9,
          9,
          12,
          11,
          12,
          11,
          11,
          9,
          11,
          1,
          1,
          2,
          4.5
         ],
         "yaxis": "y"
        },
        {
         "hovertemplate": "station_id=479<br>hour=%{x}<br>num_bikes_available=%{y}<extra></extra>",
         "legendgroup": "479",
         "line": {
          "color": "#FF6692",
          "dash": "solid"
         },
         "marker": {
          "symbol": "circle"
         },
         "mode": "lines",
         "name": "479",
         "showlegend": true,
         "type": "scattergl",
         "x": [
          0,
          1,
          3,
          4,
          6,
          7,
          9,
          10,
          16,
          19,
          20,
          21,
          22,
          23
         ],
         "xaxis": "x",
         "y": [
          5,
          3.5,
          5,
          5,
          5,
          5,
          2,
          3,
          8,
          3.5,
          4,
          4,
          8.5,
          11
         ],
         "yaxis": "y"
        },
        {
         "hovertemplate": "station_id=480<br>hour=%{x}<br>num_bikes_available=%{y}<extra></extra>",
         "legendgroup": "480",
         "line": {
          "color": "#B6E880",
          "dash": "solid"
         },
         "marker": {
          "symbol": "circle"
         },
         "mode": "lines",
         "name": "480",
         "showlegend": true,
         "type": "scattergl",
         "x": [
          0,
          1,
          2,
          5,
          8,
          9,
          10,
          11,
          12,
          13,
          14,
          16,
          17,
          18,
          19,
          20,
          21,
          22,
          23
         ],
         "xaxis": "x",
         "y": [
          4.333333333333333,
          5,
          5,
          5,
          5,
          4,
          4.5,
          12,
          12,
          11,
          5.666666666666667,
          1,
          0,
          3,
          4,
          5,
          5,
          6,
          6.333333333333333
         ],
         "yaxis": "y"
        },
        {
         "hovertemplate": "station_id=481<br>hour=%{x}<br>num_bikes_available=%{y}<extra></extra>",
         "legendgroup": "481",
         "line": {
          "color": "#FF97FF",
          "dash": "solid"
         },
         "marker": {
          "symbol": "circle"
         },
         "mode": "lines",
         "name": "481",
         "showlegend": true,
         "type": "scattergl",
         "x": [
          0,
          2,
          5,
          6,
          7,
          8,
          10,
          11,
          12,
          13,
          14,
          16,
          18,
          19,
          20
         ],
         "xaxis": "x",
         "y": [
          5.5,
          5.5,
          5,
          5,
          5,
          5,
          5,
          4.4,
          3.5,
          2,
          2,
          3,
          2,
          3,
          3
         ],
         "yaxis": "y"
        },
        {
         "hovertemplate": "station_id=482<br>hour=%{x}<br>num_bikes_available=%{y}<extra></extra>",
         "legendgroup": "482",
         "line": {
          "color": "#FECB52",
          "dash": "solid"
         },
         "marker": {
          "symbol": "circle"
         },
         "mode": "lines",
         "name": "482",
         "showlegend": true,
         "type": "scattergl",
         "x": [
          1,
          2,
          4,
          5,
          6,
          7,
          8,
          12,
          13,
          14,
          15,
          16,
          17,
          18,
          19,
          21,
          22,
          23
         ],
         "xaxis": "x",
         "y": [
          7,
          7,
          8,
          8,
          6,
          8,
          7,
          5,
          5,
          6,
          6,
          6,
          6,
          4,
          4,
          5,
          4,
          3
         ],
         "yaxis": "y"
        },
        {
         "hovertemplate": "station_id=483<br>hour=%{x}<br>num_bikes_available=%{y}<extra></extra>",
         "legendgroup": "483",
         "line": {
          "color": "#636efa",
          "dash": "solid"
         },
         "marker": {
          "symbol": "circle"
         },
         "mode": "lines",
         "name": "483",
         "showlegend": true,
         "type": "scattergl",
         "x": [
          0,
          5,
          6,
          7,
          8,
          9,
          11,
          13,
          14,
          15,
          16,
          17,
          18,
          19,
          20,
          21,
          22,
          23
         ],
         "xaxis": "x",
         "y": [
          4,
          6,
          5.666666666666667,
          5,
          5,
          5,
          3,
          1,
          1,
          1,
          0,
          1.3333333333333333,
          3,
          4,
          2,
          4,
          2.75,
          2
         ],
         "yaxis": "y"
        },
        {
         "hovertemplate": "station_id=484<br>hour=%{x}<br>num_bikes_available=%{y}<extra></extra>",
         "legendgroup": "484",
         "line": {
          "color": "#EF553B",
          "dash": "solid"
         },
         "marker": {
          "symbol": "circle"
         },
         "mode": "lines",
         "name": "484",
         "showlegend": true,
         "type": "scattergl",
         "x": [
          2,
          3,
          4,
          6,
          8,
          9,
          10,
          11,
          13,
          15,
          16,
          17,
          19,
          20,
          21,
          23
         ],
         "xaxis": "x",
         "y": [
          5,
          5,
          5,
          6,
          6,
          5,
          5,
          5,
          8,
          9,
          8.5,
          8,
          6,
          4.5,
          4.666666666666667,
          4
         ],
         "yaxis": "y"
        },
        {
         "hovertemplate": "station_id=485<br>hour=%{x}<br>num_bikes_available=%{y}<extra></extra>",
         "legendgroup": "485",
         "line": {
          "color": "#00cc96",
          "dash": "solid"
         },
         "marker": {
          "symbol": "circle"
         },
         "mode": "lines",
         "name": "485",
         "showlegend": true,
         "type": "scattergl",
         "x": [
          0,
          1,
          2,
          4,
          5,
          6,
          7,
          8,
          9,
          11,
          13,
          14,
          15,
          18,
          19,
          20,
          21,
          22
         ],
         "xaxis": "x",
         "y": [
          8,
          8,
          8,
          7.5,
          7,
          7,
          6.333333333333333,
          6,
          7,
          4.5,
          1.5,
          1,
          0,
          2,
          4,
          7.5,
          4,
          3
         ],
         "yaxis": "y"
        },
        {
         "hovertemplate": "station_id=487<br>hour=%{x}<br>num_bikes_available=%{y}<extra></extra>",
         "legendgroup": "487",
         "line": {
          "color": "#ab63fa",
          "dash": "solid"
         },
         "marker": {
          "symbol": "circle"
         },
         "mode": "lines",
         "name": "487",
         "showlegend": true,
         "type": "scattergl",
         "x": [
          0,
          1,
          2,
          3,
          5,
          6,
          7,
          8,
          9,
          10,
          11,
          12,
          13,
          16,
          18,
          19,
          21
         ],
         "xaxis": "x",
         "y": [
          1,
          1,
          0,
          2,
          3,
          3,
          3,
          3,
          2,
          1,
          1,
          1,
          2,
          0,
          0,
          0.3333333333333333,
          0
         ],
         "yaxis": "y"
        },
        {
         "hovertemplate": "station_id=488<br>hour=%{x}<br>num_bikes_available=%{y}<extra></extra>",
         "legendgroup": "488",
         "line": {
          "color": "#FFA15A",
          "dash": "solid"
         },
         "marker": {
          "symbol": "circle"
         },
         "mode": "lines",
         "name": "488",
         "showlegend": true,
         "type": "scattergl",
         "x": [
          0,
          2,
          3,
          4,
          5,
          6,
          7,
          8,
          9,
          10,
          11,
          12,
          13,
          14,
          15,
          17,
          18,
          19,
          20,
          22
         ],
         "xaxis": "x",
         "y": [
          6,
          6,
          6,
          7,
          7,
          7,
          7,
          6.75,
          6,
          6,
          6,
          8,
          8,
          8,
          3,
          4,
          3,
          5,
          2,
          3
         ],
         "yaxis": "y"
        },
        {
         "hovertemplate": "station_id=489<br>hour=%{x}<br>num_bikes_available=%{y}<extra></extra>",
         "legendgroup": "489",
         "line": {
          "color": "#19d3f3",
          "dash": "solid"
         },
         "marker": {
          "symbol": "circle"
         },
         "mode": "lines",
         "name": "489",
         "showlegend": true,
         "type": "scattergl",
         "x": [
          0,
          1,
          2,
          4,
          5,
          8,
          10,
          11,
          12,
          17,
          18,
          19,
          20,
          21,
          22
         ],
         "xaxis": "x",
         "y": [
          5,
          5,
          5,
          5,
          5,
          5,
          5.25,
          6,
          4,
          2,
          3,
          0.5,
          0,
          1,
          1
         ],
         "yaxis": "y"
        },
        {
         "hovertemplate": "station_id=490<br>hour=%{x}<br>num_bikes_available=%{y}<extra></extra>",
         "legendgroup": "490",
         "line": {
          "color": "#FF6692",
          "dash": "solid"
         },
         "marker": {
          "symbol": "circle"
         },
         "mode": "lines",
         "name": "490",
         "showlegend": true,
         "type": "scattergl",
         "x": [
          0,
          2,
          3,
          4,
          5,
          7,
          8,
          9,
          10,
          11,
          13,
          14,
          15,
          18,
          19,
          20,
          21,
          22
         ],
         "xaxis": "x",
         "y": [
          2.5,
          12,
          12,
          13,
          11,
          13,
          12,
          17,
          15,
          16,
          17.5,
          16,
          16.5,
          16,
          13.5,
          9,
          8,
          3
         ],
         "yaxis": "y"
        },
        {
         "hovertemplate": "station_id=491<br>hour=%{x}<br>num_bikes_available=%{y}<extra></extra>",
         "legendgroup": "491",
         "line": {
          "color": "#B6E880",
          "dash": "solid"
         },
         "marker": {
          "symbol": "circle"
         },
         "mode": "lines",
         "name": "491",
         "showlegend": true,
         "type": "scattergl",
         "x": [
          2,
          4,
          5,
          8,
          9,
          10,
          11,
          14,
          15,
          16,
          17,
          19,
          20,
          21,
          23
         ],
         "xaxis": "x",
         "y": [
          1,
          2,
          2,
          2,
          2,
          1,
          1,
          1,
          1,
          1.3333333333333333,
          1,
          1,
          0.5,
          1.75,
          1
         ],
         "yaxis": "y"
        },
        {
         "hovertemplate": "station_id=492<br>hour=%{x}<br>num_bikes_available=%{y}<extra></extra>",
         "legendgroup": "492",
         "line": {
          "color": "#FF97FF",
          "dash": "solid"
         },
         "marker": {
          "symbol": "circle"
         },
         "mode": "lines",
         "name": "492",
         "showlegend": true,
         "type": "scattergl",
         "x": [
          0,
          1,
          2,
          3,
          4,
          5,
          6,
          9,
          10,
          11,
          12,
          13,
          14,
          15,
          16,
          19,
          20,
          21,
          23
         ],
         "xaxis": "x",
         "y": [
          3,
          1,
          2,
          0.5,
          8,
          13,
          16,
          17.5,
          16,
          18,
          16,
          12,
          12,
          12,
          18.333333333333332,
          21,
          19,
          14,
          8
         ],
         "yaxis": "y"
        },
        {
         "hovertemplate": "station_id=493<br>hour=%{x}<br>num_bikes_available=%{y}<extra></extra>",
         "legendgroup": "493",
         "line": {
          "color": "#FECB52",
          "dash": "solid"
         },
         "marker": {
          "symbol": "circle"
         },
         "mode": "lines",
         "name": "493",
         "showlegend": true,
         "type": "scattergl",
         "x": [
          0,
          3,
          5,
          6,
          7,
          8,
          9,
          10,
          12,
          13,
          14,
          15,
          16,
          18,
          20,
          21,
          22,
          23
         ],
         "xaxis": "x",
         "y": [
          4,
          6,
          7,
          8,
          8,
          7,
          7,
          7,
          3,
          3,
          3.5,
          3,
          3.5,
          0,
          1.3333333333333333,
          0.5,
          0.5,
          0
         ],
         "yaxis": "y"
        },
        {
         "hovertemplate": "station_id=494<br>hour=%{x}<br>num_bikes_available=%{y}<extra></extra>",
         "legendgroup": "494",
         "line": {
          "color": "#636efa",
          "dash": "solid"
         },
         "marker": {
          "symbol": "circle"
         },
         "mode": "lines",
         "name": "494",
         "showlegend": true,
         "type": "scattergl",
         "x": [
          0,
          3,
          4,
          5,
          7,
          8,
          9,
          10,
          12,
          13,
          15,
          16,
          17,
          18,
          20,
          21,
          22,
          23
         ],
         "xaxis": "x",
         "y": [
          1,
          1,
          0,
          1,
          1,
          1,
          3,
          3.6666666666666665,
          14.666666666666666,
          17.5,
          22,
          22,
          20,
          17,
          16.333333333333332,
          8,
          5,
          4
         ],
         "yaxis": "y"
        },
        {
         "hovertemplate": "station_id=495<br>hour=%{x}<br>num_bikes_available=%{y}<extra></extra>",
         "legendgroup": "495",
         "line": {
          "color": "#EF553B",
          "dash": "solid"
         },
         "marker": {
          "symbol": "circle"
         },
         "mode": "lines",
         "name": "495",
         "showlegend": true,
         "type": "scattergl",
         "x": [
          0,
          1,
          2,
          4,
          6,
          7,
          8,
          9,
          10,
          11,
          12,
          14,
          15,
          16,
          17,
          18,
          20,
          21,
          23
         ],
         "xaxis": "x",
         "y": [
          13,
          9.5,
          9,
          4,
          2.3333333333333335,
          0,
          0,
          0,
          0,
          3,
          5,
          8,
          5,
          2,
          2,
          1,
          1,
          1,
          0.5
         ],
         "yaxis": "y"
        },
        {
         "hovertemplate": "station_id=496<br>hour=%{x}<br>num_bikes_available=%{y}<extra></extra>",
         "legendgroup": "496",
         "line": {
          "color": "#00cc96",
          "dash": "solid"
         },
         "marker": {
          "symbol": "circle"
         },
         "mode": "lines",
         "name": "496",
         "showlegend": true,
         "type": "scattergl",
         "x": [
          0,
          2,
          4,
          5,
          6,
          7,
          9,
          10,
          11,
          15,
          18,
          20,
          22
         ],
         "xaxis": "x",
         "y": [
          3,
          2,
          2.6666666666666665,
          2,
          4,
          3,
          5,
          10,
          9.5,
          5.5,
          1,
          4,
          11
         ],
         "yaxis": "y"
        },
        {
         "hovertemplate": "station_id=497<br>hour=%{x}<br>num_bikes_available=%{y}<extra></extra>",
         "legendgroup": "497",
         "line": {
          "color": "#ab63fa",
          "dash": "solid"
         },
         "marker": {
          "symbol": "circle"
         },
         "mode": "lines",
         "name": "497",
         "showlegend": true,
         "type": "scattergl",
         "x": [
          1,
          2,
          3,
          4,
          5,
          6,
          7,
          8,
          9,
          10,
          12,
          13,
          15,
          16,
          18,
          19,
          20,
          21
         ],
         "xaxis": "x",
         "y": [
          0.3333333333333333,
          0,
          4,
          5,
          5,
          6,
          6,
          6.25,
          7,
          9.5,
          9,
          11,
          2.6666666666666665,
          2,
          1,
          1,
          0.3333333333333333,
          7
         ],
         "yaxis": "y"
        },
        {
         "hovertemplate": "station_id=498<br>hour=%{x}<br>num_bikes_available=%{y}<extra></extra>",
         "legendgroup": "498",
         "line": {
          "color": "#FFA15A",
          "dash": "solid"
         },
         "marker": {
          "symbol": "circle"
         },
         "mode": "lines",
         "name": "498",
         "showlegend": true,
         "type": "scattergl",
         "x": [
          0,
          1,
          3,
          4,
          5,
          7,
          9,
          10,
          11,
          13,
          15,
          16,
          17,
          18,
          20,
          21,
          22,
          23
         ],
         "xaxis": "x",
         "y": [
          0.25,
          1,
          2,
          1,
          4,
          5.5,
          4.666666666666667,
          5,
          4.5,
          5,
          4,
          3,
          3,
          0,
          1,
          1,
          0,
          0.5
         ],
         "yaxis": "y"
        },
        {
         "hovertemplate": "station_id=499<br>hour=%{x}<br>num_bikes_available=%{y}<extra></extra>",
         "legendgroup": "499",
         "line": {
          "color": "#19d3f3",
          "dash": "solid"
         },
         "marker": {
          "symbol": "circle"
         },
         "mode": "lines",
         "name": "499",
         "showlegend": true,
         "type": "scattergl",
         "x": [
          0,
          1,
          2,
          3,
          5,
          6,
          7,
          8,
          10,
          11,
          12,
          13,
          15,
          17,
          18,
          19,
          20,
          22
         ],
         "xaxis": "x",
         "y": [
          1,
          2,
          3.5,
          6,
          6.333333333333333,
          7,
          6,
          6,
          6,
          5.333333333333333,
          6,
          6.5,
          7,
          4,
          3.5,
          1,
          1.5,
          2.3333333333333335
         ],
         "yaxis": "y"
        },
        {
         "hovertemplate": "station_id=500<br>hour=%{x}<br>num_bikes_available=%{y}<extra></extra>",
         "legendgroup": "500",
         "line": {
          "color": "#FF6692",
          "dash": "solid"
         },
         "marker": {
          "symbol": "circle"
         },
         "mode": "lines",
         "name": "500",
         "showlegend": true,
         "type": "scattergl",
         "x": [
          1,
          2,
          3,
          4,
          5,
          7,
          8,
          9,
          10,
          12,
          14,
          15,
          16,
          17,
          18,
          20,
          23
         ],
         "xaxis": "x",
         "y": [
          8.5,
          9,
          10.5,
          14,
          15.5,
          14,
          15.5,
          13.5,
          13,
          8,
          6,
          5,
          5,
          2,
          3.5,
          0,
          7
         ],
         "yaxis": "y"
        },
        {
         "hovertemplate": "station_id=501<br>hour=%{x}<br>num_bikes_available=%{y}<extra></extra>",
         "legendgroup": "501",
         "line": {
          "color": "#B6E880",
          "dash": "solid"
         },
         "marker": {
          "symbol": "circle"
         },
         "mode": "lines",
         "name": "501",
         "showlegend": true,
         "type": "scattergl",
         "x": [
          1,
          2,
          4,
          5,
          6,
          7,
          8,
          9,
          12,
          14,
          15,
          16,
          17,
          18,
          19,
          20,
          21,
          22
         ],
         "xaxis": "x",
         "y": [
          4,
          5,
          7,
          9,
          11,
          11,
          12,
          11,
          3,
          1,
          1,
          1.6666666666666667,
          0,
          0,
          0,
          1,
          0.5,
          3
         ],
         "yaxis": "y"
        },
        {
         "hovertemplate": "station_id=502<br>hour=%{x}<br>num_bikes_available=%{y}<extra></extra>",
         "legendgroup": "502",
         "line": {
          "color": "#FF97FF",
          "dash": "solid"
         },
         "marker": {
          "symbol": "circle"
         },
         "mode": "lines",
         "name": "502",
         "showlegend": true,
         "type": "scattergl",
         "x": [
          0,
          1,
          6,
          7,
          9,
          10,
          11,
          12,
          13,
          14,
          15,
          16,
          17,
          18,
          21,
          22
         ],
         "xaxis": "x",
         "y": [
          2,
          1,
          10,
          10,
          10,
          11,
          5,
          5,
          2,
          4.666666666666667,
          6.666666666666667,
          6.666666666666667,
          1,
          1.5,
          1,
          2.6666666666666665
         ],
         "yaxis": "y"
        },
        {
         "hovertemplate": "station_id=503<br>hour=%{x}<br>num_bikes_available=%{y}<extra></extra>",
         "legendgroup": "503",
         "line": {
          "color": "#FECB52",
          "dash": "solid"
         },
         "marker": {
          "symbol": "circle"
         },
         "mode": "lines",
         "name": "503",
         "showlegend": true,
         "type": "scattergl",
         "x": [
          1,
          2,
          4,
          5,
          8,
          9,
          10,
          11,
          12,
          13,
          14,
          15,
          16,
          17,
          18,
          19,
          20,
          21,
          22,
          23
         ],
         "xaxis": "x",
         "y": [
          3.6666666666666665,
          5,
          6,
          6,
          6,
          2,
          0,
          0,
          2,
          1,
          2,
          4,
          1.5,
          1,
          1,
          2,
          0,
          3,
          7,
          10
         ],
         "yaxis": "y"
        },
        {
         "hovertemplate": "station_id=504<br>hour=%{x}<br>num_bikes_available=%{y}<extra></extra>",
         "legendgroup": "504",
         "line": {
          "color": "#636efa",
          "dash": "solid"
         },
         "marker": {
          "symbol": "circle"
         },
         "mode": "lines",
         "name": "504",
         "showlegend": true,
         "type": "scattergl",
         "x": [
          0,
          2,
          3,
          4,
          6,
          7,
          8,
          9,
          11,
          12,
          14,
          15,
          16,
          17,
          19,
          21,
          23
         ],
         "xaxis": "x",
         "y": [
          2,
          14.333333333333334,
          14,
          14,
          14,
          13,
          13,
          11,
          8,
          4,
          2,
          2,
          0,
          0,
          0.5,
          1,
          10
         ],
         "yaxis": "y"
        },
        {
         "hovertemplate": "station_id=505<br>hour=%{x}<br>num_bikes_available=%{y}<extra></extra>",
         "legendgroup": "505",
         "line": {
          "color": "#EF553B",
          "dash": "solid"
         },
         "marker": {
          "symbol": "circle"
         },
         "mode": "lines",
         "name": "505",
         "showlegend": true,
         "type": "scattergl",
         "x": [
          0,
          2,
          4,
          5,
          7,
          8,
          9,
          10,
          11,
          12,
          13,
          14,
          17,
          18,
          19,
          20,
          22
         ],
         "xaxis": "x",
         "y": [
          5,
          6.666666666666667,
          7,
          6.5,
          7,
          4,
          2,
          0.5,
          0,
          1.3333333333333333,
          2,
          1,
          0,
          1,
          0,
          0,
          8
         ],
         "yaxis": "y"
        },
        {
         "hovertemplate": "station_id=506<br>hour=%{x}<br>num_bikes_available=%{y}<extra></extra>",
         "legendgroup": "506",
         "line": {
          "color": "#00cc96",
          "dash": "solid"
         },
         "marker": {
          "symbol": "circle"
         },
         "mode": "lines",
         "name": "506",
         "showlegend": true,
         "type": "scattergl",
         "x": [
          0,
          3,
          5,
          6,
          7,
          8,
          10,
          11,
          12,
          13,
          14,
          16,
          18,
          21,
          22,
          23
         ],
         "xaxis": "x",
         "y": [
          2,
          11,
          10,
          9,
          10.5,
          9,
          6,
          3.5,
          5,
          5,
          5,
          7,
          0,
          4,
          4,
          8
         ],
         "yaxis": "y"
        },
        {
         "hovertemplate": "station_id=507<br>hour=%{x}<br>num_bikes_available=%{y}<extra></extra>",
         "legendgroup": "507",
         "line": {
          "color": "#ab63fa",
          "dash": "solid"
         },
         "marker": {
          "symbol": "circle"
         },
         "mode": "lines",
         "name": "507",
         "showlegend": true,
         "type": "scattergl",
         "x": [
          0,
          1,
          2,
          5,
          6,
          10,
          11,
          12,
          13,
          15,
          16,
          18,
          20,
          21,
          23
         ],
         "xaxis": "x",
         "y": [
          2,
          2.8,
          6,
          9,
          9,
          3,
          1.5,
          2,
          2.5,
          5,
          1,
          3,
          1,
          1,
          8
         ],
         "yaxis": "y"
        },
        {
         "hovertemplate": "station_id=508<br>hour=%{x}<br>num_bikes_available=%{y}<extra></extra>",
         "legendgroup": "508",
         "line": {
          "color": "#FFA15A",
          "dash": "solid"
         },
         "marker": {
          "symbol": "circle"
         },
         "mode": "lines",
         "name": "508",
         "showlegend": true,
         "type": "scattergl",
         "x": [
          0,
          1,
          2,
          3,
          4,
          5,
          7,
          9,
          11,
          12,
          13,
          15,
          16,
          17,
          18,
          19,
          20,
          21,
          23
         ],
         "xaxis": "x",
         "y": [
          5,
          9,
          9.5,
          13,
          15,
          15,
          13,
          8,
          4,
          10,
          17,
          14.5,
          9.5,
          2.75,
          0,
          4,
          4,
          2.5,
          9
         ],
         "yaxis": "y"
        },
        {
         "hovertemplate": "station_id=509<br>hour=%{x}<br>num_bikes_available=%{y}<extra></extra>",
         "legendgroup": "509",
         "line": {
          "color": "#19d3f3",
          "dash": "solid"
         },
         "marker": {
          "symbol": "circle"
         },
         "mode": "lines",
         "name": "509",
         "showlegend": true,
         "type": "scattergl",
         "x": [
          2,
          7,
          8,
          10,
          12,
          13,
          15,
          18,
          19,
          20,
          21,
          23
         ],
         "xaxis": "x",
         "y": [
          10,
          5,
          6,
          5,
          2,
          3,
          6,
          9,
          4,
          5,
          3,
          3
         ],
         "yaxis": "y"
        },
        {
         "hovertemplate": "station_id=510<br>hour=%{x}<br>num_bikes_available=%{y}<extra></extra>",
         "legendgroup": "510",
         "line": {
          "color": "#FF6692",
          "dash": "solid"
         },
         "marker": {
          "symbol": "circle"
         },
         "mode": "lines",
         "name": "510",
         "showlegend": true,
         "type": "scattergl",
         "x": [
          0,
          1,
          2,
          3,
          4,
          5,
          6,
          9,
          10,
          11,
          13,
          14,
          15,
          16,
          17,
          18,
          20,
          21,
          23
         ],
         "xaxis": "x",
         "y": [
          1,
          3,
          2,
          11.666666666666666,
          13.5,
          12.5,
          13.666666666666666,
          11,
          13,
          13,
          4,
          4.5,
          2.5,
          4,
          4,
          3.5,
          5,
          14.5,
          10.5
         ],
         "yaxis": "y"
        },
        {
         "hovertemplate": "station_id=511<br>hour=%{x}<br>num_bikes_available=%{y}<extra></extra>",
         "legendgroup": "511",
         "line": {
          "color": "#B6E880",
          "dash": "solid"
         },
         "marker": {
          "symbol": "circle"
         },
         "mode": "lines",
         "name": "511",
         "showlegend": true,
         "type": "scattergl",
         "x": [
          0,
          1,
          2,
          3,
          4,
          7,
          8,
          10,
          11,
          12,
          13,
          16,
          17,
          18,
          19,
          20,
          22,
          23
         ],
         "xaxis": "x",
         "y": [
          1,
          1,
          3,
          6.5,
          8,
          6,
          5,
          2.5,
          4,
          2,
          5,
          16,
          1,
          0.5,
          1.75,
          4.75,
          12,
          12
         ],
         "yaxis": "y"
        },
        {
         "hovertemplate": "station_id=512<br>hour=%{x}<br>num_bikes_available=%{y}<extra></extra>",
         "legendgroup": "512",
         "line": {
          "color": "#FF97FF",
          "dash": "solid"
         },
         "marker": {
          "symbol": "circle"
         },
         "mode": "lines",
         "name": "512",
         "showlegend": true,
         "type": "scattergl",
         "x": [
          0,
          1,
          2,
          3,
          5,
          6,
          7,
          8,
          9,
          13,
          14,
          15,
          16,
          17,
          18,
          23
         ],
         "xaxis": "x",
         "y": [
          0.8,
          1,
          2,
          3,
          3,
          4,
          4,
          3,
          3,
          5,
          3,
          1,
          2,
          2.3333333333333335,
          2,
          1
         ],
         "yaxis": "y"
        },
        {
         "hovertemplate": "station_id=513<br>hour=%{x}<br>num_bikes_available=%{y}<extra></extra>",
         "legendgroup": "513",
         "line": {
          "color": "#FECB52",
          "dash": "solid"
         },
         "marker": {
          "symbol": "circle"
         },
         "mode": "lines",
         "name": "513",
         "showlegend": true,
         "type": "scattergl",
         "x": [
          0,
          1,
          3,
          5,
          6,
          7,
          8,
          9,
          10,
          11,
          12,
          13,
          14,
          15,
          17,
          18,
          20,
          21,
          22
         ],
         "xaxis": "x",
         "y": [
          3,
          0,
          0,
          2.6666666666666665,
          5,
          5,
          5,
          3,
          1.5,
          0,
          0.75,
          1,
          2,
          0,
          4,
          0.5,
          0,
          0,
          0.6666666666666666
         ],
         "yaxis": "y"
        },
        {
         "hovertemplate": "station_id=514<br>hour=%{x}<br>num_bikes_available=%{y}<extra></extra>",
         "legendgroup": "514",
         "line": {
          "color": "#636efa",
          "dash": "solid"
         },
         "marker": {
          "symbol": "circle"
         },
         "mode": "lines",
         "name": "514",
         "showlegend": true,
         "type": "scattergl",
         "x": [
          1,
          3,
          5,
          6,
          7,
          8,
          9,
          10,
          11,
          12,
          13,
          15,
          17,
          18,
          21,
          23
         ],
         "xaxis": "x",
         "y": [
          4,
          9,
          11,
          14.666666666666666,
          16,
          16,
          15.5,
          16,
          10,
          12.5,
          15,
          7,
          10,
          1,
          4,
          2
         ],
         "yaxis": "y"
        },
        {
         "hovertemplate": "station_id=515<br>hour=%{x}<br>num_bikes_available=%{y}<extra></extra>",
         "legendgroup": "515",
         "line": {
          "color": "#EF553B",
          "dash": "solid"
         },
         "marker": {
          "symbol": "circle"
         },
         "mode": "lines",
         "name": "515",
         "showlegend": true,
         "type": "scattergl",
         "x": [
          0,
          1,
          2,
          3,
          4,
          5,
          6,
          7,
          10,
          11,
          13,
          14,
          16,
          18,
          19,
          22,
          23
         ],
         "xaxis": "x",
         "y": [
          5,
          4,
          5,
          4,
          4,
          4,
          5,
          6,
          5,
          4.5,
          4,
          4,
          2,
          7,
          4,
          4,
          5
         ],
         "yaxis": "y"
        },
        {
         "hovertemplate": "station_id=516<br>hour=%{x}<br>num_bikes_available=%{y}<extra></extra>",
         "legendgroup": "516",
         "line": {
          "color": "#00cc96",
          "dash": "solid"
         },
         "marker": {
          "symbol": "circle"
         },
         "mode": "lines",
         "name": "516",
         "showlegend": true,
         "type": "scattergl",
         "x": [
          1,
          2,
          4,
          5,
          6,
          7,
          8,
          10,
          12,
          13,
          14,
          15,
          17,
          19,
          20,
          22,
          23
         ],
         "xaxis": "x",
         "y": [
          10,
          11.5,
          12,
          12,
          12,
          12.5,
          13,
          14.333333333333334,
          14,
          14,
          14,
          15.333333333333334,
          14,
          14,
          15,
          16,
          14
         ],
         "yaxis": "y"
        },
        {
         "hovertemplate": "station_id=517<br>hour=%{x}<br>num_bikes_available=%{y}<extra></extra>",
         "legendgroup": "517",
         "line": {
          "color": "#ab63fa",
          "dash": "solid"
         },
         "marker": {
          "symbol": "circle"
         },
         "mode": "lines",
         "name": "517",
         "showlegend": true,
         "type": "scattergl",
         "x": [
          0,
          1,
          2,
          3,
          4,
          5,
          6,
          7,
          9,
          10,
          11,
          12,
          13,
          14,
          16,
          17,
          19,
          20,
          21
         ],
         "xaxis": "x",
         "y": [
          14,
          14,
          15,
          15,
          16,
          16,
          15,
          15,
          15.666666666666666,
          16,
          16,
          16,
          16,
          17,
          19,
          19,
          19,
          19,
          20
         ],
         "yaxis": "y"
        },
        {
         "hovertemplate": "station_id=518<br>hour=%{x}<br>num_bikes_available=%{y}<extra></extra>",
         "legendgroup": "518",
         "line": {
          "color": "#FFA15A",
          "dash": "solid"
         },
         "marker": {
          "symbol": "circle"
         },
         "mode": "lines",
         "name": "518",
         "showlegend": true,
         "type": "scattergl",
         "x": [
          0,
          5,
          7,
          8,
          9,
          10,
          12,
          14,
          16,
          19,
          21,
          22,
          23
         ],
         "xaxis": "x",
         "y": [
          6.666666666666667,
          5.75,
          6,
          4,
          5,
          0,
          1,
          2,
          1,
          0.5,
          1,
          0.5,
          0
         ],
         "yaxis": "y"
        },
        {
         "hovertemplate": "station_id=519<br>hour=%{x}<br>num_bikes_available=%{y}<extra></extra>",
         "legendgroup": "519",
         "line": {
          "color": "#19d3f3",
          "dash": "solid"
         },
         "marker": {
          "symbol": "circle"
         },
         "mode": "lines",
         "name": "519",
         "showlegend": true,
         "type": "scattergl",
         "x": [
          0,
          1,
          2,
          4,
          6,
          7,
          8,
          10,
          12,
          13,
          14,
          15,
          16,
          17,
          18,
          20,
          21
         ],
         "xaxis": "x",
         "y": [
          6,
          7,
          10,
          12.5,
          14,
          16,
          15,
          14,
          14,
          13.5,
          12,
          13,
          10,
          10,
          7,
          6.5,
          8
         ],
         "yaxis": "y"
        },
        {
         "hovertemplate": "station_id=526<br>hour=%{x}<br>num_bikes_available=%{y}<extra></extra>",
         "legendgroup": "526",
         "line": {
          "color": "#FF6692",
          "dash": "solid"
         },
         "marker": {
          "symbol": "circle"
         },
         "mode": "lines",
         "name": "526",
         "showlegend": true,
         "type": "scattergl",
         "x": [
          0,
          1,
          2,
          4,
          5,
          7,
          9,
          10,
          12,
          14,
          15,
          16,
          19,
          20,
          23
         ],
         "xaxis": "x",
         "y": [
          10.5,
          10,
          9,
          9,
          9.5,
          11,
          12,
          16,
          14.5,
          17.5,
          17,
          18,
          17,
          5,
          1
         ],
         "yaxis": "y"
        },
        {
         "hovertemplate": "station_id=537<br>hour=%{x}<br>num_bikes_available=%{y}<extra></extra>",
         "legendgroup": "537",
         "line": {
          "color": "#B6E880",
          "dash": "solid"
         },
         "marker": {
          "symbol": "circle"
         },
         "mode": "lines",
         "name": "537",
         "showlegend": true,
         "type": "scattergl",
         "x": [
          0,
          2,
          3,
          5,
          9,
          10,
          11,
          12,
          13,
          15,
          16,
          17,
          18,
          20,
          21,
          22
         ],
         "xaxis": "x",
         "y": [
          3,
          6,
          6,
          6,
          10,
          10.5,
          12,
          10,
          9,
          3,
          7,
          6,
          8,
          2,
          2,
          2
         ],
         "yaxis": "y"
        },
        {
         "hovertemplate": "station_id=538<br>hour=%{x}<br>num_bikes_available=%{y}<extra></extra>",
         "legendgroup": "538",
         "line": {
          "color": "#FF97FF",
          "dash": "solid"
         },
         "marker": {
          "symbol": "circle"
         },
         "mode": "lines",
         "name": "538",
         "showlegend": true,
         "type": "scattergl",
         "x": [
          0,
          1,
          3,
          4,
          5,
          6,
          7,
          8,
          9,
          10,
          11,
          12,
          13,
          14,
          15,
          16,
          17,
          18,
          19,
          20,
          21,
          22,
          23
         ],
         "xaxis": "x",
         "y": [
          1,
          1,
          1,
          1,
          1,
          1,
          1,
          2,
          2,
          2,
          2,
          2,
          5,
          4.666666666666667,
          1,
          1,
          1,
          1.5,
          4,
          1,
          0,
          0,
          0
         ],
         "yaxis": "y"
        },
        {
         "hovertemplate": "station_id=539<br>hour=%{x}<br>num_bikes_available=%{y}<extra></extra>",
         "legendgroup": "539",
         "line": {
          "color": "#FECB52",
          "dash": "solid"
         },
         "marker": {
          "symbol": "circle"
         },
         "mode": "lines",
         "name": "539",
         "showlegend": true,
         "type": "scattergl",
         "x": [
          0,
          2,
          3,
          4,
          5,
          6,
          7,
          8,
          9,
          10,
          12,
          13,
          14,
          15,
          16,
          17,
          18,
          19,
          20,
          22
         ],
         "xaxis": "x",
         "y": [
          8.5,
          11,
          12,
          11,
          11,
          10.666666666666666,
          10,
          10,
          6.5,
          4.5,
          3,
          3,
          6.5,
          2,
          2,
          2,
          2.5,
          3,
          4.5,
          5
         ],
         "yaxis": "y"
        },
        {
         "hovertemplate": "station_id=540<br>hour=%{x}<br>num_bikes_available=%{y}<extra></extra>",
         "legendgroup": "540",
         "line": {
          "color": "#636efa",
          "dash": "solid"
         },
         "marker": {
          "symbol": "circle"
         },
         "mode": "lines",
         "name": "540",
         "showlegend": true,
         "type": "scattergl",
         "x": [
          1,
          3,
          4,
          5,
          7,
          8,
          9,
          10,
          12,
          13,
          14,
          15,
          16,
          17,
          18,
          19,
          21,
          23
         ],
         "xaxis": "x",
         "y": [
          14,
          14,
          16.5,
          17,
          14.666666666666666,
          13,
          13,
          12.666666666666666,
          12,
          12,
          12,
          12,
          14,
          9,
          4,
          5.75,
          5,
          13
         ],
         "yaxis": "y"
        },
        {
         "hovertemplate": "station_id=541<br>hour=%{x}<br>num_bikes_available=%{y}<extra></extra>",
         "legendgroup": "541",
         "line": {
          "color": "#EF553B",
          "dash": "solid"
         },
         "marker": {
          "symbol": "circle"
         },
         "mode": "lines",
         "name": "541",
         "showlegend": true,
         "type": "scattergl",
         "x": [
          0,
          1,
          2,
          3,
          4,
          6,
          7,
          9,
          10,
          11,
          12,
          13,
          14,
          15,
          16,
          17,
          18,
          19,
          20,
          21,
          22,
          23
         ],
         "xaxis": "x",
         "y": [
          2.5,
          3,
          4,
          4,
          4,
          4,
          4,
          4,
          4,
          3,
          3,
          3,
          3,
          3,
          2.6666666666666665,
          2,
          2,
          2,
          3,
          3,
          4,
          5
         ],
         "yaxis": "y"
        }
       ],
       "layout": {
        "legend": {
         "title": {
          "text": "Station ID"
         },
         "tracegroupgap": 0
        },
        "template": {
         "data": {
          "bar": [
           {
            "error_x": {
             "color": "#2a3f5f"
            },
            "error_y": {
             "color": "#2a3f5f"
            },
            "marker": {
             "line": {
              "color": "#E5ECF6",
              "width": 0.5
             },
             "pattern": {
              "fillmode": "overlay",
              "size": 10,
              "solidity": 0.2
             }
            },
            "type": "bar"
           }
          ],
          "barpolar": [
           {
            "marker": {
             "line": {
              "color": "#E5ECF6",
              "width": 0.5
             },
             "pattern": {
              "fillmode": "overlay",
              "size": 10,
              "solidity": 0.2
             }
            },
            "type": "barpolar"
           }
          ],
          "carpet": [
           {
            "aaxis": {
             "endlinecolor": "#2a3f5f",
             "gridcolor": "white",
             "linecolor": "white",
             "minorgridcolor": "white",
             "startlinecolor": "#2a3f5f"
            },
            "baxis": {
             "endlinecolor": "#2a3f5f",
             "gridcolor": "white",
             "linecolor": "white",
             "minorgridcolor": "white",
             "startlinecolor": "#2a3f5f"
            },
            "type": "carpet"
           }
          ],
          "choropleth": [
           {
            "colorbar": {
             "outlinewidth": 0,
             "ticks": ""
            },
            "type": "choropleth"
           }
          ],
          "contour": [
           {
            "colorbar": {
             "outlinewidth": 0,
             "ticks": ""
            },
            "colorscale": [
             [
              0,
              "#0d0887"
             ],
             [
              0.1111111111111111,
              "#46039f"
             ],
             [
              0.2222222222222222,
              "#7201a8"
             ],
             [
              0.3333333333333333,
              "#9c179e"
             ],
             [
              0.4444444444444444,
              "#bd3786"
             ],
             [
              0.5555555555555556,
              "#d8576b"
             ],
             [
              0.6666666666666666,
              "#ed7953"
             ],
             [
              0.7777777777777778,
              "#fb9f3a"
             ],
             [
              0.8888888888888888,
              "#fdca26"
             ],
             [
              1,
              "#f0f921"
             ]
            ],
            "type": "contour"
           }
          ],
          "contourcarpet": [
           {
            "colorbar": {
             "outlinewidth": 0,
             "ticks": ""
            },
            "type": "contourcarpet"
           }
          ],
          "heatmap": [
           {
            "colorbar": {
             "outlinewidth": 0,
             "ticks": ""
            },
            "colorscale": [
             [
              0,
              "#0d0887"
             ],
             [
              0.1111111111111111,
              "#46039f"
             ],
             [
              0.2222222222222222,
              "#7201a8"
             ],
             [
              0.3333333333333333,
              "#9c179e"
             ],
             [
              0.4444444444444444,
              "#bd3786"
             ],
             [
              0.5555555555555556,
              "#d8576b"
             ],
             [
              0.6666666666666666,
              "#ed7953"
             ],
             [
              0.7777777777777778,
              "#fb9f3a"
             ],
             [
              0.8888888888888888,
              "#fdca26"
             ],
             [
              1,
              "#f0f921"
             ]
            ],
            "type": "heatmap"
           }
          ],
          "heatmapgl": [
           {
            "colorbar": {
             "outlinewidth": 0,
             "ticks": ""
            },
            "colorscale": [
             [
              0,
              "#0d0887"
             ],
             [
              0.1111111111111111,
              "#46039f"
             ],
             [
              0.2222222222222222,
              "#7201a8"
             ],
             [
              0.3333333333333333,
              "#9c179e"
             ],
             [
              0.4444444444444444,
              "#bd3786"
             ],
             [
              0.5555555555555556,
              "#d8576b"
             ],
             [
              0.6666666666666666,
              "#ed7953"
             ],
             [
              0.7777777777777778,
              "#fb9f3a"
             ],
             [
              0.8888888888888888,
              "#fdca26"
             ],
             [
              1,
              "#f0f921"
             ]
            ],
            "type": "heatmapgl"
           }
          ],
          "histogram": [
           {
            "marker": {
             "pattern": {
              "fillmode": "overlay",
              "size": 10,
              "solidity": 0.2
             }
            },
            "type": "histogram"
           }
          ],
          "histogram2d": [
           {
            "colorbar": {
             "outlinewidth": 0,
             "ticks": ""
            },
            "colorscale": [
             [
              0,
              "#0d0887"
             ],
             [
              0.1111111111111111,
              "#46039f"
             ],
             [
              0.2222222222222222,
              "#7201a8"
             ],
             [
              0.3333333333333333,
              "#9c179e"
             ],
             [
              0.4444444444444444,
              "#bd3786"
             ],
             [
              0.5555555555555556,
              "#d8576b"
             ],
             [
              0.6666666666666666,
              "#ed7953"
             ],
             [
              0.7777777777777778,
              "#fb9f3a"
             ],
             [
              0.8888888888888888,
              "#fdca26"
             ],
             [
              1,
              "#f0f921"
             ]
            ],
            "type": "histogram2d"
           }
          ],
          "histogram2dcontour": [
           {
            "colorbar": {
             "outlinewidth": 0,
             "ticks": ""
            },
            "colorscale": [
             [
              0,
              "#0d0887"
             ],
             [
              0.1111111111111111,
              "#46039f"
             ],
             [
              0.2222222222222222,
              "#7201a8"
             ],
             [
              0.3333333333333333,
              "#9c179e"
             ],
             [
              0.4444444444444444,
              "#bd3786"
             ],
             [
              0.5555555555555556,
              "#d8576b"
             ],
             [
              0.6666666666666666,
              "#ed7953"
             ],
             [
              0.7777777777777778,
              "#fb9f3a"
             ],
             [
              0.8888888888888888,
              "#fdca26"
             ],
             [
              1,
              "#f0f921"
             ]
            ],
            "type": "histogram2dcontour"
           }
          ],
          "mesh3d": [
           {
            "colorbar": {
             "outlinewidth": 0,
             "ticks": ""
            },
            "type": "mesh3d"
           }
          ],
          "parcoords": [
           {
            "line": {
             "colorbar": {
              "outlinewidth": 0,
              "ticks": ""
             }
            },
            "type": "parcoords"
           }
          ],
          "pie": [
           {
            "automargin": true,
            "type": "pie"
           }
          ],
          "scatter": [
           {
            "fillpattern": {
             "fillmode": "overlay",
             "size": 10,
             "solidity": 0.2
            },
            "type": "scatter"
           }
          ],
          "scatter3d": [
           {
            "line": {
             "colorbar": {
              "outlinewidth": 0,
              "ticks": ""
             }
            },
            "marker": {
             "colorbar": {
              "outlinewidth": 0,
              "ticks": ""
             }
            },
            "type": "scatter3d"
           }
          ],
          "scattercarpet": [
           {
            "marker": {
             "colorbar": {
              "outlinewidth": 0,
              "ticks": ""
             }
            },
            "type": "scattercarpet"
           }
          ],
          "scattergeo": [
           {
            "marker": {
             "colorbar": {
              "outlinewidth": 0,
              "ticks": ""
             }
            },
            "type": "scattergeo"
           }
          ],
          "scattergl": [
           {
            "marker": {
             "colorbar": {
              "outlinewidth": 0,
              "ticks": ""
             }
            },
            "type": "scattergl"
           }
          ],
          "scattermapbox": [
           {
            "marker": {
             "colorbar": {
              "outlinewidth": 0,
              "ticks": ""
             }
            },
            "type": "scattermapbox"
           }
          ],
          "scatterpolar": [
           {
            "marker": {
             "colorbar": {
              "outlinewidth": 0,
              "ticks": ""
             }
            },
            "type": "scatterpolar"
           }
          ],
          "scatterpolargl": [
           {
            "marker": {
             "colorbar": {
              "outlinewidth": 0,
              "ticks": ""
             }
            },
            "type": "scatterpolargl"
           }
          ],
          "scatterternary": [
           {
            "marker": {
             "colorbar": {
              "outlinewidth": 0,
              "ticks": ""
             }
            },
            "type": "scatterternary"
           }
          ],
          "surface": [
           {
            "colorbar": {
             "outlinewidth": 0,
             "ticks": ""
            },
            "colorscale": [
             [
              0,
              "#0d0887"
             ],
             [
              0.1111111111111111,
              "#46039f"
             ],
             [
              0.2222222222222222,
              "#7201a8"
             ],
             [
              0.3333333333333333,
              "#9c179e"
             ],
             [
              0.4444444444444444,
              "#bd3786"
             ],
             [
              0.5555555555555556,
              "#d8576b"
             ],
             [
              0.6666666666666666,
              "#ed7953"
             ],
             [
              0.7777777777777778,
              "#fb9f3a"
             ],
             [
              0.8888888888888888,
              "#fdca26"
             ],
             [
              1,
              "#f0f921"
             ]
            ],
            "type": "surface"
           }
          ],
          "table": [
           {
            "cells": {
             "fill": {
              "color": "#EBF0F8"
             },
             "line": {
              "color": "white"
             }
            },
            "header": {
             "fill": {
              "color": "#C8D4E3"
             },
             "line": {
              "color": "white"
             }
            },
            "type": "table"
           }
          ]
         },
         "layout": {
          "annotationdefaults": {
           "arrowcolor": "#2a3f5f",
           "arrowhead": 0,
           "arrowwidth": 1
          },
          "autotypenumbers": "strict",
          "coloraxis": {
           "colorbar": {
            "outlinewidth": 0,
            "ticks": ""
           }
          },
          "colorscale": {
           "diverging": [
            [
             0,
             "#8e0152"
            ],
            [
             0.1,
             "#c51b7d"
            ],
            [
             0.2,
             "#de77ae"
            ],
            [
             0.3,
             "#f1b6da"
            ],
            [
             0.4,
             "#fde0ef"
            ],
            [
             0.5,
             "#f7f7f7"
            ],
            [
             0.6,
             "#e6f5d0"
            ],
            [
             0.7,
             "#b8e186"
            ],
            [
             0.8,
             "#7fbc41"
            ],
            [
             0.9,
             "#4d9221"
            ],
            [
             1,
             "#276419"
            ]
           ],
           "sequential": [
            [
             0,
             "#0d0887"
            ],
            [
             0.1111111111111111,
             "#46039f"
            ],
            [
             0.2222222222222222,
             "#7201a8"
            ],
            [
             0.3333333333333333,
             "#9c179e"
            ],
            [
             0.4444444444444444,
             "#bd3786"
            ],
            [
             0.5555555555555556,
             "#d8576b"
            ],
            [
             0.6666666666666666,
             "#ed7953"
            ],
            [
             0.7777777777777778,
             "#fb9f3a"
            ],
            [
             0.8888888888888888,
             "#fdca26"
            ],
            [
             1,
             "#f0f921"
            ]
           ],
           "sequentialminus": [
            [
             0,
             "#0d0887"
            ],
            [
             0.1111111111111111,
             "#46039f"
            ],
            [
             0.2222222222222222,
             "#7201a8"
            ],
            [
             0.3333333333333333,
             "#9c179e"
            ],
            [
             0.4444444444444444,
             "#bd3786"
            ],
            [
             0.5555555555555556,
             "#d8576b"
            ],
            [
             0.6666666666666666,
             "#ed7953"
            ],
            [
             0.7777777777777778,
             "#fb9f3a"
            ],
            [
             0.8888888888888888,
             "#fdca26"
            ],
            [
             1,
             "#f0f921"
            ]
           ]
          },
          "colorway": [
           "#636efa",
           "#EF553B",
           "#00cc96",
           "#ab63fa",
           "#FFA15A",
           "#19d3f3",
           "#FF6692",
           "#B6E880",
           "#FF97FF",
           "#FECB52"
          ],
          "font": {
           "color": "#2a3f5f"
          },
          "geo": {
           "bgcolor": "white",
           "lakecolor": "white",
           "landcolor": "#E5ECF6",
           "showlakes": true,
           "showland": true,
           "subunitcolor": "white"
          },
          "hoverlabel": {
           "align": "left"
          },
          "hovermode": "closest",
          "mapbox": {
           "style": "light"
          },
          "paper_bgcolor": "white",
          "plot_bgcolor": "#E5ECF6",
          "polar": {
           "angularaxis": {
            "gridcolor": "white",
            "linecolor": "white",
            "ticks": ""
           },
           "bgcolor": "#E5ECF6",
           "radialaxis": {
            "gridcolor": "white",
            "linecolor": "white",
            "ticks": ""
           }
          },
          "scene": {
           "xaxis": {
            "backgroundcolor": "#E5ECF6",
            "gridcolor": "white",
            "gridwidth": 2,
            "linecolor": "white",
            "showbackground": true,
            "ticks": "",
            "zerolinecolor": "white"
           },
           "yaxis": {
            "backgroundcolor": "#E5ECF6",
            "gridcolor": "white",
            "gridwidth": 2,
            "linecolor": "white",
            "showbackground": true,
            "ticks": "",
            "zerolinecolor": "white"
           },
           "zaxis": {
            "backgroundcolor": "#E5ECF6",
            "gridcolor": "white",
            "gridwidth": 2,
            "linecolor": "white",
            "showbackground": true,
            "ticks": "",
            "zerolinecolor": "white"
           }
          },
          "shapedefaults": {
           "line": {
            "color": "#2a3f5f"
           }
          },
          "ternary": {
           "aaxis": {
            "gridcolor": "white",
            "linecolor": "white",
            "ticks": ""
           },
           "baxis": {
            "gridcolor": "white",
            "linecolor": "white",
            "ticks": ""
           },
           "bgcolor": "#E5ECF6",
           "caxis": {
            "gridcolor": "white",
            "linecolor": "white",
            "ticks": ""
           }
          },
          "title": {
           "x": 0.05
          },
          "xaxis": {
           "automargin": true,
           "gridcolor": "white",
           "linecolor": "white",
           "ticks": "",
           "title": {
            "standoff": 15
           },
           "zerolinecolor": "white",
           "zerolinewidth": 2
          },
          "yaxis": {
           "automargin": true,
           "gridcolor": "white",
           "linecolor": "white",
           "ticks": "",
           "title": {
            "standoff": 15
           },
           "zerolinecolor": "white",
           "zerolinewidth": 2
          }
         }
        },
        "title": {
         "text": "Average Bike Availability by Station"
        },
        "xaxis": {
         "anchor": "y",
         "domain": [
          0,
          1
         ],
         "title": {
          "text": "hour"
         }
        },
        "yaxis": {
         "anchor": "x",
         "domain": [
          0,
          1
         ],
         "title": {
          "text": "num_bikes_available"
         }
        }
       }
      }
     },
     "metadata": {},
     "output_type": "display_data"
    }
   ],
   "source": [
    "import pandas as pd\n",
    "import numpy as np\n",
    "import matplotlib.pyplot as plt\n",
    "import seaborn as sns\n",
    "import plotly.express as px\n",
    "import plotly.graph_objects as go\n",
    "from plotly.subplots import make_subplots\n",
    "from statsmodels.tsa.arima.model import ARIMA\n",
    "from sklearn.linear_model import LinearRegression\n",
    "from sklearn.metrics import mean_squared_error, r2_score\n",
    "from sklearn.model_selection import train_test_split\n",
    "from data_loader import load_sample_data, preprocess_data\n",
    "import logging\n",
    "\n",
    "logging.basicConfig(level=logging.INFO)\n",
    "logger = logging.getLogger(__name__)\n",
    "\n",
    "# Load and preprocess data\n",
    "stations_info, status_sample = load_sample_data()\n",
    "merged_data = preprocess_data(stations_info, status_sample)\n",
    "\n",
    "# Function to perform time series analysis for a given station\n",
    "def perform_time_series_analysis(data, station_id, start_date, end_date):\n",
    "    station_data = data[(data['station_id'] == station_id) & \n",
    "                        (data['last_reported'] >= start_date) & \n",
    "                        (data['last_reported'] <= end_date)]\n",
    "    station_data = station_data.set_index('last_reported')['num_bikes_available'].resample('H').mean()\n",
    "    \n",
    "    # Fit ARIMA model\n",
    "    model = ARIMA(station_data, order=(1, 1, 1))\n",
    "    results = model.fit()\n",
    "    \n",
    "    # Make predictions\n",
    "    forecast = results.forecast(steps=24)\n",
    "    \n",
    "    return station_data, forecast, results\n",
    "\n",
    "# Function to perform linear regression for a given station\n",
    "def perform_linear_regression(data, station_id, start_date, end_date):\n",
    "    station_data = data[(data['station_id'] == station_id) & \n",
    "                        (data['last_reported'] >= start_date) & \n",
    "                        (data['last_reported'] <= end_date)]\n",
    "    \n",
    "    X = station_data[['hour', 'day_of_week']]\n",
    "    y = station_data['num_bikes_available']\n",
    "    \n",
    "    X_train, X_test, y_train, y_test = train_test_split(X, y, test_size=0.2, random_state=42)\n",
    "    \n",
    "    model = LinearRegression()\n",
    "    model.fit(X_train, y_train)\n",
    "    \n",
    "    y_pred = model.predict(X_test)\n",
    "    \n",
    "    mse = mean_squared_error(y_test, y_pred)\n",
    "    r2 = r2_score(y_test, y_pred)\n",
    "    \n",
    "    return model, X_test, y_test, y_pred, mse, r2\n",
    "\n",
    "# Interactive time series plot\n",
    "def plot_interactive_time_series(station_data, forecast, station_id):\n",
    "    fig = go.Figure()\n",
    "    \n",
    "    fig.add_trace(go.Scatter(x=station_data.index, y=station_data.values, mode='lines', name='Actual'))\n",
    "    fig.add_trace(go.Scatter(x=forecast.index, y=forecast.values, mode='lines', name='Forecast'))\n",
    "    \n",
    "    fig.update_layout(title=f'Time Series Analysis for Station {station_id}',\n",
    "                      xaxis_title='Date',\n",
    "                      yaxis_title='Number of Available Bikes')\n",
    "    \n",
    "    return fig\n",
    "\n",
    "# Interactive linear regression plot\n",
    "def plot_interactive_linear_regression(X_test, y_test, y_pred, station_id):\n",
    "    fig = go.Figure()\n",
    "    \n",
    "    fig.add_trace(go.Scatter(x=y_test, y=y_pred, mode='markers', name='Predictions'))\n",
    "    fig.add_trace(go.Scatter(x=[y_test.min(), y_test.max()], y=[y_test.min(), y_test.max()], \n",
    "                             mode='lines', name='Perfect Prediction'))\n",
    "    \n",
    "    fig.update_layout(title=f'Linear Regression Results for Station {station_id}',\n",
    "                      xaxis_title='Actual',\n",
    "                      yaxis_title='Predicted')\n",
    "    \n",
    "    return fig\n",
    "\n",
    "# Heatmap of station popularity\n",
    "def plot_station_popularity_heatmap(data):\n",
    "    station_popularity = data.groupby('station_id')['num_bikes_available'].mean().reset_index()\n",
    "    station_popularity = pd.merge(station_popularity, stations_info[['station_id', 'lat', 'lon']], on='station_id')\n",
    "    \n",
    "    fig = px.density_mapbox(station_popularity, lat='lat', lon='lon', z='num_bikes_available', radius=10,\n",
    "                            center=dict(lat=41.3851, lon=2.1734), zoom=12,\n",
    "                            mapbox_style=\"stamen-terrain\")\n",
    "    \n",
    "    fig.update_layout(title='Station Popularity Heatmap')\n",
    "    \n",
    "    return fig\n",
    "\n",
    "# Compare stations by neighborhood\n",
    "def compare_stations_by_neighborhood(data):\n",
    "    station_data = data.groupby(['station_id', 'hour'])['num_bikes_available'].mean().reset_index()\n",
    "    \n",
    "    fig = px.line(station_data, x='hour', y='num_bikes_available', color='station_id',\n",
    "                  title='Average Bike Availability by Station')\n",
    "    \n",
    "    fig.update_layout(legend_title_text='Station ID')\n",
    "    return fig\n",
    "\n",
    "# Main analysis function\n",
    "def perform_advanced_analysis(data, start_date, end_date):\n",
    "      # Check for required columns\n",
    "    required_columns = ['station_id', 'num_bikes_available', 'last_reported', 'hour', 'day_of_week', 'lat', 'lon']\n",
    "    missing_columns = [col for col in required_columns if col not in data.columns]\n",
    "    if missing_columns:\n",
    "        raise ValueError(f\"Missing required columns: {', '.join(missing_columns)}\")\n",
    "\n",
    "    # Select a sample station for demonstration\n",
    "    station_id = data['station_id'].iloc[0]\n",
    "    \n",
    "    # Time Series Analysis\n",
    "    station_data, forecast, results = perform_time_series_analysis(data, station_id, start_date, end_date)\n",
    "    ts_plot = plot_interactive_time_series(station_data, forecast, station_id)\n",
    "    ts_plot.show()\n",
    "    \n",
    "    # Linear Regression\n",
    "    model, X_test, y_test, y_pred, mse, r2 = perform_linear_regression(data, station_id, start_date, end_date)\n",
    "    lr_plot = plot_interactive_linear_regression(X_test, y_test, y_pred, station_id)\n",
    "    lr_plot.show()\n",
    "    \n",
    "    print(f\"Linear Regression Results for Station {station_id}:\")\n",
    "    print(f\"Mean Squared Error: {mse:.2f}\")\n",
    "    print(f\"R-squared: {r2:.2f}\")\n",
    "    \n",
    "    # Station Popularity Heatmap\n",
    "    heatmap = plot_station_popularity_heatmap(data)\n",
    "    heatmap.show()\n",
    "    \n",
    "    # Neighborhood Comparison\n",
    "    neighborhood_plot = compare_stations_by_neighborhood(data)\n",
    "    neighborhood_plot.show()\n",
    "\n",
    "# Run the analysis\n",
    "start_date = pd.to_datetime('2024-09-01')\n",
    "end_date = pd.to_datetime('2024-09-02')\n",
    "perform_advanced_analysis(merged_data, start_date, end_date)"
   ]
  }
 ],
 "metadata": {
  "kernelspec": {
   "display_name": "env",
   "language": "python",
   "name": "python3"
  },
  "language_info": {
   "codemirror_mode": {
    "name": "ipython",
    "version": 3
   },
   "file_extension": ".py",
   "mimetype": "text/x-python",
   "name": "python",
   "nbconvert_exporter": "python",
   "pygments_lexer": "ipython3",
   "version": "3.13.0"
  }
 },
 "nbformat": 4,
 "nbformat_minor": 2
}
